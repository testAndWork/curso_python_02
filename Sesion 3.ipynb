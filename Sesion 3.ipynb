{
 "cells": [
  {
   "cell_type": "markdown",
   "id": "9c8c537c",
   "metadata": {},
   "source": [
    "\n",
    "\n",
    "# <span style=\"color:darkblue\">Módulo 1 - Introducción a la programación con Python </span>\n",
    "\n",
    "## <span style=\"color:darkblue\">Sesión:\tSesión 3 - Tipos de Variables</span>\n",
    "\n",
    "### <span style=\"color:darkblue\">Duración estimada:\t4 horas</span>\n",
    "\n",
    "#### <span style=\"color:darkblue\">En marco del proyecto: “EMPLEO JOVEN ES”</span>"
   ]
  },
  {
   "cell_type": "markdown",
   "id": "51ae1b4d",
   "metadata": {},
   "source": [
    "## Objetivo:\n",
    "\n",
    "Conocer los tipos de variables en programación es esencial porque permite comprender cómo se almacenan y manejan los datos en el programa y cómo se utilizan en las operaciones. \n",
    "\n",
    "Los tipos de variables también determinan qué operaciones se pueden realizar con ellas y cómo se comportan en diferentes situaciones \n",
    "\n",
    "### Recursos\n",
    "\n",
    "•\tSesión 3 de Curso de Python\n",
    "\n",
    "•\tAcceso a internet\n",
    "\n",
    "•\tPython Instalado en computadora\n",
    "\n",
    "•\tVisual Studio Code\n",
    "\n",
    "### Introducción:\n",
    "\n",
    "La programación es un proceso en el que se manipulan datos, se toman decisiones y se realizan operaciones para lograr un objetivo específico. \n",
    "\n",
    "Una parte fundamental de la programación es el manejo de variables, que son lugares en la memoria del equipo donde se almacenan los datos necesarios para el programa. \n",
    "\n",
    "Es importante conocer los tipos de variables que se pueden utilizar en un lenguaje de programación, ya que estos tipos determinan cómo se almacenan y manejan los datos, y cómo se utilizan en las operaciones. \n",
    "\n",
    "En este sentido, entender los tipos de variables es fundamental para la correcta escritura de código y para la resolución de problemas de programación de manera efectiva. \n",
    "\n",
    "En esta guía se explicará en detalle qué son los tipos de variables, sus características y cómo se utilizan en diferentes situaciones.\n",
    "\n",
    "### Aprendamos \n",
    "\n",
    "En programación, el tipo de datos es un concepto importante. Las variables pueden almacenar datos de diferentes tipos, y diferentes tipos pueden hacer cosas diferentes. \n",
    "\n",
    "Python tiene los siguientes tipos de datos integrados de forma predeterminada, en estas categorías:\n",
    "\n",
    "<table> <tr> <td>Tipo de texto:</td> <td>str</td> </tr> <tr> <td>Tipos numéricos:</td> <td>int, float, complex</td> </tr> <tr> <td>Tipos de secuencia:</td> <td>list, tuple, range</td> </tr> <tr> <td>Tipo de mapeo:</td> <td>dict</td> </tr> <tr> <td>Establecer tipos:</td> <td>set,frozenset</td> </tr> <tr> <td>Tipo booleano:</td> <td>bool</td> </tr> <tr> <td>Tipos binarios:</td> <td>bytes, bytearray, memoryview</td> </tr> <tr> <td>Tipo None:</td> <td>NoneType</td> </tr> </table>\n"
   ]
  },
  {
   "cell_type": "code",
   "execution_count": 8,
   "id": "46873295",
   "metadata": {},
   "outputs": [
    {
     "data": {
      "text/plain": [
       "{1, 3, 4}"
      ]
     },
     "execution_count": 8,
     "metadata": {},
     "output_type": "execute_result"
    }
   ],
   "source": [
    "{1, 3, 3,4 , 3,4}"
   ]
  },
  {
   "cell_type": "code",
   "execution_count": 10,
   "id": "33f2a92d",
   "metadata": {},
   "outputs": [
    {
     "data": {
      "text/plain": [
       "{'a', 'e', 'i'}"
      ]
     },
     "execution_count": 10,
     "metadata": {},
     "output_type": "execute_result"
    }
   ],
   "source": [
    "{'a', 'e', 'i', 'i'}"
   ]
  },
  {
   "cell_type": "code",
   "execution_count": 1,
   "id": "85efe109",
   "metadata": {},
   "outputs": [
    {
     "data": {
      "text/plain": [
       "'1.  Escribe un programa que tome el nombre de un usuario como entrada \\n     y luego lo imprima en un mensaje de bienvenida utilizando la \\n     función print(). El mensaje debe ser del siguiente formato: \\n     \"¡Hola, [nombre]! Bienvenido a nuestro programa.\" '"
      ]
     },
     "execution_count": 1,
     "metadata": {},
     "output_type": "execute_result"
    }
   ],
   "source": [
    "\"\"\"1.  Escribe un programa que tome el nombre de un usuario como entrada \n",
    "     y luego lo imprima en un mensaje de bienvenida utilizando la \n",
    "     función print(). El mensaje debe ser del siguiente formato: \n",
    "     \"¡Hola, [nombre]! Bienvenido a nuestro programa.\" \"\"\"\n",
    "\n"
   ]
  },
  {
   "cell_type": "code",
   "execution_count": 2,
   "id": "5368501e",
   "metadata": {},
   "outputs": [
    {
     "data": {
      "text/plain": [
       "'2. Escribe un programa que calcule el área de un triángulo \\n   a partir de su base y altura. Luego, imprime el resultado \\n   con dos decimales utilizando la función print() y la variable\\n   de formateo.'"
      ]
     },
     "execution_count": 2,
     "metadata": {},
     "output_type": "execute_result"
    }
   ],
   "source": [
    "\"\"\"2. Escribe un programa que calcule el área de un triángulo \n",
    "   a partir de su base y altura. Luego, imprime el resultado \n",
    "   con dos decimales utilizando la función print() y la variable\n",
    "   de formateo.\"\"\""
   ]
  },
  {
   "cell_type": "code",
   "execution_count": 3,
   "id": "431b7c23",
   "metadata": {},
   "outputs": [
    {
     "data": {
      "text/plain": [
       "'#3. Escribe un programa que solicite al usuario su nombre, edad \\n     y ciudad de residencia. Luego, imprime un mensaje que incluya \\n     esta información en un formato amigable. Utiliza la función \\n     print() y las variables de formateo.'"
      ]
     },
     "execution_count": 3,
     "metadata": {},
     "output_type": "execute_result"
    }
   ],
   "source": [
    "\"\"\"#3. Escribe un programa que solicite al usuario su nombre, edad \n",
    "     y ciudad de residencia. Luego, imprime un mensaje que incluya \n",
    "     esta información en un formato amigable. Utiliza la función \n",
    "     print() y las variables de formateo.\"\"\""
   ]
  },
  {
   "cell_type": "markdown",
   "id": "dae5ab9c",
   "metadata": {},
   "source": [
    "#### <span style=\"color:darkred\">Configuración del tipo de datos</span>\n",
    "\n",
    "En Python, el tipo de datos se establece cuando asigna un valor a una variable podemos ver ejemplos de cada tipo en la siguiente tabla:\n",
    "\n",
    "<table>\n",
    "<tr>\n",
    "<td>Ejemplo</td>\n",
    "<td>Tipo de dato</td>\n",
    "</tr>\n",
    "\n",
    "<tr>\n",
    "<td>x = \"Hello World\"</td> \n",
    "<td>str</td>\n",
    "</tr>\n",
    "\n",
    "<tr>\n",
    "<td>x = 20</td>\n",
    "<td>int</td>  \n",
    "</tr>\n",
    "\n",
    "<tr>  \n",
    "<td>x = 20.5</td>\n",
    "<td>float</td>\n",
    "</tr>\n",
    "\n",
    "<tr>\n",
    "<td>x = 1j</td> \n",
    "<td>complex</td>\n",
    "</tr>\n",
    "\n",
    "<tr>\n",
    "<td>x = [\"apple\", \"banana\", \"cherry\"]</td>\n",
    "<td>list</td>\n",
    "</tr>\n",
    "\n",
    "<tr>\n",
    "<td>x = (\"apple\", \"banana\", \"cherry\")</td>\n",
    "<td>tuple</td>\n",
    "</tr>\n",
    "\n",
    "<tr>\n",
    "<td>x = range(6)</td>\n",
    "<td>range</td>\n",
    "</tr>\n",
    "\n",
    "<tr>  \n",
    "<td>x = {\"name\" : \"John\", \"age\" : 36}</td>\n",
    "<td>dict</td>\n",
    "</tr>\n",
    "\n",
    "<tr>\n",
    "<td>x = {\"apple\", \"banana\", \"cherry\"}</td>\n",
    "<td>set</td> \n",
    "</tr>\n",
    "\n",
    "<tr>\n",
    "<td>x = True</td>\n",
    "<td>bool</td>\n",
    "</tr>\n",
    "\n",
    "<tr>\n",
    "<td>x = bytearray(5)</td>\n",
    "<td>bytearray</td>\n",
    "</tr>\n",
    "\n",
    "<tr>  \n",
    "<td>x = memoryview(bytes(5))</td>\n",
    "<td>memoryview</td>\n",
    "</tr>\n",
    "\n",
    "<tr>\n",
    "<td>x = None</td>\n",
    "<td>NoneType</td>\n",
    "</tr>\n",
    "\n",
    "</table>\n"
   ]
  },
  {
   "cell_type": "markdown",
   "id": "cdb77bce",
   "metadata": {},
   "source": [
    "\n",
    "\n",
    "### Obtener el tipo de datos\n",
    "\n",
    "Como vimos en la sesión anterior podemos conocer el tipo de dato de una variable con la función `type()` como en el ejercicio de a continuación: \n",
    "\n",
    "#### Imprime el tipo de datos de la variable x:"
   ]
  },
  {
   "cell_type": "code",
   "execution_count": 11,
   "id": "b097ed67",
   "metadata": {},
   "outputs": [
    {
     "data": {
      "text/plain": [
       "int"
      ]
     },
     "execution_count": 11,
     "metadata": {},
     "output_type": "execute_result"
    }
   ],
   "source": [
    "type(5)"
   ]
  },
  {
   "cell_type": "code",
   "execution_count": 13,
   "id": "3dc771c3",
   "metadata": {},
   "outputs": [
    {
     "name": "stdout",
     "output_type": "stream",
     "text": [
      "<class 'int'>\n"
     ]
    }
   ],
   "source": [
    "print(type(5))"
   ]
  },
  {
   "cell_type": "markdown",
   "id": "a50ce0e9",
   "metadata": {},
   "source": [
    "### <span style=\"color:darkred\">Tipos de datos en Python</span>\n",
    "\n",
    "#### <span style=\"color:darkred\">Números de Python</span>\n",
    "\n",
    "Hay tres tipos numéricos en Python:\n",
    "\n",
    "•\tint\n",
    "\n",
    "•\tfloat\n",
    "\n",
    "•\tcomplex\n",
    "\n",
    "Las variables de tipo numérico se crean cuando les asignas un valor:\n",
    "\n",
    "\n"
   ]
  },
  {
   "cell_type": "code",
   "execution_count": 15,
   "id": "d46ad99d",
   "metadata": {},
   "outputs": [
    {
     "data": {
      "text/plain": [
       "(int, float, complex)"
      ]
     },
     "execution_count": 15,
     "metadata": {},
     "output_type": "execute_result"
    }
   ],
   "source": [
    "x = 5\n",
    "y = 1.3453\n",
    "z = 3j\n",
    "\n",
    "type(x), type(y) , type(z)"
   ]
  },
  {
   "cell_type": "markdown",
   "id": "059c60d3",
   "metadata": {},
   "source": [
    "Para verificar el tipo de cualquier objeto en Python, use la función `type()`:"
   ]
  },
  {
   "cell_type": "markdown",
   "id": "76faa5e7",
   "metadata": {},
   "source": [
    "#### <span style=\"color:darkred\">Int o numeros enteros</span>\n",
    "\n",
    "Int, o entero, es un número entero, positivo o negativo, sin decimales, de longitud ilimitada.\n",
    "\n",
    "#### Ejemplos:"
   ]
  },
  {
   "cell_type": "code",
   "execution_count": 24,
   "id": "c1a12ad2",
   "metadata": {},
   "outputs": [
    {
     "name": "stdout",
     "output_type": "stream",
     "text": [
      "<class 'int'> <class 'int'> <class 'int'>\n"
     ]
    }
   ],
   "source": [
    "nInt1 = 3\n",
    "nInt2 = 34567878\n",
    "nInt3 = -23432 \n",
    "\n",
    "print(type(nInt1), type(nInt2), type(nInt3))"
   ]
  },
  {
   "cell_type": "markdown",
   "id": "9408d34f",
   "metadata": {},
   "source": [
    "#### <span style=\"color:darkred\">Float o Números Flotantes</span>\n",
    "\n",
    "Flotante, o \"número de punto flotante\" es un número, positivo o negativo, que contiene uno o más decimales.\n",
    "\n",
    "#### Ejemplos:"
   ]
  },
  {
   "cell_type": "code",
   "execution_count": 29,
   "id": "4a4de367",
   "metadata": {},
   "outputs": [
    {
     "data": {
      "text/plain": [
       "(float, float, float)"
      ]
     },
     "execution_count": 29,
     "metadata": {},
     "output_type": "execute_result"
    }
   ],
   "source": [
    "nFloat1 = 1.1432 \n",
    "nFloat2 = 0.009878687\n",
    "nFloat3 = 34.\n",
    "\n",
    "type(nFloat1), type(nFloat2),type(nFloat3)"
   ]
  },
  {
   "cell_type": "code",
   "execution_count": 34,
   "id": "3406eb48",
   "metadata": {},
   "outputs": [
    {
     "data": {
      "text/plain": [
       "int"
      ]
     },
     "execution_count": 34,
     "metadata": {},
     "output_type": "execute_result"
    }
   ],
   "source": [
    "x = 0\n",
    "type(x)"
   ]
  },
  {
   "cell_type": "code",
   "execution_count": 35,
   "id": "523dbac0",
   "metadata": {},
   "outputs": [
    {
     "data": {
      "text/plain": [
       "float"
      ]
     },
     "execution_count": 35,
     "metadata": {},
     "output_type": "execute_result"
    }
   ],
   "source": [
    "x = 0.\n",
    "type(x)"
   ]
  },
  {
   "cell_type": "code",
   "execution_count": 36,
   "id": "cbe6d2c4",
   "metadata": {},
   "outputs": [
    {
     "data": {
      "text/plain": [
       "complex"
      ]
     },
     "execution_count": 36,
     "metadata": {},
     "output_type": "execute_result"
    }
   ],
   "source": [
    "x = 0.j\n",
    "type(x)"
   ]
  },
  {
   "cell_type": "markdown",
   "id": "5aa8f8f6",
   "metadata": {},
   "source": [
    "_Note que el cero lo clasifica como un entero_\n",
    "\n",
    "El tipo flotante también puede ser un **número científico con una \"e\" para indicar la potencia de 10.**"
   ]
  },
  {
   "cell_type": "code",
   "execution_count": 38,
   "id": "db8acbc8",
   "metadata": {},
   "outputs": [
    {
     "data": {
      "text/plain": [
       "35000.0"
      ]
     },
     "execution_count": 38,
     "metadata": {},
     "output_type": "execute_result"
    }
   ],
   "source": [
    "x = 35E3\n",
    "x"
   ]
  },
  {
   "cell_type": "code",
   "execution_count": 39,
   "id": "958afe80",
   "metadata": {},
   "outputs": [
    {
     "data": {
      "text/plain": [
       "110000.0"
      ]
     },
     "execution_count": 39,
     "metadata": {},
     "output_type": "execute_result"
    }
   ],
   "source": [
    "y = 11e4\n",
    "y"
   ]
  },
  {
   "cell_type": "code",
   "execution_count": 42,
   "id": "857c7de0",
   "metadata": {},
   "outputs": [
    {
     "data": {
      "text/plain": [
       "12000.0"
      ]
     },
     "execution_count": 42,
     "metadata": {},
     "output_type": "execute_result"
    }
   ],
   "source": [
    "z = 1.2e4\n",
    "z"
   ]
  },
  {
   "cell_type": "code",
   "execution_count": 44,
   "id": "468c7f12",
   "metadata": {},
   "outputs": [
    {
     "data": {
      "text/plain": [
       "(float, float, float)"
      ]
     },
     "execution_count": 44,
     "metadata": {},
     "output_type": "execute_result"
    }
   ],
   "source": [
    "type(x), type(y),type( z)"
   ]
  },
  {
   "cell_type": "markdown",
   "id": "2bc4d310",
   "metadata": {},
   "source": [
    "#### <span style=\"color:darkred\">Números Complejo</span>\n",
    "\n",
    "Flotante, o \"número de punto flotante\" es un número, positivo o negativo, que contiene uno o más decimales.\n",
    "\n",
    "#### Ejemplos:"
   ]
  },
  {
   "cell_type": "code",
   "execution_count": 45,
   "id": "7a013d51",
   "metadata": {},
   "outputs": [
    {
     "data": {
      "text/plain": [
       "complex"
      ]
     },
     "execution_count": 45,
     "metadata": {},
     "output_type": "execute_result"
    }
   ],
   "source": [
    "x = 3+1j\n",
    "type(x)"
   ]
  },
  {
   "cell_type": "code",
   "execution_count": 46,
   "id": "353e9a0e",
   "metadata": {},
   "outputs": [
    {
     "data": {
      "text/plain": [
       "complex"
      ]
     },
     "execution_count": 46,
     "metadata": {},
     "output_type": "execute_result"
    }
   ],
   "source": [
    "y = -5j\n",
    "type(y)"
   ]
  },
  {
   "cell_type": "code",
   "execution_count": 48,
   "id": "f2d4c908",
   "metadata": {},
   "outputs": [
    {
     "data": {
      "text/plain": [
       "complex"
      ]
     },
     "execution_count": 48,
     "metadata": {},
     "output_type": "execute_result"
    }
   ],
   "source": [
    "z = 1 + 0j\n",
    "type(z)"
   ]
  },
  {
   "cell_type": "code",
   "execution_count": 51,
   "id": "654ac9cb",
   "metadata": {},
   "outputs": [
    {
     "data": {
      "text/plain": [
       "int"
      ]
     },
     "execution_count": 51,
     "metadata": {},
     "output_type": "execute_result"
    }
   ],
   "source": [
    "x = 23 \n",
    "type(x)"
   ]
  },
  {
   "cell_type": "code",
   "execution_count": 55,
   "id": "5a22b919",
   "metadata": {},
   "outputs": [
    {
     "data": {
      "text/plain": [
       "str"
      ]
     },
     "execution_count": 55,
     "metadata": {},
     "output_type": "execute_result"
    }
   ],
   "source": [
    "x ='hola'\n",
    "type(x)"
   ]
  },
  {
   "cell_type": "code",
   "execution_count": 59,
   "id": "827ddca1",
   "metadata": {},
   "outputs": [
    {
     "data": {
      "text/plain": [
       "float"
      ]
     },
     "execution_count": 59,
     "metadata": {},
     "output_type": "execute_result"
    }
   ],
   "source": [
    "x = 1e4 \n",
    "type(x)"
   ]
  },
  {
   "cell_type": "code",
   "execution_count": 60,
   "id": "ad969e4c",
   "metadata": {},
   "outputs": [
    {
     "data": {
      "text/plain": [
       "100000000.0"
      ]
     },
     "execution_count": 60,
     "metadata": {},
     "output_type": "execute_result"
    }
   ],
   "source": [
    "x*x"
   ]
  },
  {
   "cell_type": "markdown",
   "id": "29ed0f2f",
   "metadata": {},
   "source": [
    "### Práctica en Clase (4 min)\n",
    "\n",
    "    * 4.\n",
    "    * 4.0\n",
    "    * 'hola mundo'\n",
    "    * 45r\n",
    "    * 9j\n",
    "    * 9-9.\n",
    "    * {1,3,4}\n",
    "    * (1,3,4)\n",
    "    * { 'one': 'uno'}\n",
    "    * [ ]\n",
    "    "
   ]
  },
  {
   "cell_type": "code",
   "execution_count": 61,
   "id": "987be876",
   "metadata": {},
   "outputs": [
    {
     "data": {
      "text/plain": [
       "(str, complex, float, set, dict, tuple, list)"
      ]
     },
     "execution_count": 61,
     "metadata": {},
     "output_type": "execute_result"
    }
   ],
   "source": [
    "type('45r'),type(9j),type(9-9.),type({1,3,4}),type({ 'one': 'uno'}),type((1,3,4)),type([ ])"
   ]
  },
  {
   "cell_type": "code",
   "execution_count": 63,
   "id": "daad6ae4",
   "metadata": {},
   "outputs": [
    {
     "data": {
      "text/plain": [
       "(tuple, set)"
      ]
     },
     "execution_count": 63,
     "metadata": {},
     "output_type": "execute_result"
    }
   ],
   "source": [
    "dia = ('l','m','w','j','v')\n",
    "\n",
    "_dia = {'l','m','w','j','v'}\n",
    "\n",
    "type(dia), type(_dia)"
   ]
  },
  {
   "cell_type": "markdown",
   "id": "0d949b37",
   "metadata": {},
   "source": [
    "### [Out Off Topic]"
   ]
  },
  {
   "cell_type": "code",
   "execution_count": 66,
   "id": "02aa7dd1",
   "metadata": {},
   "outputs": [
    {
     "data": {
      "text/plain": [
       "(3.141592653589793, 2.718281828459045, 2.718281828459045)"
      ]
     },
     "execution_count": 66,
     "metadata": {},
     "output_type": "execute_result"
    }
   ],
   "source": [
    "import math \n",
    "\n",
    "math.pi, math.e, math.exp(1)"
   ]
  },
  {
   "cell_type": "code",
   "execution_count": 70,
   "id": "401363e1",
   "metadata": {},
   "outputs": [
    {
     "data": {
      "text/plain": [
       "3.141592653589793"
      ]
     },
     "execution_count": 70,
     "metadata": {},
     "output_type": "execute_result"
    }
   ],
   "source": [
    "from math import *\n",
    "from numpy import *\n",
    "\n",
    "pi"
   ]
  },
  {
   "cell_type": "code",
   "execution_count": 68,
   "id": "d214e3f7",
   "metadata": {},
   "outputs": [
    {
     "data": {
      "text/plain": [
       "3.141592653589793"
      ]
     },
     "execution_count": 68,
     "metadata": {},
     "output_type": "execute_result"
    }
   ],
   "source": [
    "import numpy\n",
    "\n",
    "numpy.pi"
   ]
  },
  {
   "cell_type": "code",
   "execution_count": 71,
   "id": "36a9e5cd",
   "metadata": {},
   "outputs": [
    {
     "data": {
      "text/plain": [
       "3.141592653589793"
      ]
     },
     "execution_count": 71,
     "metadata": {},
     "output_type": "execute_result"
    }
   ],
   "source": [
    "import numpy as np\n",
    "\n",
    "np.pi"
   ]
  },
  {
   "cell_type": "markdown",
   "id": "e71757ad",
   "metadata": {},
   "source": [
    "#### <span style=\"color:darkred\">Conversión de tipo</span>\n",
    "\n",
    "Puede convertir de un tipo a otro con los métodos `int()`, `float()` y `complex()`:\n",
    "\n",
    "#### Ejemplos:"
   ]
  },
  {
   "cell_type": "code",
   "execution_count": 81,
   "id": "f58b0363",
   "metadata": {},
   "outputs": [
    {
     "data": {
      "text/plain": [
       "(int, float, complex)"
      ]
     },
     "execution_count": 81,
     "metadata": {},
     "output_type": "execute_result"
    }
   ],
   "source": [
    "x = 1\n",
    "y = 2.8345\n",
    "z = 5j\n",
    "\n",
    "type(x), type(y),type(z)"
   ]
  },
  {
   "cell_type": "code",
   "execution_count": 73,
   "id": "170ad445",
   "metadata": {},
   "outputs": [
    {
     "data": {
      "text/plain": [
       "1.0"
      ]
     },
     "execution_count": 73,
     "metadata": {},
     "output_type": "execute_result"
    }
   ],
   "source": [
    "xf = float(x)\n",
    "xf"
   ]
  },
  {
   "cell_type": "code",
   "execution_count": 75,
   "id": "f7bbd945",
   "metadata": {},
   "outputs": [
    {
     "data": {
      "text/plain": [
       "(1+0j)"
      ]
     },
     "execution_count": 75,
     "metadata": {},
     "output_type": "execute_result"
    }
   ],
   "source": [
    "xc = complex(x)\n",
    "xc"
   ]
  },
  {
   "cell_type": "code",
   "execution_count": 83,
   "id": "8e3ae7f5",
   "metadata": {},
   "outputs": [
    {
     "name": "stdout",
     "output_type": "stream",
     "text": [
      "(2.8345+0j)\n"
     ]
    }
   ],
   "source": [
    "yc = complex(y)\n",
    "print(yc)"
   ]
  },
  {
   "cell_type": "code",
   "execution_count": 78,
   "id": "56065b1b",
   "metadata": {},
   "outputs": [
    {
     "ename": "TypeError",
     "evalue": "can't convert complex to int",
     "output_type": "error",
     "traceback": [
      "\u001b[0;31m---------------------------------------------------------------------------\u001b[0m",
      "\u001b[0;31mTypeError\u001b[0m                                 Traceback (most recent call last)",
      "Input \u001b[0;32mIn [78]\u001b[0m, in \u001b[0;36m<cell line: 1>\u001b[0;34m()\u001b[0m\n\u001b[0;32m----> 1\u001b[0m zi \u001b[38;5;241m=\u001b[39m \u001b[38;5;28;43mint\u001b[39;49m\u001b[43m(\u001b[49m\u001b[43mz\u001b[49m\u001b[43m)\u001b[49m\n",
      "\u001b[0;31mTypeError\u001b[0m: can't convert complex to int"
     ]
    }
   ],
   "source": [
    "zi = int(z)"
   ]
  },
  {
   "cell_type": "code",
   "execution_count": 82,
   "id": "8a05904a",
   "metadata": {},
   "outputs": [
    {
     "data": {
      "text/plain": [
       "2"
      ]
     },
     "execution_count": 82,
     "metadata": {},
     "output_type": "execute_result"
    }
   ],
   "source": [
    "yi = int(y)\n",
    "yi"
   ]
  },
  {
   "cell_type": "markdown",
   "id": "2792d010",
   "metadata": {},
   "source": [
    "#### <span style=\"color:darkred\">Conversión de tipo</span>\n",
    "\n",
    "Puede haber ocasiones en las que desee especificar un tipo en una variable.\n",
    "\n",
    "Python es un lenguaje orientado a objetos y, como tal, utiliza clases para definir tipos de datos, incluidos sus tipos primitivos.\n",
    "\n",
    "Por lo tanto, la conversión en python se realiza mediante funciones de constructor:\n",
    "\n",
    "•\t`int()`: construye un número entero a partir de un literal entero, un literal flotante (eliminando todos los decimales) o un literal de cadena (siempre que la cadena represente un número entero)\n",
    "\n",
    "•\t`float()`: construye un número flotante a partir de un literal entero, un literal flotante o un literal de cadena (siempre que la cadena represente un flotante o un entero)\n",
    "\n",
    "•\t`str()`: construye una cadena a partir de una amplia variedad de tipos de datos, incluidas cadenas, literales enteros y literales flotantes\n",
    "\n",
    "Convertir un tipo de datos es muy necesario cuando se está capturando información por parte del usuario, muchas veces se utiliza la función `input()` para poder capturar información que en su momento al se utilizada será de tipo Sting, si requerimos que estos valores cambien a enteros o flotantes es necesario realizar la conversión como a continuación: \n"
   ]
  },
  {
   "cell_type": "code",
   "execution_count": 87,
   "id": "9a2af232",
   "metadata": {},
   "outputs": [
    {
     "name": "stdout",
     "output_type": "stream",
     "text": [
      "Digite la edad34\n"
     ]
    },
    {
     "data": {
      "text/plain": [
       "(34, int)"
      ]
     },
     "execution_count": 87,
     "metadata": {},
     "output_type": "execute_result"
    }
   ],
   "source": [
    "# Forma 1\n",
    "\n",
    "edad = input('Digite la edad')  # Entrada tipo str\n",
    "\n",
    "edad = int(edad)\n",
    "\n",
    "edad, type(edad)"
   ]
  },
  {
   "cell_type": "code",
   "execution_count": 88,
   "id": "69a28383",
   "metadata": {},
   "outputs": [
    {
     "name": "stdout",
     "output_type": "stream",
     "text": [
      "Digite la edad34\n"
     ]
    },
    {
     "data": {
      "text/plain": [
       "(34, int)"
      ]
     },
     "execution_count": 88,
     "metadata": {},
     "output_type": "execute_result"
    }
   ],
   "source": [
    "# Forma 2\n",
    "\n",
    "edad = int(input('Digite la edad'))  # Entrada tipo int\n",
    "\n",
    "edad, type(edad)"
   ]
  },
  {
   "cell_type": "code",
   "execution_count": 91,
   "id": "9dd0a2a2",
   "metadata": {},
   "outputs": [
    {
     "data": {
      "text/plain": [
       "'3030'"
      ]
     },
     "execution_count": 91,
     "metadata": {},
     "output_type": "execute_result"
    }
   ],
   "source": [
    "txt = '30'\n",
    "txt + txt"
   ]
  },
  {
   "cell_type": "code",
   "execution_count": 92,
   "id": "2dc4d805",
   "metadata": {},
   "outputs": [
    {
     "data": {
      "text/plain": [
       "60"
      ]
     },
     "execution_count": 92,
     "metadata": {},
     "output_type": "execute_result"
    }
   ],
   "source": [
    "txt = '30'\n",
    "txt = int(txt)\n",
    "txt + txt"
   ]
  },
  {
   "cell_type": "code",
   "execution_count": 93,
   "id": "d0619750",
   "metadata": {},
   "outputs": [
    {
     "data": {
      "text/plain": [
       "'30.54230.542'"
      ]
     },
     "execution_count": 93,
     "metadata": {},
     "output_type": "execute_result"
    }
   ],
   "source": [
    "txt = '30.542'\n",
    "txt + txt"
   ]
  },
  {
   "cell_type": "code",
   "execution_count": 95,
   "id": "d84a9bb0",
   "metadata": {},
   "outputs": [
    {
     "data": {
      "text/plain": [
       "61.084"
      ]
     },
     "execution_count": 95,
     "metadata": {},
     "output_type": "execute_result"
    }
   ],
   "source": [
    "txt = '30.542'\n",
    "txt = float(txt)\n",
    "txt + txt"
   ]
  },
  {
   "cell_type": "code",
   "execution_count": 101,
   "id": "15e266ff",
   "metadata": {},
   "outputs": [
    {
     "data": {
      "text/plain": [
       "['hola', 'a', 'todos']"
      ]
     },
     "execution_count": 101,
     "metadata": {},
     "output_type": "execute_result"
    }
   ],
   "source": [
    "# lista de datos a cadena\n",
    "\n",
    "lista = ['hola', 'a' , 'todos']\n",
    "lista"
   ]
  },
  {
   "cell_type": "code",
   "execution_count": 103,
   "id": "97c3c4ee",
   "metadata": {},
   "outputs": [
    {
     "data": {
      "text/plain": [
       "\"['hola', 'a', 'todos']\""
      ]
     },
     "execution_count": 103,
     "metadata": {},
     "output_type": "execute_result"
    }
   ],
   "source": [
    "lista = str(lista)\n",
    "lista"
   ]
  },
  {
   "cell_type": "code",
   "execution_count": 110,
   "id": "638e14a4",
   "metadata": {},
   "outputs": [
    {
     "data": {
      "text/plain": [
       "['hola', 'a', 'todos']"
      ]
     },
     "execution_count": 110,
     "metadata": {},
     "output_type": "execute_result"
    }
   ],
   "source": [
    "lista = \"['hola','a' , 'todos' ]\"\n",
    "lista = eval(lista)\n",
    "lista"
   ]
  },
  {
   "cell_type": "code",
   "execution_count": 109,
   "id": "fc41673a",
   "metadata": {},
   "outputs": [
    {
     "data": {
      "text/plain": [
       "(['hola', 'a', 'todos'], list)"
      ]
     },
     "execution_count": 109,
     "metadata": {},
     "output_type": "execute_result"
    }
   ],
   "source": [
    "lista = '[\"hola\",\"a\" , \"todos\" ]'\n",
    "lista = eval(lista)\n",
    "lista, type(lista)"
   ]
  },
  {
   "cell_type": "code",
   "execution_count": 111,
   "id": "ad8c5afc",
   "metadata": {},
   "outputs": [
    {
     "data": {
      "text/plain": [
       "'[1, 2, 3, 4, 5]'"
      ]
     },
     "execution_count": 111,
     "metadata": {},
     "output_type": "execute_result"
    }
   ],
   "source": [
    "lnum = [1,2,3,4,5]\n",
    "lnum = str(lnum)\n",
    "lnum"
   ]
  },
  {
   "cell_type": "code",
   "execution_count": 112,
   "id": "f1f1a405",
   "metadata": {},
   "outputs": [
    {
     "data": {
      "text/plain": [
       "[1, 2, 3, 4, 5]"
      ]
     },
     "execution_count": 112,
     "metadata": {},
     "output_type": "execute_result"
    }
   ],
   "source": [
    "lnum = '[1,2,3,4,5]'\n",
    "lnum = eval(lnum)\n",
    "lnum"
   ]
  },
  {
   "cell_type": "code",
   "execution_count": 114,
   "id": "5f8c9b5a",
   "metadata": {},
   "outputs": [
    {
     "data": {
      "text/plain": [
       "((1, 2, 3, 4, 5), tuple)"
      ]
     },
     "execution_count": 114,
     "metadata": {},
     "output_type": "execute_result"
    }
   ],
   "source": [
    "test = '1,2,3,4,5'\n",
    "test = eval(test)\n",
    "test ,  type(test)"
   ]
  },
  {
   "cell_type": "code",
   "execution_count": 120,
   "id": "5375789d",
   "metadata": {},
   "outputs": [
    {
     "data": {
      "text/plain": [
       "((1, 2, 3, 4, 5), tuple)"
      ]
     },
     "execution_count": 120,
     "metadata": {},
     "output_type": "execute_result"
    }
   ],
   "source": [
    "test = '1,2,3, 4,5'\n",
    "test = eval(test)\n",
    "test ,  type(test)"
   ]
  },
  {
   "cell_type": "markdown",
   "id": "adac37db",
   "metadata": {},
   "source": [
    "#### <span style=\"color:darkred\">Cadenas de Texto</span>\n",
    "\n",
    "Las cadenas en python están entre comillas simples o comillas dobles.\n",
    "\n",
    "    \"hola\" es lo mismo que 'hola' .\n",
    "\n",
    "Puede mostrar un literal de cadena con la función `print()`:\n"
   ]
  },
  {
   "cell_type": "code",
   "execution_count": 78,
   "id": "526e321e",
   "metadata": {},
   "outputs": [
    {
     "name": "stdout",
     "output_type": "stream",
     "text": [
      "Hola mundo\n",
      "Hola mundo\n"
     ]
    }
   ],
   "source": [
    "print('Hola mundo') \n",
    "print(\"Hola mundo\")"
   ]
  },
  {
   "cell_type": "markdown",
   "id": "832fb1da",
   "metadata": {},
   "source": [
    "#### <span style=\"color:darkblue\">Asignar cadena a una variable</span>\n",
    "\n",
    "La asignación de una cadena a una variable se realiza con el nombre de la variable seguido de un signo igual y la cadena:"
   ]
  },
  {
   "cell_type": "code",
   "execution_count": 79,
   "id": "763c730a",
   "metadata": {},
   "outputs": [
    {
     "name": "stdout",
     "output_type": "stream",
     "text": [
      "Hello Hello\n"
     ]
    }
   ],
   "source": [
    "a = \"Hello\"\n",
    "b = 'Hello' \n",
    "print(a,b)"
   ]
  },
  {
   "cell_type": "markdown",
   "id": "5a95528e",
   "metadata": {},
   "source": [
    "#### <span style=\"color:darkblue\">Cadenas multilinea</span>\n",
    "\n",
    "Puede asignar una cadena de varias líneas a una variable usando tres comillas:"
   ]
  },
  {
   "cell_type": "code",
   "execution_count": 121,
   "id": "3bfbc133",
   "metadata": {},
   "outputs": [
    {
     "name": "stdout",
     "output_type": "stream",
     "text": [
      " Lorem ipsum dolor sit amet,\n",
      "consectetur adipiscing elit,\n",
      "sed do eiusmod tempor incididunt\n",
      "ut labore et dolore magna aliqua. \n",
      "asignar una cadena de varias líneas a una\n",
      "variable usando tres comillas:\n"
     ]
    }
   ],
   "source": [
    "# DocString\n",
    "a = \"\"\" Lorem ipsum dolor sit amet,\n",
    "consectetur adipiscing elit,\n",
    "sed do eiusmod tempor incididunt\n",
    "ut labore et dolore magna aliqua. \n",
    "asignar una cadena de varias líneas a una\n",
    "variable usando tres comillas:\"\"\"\n",
    "\n",
    "print(a)"
   ]
  },
  {
   "cell_type": "code",
   "execution_count": 124,
   "id": "f4c1afe4",
   "metadata": {},
   "outputs": [
    {
     "data": {
      "text/plain": [
       "45"
      ]
     },
     "execution_count": 124,
     "metadata": {},
     "output_type": "execute_result"
    }
   ],
   "source": [
    "sl = 'cadena de varias líneas a una variable usando'\n",
    "\n",
    "len(sl)"
   ]
  },
  {
   "cell_type": "markdown",
   "id": "a6c36b5d",
   "metadata": {},
   "source": [
    "#### <span style=\"color:darkblue\">Cortar desde el principio</span>\n",
    "\n",
    "Al omitir el índice de inicio, el rango comenzará en el primer carácter:"
   ]
  },
  {
   "cell_type": "code",
   "execution_count": 125,
   "id": "e4c9260d",
   "metadata": {},
   "outputs": [
    {
     "data": {
      "text/plain": [
       "'den'"
      ]
     },
     "execution_count": 125,
     "metadata": {},
     "output_type": "execute_result"
    }
   ],
   "source": [
    "sl[2:5]"
   ]
  },
  {
   "cell_type": "code",
   "execution_count": 126,
   "id": "0a3cf7e8",
   "metadata": {},
   "outputs": [
    {
     "data": {
      "text/plain": [
       "'cadena de varia'"
      ]
     },
     "execution_count": 126,
     "metadata": {},
     "output_type": "execute_result"
    }
   ],
   "source": [
    "sl[0:15]"
   ]
  },
  {
   "cell_type": "code",
   "execution_count": 127,
   "id": "388f6a47",
   "metadata": {},
   "outputs": [
    {
     "data": {
      "text/plain": [
       "' varia'"
      ]
     },
     "execution_count": 127,
     "metadata": {},
     "output_type": "execute_result"
    }
   ],
   "source": [
    "sl[9:15]"
   ]
  },
  {
   "cell_type": "markdown",
   "id": "cfdcdb61",
   "metadata": {},
   "source": [
    "`lis[ index_inicio : index_fin]`\n",
    "\n",
    "`lis[  : index_fin]` recorre el arreglo desde el inicio\n",
    "\n",
    "`lis[ index_inicio : ]` recorre el arreglo hasta el fin"
   ]
  },
  {
   "cell_type": "code",
   "execution_count": 128,
   "id": "c892a8e1",
   "metadata": {},
   "outputs": [
    {
     "data": {
      "text/plain": [
       "'cadena de varias lí'"
      ]
     },
     "execution_count": 128,
     "metadata": {},
     "output_type": "execute_result"
    }
   ],
   "source": [
    "sl[:19]"
   ]
  },
  {
   "cell_type": "markdown",
   "id": "7f83203a",
   "metadata": {},
   "source": [
    "#### <span style=\"color:darkblue\">Cortar hasta el final</span>\n",
    "\n",
    "Al omitir el índice final, el rango irá hasta el final:"
   ]
  },
  {
   "cell_type": "code",
   "execution_count": 129,
   "id": "615ac995",
   "metadata": {},
   "outputs": [
    {
     "data": {
      "text/plain": [
       "'de varias líneas a una variable usando'"
      ]
     },
     "execution_count": 129,
     "metadata": {},
     "output_type": "execute_result"
    }
   ],
   "source": [
    "sl[7:]"
   ]
  },
  {
   "cell_type": "markdown",
   "id": "e174d446",
   "metadata": {},
   "source": [
    "#### <span style=\"color:darkblue\">Indexación negativa</span>\n",
    "\n",
    "Utilice índices negativos para iniciar el segmento desde el final de la cadena:"
   ]
  },
  {
   "cell_type": "code",
   "execution_count": 130,
   "id": "59bddbf6",
   "metadata": {},
   "outputs": [
    {
     "data": {
      "text/plain": [
       "'sa'"
      ]
     },
     "execution_count": 130,
     "metadata": {},
     "output_type": "execute_result"
    }
   ],
   "source": [
    "sl[-5:-3]"
   ]
  },
  {
   "cell_type": "code",
   "execution_count": 131,
   "id": "633bc2e7",
   "metadata": {},
   "outputs": [
    {
     "data": {
      "text/plain": [
       "'ariable usand'"
      ]
     },
     "execution_count": 131,
     "metadata": {},
     "output_type": "execute_result"
    }
   ],
   "source": [
    "sl[-14:-1]"
   ]
  },
  {
   "cell_type": "code",
   "execution_count": 134,
   "id": "572fbe09",
   "metadata": {},
   "outputs": [
    {
     "data": {
      "text/plain": [
       "'ariable usando'"
      ]
     },
     "execution_count": 134,
     "metadata": {},
     "output_type": "execute_result"
    }
   ],
   "source": [
    "sl[-14:]"
   ]
  },
  {
   "cell_type": "code",
   "execution_count": null,
   "id": "558e54a9",
   "metadata": {},
   "outputs": [],
   "source": []
  },
  {
   "cell_type": "code",
   "execution_count": null,
   "id": "ff9cc619",
   "metadata": {},
   "outputs": [],
   "source": []
  },
  {
   "cell_type": "markdown",
   "id": "065d6c15",
   "metadata": {},
   "source": [
    "### Ejercicios:\n",
    "<span style=\"color:darkgreen\">\n",
    "    \n",
    "1. Asigna la cadena \"Bienvenido a Python\" a una variable llamada mensaje y luego imprímela.\n",
    "\n",
    "2. Crea una cadena multilinea que represente un poema y asigna la cadena a una variable llamada poema. Luego, imprime el contenido de la variable.\n",
    "\n",
    "3. Dada la cadena \"Programación en Python\", asigna la subcadena \"Python\" a una variable llamada lenguaje utilizando el corte adecuado. Luego, imprime el contenido de la variable.\n",
    "\n",
    "4. Asigna la cadena \"abcdefghij\" a una variable llamada cadena. Luego, crea una nueva cadena que contenga solo los caracteres \"cdef\" utilizando el corte adecuado y asígnala a la variable subcadena. Finalmente, imprime el contenido de la variable subcadena.\n",
    "\n",
    "5. Dada la cadena \"Python es genial\", utiliza el corte adecuado para asignar la subcadena \"es genial\" a una variable llamada parte. Imprime el contenido de la variable.\n",
    "</span>\n",
    "\n",
    "    6. Asigna la cadena \"ABCDEFGHI\" a una variable llamada letras. Luego, crea una nueva cadena que contenga solo los últimos tres caracteres \"GHI\" utilizando la indexación negativa y asígnala a la variable ultimas_letras. Imprime el contenido de la variable.\n",
    "\n",
    "    7. Asigna la cadena \"Esto es un ejemplo de indexación negativa\" a una variable llamada texto. Utiliza la indexación negativa para asignar la subcadena \"negativa\" a una variable llamada subcadena. Imprime el contenido de la variable.\n",
    "\n",
    "    8. Asigna la cadena \"abcdefghij\" a una variable llamada cadena. Utiliza el corte adecuado y la indexación negativa para asignar la subcadena \"efgh\" a una variable llamada subcadena. Imprime el contenido de la variable."
   ]
  },
  {
   "cell_type": "code",
   "execution_count": 103,
   "id": "93700a84",
   "metadata": {},
   "outputs": [
    {
     "name": "stdout",
     "output_type": "stream",
     "text": [
      "Bienvenido a Python\n"
     ]
    }
   ],
   "source": [
    "\"\"\"\n",
    "1. Asigna la cadena \"Bienvenido a Python\" a una variable llamada \n",
    "mensaje y luego imprímela.\n",
    "\"\"\"\n",
    "mensaje = \"Bienvenido a Python\" \n",
    "print(mensaje)"
   ]
  },
  {
   "cell_type": "code",
   "execution_count": 105,
   "id": "c07a621d",
   "metadata": {},
   "outputs": [
    {
     "name": "stdout",
     "output_type": "stream",
     "text": [
      "Lo bello se encuentra estrechamente ligado al mundo del arte, donde es más fácil apreciar estéticamente lo bonito a través de colores, sonidos y palabras.\n",
      "En este sentido, la poesía destaca por su capacidad de transmitir sensaciones y emociones a través de un lenguaje que permite embellecer la experiencia del mundo y mostrarnos con distintos matices los sentimientos más sombríos.\n",
      "\n"
     ]
    }
   ],
   "source": [
    "\"\"\"\n",
    "2. Crea una cadena multilinea que represente un poema \n",
    "y asigna la cadena a una variable llamada poema. Luego, \n",
    "imprime el contenido de la variable.\n",
    "\"\"\"\n",
    "\n",
    "poema = \"\"\"Lo bello se encuentra estrechamente ligado al mundo del arte, donde es más fácil apreciar estéticamente lo bonito a través de colores, sonidos y palabras.\n",
    "En este sentido, la poesía destaca por su capacidad de transmitir sensaciones y emociones a través de un lenguaje que permite embellecer la experiencia del mundo y mostrarnos con distintos matices los sentimientos más sombríos.\n",
    "\"\"\"\n",
    "print(poema)"
   ]
  },
  {
   "cell_type": "code",
   "execution_count": 4,
   "id": "a7478f3f",
   "metadata": {},
   "outputs": [],
   "source": [
    "\"\"\"\"\n",
    "3. Dada la cadena \"Programación en Python\", asigna la subcadena \n",
    "\"Python\" a una variable llamada lenguaje utilizando el corte adecuado. \n",
    "Luego, imprime el contenido de la variable.\n",
    "\"\"\"\n",
    "cadena    = \"Programación en Python\"\n",
    "\n"
   ]
  },
  {
   "cell_type": "code",
   "execution_count": 115,
   "id": "219fe4bb",
   "metadata": {},
   "outputs": [
    {
     "name": "stdout",
     "output_type": "stream",
     "text": [
      "cdef\n"
     ]
    }
   ],
   "source": [
    "\"\"\"\n",
    "4. Asigna la cadena \"abcdefghij\" a una variable llamada cadena.\n",
    "Luego, crea una nueva cadena que contenga solo los caracteres\n",
    "\"cdef\" utilizando el corte adecuado y asígnala a la variable subcadena. \n",
    "Finalmente, imprime el contenido de la variable subcadena.\n",
    "\"\"\"\n",
    "cadena='abcdefghij' \n"
   ]
  },
  {
   "cell_type": "code",
   "execution_count": 5,
   "id": "8f94baf4",
   "metadata": {},
   "outputs": [
    {
     "data": {
      "text/plain": [
       "'\\n5. Dada la cadena \"Python es genial\", utiliza el corte adecuado \\npara asignar la subcadena \"es genial\" a una variable llamada parte. \\nImprime el contenido de la variable.\\n'"
      ]
     },
     "execution_count": 5,
     "metadata": {},
     "output_type": "execute_result"
    }
   ],
   "source": [
    "\"\"\"\n",
    "5. Dada la cadena \"Python es genial\", utiliza el corte adecuado \n",
    "para asignar la subcadena \"es genial\" a una variable llamada parte. \n",
    "Imprime el contenido de la variable.\n",
    "\"\"\"\n",
    "\n"
   ]
  },
  {
   "cell_type": "markdown",
   "id": "d242ac26",
   "metadata": {},
   "source": [
    "###   <span style=\"color:darkred\">Funciones de Cadenas</span>\n",
    "\n",
    "Python tiene un conjunto de métodos integrados que puede usar en cadenas.\n",
    "\n",
    "#### <span style=\"color:darkblue\">Convertir todo a Mayúsculas</span>\n",
    "\n",
    "El método `upper()` devuelve la cadena en mayúsculas:"
   ]
  },
  {
   "cell_type": "code",
   "execution_count": null,
   "id": "9969914f",
   "metadata": {},
   "outputs": [],
   "source": []
  },
  {
   "cell_type": "markdown",
   "id": "5a9020c0",
   "metadata": {},
   "source": [
    "#### <span style=\"color:darkblue\">Convertir todo a Minúsculas</span>\n",
    "\n",
    "El método `lower()` devuelve la cadena en minúsculas:"
   ]
  },
  {
   "cell_type": "code",
   "execution_count": null,
   "id": "9ac5878c",
   "metadata": {},
   "outputs": [],
   "source": []
  },
  {
   "cell_type": "markdown",
   "id": "80a1c5f3",
   "metadata": {},
   "source": [
    "#### <span style=\"color:darkblue\">Eliminar espacios en blanco</span>\n",
    "\n",
    "El espacio en blanco es el espacio antes y/o después del texto real, y muy a menudo desea eliminar este espacio.\n",
    "\n",
    "El método `strip()` elimina cualquier espacio en blanco desde el principio o el final:\n"
   ]
  },
  {
   "cell_type": "code",
   "execution_count": null,
   "id": "7608c95a",
   "metadata": {},
   "outputs": [],
   "source": []
  },
  {
   "cell_type": "markdown",
   "id": "fefee5e6",
   "metadata": {},
   "source": [
    "#### <span style=\"color:darkblue\">Reemplazar cadena</span>\n",
    "\n",
    "El método `replace()` reemplaza una cadena con otra cadena:"
   ]
  },
  {
   "cell_type": "code",
   "execution_count": null,
   "id": "b02426be",
   "metadata": {},
   "outputs": [],
   "source": []
  },
  {
   "cell_type": "markdown",
   "id": "1d98f19a",
   "metadata": {},
   "source": [
    "#### <span style=\"color:darkblue\">Cadena dividida</span>\n",
    "\n",
    "El método `split()` devuelve una lista donde el texto entre el separador especificado se convierte en los elementos de la lista. \n",
    "\n",
    "El `split( )` método divide la cadena en subcadenas si encuentra instancias del separador:"
   ]
  },
  {
   "cell_type": "code",
   "execution_count": null,
   "id": "0e9729fd",
   "metadata": {},
   "outputs": [],
   "source": []
  },
  {
   "cell_type": "markdown",
   "id": "32f0c20e",
   "metadata": {},
   "source": [
    "#### <span style=\"color:darkblue\">Concatenación de cadenas</span>\n",
    "\n",
    "Para concatenar o combinar dos cadenas, puede usar el **operador +**.\n"
   ]
  },
  {
   "cell_type": "code",
   "execution_count": null,
   "id": "b11780e9",
   "metadata": {},
   "outputs": [],
   "source": []
  },
  {
   "cell_type": "code",
   "execution_count": null,
   "id": "3c5c7f80",
   "metadata": {},
   "outputs": [],
   "source": []
  },
  {
   "cell_type": "markdown",
   "id": "51fc215e",
   "metadata": {},
   "source": [
    "Para agregar un espacio entre ellos, agregue un \" \":"
   ]
  },
  {
   "cell_type": "code",
   "execution_count": null,
   "id": "cac10f19",
   "metadata": {},
   "outputs": [],
   "source": []
  },
  {
   "cell_type": "markdown",
   "id": "09a887b7",
   "metadata": {},
   "source": [
    "#### <span style=\"color:darkblue\">Formato de cadena</span>\n",
    "Como aprendimos en el capítulo Variables de Python, no podemos combinar cadenas y números como este:"
   ]
  },
  {
   "cell_type": "code",
   "execution_count": null,
   "id": "a043382f",
   "metadata": {},
   "outputs": [],
   "source": []
  },
  {
   "cell_type": "markdown",
   "id": "a43307da",
   "metadata": {},
   "source": [
    "No podemos concatenar un texto con un número debido a que Python no sabrá si lo que queremos es sumar o concatenar las variables por ello es necesario realizar un formato específico para ello.\n",
    "\n",
    "El método `format()` toma los argumentos pasados, les da formato y los coloca en la cadena donde están los marcadores de posición: {}\n"
   ]
  },
  {
   "cell_type": "code",
   "execution_count": null,
   "id": "25a52c82",
   "metadata": {},
   "outputs": [],
   "source": []
  },
  {
   "cell_type": "markdown",
   "id": "dc836b62",
   "metadata": {},
   "source": [
    "El método `format()` toma un número ilimitado de argumentos y se colocan en los marcadores de posición respectivos:"
   ]
  },
  {
   "cell_type": "code",
   "execution_count": null,
   "id": "be41a81a",
   "metadata": {},
   "outputs": [],
   "source": []
  },
  {
   "cell_type": "markdown",
   "id": "2dc35d7d",
   "metadata": {},
   "source": [
    "Puede usar números de índice `{0}` para asegurarse de que los argumentos se colocan en los marcadores de posición correctos:"
   ]
  },
  {
   "cell_type": "code",
   "execution_count": null,
   "id": "3c56ce7a",
   "metadata": {},
   "outputs": [],
   "source": []
  },
  {
   "cell_type": "markdown",
   "id": "121486d2",
   "metadata": {},
   "source": [
    "### String Interpolation / f-Strings (Python 3.6+)\n",
    "\n",
    "Another new string formatting is string interpolation, f-strings. Strings start with f and we can inject the data in their corresponding positions."
   ]
  },
  {
   "cell_type": "code",
   "execution_count": null,
   "id": "7f06e00e",
   "metadata": {},
   "outputs": [],
   "source": []
  },
  {
   "cell_type": "markdown",
   "id": "4caf176d",
   "metadata": {},
   "source": [
    "count(): returns occurrences of substring in string, count(substring, start=.., end=..). The start is a starting indexing for counting and end is the last index to count."
   ]
  },
  {
   "cell_type": "code",
   "execution_count": null,
   "id": "331de085",
   "metadata": {},
   "outputs": [],
   "source": []
  },
  {
   "cell_type": "code",
   "execution_count": null,
   "id": "d94081f2",
   "metadata": {},
   "outputs": [],
   "source": []
  },
  {
   "cell_type": "markdown",
   "id": "032d7cae",
   "metadata": {},
   "source": [
    "### <span style=\"color:darkred\">Caracteres de escape</span>\n",
    "\n",
    "Para insertar caracteres que no son válidos en una cadena, utilice un carácter de escape. Un carácter de escape es una barra invertida \\seguida del carácter que desea insertar. Un ejemplo de un carácter ilegal es una comilla doble dentro de una cadena que está entre comillas dobles:"
   ]
  },
  {
   "cell_type": "code",
   "execution_count": null,
   "id": "1f2e57f2",
   "metadata": {},
   "outputs": [],
   "source": []
  },
  {
   "cell_type": "markdown",
   "id": "c652ea5a",
   "metadata": {},
   "source": [
    "Para solucionar este problema, utilice el carácter de escape “\\”, el carácter de escape le permite usar comillas dobles cuando normalmente no se le permitiría:"
   ]
  },
  {
   "cell_type": "code",
   "execution_count": null,
   "id": "b48639ef",
   "metadata": {},
   "outputs": [],
   "source": []
  },
  {
   "cell_type": "markdown",
   "id": "20d73e04",
   "metadata": {},
   "source": [
    "## Ejercicios:\n",
    "\n",
    "    1. Dada la cadena \"¡Hola, mundo!\", crea una variable que contenga solo la palabra \"Hola\" utilizando el corte adecuado.\n",
    "    \n",
    "    2.Crea una cadena multilinea que represente un poema y luego imprímela.\n",
    "    \n",
    "    3. Dada la cadena \"Programación Python\", obtén la subcadena \"Python\" utilizando el corte adecuado.\n",
    "    \n",
    "    4.Dada la cadena \"Bienvenidos al mundo de Python\", obtén la subcadena \"mundo de\" utilizando el corte adecuado.\n",
    "    \n",
    "    5. Dada la cadena \"ABCDE\", utiliza indexación negativa para obtener la subcadena \"BCD\".\n",
    "    \n",
    "     6.Elimina los espacios en blanco al principio y al final de la cadena \" Hola, mundo! \".\n",
    "     \n",
    "    7.Reemplaza todas las apariciones de \"bien\" por \"muy bien\" en la cadena \"Me siento bien hoy.\".\n",
    "    \n",
    "    8.Divide la cadena \"manzana,pera,durazno\", utilizando la coma como delimitador, y almacena los elementos en una lista.\n",
    "    \n",
    "    9.Divide la cadena \"Python es un lenguaje de programación\" en palabras individuales y almacénalas en una lista.\n",
    "    \n",
    "    10.Crea una cadena en mayúsculas y luego conviértela a minúsculas.\n",
    "    \n",
    "    11.Dada la cadena \"este es un ejemplo\", convierte la primera letra en mayúscula y el resto en minúsculas.\n",
    "    \n",
    "    12.Centra la cadena \"Python\" en una longitud total de 15 caracteres con el carácter \"-\".\n",
    "    \n",
    "    13.Divide la cadena \"Uno-Dos-Tres\" en tres partes utilizando el guión como delimitador y almacénalas en una lista.\n",
    "    \n",
    "    14. Reemplaza la palabra \"rápido\" por \"veloz\" en la cadena \"El zorro es muy rápido.\".\n",
    "    \n",
    "    15.Elimina todas las letras \"a\" de la cadena \"anaranjada\"."
   ]
  },
  {
   "cell_type": "markdown",
   "id": "a5ffaee7",
   "metadata": {},
   "source": [
    "### <span style=\"color:darkblue\">Aplicando Conocimientos</span>\n",
    "\n",
    "1.\tCrear un programa de Python que permita separar todas las palabras la siguiente frase de programación: \n",
    "\n",
    "“Programación es arte y ciencia, un lenguaje que crea la realidad, una forma de dar vida a la inteligencia, y al mundo digital una identidad.”\n"
   ]
  },
  {
   "cell_type": "code",
   "execution_count": null,
   "id": "ebbcf96c",
   "metadata": {},
   "outputs": [],
   "source": []
  },
  {
   "cell_type": "markdown",
   "id": "9d21cb2b",
   "metadata": {},
   "source": [
    "Este ejercicio además nos mostrará como podemos contar los elementos de una lista. \n",
    "\n",
    "2.\tUtilizando las letras del abecedario mostrar los siguientes valores:\n",
    "\n",
    "a.\tLas primeras 10 letras \n",
    "\n",
    "b.\tLas ultimas 10 letras \n",
    "\n",
    "c.\tEl abecedario al reves\n"
   ]
  },
  {
   "cell_type": "code",
   "execution_count": 5,
   "id": "a45aa080",
   "metadata": {},
   "outputs": [
    {
     "name": "stdout",
     "output_type": "stream",
     "text": [
      "26\n",
      "zyxwvutsrqponmlkjihgfedcba\n"
     ]
    }
   ],
   "source": [
    "abecedario = 'abcdefghijklmnopqrstuvwxyz'\n",
    "print(len(abecedario))\n",
    "print(abecedario[::-1])"
   ]
  },
  {
   "cell_type": "markdown",
   "id": "6bc551e5",
   "metadata": {},
   "source": [
    "## Repaso (8 min): nombreApellidoSesion3.py\n",
    "\n",
    "1. Escribe un programa que tome el nombre de un usuario como entrada y luego lo imprima en un mensaje de bienvenida utilizando la función print(). El mensaje debe ser del siguiente formato: \"¡Hola, [nombre]! Bienvenido a nuestro programa.\"\n",
    "\n",
    "\n",
    "2. Escribe un programa que calcule el área de un triángulo a partir de su base y altura. Luego, imprime el resultado con dos decimales utilizando la función print() y la variable de formateo. \n",
    "\n",
    "\n",
    "3. Escribe un programa que solicite al usuario su nombre, edad y ciudad de residencia. Luego, imprime un mensaje que incluya esta información en un formato amigable. Utiliza la función print() y las variables de formateo.\n",
    "\n",
    "Elaborar dos tipos de impresiones diferentes de cada uno.\n"
   ]
  },
  {
   "cell_type": "code",
   "execution_count": null,
   "id": "e2713c7a",
   "metadata": {},
   "outputs": [],
   "source": []
  }
 ],
 "metadata": {
  "kernelspec": {
   "display_name": "Python 3 (ipykernel)",
   "language": "python",
   "name": "python3"
  },
  "language_info": {
   "codemirror_mode": {
    "name": "ipython",
    "version": 3
   },
   "file_extension": ".py",
   "mimetype": "text/x-python",
   "name": "python",
   "nbconvert_exporter": "python",
   "pygments_lexer": "ipython3",
   "version": "3.9.12"
  },
  "nbTranslate": {
   "displayLangs": [
    "*"
   ],
   "hotkey": "alt-t",
   "langInMainMenu": true,
   "sourceLang": "en",
   "targetLang": "fr",
   "useGoogleTranslate": true
  }
 },
 "nbformat": 4,
 "nbformat_minor": 5
}
