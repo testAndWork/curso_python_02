{
 "cells": [
  {
   "cell_type": "markdown",
   "id": "78bf82db",
   "metadata": {},
   "source": [
    "## Guía de Trabajo: Creación y Manipulación de un Archivo de Lorem Ipsum"
   ]
  },
  {
   "cell_type": "code",
   "execution_count": 2,
   "id": "eb17f138",
   "metadata": {},
   "outputs": [],
   "source": [
    "text = '''Lorem ipsum dolor sit amet, consectetur adipiscing elit.\n",
    "Praesent a ligula a ex vulputate sagittis ac at urna.\n",
    "Sed dapibus, odio vel lacinia sagittis, nisl metus cursus neque, a lacinia tellus purus quis lorem.\n",
    "Nullam eget hendrerit justo, in viverra nisi.\n",
    "Suspendisse potenti. Etiam vel ultricies elit, in congue ante.\n",
    "In hac habitasse platea dictumst. Suspendisse potenti.\n",
    "Sed vel ullamcorper libero, et scelerisque augue.\n",
    "Nulla tincidunt, ligula nec cursus bibendum, tellus libero sollicitudin lectus, nec tincidunt justo libero vel odio.\n",
    "Vestibulum ut urna eget urna posuere scelerisque sit amet vel justo.\n",
    "Nam tincidunt, nunc in hendrerit congue, tortor justo posuere metus, vel facilisis nunc elit a dolor.\n",
    "Cras at lectus sit amet ipsum gravida eleifend eu non erat.\n",
    "Fusce sagittis, nulla in fringilla consectetur, dolor turpis ullamcorper velit, ac vulputate est metus et risus.\n",
    "In a lorem vel odio dictum volutpat.\n",
    "Aenean nec congue purus, sit amet lacinia arcu.\n",
    "Sed sit amet metus non purus lacinia tempus.'''"
   ]
  },
  {
   "cell_type": "code",
   "execution_count": 4,
   "id": "3b4d3001",
   "metadata": {},
   "outputs": [],
   "source": [
    "archivo = \"lorem_ipsum.txt\"\n",
    "with open(archivo,'w') as f:\n",
    "    f.write(text)"
   ]
  },
  {
   "cell_type": "markdown",
   "id": "3f2d2fd6",
   "metadata": {},
   "source": [
    "Paso 2: Verificar el contenido\n",
    "\n",
    "    Abre el archivo \"lorem_ipsum.txt\" en tu editor de texto para asegurarte de que el contenido se haya guardado correctamente."
   ]
  },
  {
   "cell_type": "code",
   "execution_count": null,
   "id": "3e5d55c2",
   "metadata": {},
   "outputs": [],
   "source": []
  },
  {
   "cell_type": "markdown",
   "id": "39cb07e1",
   "metadata": {},
   "source": [
    "Paso 3: Leer el archivo desde Python\n",
    "\n",
    "    Abre tu entorno de desarrollo de Python.\n",
    "    Crea un script de Python para abrir y leer el contenido del archivo \"lorem_ipsum.txt\"."
   ]
  },
  {
   "cell_type": "code",
   "execution_count": null,
   "id": "0d9b925d",
   "metadata": {},
   "outputs": [],
   "source": [
    "with open(\"lorem_ipsum.txt\", \"r\") as archivo:\n",
    "    contenido = archivo.read()\n",
    "    print(contenido)\n"
   ]
  },
  {
   "cell_type": "markdown",
   "id": "1b2bbf76",
   "metadata": {},
   "source": [
    "Paso 4: Contar líneas\n",
    "\n",
    "    Modifica el script para contar la cantidad de líneas en el archivo."
   ]
  },
  {
   "cell_type": "code",
   "execution_count": null,
   "id": "bc830d32",
   "metadata": {},
   "outputs": [],
   "source": [
    "with open(\"lorem_ipsum.txt\", \"r\") as archivo:\n",
    "    lineas = archivo.readlines()\n",
    "    cantidad_lineas = len(lineas)\n",
    "    print(f\"El archivo tiene {cantidad_lineas} líneas.\")\n"
   ]
  },
  {
   "cell_type": "markdown",
   "id": "e25ba3ec",
   "metadata": {},
   "source": [
    "Paso 5: Contar palabras\n",
    "\n",
    "    Actualiza el script para contar la cantidad de palabras en el archivo."
   ]
  },
  {
   "cell_type": "code",
   "execution_count": null,
   "id": "61d9804d",
   "metadata": {},
   "outputs": [],
   "source": [
    "with open(\"lorem_ipsum.txt\", \"r\") as archivo:\n",
    "    contenido = archivo.read()\n",
    "    palabras = contenido.split()\n",
    "    cantidad_palabras = len(palabras)\n",
    "    print(f\"El archivo tiene {cantidad_palabras} palabras.\")\n"
   ]
  },
  {
   "cell_type": "markdown",
   "id": "af0d5bb0",
   "metadata": {},
   "source": [
    "Paso 6: Copiar contenido a otro archivo\n",
    "\n",
    "    Crea un nuevo archivo llamado \"copia_lorem.txt\".\n",
    "    Modifica el script para copiar el contenido del archivo \"lorem_ipsum.txt\" al archivo \"copia_lorem.txt\"."
   ]
  },
  {
   "cell_type": "code",
   "execution_count": null,
   "id": "91592e2b",
   "metadata": {},
   "outputs": [],
   "source": [
    "with open(\"lorem_ipsum.txt\", \"r\") as archivo_orig:\n",
    "    contenido = archivo_orig.read()\n",
    "    with open(\"copia_lorem.txt\", \"w\") as archivo_copia:\n",
    "        archivo_copia.write(contenido)\n"
   ]
  },
  {
   "cell_type": "markdown",
   "id": "4a20caca",
   "metadata": {},
   "source": [
    "Paso 7: Buscar una palabra en el archivo\n",
    "\n",
    "    Modifica el script para buscar una palabra específica en el archivo. Por ejemplo, busca la palabra \"Lorem\"."
   ]
  },
  {
   "cell_type": "code",
   "execution_count": null,
   "id": "129c5911",
   "metadata": {},
   "outputs": [],
   "source": [
    "palabra_buscar = \"Lorem\"\n",
    "with open(\"lorem_ipsum.txt\", \"r\") as archivo:\n",
    "    contenido = archivo.read()\n",
    "    if palabra_buscar in contenido:\n",
    "        print(f\"La palabra '{palabra_buscar}' se encuentra en el archivo.\")\n",
    "    else:\n",
    "        print(f\"La palabra '{palabra_buscar}' no se encuentra en el archivo.\")\n"
   ]
  },
  {
   "cell_type": "markdown",
   "id": "7f14d9ab",
   "metadata": {},
   "source": [
    "Paso 8: Reemplazar una palabra en el archivo\n",
    "\n",
    "    Modifica el script para reemplazar una palabra específica en el archivo por otra palabra. Por ejemplo, reemplaza \"Lorem\" por \"Python\"."
   ]
  },
  {
   "cell_type": "code",
   "execution_count": null,
   "id": "d801cad7",
   "metadata": {},
   "outputs": [],
   "source": [
    "palabra_a_reemplazar = \"Lorem\"\n",
    "palabra_nueva = \"Python\"\n",
    "with open(\"lorem_ipsum.txt\", \"r\") as archivo:\n",
    "    contenido = archivo.read()\n",
    "contenido_modificado = contenido.replace(palabra_a_reemplazar, palabra_nueva)\n",
    "with open(\"lorem_ipsum.txt\", \"w\") as archivo:\n",
    "    archivo.write(contenido_modificado)\n"
   ]
  },
  {
   "cell_type": "markdown",
   "id": "8532fb34",
   "metadata": {},
   "source": [
    "Paso 9: Contar ocurrencias de una palabra\n",
    "\n",
    "    Modifica el script para contar cuántas veces aparece una palabra específica en el archivo. Por ejemplo, cuenta cuántas veces aparece la palabra \"el\"."
   ]
  },
  {
   "cell_type": "code",
   "execution_count": null,
   "id": "f21b1eb1",
   "metadata": {},
   "outputs": [],
   "source": [
    "palabra_a_contar = \"el\"\n",
    "with open(\"lorem_ipsum.txt\", \"r\") as archivo:\n",
    "    contenido = archivo.read()\n",
    "    cantidad_ocurrencias = contenido.count(palabra_a_contar)\n",
    "    print(f\"La palabra '{palabra_a_contar}' aparece {cantidad_ocurrencias} veces en el archivo.\")\n"
   ]
  },
  {
   "cell_type": "markdown",
   "id": "4c9e9631",
   "metadata": {},
   "source": [
    "Paso 10: Agregar contenido al archivo\n",
    "\n",
    "    Modifica el script para agregar contenido adicional al final del archivo \"lorem_ipsum.txt\"."
   ]
  },
  {
   "cell_type": "code",
   "execution_count": null,
   "id": "44e72ae2",
   "metadata": {},
   "outputs": [],
   "source": [
    "contenido_adicional = \"\\nEste es un párrafo adicional al final del archivo.\"\n",
    "with open(\"lorem_ipsum.txt\", \"a\") as archivo:\n",
    "    archivo.write(contenido_adicional)\n"
   ]
  },
  {
   "cell_type": "code",
   "execution_count": null,
   "id": "c922428b",
   "metadata": {},
   "outputs": [],
   "source": []
  }
 ],
 "metadata": {
  "kernelspec": {
   "display_name": "Python 3 (ipykernel)",
   "language": "python",
   "name": "python3"
  },
  "language_info": {
   "codemirror_mode": {
    "name": "ipython",
    "version": 3
   },
   "file_extension": ".py",
   "mimetype": "text/x-python",
   "name": "python",
   "nbconvert_exporter": "python",
   "pygments_lexer": "ipython3",
   "version": "3.11.4"
  },
  "nbTranslate": {
   "displayLangs": [
    "*"
   ],
   "hotkey": "alt-t",
   "langInMainMenu": true,
   "sourceLang": "en",
   "targetLang": "fr",
   "useGoogleTranslate": true
  }
 },
 "nbformat": 4,
 "nbformat_minor": 5
}
