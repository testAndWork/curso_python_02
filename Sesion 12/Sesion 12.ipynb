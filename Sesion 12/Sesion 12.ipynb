{
 "cells": [
  {
   "cell_type": "markdown",
   "id": "9c8c537c",
   "metadata": {},
   "source": [
    "# <span style=\"color:darkblue\">Módulo 1 - Introducción a la programación con Python </span>\n",
    "\n",
    "## <span style=\"color:darkblue\">Sesión 12 - Manejo de archivos en Python</span>\n",
    "\n",
    "### <span style=\"color:darkblue\">Duración estimada:\t3 horas</span>"
   ]
  },
  {
   "cell_type": "markdown",
   "id": "42a8be22",
   "metadata": {},
   "source": [
    "## <span style=\"color:darkblue\"> Tabla de contenidos:</span>\n",
    " \n",
    "    1- Bienvenida\n",
    "    \n",
    "    2- Asistencia\n",
    "    \n",
    "    3- Dudas de la Clase anterior\n",
    "    \n",
    "    4- Control de Lectura\n",
    "    \n",
    "    5- Objetivo\n",
    "    \n",
    "    6- Introducción\n",
    "    \n",
    "    7- Aprendamos\n",
    "\n",
    "    8- Manejo de archivos\t\n",
    "    \n",
    "    9- Sintaxis\t\n",
    "    \n",
    "    10- Abrir un archivo para lectura\t\n",
    "    \n",
    "    11- Solo lectura de partes del archivo\t\n",
    "\n",
    "    12- Leer líneas\t\n",
    "\n",
    "    13- Cerrar archivos\t\n",
    "   \n",
    "    14- Escritura de archivo de Python\t\n",
    "    \n",
    "    15- Crear un nuevo archivo\t\n",
    "    \n",
    "    16- Eliminar un archivo\t\n",
    "    \n",
    "    17- Compruebe si existe el archivo\t\n",
    "    \n",
    "    20- Eliminar carpeta\n",
    "    \n",
    "    21- Aplicando Conocimientos\t\n",
    "\n",
    "    22- Retroalimentación\n",
    "    \n",
    "    23- Asistencia\n"
   ]
  },
  {
   "cell_type": "markdown",
   "id": "51ae1b4d",
   "metadata": {},
   "source": [
    "## <span style=\"color:darkred\">Objetivo:</span>\n",
    "\n",
    "Aprender a manejar archivos en Python para poder leer, escribir y manipular datos almacenados en archivos en el sistema de archivos de la computadora.\n",
    "\n",
    "### <span style=\"color:darkred\">Recursos</span>\n",
    "\n",
    "•\tSesión 12 uso de archivos\n",
    "\n",
    "•\tComputadora con Python instalado\n",
    "\n",
    "•\tVisual Studio Code instalado\n",
    "\n",
    "\n",
    "\n",
    "\n",
    "### <span style=\"color:darkred\">Introducción:</span>\n",
    "\n",
    "Los archivos son una forma común de almacenar información, y aprender a manipularlos en Python es fundamental para muchos tipos de aplicaciones, como la lectura de datos de entrada, el procesamiento de archivos de texto, la escritura de archivos de salida, el acceso a bases de datos y mucho más.\n",
    "\n",
    "En Python, puedes manejar diferentes tipos de archivos, como archivos de texto, archivos binarios, archivos CSV (valores separados por comas), archivos JSON, archivos XML, y más. \n",
    "\n",
    "El manejo de archivos en Python también implica abrir y cerrar archivos, leer y escribir datos en los archivos, trabajar con diferentes modos de archivo y utilizar los diferentes métodos disponibles en Python para manipular archivos.\n",
    "\n",
    "\n",
    "\n",
    "### <span style=\"color:darkred\">Aprendamos </span>\n",
    "\n",
    "El manejo de archivos es una parte importante de cualquier aplicación de Python, este tiene varias funciones para crear, leer, actualizar y eliminar archivos.\n",
    "\n",
    "\n",
    "•\tLeer datos desde archivos de entrada y procesarlos: Puedes abrir y leer archivos de entrada para obtener información que luego puedes utilizar en tu programa.\n",
    "\n",
    "•\tEscribir datos en archivos de salida: Puedes crear archivos de salida y escribir información en ellos. Esto puede ser útil para generar informes o archivos que contengan datos de salida de tu programa.\n",
    "\n",
    "•\tManipular datos en archivos existentes: Puedes abrir un archivo existente y manipular su contenido, como buscar y reemplazar texto, agregar o eliminar contenido, y reorganizar información.\n",
    "\n",
    "•\tAcceder a datos en bases de datos: Puedes conectarte a bases de datos y leer o escribir datos en ellas.\n",
    "\n",
    "Esto es importante en muchos contextos empresariales.\n",
    "\n",
    "\n",
    "\n",
    "### <span style=\"color:darkred\">Manejo de Archivos </span>\n",
    "\n",
    "La función clave para trabajar con archivos en Python es la función `open( )`.\n",
    "\n",
    "La función `open( )` toma dos parámetros; nombre de archivo y modo .\n",
    "\n",
    "<table>\n",
    "    <tr>\n",
    "        <th>Modo</th>\n",
    "        <th>Descripción</th>\n",
    "    </tr>\n",
    "    <tr>\n",
    "        <td>'r'</td>\n",
    "        <td>Modo de lectura (por defecto). Abre un archivo para leerlo. Genera un error si el archivo no existe.</td>\n",
    "    </tr>\n",
    "    <tr>\n",
    "        <td>'w'</td>\n",
    "        <td>Modo de escritura. Abre un archivo para escribir en él. Si el archivo no existe, se crea. Si el archivo ya existe, se sobrescribe.</td>\n",
    "    </tr>\n",
    "    <tr>\n",
    "        <td>'a'</td>\n",
    "        <td>Modo de agregado. Abre un archivo para agregar datos al final del archivo. Si el archivo no existe, se crea.</td>\n",
    "    </tr>\n",
    "    <tr>\n",
    "        <td>'x'</td>\n",
    "        <td>Modo de creación exclusiva. Abre un archivo para escritura, pero solo si el archivo no existe.</td>\n",
    "    </tr>\n",
    "    <tr>\n",
    "        <td>'b'</td>\n",
    "        <td>Modo binario. Abre un archivo en modo binario.</td>\n",
    "    </tr>\n",
    "    <tr>\n",
    "        <td>'t'</td>\n",
    "        <td>Modo de texto (por defecto). Abre un archivo en modo de texto.</td>\n",
    "    </tr>\n",
    "    <tr>\n",
    "        <td>'+'</td>\n",
    "        <td>Modo de actualización. Abre un archivo para actualización (lectura y escritura).</td>\n",
    "    </tr>\n",
    "</table>\n",
    "\n",
    "\n",
    "En Python, estos modos se combinan entre sí para obtener diferentes opciones de apertura de archivos. \n",
    "\n",
    "Por ejemplo, el modo `\"rb\"` se utiliza para abrir un archivo en modo binario de solo lectura, mientras que el modo `\"w+\"` se utiliza para abrir un archivo en modo de escritura y lectura simultáneamente, creando el archivo si no existe.\n",
    "\n",
    "\n",
    "### <span style=\"color:darkred\">Sintaxis</span>\n",
    "    \n",
    "Para abrir un archivo para leerlo, basta con especificar el nombre del archivo:\n",
    "\n"
   ]
  },
  {
   "cell_type": "code",
   "execution_count": null,
   "id": "249e15cb",
   "metadata": {},
   "outputs": [],
   "source": []
  },
  {
   "cell_type": "markdown",
   "id": "c858c6b6",
   "metadata": {},
   "source": [
    "El código anterior es el mismo que:"
   ]
  },
  {
   "cell_type": "code",
   "execution_count": null,
   "id": "55fe4118",
   "metadata": {},
   "outputs": [],
   "source": []
  },
  {
   "cell_type": "markdown",
   "id": "ff03c0e8",
   "metadata": {},
   "source": [
    "Debido `\"r\"` a que para leer y `\"t\"` para texto son los valores predeterminados, no necesita especificarlos. \n",
    "\n",
    "#### Nota: \n",
    "asegúrese de que el archivo exista, de lo contrario obtendrá un error.\n",
    "\n",
    "### <span style=\"color:darkred\">Abrir un archivo para lectura</span>\n",
    "\n",
    "Supongamos que tenemos el siguiente archivo, ubicado en la misma carpeta que Python:\n",
    "`lorem.txt`\n",
    "\n",
    "Para abrir el archivo, use la función incorporada `open().`\n",
    "\n",
    "La función `open()` devuelve un objeto de archivo, que tiene un método `read()` para leer el contenido del archivo:\n"
   ]
  },
  {
   "cell_type": "markdown",
   "id": "81a2712c",
   "metadata": {},
   "source": [
    "Como puedes ver en el ejemplo anterior, imprimí el archivo abierto y proporcionó información sobre él. \n",
    "\n",
    "El archivo abierto tiene diferentes métodos de lectura:` read()`, readline y readlines. \n",
    "\n",
    "Un archivo abierto debe cerrarse con el método `close()`.\n",
    "\n",
    "`read()`: lee todo el texto como una cadena de caracteres. Si queremos limitar el número de caracteres que queremos leer, podemos hacerlo pasando un valor entero al método `read(numero)`."
   ]
  },
  {
   "cell_type": "code",
   "execution_count": null,
   "id": "fa549aad",
   "metadata": {},
   "outputs": [],
   "source": []
  },
  {
   "cell_type": "markdown",
   "id": "e0415651",
   "metadata": {},
   "source": [
    "### <span style=\"color:darkred\">Solo lectura de partes del archivo</span>\n",
    "    \n",
    "De forma predeterminada, el método read() devuelve el texto completo, pero también puede especificar cuántos caracteres desea devolver:\n",
    "\n",
    "Ejemplo: Devuelve los 5 primeros caracteres del archivo:\n"
   ]
  },
  {
   "cell_type": "code",
   "execution_count": null,
   "id": "5c13e7ac",
   "metadata": {},
   "outputs": [],
   "source": []
  },
  {
   "cell_type": "markdown",
   "id": "bd6078fb",
   "metadata": {},
   "source": [
    "En lugar de imprimir todo el texto, vamos a imprimir los primeros 10 caracteres del archivo de texto."
   ]
  },
  {
   "cell_type": "code",
   "execution_count": null,
   "id": "6958a009",
   "metadata": {},
   "outputs": [],
   "source": []
  },
  {
   "cell_type": "markdown",
   "id": "ef41f9e0",
   "metadata": {},
   "source": [
    "### <span style=\"color:darkred\">Leer Líneas</span>\n",
    "    \n",
    "Puede devolver una línea usando el método `readline()`:\n",
    "Ejemplo: Lea una línea del archivo:\n"
   ]
  },
  {
   "cell_type": "code",
   "execution_count": null,
   "id": "4ab70d2b",
   "metadata": {},
   "outputs": [],
   "source": []
  },
  {
   "cell_type": "markdown",
   "id": "e22869ae",
   "metadata": {},
   "source": [
    "`readlines()`: Lee todo el texto línea por línea y devuelve una lista de líneas."
   ]
  },
  {
   "cell_type": "code",
   "execution_count": null,
   "id": "4686c683",
   "metadata": {},
   "outputs": [],
   "source": []
  },
  {
   "cell_type": "markdown",
   "id": "abb3551c",
   "metadata": {},
   "source": [
    "### <span style=\"color:darkred\">Cerrar archivos</span>\n",
    "    \n",
    "Puede devolver una línea usando el método `readline()`:\n",
    "Ejemplo: Lea una línea del archivo:"
   ]
  },
  {
   "cell_type": "code",
   "execution_count": null,
   "id": "f3f14564",
   "metadata": {},
   "outputs": [],
   "source": []
  },
  {
   "cell_type": "markdown",
   "id": "1c5c8a2c",
   "metadata": {},
   "source": [
    "Otra forma de obtener todas las líneas como una lista es utilizando `splitlines()`:"
   ]
  },
  {
   "cell_type": "code",
   "execution_count": null,
   "id": "018a46bc",
   "metadata": {},
   "outputs": [],
   "source": []
  },
  {
   "cell_type": "markdown",
   "id": "7f6cb560",
   "metadata": {},
   "source": [
    "### <span style=\"color:darkred\">Escritura de archivo de Python</span>\n",
    "    \n",
    "Para escribir en un archivo existente, debe agregar un parámetro a la función open():\n",
    "\n",
    "•\t\"a\"- Agregar: se agregará al final del archivo\n",
    "\n",
    "\n",
    "•\t\"w\"- Escribir: sobrescribirá cualquier contenido existente\n"
   ]
  },
  {
   "cell_type": "code",
   "execution_count": null,
   "id": "087cdf1e",
   "metadata": {},
   "outputs": [],
   "source": []
  },
  {
   "cell_type": "markdown",
   "id": "b45fe361",
   "metadata": {},
   "source": [
    "### <span style=\"color:darkred\">Crear un nuevo archivo</span>\n",
    "\n",
    "Para crear un nuevo archivo en Python, use el método open(), con uno de los siguientes parámetros:\n",
    "\n",
    "•\t\"x\"- Create - creará un archivo, devuelve un error si el archivo existe\n",
    "\n",
    "•\t\"a\"- Agregar: creará un archivo si el archivo especificado no existe\n",
    "\n",
    "•\t\"w\"- Escribir: creará un archivo si el archivo especificado no existe\n",
    "\n",
    "\n",
    "Ejemplo: cree un archivo llamado \"myfile.txt\":\n"
   ]
  },
  {
   "cell_type": "code",
   "execution_count": null,
   "id": "95554e9d",
   "metadata": {},
   "outputs": [],
   "source": []
  },
  {
   "cell_type": "markdown",
   "id": "72fb98f6",
   "metadata": {},
   "source": [
    "Resultado: ¡se crea un nuevo archivo vacío!\n",
    "    \n",
    "Ejemplo: Cree un nuevo archivo si no existe:\n"
   ]
  },
  {
   "cell_type": "code",
   "execution_count": null,
   "id": "c19d40b3",
   "metadata": {},
   "outputs": [],
   "source": []
  },
  {
   "cell_type": "markdown",
   "id": "d6c8f3b1",
   "metadata": {},
   "source": [
    "### <span style=\"color:darkred\">Eliminar un archivo</span>\n",
    "\n",
    "Para eliminar un archivo, debe importar el módulo del sistema operativo y ejecutar su función `os.remove( )`:\n",
    "\n",
    "Ejemplo: Elimina el archivo` \"demofile.txt\"`:\n"
   ]
  },
  {
   "cell_type": "code",
   "execution_count": null,
   "id": "2e492e2e",
   "metadata": {},
   "outputs": [],
   "source": []
  },
  {
   "cell_type": "markdown",
   "id": "3f39d49d",
   "metadata": {},
   "source": [
    "### <span style=\"color:darkred\">Compruebe si existe el archivos</span>\n",
    "Para evitar recibir un error, es posible que desee verificar si el archivo existe antes de intentar eliminarlo:\n",
    "\n",
    "Ejemplo: Verifique si el archivo existe, luego elimínelo:\n"
   ]
  },
  {
   "cell_type": "code",
   "execution_count": null,
   "id": "65317b96",
   "metadata": {},
   "outputs": [],
   "source": []
  },
  {
   "cell_type": "markdown",
   "id": "16d1f0fc",
   "metadata": {},
   "source": [
    "### <span style=\"color:darkred\">Eliminar carpeta</span>\n",
    "\n",
    "Para eliminar una carpeta completa, utilice el método `os.rmdir()`:\n",
    "\n",
    "Ejemplo: Eliminar la carpeta \"borrame\":\n"
   ]
  },
  {
   "cell_type": "code",
   "execution_count": null,
   "id": "fcb8b355",
   "metadata": {},
   "outputs": [],
   "source": []
  },
  {
   "cell_type": "markdown",
   "id": "2ef05e9c",
   "metadata": {},
   "source": [
    "### Tipos de Archivos\n",
    "### Archivo con extensión txt\n",
    "\n",
    "El archivo con extensión txt es una forma muy común de datos y lo hemos mencionado en la sección anterior. Ahora pasemos al archivo JSON.\n",
    "Archivo con extensión json\n",
    "\n",
    "`JSON` significa JavaScript Object Notation (Notación de Objetos de JavaScript). En realidad, es un objeto JavaScript o un diccionario de Python convertido en una cadena de caracteres.\n",
    "\n",
    "Ejemplo:"
   ]
  },
  {
   "cell_type": "code",
   "execution_count": null,
   "id": "5e92c1e6",
   "metadata": {},
   "outputs": [],
   "source": []
  },
  {
   "cell_type": "markdown",
   "id": "4a508e90",
   "metadata": {},
   "source": [
    "### Convirtiendo un JSON a un diccionario\n",
    "\n",
    "Para convertir un JSON en un diccionario, primero importamos el módulo json y luego utilizamos el método loads."
   ]
  },
  {
   "cell_type": "markdown",
   "id": "7509ef0a",
   "metadata": {},
   "source": [
    "### Convertir un JSON a Diccionario"
   ]
  },
  {
   "cell_type": "code",
   "execution_count": null,
   "id": "474946f8",
   "metadata": {},
   "outputs": [],
   "source": []
  },
  {
   "cell_type": "markdown",
   "id": "4cd81b27",
   "metadata": {},
   "source": [
    "### Guardar un archivo JSON\n",
    "\n",
    "También podemos guardar nuestros datos como un archivo JSON. Vamos a guardarlo como un archivo JSON siguiendo los siguientes pasos. Para escribir un archivo JSON, utilizamos el método json.dump(). Este método puede recibir como argumentos un diccionario, el archivo de salida, ensure_ascii e indent.\n",
    "\n",
    "Aquí tienes un ejemplo de cómo guardar datos como un archivo JSON:"
   ]
  },
  {
   "cell_type": "code",
   "execution_count": null,
   "id": "4cf74f2d",
   "metadata": {},
   "outputs": [],
   "source": []
  },
  {
   "cell_type": "markdown",
   "id": "e9d724e1",
   "metadata": {},
   "source": [
    "### Archivo con extensión csv\n",
    "\n",
    "CSV significa valores separados por comas (Comma Separated Values). CSV es un formato de archivo simple utilizado para almacenar datos tabulares, como una hoja de cálculo o una base de datos. CSV es un formato de datos muy común en ciencia de datos.\n",
    "\n",
    "Ejemplo:"
   ]
  },
  {
   "cell_type": "code",
   "execution_count": 76,
   "id": "9a823a2d",
   "metadata": {},
   "outputs": [],
   "source": [
    "import csv"
   ]
  },
  {
   "cell_type": "code",
   "execution_count": null,
   "id": "ce32a15f",
   "metadata": {},
   "outputs": [],
   "source": []
  },
  {
   "cell_type": "markdown",
   "id": "9ed5ba7a",
   "metadata": {},
   "source": [
    "### Ejemplo : Leer y crear un archivo CSV"
   ]
  },
  {
   "cell_type": "code",
   "execution_count": 80,
   "id": "37a8a7f9",
   "metadata": {},
   "outputs": [],
   "source": [
    "import pandas as pd\n",
    "\n",
    "data_frame = pd.read_csv('auto-mpg.csv')"
   ]
  },
  {
   "cell_type": "markdown",
   "id": "2c06428b",
   "metadata": {},
   "source": [
    "## Ejemplo: Archivos Pickle\n",
    "\n"
   ]
  },
  {
   "cell_type": "code",
   "execution_count": null,
   "id": "6bd0b3a8",
   "metadata": {},
   "outputs": [],
   "source": []
  }
 ],
 "metadata": {
  "kernelspec": {
   "display_name": "Python 3 (ipykernel)",
   "language": "python",
   "name": "python3"
  },
  "language_info": {
   "codemirror_mode": {
    "name": "ipython",
    "version": 3
   },
   "file_extension": ".py",
   "mimetype": "text/x-python",
   "name": "python",
   "nbconvert_exporter": "python",
   "pygments_lexer": "ipython3",
   "version": "3.11.4"
  },
  "nbTranslate": {
   "displayLangs": [
    "*"
   ],
   "hotkey": "alt-t",
   "langInMainMenu": true,
   "sourceLang": "en",
   "targetLang": "fr",
   "useGoogleTranslate": true
  }
 },
 "nbformat": 4,
 "nbformat_minor": 5
}
