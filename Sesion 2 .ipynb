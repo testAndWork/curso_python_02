{
 "cells": [
  {
   "cell_type": "markdown",
   "id": "9c8c537c",
   "metadata": {},
   "source": [
    "\n",
    "\n",
    "# <span style=\"color:darkblue\">Módulo 1 - Introducción a la programación con Python </span>\n",
    "\n",
    "## <span style=\"color:darkblue\">Sesión:\tSesión 2 - Características generales de Python Sintaxis</span>\n",
    "\n",
    "### <span style=\"color:darkblue\">Duración estimada:\t4 horas</span>\n",
    "\n",
    "#### <span style=\"color:darkblue\">En marco del proyecto: “EMPLEO JOVEN ES”</span>"
   ]
  },
  {
   "cell_type": "markdown",
   "id": "42a8be22",
   "metadata": {},
   "source": [
    "## <span style=\"color:darkblue\"> Tabla de contenidos:\n",
    " \n",
    "    1- Bienvenida\n",
    "    \n",
    "    2- Asistencia\n",
    "    \n",
    "    3- Dudas de la Clase anterior\n",
    "    \n",
    "    4- Control de Lectura\n",
    "    \n",
    "    5- Objetivo\n",
    "    \n",
    "    6- Introducción\n",
    "    \n",
    "    7- Funciones Integradas\n",
    "    \n",
    "    8- Variables \n",
    "    \n",
    "    9- Control de lectura\n",
    "    \n",
    "    10-Función Print()\n",
    "    \n",
    "    12-Control de lectura\n",
    "    \n",
    "    13- Comentarios\n",
    "    \n",
    "    14-Asistencia\n",
    "    \n",
    "    15 - Tarea\n",
    "</span>"
   ]
  },
  {
   "cell_type": "markdown",
   "id": "51ae1b4d",
   "metadata": {},
   "source": [
    "## Objetivo:\n",
    "Comprender las reglas y convenciones que se utilizan para escribir programas del lenguaje de programación de Python, aprender estas características generales de Python te ayudará a escribir código Python de manera más efectiva y a comprender mejor los programas Python escritos por otros programadores.\n",
    "\n",
    "### Recursos\n",
    "\n",
    "•\tSesión 2 de Curso de Python\n",
    "\n",
    "•\tAcceso a internet\n",
    "\n",
    "•\tPython Instalado en computadora\n",
    "\n",
    "•\tVisual Studio Code\n",
    "\n",
    "### Introducción:\n",
    "Es importante comprender algunas de las características generales de la sintaxis de Python para poder dominarlo en primer lugar, Python utiliza la indentación para definir bloques de código, lo que significa que la forma en que se estructura el código es crucial para su correcta ejecución. \n",
    "\n",
    "Además, Python tiene una gran cantidad de tipos de datos incorporados, como números, cadenas de texto y listas, lo que lo hace versátil y adecuado para una amplia variedad de aplicaciones.\n",
    "\n",
    "Otras características importantes incluyen el uso de estructuras de control de flujo como if/else y bucles for/while, el uso de funciones para organizar y reutilizar el código, y el uso de módulos para importar funcionalidad de otros archivos de Python. \n",
    "\n",
    "Por último, Python tiene una sólida gestión de excepciones, lo que permite manejar errores y problemas de manera efectiva en tiempo de ejecución.\n",
    "\n",
    "### La línea de comandos de Python\n",
    "\n",
    "Para probar una pequeña cantidad de código en python, a veces es más rápido y fácil no escribir el código en un archivo. Esto es posible porque Python se puede ejecutar como una línea de comando.\n",
    "\n",
    "Escriba lo siguiente en la línea de comandos:\n",
    "\n",
    "<img src=\"./images/01.png\" alt=\"\">\n",
    "\n",
    "Que escribirá \"¡Hola, mundo!\" en la línea de comando:\n",
    "\n",
    "<img src=\"./images/02.png\" alt=\"\">\n",
    "\n",
    "Esa es una forma fácil de trabajar código rápido de Python desde la consola. Recordemos que en nuestro curso trabajaremos con Visual Studio Code y debido a ello tendremos en cuenta el tener una carpeta donde almacenaremos nuestro código. \n"
   ]
  },
  {
   "cell_type": "code",
   "execution_count": 1,
   "id": "f764b708",
   "metadata": {},
   "outputs": [
    {
     "name": "stdout",
     "output_type": "stream",
     "text": [
      "Hola mundo\n"
     ]
    }
   ],
   "source": [
    " print('Hola mundo')"
   ]
  },
  {
   "cell_type": "code",
   "execution_count": 3,
   "id": "a9bd0e88",
   "metadata": {
    "scrolled": true
   },
   "outputs": [
    {
     "data": {
      "text/plain": [
       "30"
      ]
     },
     "execution_count": 3,
     "metadata": {},
     "output_type": "execute_result"
    }
   ],
   "source": [
    "resultado = max(17,15, 18, 30, 20)\n",
    "resultado"
   ]
  },
  {
   "cell_type": "code",
   "execution_count": 5,
   "id": "dfb7566a",
   "metadata": {},
   "outputs": [
    {
     "name": "stdout",
     "output_type": "stream",
     "text": [
      "EL número máximo es:  30\n"
     ]
    }
   ],
   "source": [
    "# Forma de mostrar datos en un IDE , en consola , (VScode)\n",
    "print('EL número máximo es: ',resultado)"
   ]
  },
  {
   "cell_type": "code",
   "execution_count": 7,
   "id": "a04f0cd8",
   "metadata": {},
   "outputs": [
    {
     "data": {
      "text/plain": [
       "37.76"
      ]
     },
     "execution_count": 7,
     "metadata": {},
     "output_type": "execute_result"
    }
   ],
   "source": [
    "temperatura =  37.7634857634\n",
    "temperatura = round(temperatura, 2)\n",
    "temperatura"
   ]
  },
  {
   "cell_type": "markdown",
   "id": "a50ce0e9",
   "metadata": {},
   "source": [
    "### <span style=\"color:darkred\">Python como calculadora</span>"
   ]
  },
  {
   "cell_type": "code",
   "execution_count": 8,
   "id": "59e7d838",
   "metadata": {},
   "outputs": [
    {
     "data": {
      "text/plain": [
       "7"
      ]
     },
     "execution_count": 8,
     "metadata": {},
     "output_type": "execute_result"
    }
   ],
   "source": [
    "3 + 4"
   ]
  },
  {
   "cell_type": "code",
   "execution_count": 9,
   "id": "38c4b8c0",
   "metadata": {},
   "outputs": [
    {
     "data": {
      "text/plain": [
       "0.5"
      ]
     },
     "execution_count": 9,
     "metadata": {},
     "output_type": "execute_result"
    }
   ],
   "source": [
    "3/6 "
   ]
  },
  {
   "cell_type": "code",
   "execution_count": 10,
   "id": "a6657393",
   "metadata": {},
   "outputs": [
    {
     "data": {
      "text/plain": [
       "2.0"
      ]
     },
     "execution_count": 10,
     "metadata": {},
     "output_type": "execute_result"
    }
   ],
   "source": [
    "10/5"
   ]
  },
  {
   "cell_type": "markdown",
   "id": "832fb1da",
   "metadata": {},
   "source": [
    "### <span style=\"color:darkred\">Built-in Functions - Funciones Integradas</span>\n",
    "\n",
    "En Python tenemos muchas funciones integradas. Las funciones integradas están disponibles globalmente para que las uses sin importar módulos ni ninguna configuración adicional. Algunas de las funciones integradas más comunes son:\n",
    "\n",
    "```print(), len(), type(), int(), float(), str(), input(), list(), dict(), min(), max(), sum(), sorted(), open(), file(), help(), and dir().```\n",
    "\n",
    "<img src=\"./images/04.png\" alt=\"\">"
   ]
  },
  {
   "cell_type": "markdown",
   "id": "5a95528e",
   "metadata": {},
   "source": [
    "## `print(  )`"
   ]
  },
  {
   "cell_type": "code",
   "execution_count": 11,
   "id": "fe5215da",
   "metadata": {},
   "outputs": [
    {
     "name": "stdout",
     "output_type": "stream",
     "text": [
      "Esto imprime algo\n"
     ]
    }
   ],
   "source": [
    "#función para imprimir un mensaje en consola\n",
    "print(\"Esto imprime algo\")"
   ]
  },
  {
   "cell_type": "code",
   "execution_count": 12,
   "id": "6c34076d",
   "metadata": {},
   "outputs": [
    {
     "name": "stdout",
     "output_type": "stream",
     "text": [
      "Esto imprime algo\n"
     ]
    }
   ],
   "source": [
    "print('Esto imprime algo')"
   ]
  },
  {
   "cell_type": "code",
   "execution_count": 13,
   "id": "aee21dcc",
   "metadata": {},
   "outputs": [
    {
     "name": "stdout",
     "output_type": "stream",
     "text": [
      "Mi nombre es:  john Snow mi edad es:  37\n"
     ]
    }
   ],
   "source": [
    "name = 'john Snow'\n",
    "age = 37\n",
    "\n",
    "print('Mi nombre es: ',name, 'mi edad es: ',age)"
   ]
  },
  {
   "cell_type": "markdown",
   "id": "e708f603",
   "metadata": {},
   "source": [
    "## `len( )`"
   ]
  },
  {
   "cell_type": "code",
   "execution_count": 16,
   "id": "fda041de",
   "metadata": {},
   "outputs": [
    {
     "name": "stdout",
     "output_type": "stream",
     "text": [
      "La longitud de del nombre es:  9\n"
     ]
    }
   ],
   "source": [
    "# len() -> me muestra la longitud de una cadena de caracteres\n",
    "\n",
    "message = 'Buenas tardes, este es una cadena de caractyeres muy larga'\n",
    "\n",
    "len(message)\n",
    "\n",
    "print('La longitud de del nombre es: ',len(name))"
   ]
  },
  {
   "cell_type": "code",
   "execution_count": 20,
   "id": "c7438621",
   "metadata": {},
   "outputs": [
    {
     "data": {
      "text/plain": [
       "'n'"
      ]
     },
     "execution_count": 20,
     "metadata": {},
     "output_type": "execute_result"
    }
   ],
   "source": [
    "#nos muestra un error por que no tienen indicadores de posición \n",
    "#len(5) \n",
    "\n",
    "name[3]"
   ]
  },
  {
   "cell_type": "markdown",
   "id": "065d6c15",
   "metadata": {},
   "source": [
    "### Práctica: (3 minutos)\n",
    "\n",
    "1- Definir una variable `nombre` que guarde el nombre de ustedes, `edad` que almacene la edad.\n",
    "\n",
    "2- Imprimir `print('Mi nombre es', nombre, 'y mi edad es :',edad)`\n",
    "\n",
    "3- encuentre la longitud de la variable `nombre`.\n"
   ]
  },
  {
   "cell_type": "markdown",
   "id": "7f83203a",
   "metadata": {},
   "source": [
    "## `type( )`"
   ]
  },
  {
   "cell_type": "code",
   "execution_count": 21,
   "id": "58aeedf9",
   "metadata": {},
   "outputs": [
    {
     "data": {
      "text/plain": [
       "int"
      ]
     },
     "execution_count": 21,
     "metadata": {},
     "output_type": "execute_result"
    }
   ],
   "source": [
    "valor = 23\n",
    "type(valor)"
   ]
  },
  {
   "cell_type": "code",
   "execution_count": 22,
   "id": "cdc600f6",
   "metadata": {},
   "outputs": [
    {
     "name": "stdout",
     "output_type": "stream",
     "text": [
      "<class 'int'>\n"
     ]
    }
   ],
   "source": [
    "print(type(valor))"
   ]
  },
  {
   "cell_type": "code",
   "execution_count": 23,
   "id": "a6b4dad9",
   "metadata": {},
   "outputs": [
    {
     "data": {
      "text/plain": [
       "str"
      ]
     },
     "execution_count": 23,
     "metadata": {},
     "output_type": "execute_result"
    }
   ],
   "source": [
    "message = 'hola'\n",
    "type(message)"
   ]
  },
  {
   "cell_type": "code",
   "execution_count": 24,
   "id": "a572168d",
   "metadata": {},
   "outputs": [
    {
     "name": "stdout",
     "output_type": "stream",
     "text": [
      "<class 'str'>\n"
     ]
    }
   ],
   "source": [
    "print(type(message))"
   ]
  },
  {
   "cell_type": "markdown",
   "id": "e174d446",
   "metadata": {},
   "source": [
    "## ` float( ) , int( ), str( )`"
   ]
  },
  {
   "cell_type": "code",
   "execution_count": 26,
   "id": "a1119c15",
   "metadata": {},
   "outputs": [
    {
     "data": {
      "text/plain": [
       "str"
      ]
     },
     "execution_count": 26,
     "metadata": {},
     "output_type": "execute_result"
    }
   ],
   "source": [
    "valueCadena = '2345'\n",
    "type(valueCadena)"
   ]
  },
  {
   "cell_type": "code",
   "execution_count": 29,
   "id": "6ba12811",
   "metadata": {},
   "outputs": [
    {
     "data": {
      "text/plain": [
       "int"
      ]
     },
     "execution_count": 29,
     "metadata": {},
     "output_type": "execute_result"
    }
   ],
   "source": [
    "# Casteando a tipo entero\n",
    "valueCadena = int(valueCadena)\n",
    "\n",
    "type(valueCadena)"
   ]
  },
  {
   "cell_type": "code",
   "execution_count": 34,
   "id": "3f15ba85",
   "metadata": {},
   "outputs": [
    {
     "data": {
      "text/plain": [
       "(int, 23)"
      ]
     },
     "execution_count": 34,
     "metadata": {},
     "output_type": "execute_result"
    }
   ],
   "source": [
    "intValue = 23\n",
    "type(intValue), intValue"
   ]
  },
  {
   "cell_type": "code",
   "execution_count": 33,
   "id": "176be9b1",
   "metadata": {},
   "outputs": [
    {
     "data": {
      "text/plain": [
       "(str, '23')"
      ]
     },
     "execution_count": 33,
     "metadata": {},
     "output_type": "execute_result"
    }
   ],
   "source": [
    "intValue = str(intValue)\n",
    "type(intValue), intValue"
   ]
  },
  {
   "cell_type": "code",
   "execution_count": 36,
   "id": "a6368477",
   "metadata": {},
   "outputs": [
    {
     "data": {
      "text/plain": [
       "(float, 23.0)"
      ]
     },
     "execution_count": 36,
     "metadata": {},
     "output_type": "execute_result"
    }
   ],
   "source": [
    "intValue = float(intValue)\n",
    "type(intValue), intValue"
   ]
  },
  {
   "cell_type": "code",
   "execution_count": 38,
   "id": "a13773a1",
   "metadata": {},
   "outputs": [
    {
     "ename": "ValueError",
     "evalue": "could not convert string to float: '0.7r'",
     "output_type": "error",
     "traceback": [
      "\u001b[0;31m---------------------------------------------------------------------------\u001b[0m",
      "\u001b[0;31mValueError\u001b[0m                                Traceback (most recent call last)",
      "Input \u001b[0;32mIn [38]\u001b[0m, in \u001b[0;36m<cell line: 2>\u001b[0;34m()\u001b[0m\n\u001b[1;32m      1\u001b[0m cadFloat \u001b[38;5;241m=\u001b[39m \u001b[38;5;124m'\u001b[39m\u001b[38;5;124m0.7r\u001b[39m\u001b[38;5;124m'\u001b[39m\n\u001b[0;32m----> 2\u001b[0m cadFloat \u001b[38;5;241m=\u001b[39m \u001b[38;5;28;43mfloat\u001b[39;49m\u001b[43m(\u001b[49m\u001b[43mcadFloat\u001b[49m\u001b[43m)\u001b[49m\n",
      "\u001b[0;31mValueError\u001b[0m: could not convert string to float: '0.7r'"
     ]
    }
   ],
   "source": [
    "cadFloat = '0.7r'\n",
    "cadFloat = float(cadFloat)"
   ]
  },
  {
   "cell_type": "code",
   "execution_count": 40,
   "id": "681d03cf",
   "metadata": {},
   "outputs": [
    {
     "data": {
      "text/plain": [
       "0.7"
      ]
     },
     "execution_count": 40,
     "metadata": {},
     "output_type": "execute_result"
    }
   ],
   "source": [
    "cadFloat = '0.7'\n",
    "cadFloat = float(cadFloat)\n",
    "cadFloat"
   ]
  },
  {
   "cell_type": "markdown",
   "id": "5269b73c",
   "metadata": {},
   "source": [
    "## Las características principales que Python tiene son las siguientes: \n",
    "\n",
    "<img src=\"./images/03.png\" alt=\"\">"
   ]
  },
  {
   "cell_type": "code",
   "execution_count": 44,
   "id": "68b70da2",
   "metadata": {},
   "outputs": [
    {
     "name": "stdout",
     "output_type": "stream",
     "text": [
      "esta es una prueba de identación\n"
     ]
    }
   ],
   "source": [
    "if True :\n",
    "    print('esta es una prueba de identación')"
   ]
  },
  {
   "cell_type": "code",
   "execution_count": 45,
   "id": "ec1d551e",
   "metadata": {},
   "outputs": [
    {
     "ename": "IndentationError",
     "evalue": "expected an indented block (3899511403.py, line 2)",
     "output_type": "error",
     "traceback": [
      "\u001b[0;36m  Input \u001b[0;32mIn [45]\u001b[0;36m\u001b[0m\n\u001b[0;31m    print('esta es una prueba de identación')\u001b[0m\n\u001b[0m    ^\u001b[0m\n\u001b[0;31mIndentationError\u001b[0m\u001b[0;31m:\u001b[0m expected an indented block\n"
     ]
    }
   ],
   "source": [
    "if True :\n",
    "print('esta es una prueba de identación')"
   ]
  },
  {
   "cell_type": "code",
   "execution_count": 46,
   "id": "f0e11b28",
   "metadata": {},
   "outputs": [
    {
     "name": "stdout",
     "output_type": "stream",
     "text": [
      "esta es una prueba de identación\n"
     ]
    }
   ],
   "source": [
    "if True :\n",
    "                print('esta es una prueba de identación')"
   ]
  },
  {
   "cell_type": "code",
   "execution_count": 50,
   "id": "cc662b2e",
   "metadata": {},
   "outputs": [
    {
     "name": "stdout",
     "output_type": "stream",
     "text": [
      "El número es mayor que 5\n",
      "el nuemro es impar\n"
     ]
    }
   ],
   "source": [
    "valor = 7 \n",
    "\n",
    "if valor > 5:\n",
    "    print('El número es mayor que 5')\n",
    "    if valor %2. == 0: \n",
    "        print('El numero es par')\n",
    "    else:\n",
    "        print('el nuemro es impar')\n",
    "else:\n",
    "    print('el numero es menor que 5')"
   ]
  },
  {
   "cell_type": "markdown",
   "id": "d242ac26",
   "metadata": {},
   "source": [
    "###   <span style=\"color:darkred\">Comentarios</span>\n",
    "\n",
    "Se pueden añadir comentarios en el código de Python utilizando el símbolo \"#\" al comienzo de una línea. Los comentarios son útiles para explicar el propósito de un código y hacerlo más fácil de entender.\n",
    "\n",
    "Los objetivos principales de los comentarios son los siguientes:\n",
    "\n",
    "   * Los comentarios se pueden usar para explicar el código de Python.\n",
    "   * Los comentarios se pueden utilizar para hacer que el código sea más legible.\n",
    "   * Los comentarios se pueden usar para evitar la ejecución al probar el código\n",
    "\n",
    "Los comentarios comienzan con un # y Python representará el resto de la línea como un comentario:\n",
    "\n",
    "### <span style=\"color:darkblue\">Comentarios por línea</span>"
   ]
  },
  {
   "cell_type": "code",
   "execution_count": 51,
   "id": "a3be2895",
   "metadata": {},
   "outputs": [
    {
     "name": "stdout",
     "output_type": "stream",
     "text": [
      "Buenas tardes a todos\n"
     ]
    }
   ],
   "source": [
    "# this is comment\n",
    "# este es un comentario\n",
    "print('Buenas tardes a todos')"
   ]
  },
  {
   "cell_type": "code",
   "execution_count": 54,
   "id": "2a9c1d6e",
   "metadata": {},
   "outputs": [
    {
     "name": "stdout",
     "output_type": "stream",
     "text": [
      "Buenas tardes a todos\n"
     ]
    }
   ],
   "source": [
    "print('Buenas tardes a todos') \n",
    "# este es un comentario"
   ]
  },
  {
   "cell_type": "markdown",
   "id": "5a9020c0",
   "metadata": {},
   "source": [
    "En este caso el texto “This is a comment” se traducirá como comentario y no se tomará en cuenta para la ejecución de código de Python. \n",
    "\n",
    "Los comentarios se pueden colocar al final de una línea y Python ignorará el resto de la línea:\n"
   ]
  },
  {
   "cell_type": "code",
   "execution_count": 53,
   "id": "3d4349b9",
   "metadata": {},
   "outputs": [
    {
     "name": "stdout",
     "output_type": "stream",
     "text": [
      "Buenas tardes a todos\n"
     ]
    }
   ],
   "source": [
    "print('Buenas tardes a todos') # este es un comentario"
   ]
  },
  {
   "cell_type": "markdown",
   "id": "fefee5e6",
   "metadata": {},
   "source": [
    "Un comentario no tiene que ser texto que explique el código, también se puede usar para evitar que Python ejecute código:"
   ]
  },
  {
   "cell_type": "code",
   "execution_count": 56,
   "id": "5eb0c74a",
   "metadata": {},
   "outputs": [],
   "source": [
    "# print(' esto es una prueba')"
   ]
  },
  {
   "cell_type": "markdown",
   "id": "1d98f19a",
   "metadata": {},
   "source": [
    "### <span style=\"color:darkblue\">Comentarios multilínea</span>\n",
    "\n",
    "Python realmente no tiene una sintaxis para comentarios de varias líneas.\n",
    "\n",
    "Para agregar un comentario de varias líneas, puede insertar un #para cada línea:"
   ]
  },
  {
   "cell_type": "code",
   "execution_count": 57,
   "id": "cfad8a7f",
   "metadata": {},
   "outputs": [],
   "source": [
    "# hoal \n",
    "# este es \n",
    "# un \n",
    "# grupo de comentarios"
   ]
  },
  {
   "cell_type": "markdown",
   "id": "32f0c20e",
   "metadata": {},
   "source": [
    "O, no del todo como se pretendía, puede usar una cadena de varias líneas.\n",
    "\n",
    "Dado que Python ignorará los literales de cadena que no están asignados a una variable, puede agregar una cadena de varias líneas (comillas triples) en su código y colocar su comentario dentro de ella:\n"
   ]
  },
  {
   "cell_type": "code",
   "execution_count": 59,
   "id": "5017e3dd",
   "metadata": {},
   "outputs": [],
   "source": [
    "\"\"\"\n",
    "Etsa es un comentario multilinesas\n",
    "Dado que Python ignorará los literales \n",
    "de cadena que no están asignados a una variable, \n",
    "puede agregar una cadena de varias líneas \n",
    "(comillas triples) en su código y\n",
    "colocar su comentario dentro de ella\n",
    "y puedo escribir lo que sea\n",
    "\"\"\"\n",
    "x=7"
   ]
  },
  {
   "cell_type": "code",
   "execution_count": 62,
   "id": "e8539a27",
   "metadata": {},
   "outputs": [
    {
     "data": {
      "text/plain": [
       "7"
      ]
     },
     "execution_count": 62,
     "metadata": {},
     "output_type": "execute_result"
    }
   ],
   "source": [
    "def funcion():\n",
    "    \"\"\"Esta funcion no exscribe nada\"\"\"\n",
    "    x = 7\n",
    "    return x\n",
    "\n",
    "\n",
    "funcion()"
   ]
  },
  {
   "cell_type": "markdown",
   "id": "032d7cae",
   "metadata": {},
   "source": [
    "### <span style=\"color:darkred\">Variables</span>\n",
    "\n",
    "Python no requiere declaraciones de variables. \n",
    "\n",
    "Una variable se crea simplemente asignando un valor a un nombre. \n",
    "\n",
    "Las variables pueden contener cualquier tipo de datos, incluyendo **números, cadenas de texto y objetos complejos.**\n",
    "\n",
    "<span style=\"color:darkgreen\">Una variable se crea en el momento en que le asigna un valor por primera vez. </span>"
   ]
  },
  {
   "cell_type": "code",
   "execution_count": 64,
   "id": "ae8e8645",
   "metadata": {},
   "outputs": [
    {
     "name": "stdout",
     "output_type": "stream",
     "text": [
      "5\n"
     ]
    }
   ],
   "source": [
    "x = 5\n",
    "\n",
    "print(x)"
   ]
  },
  {
   "cell_type": "code",
   "execution_count": 70,
   "id": "82028a6b",
   "metadata": {},
   "outputs": [
    {
     "data": {
      "text/plain": [
       "' john'"
      ]
     },
     "execution_count": 70,
     "metadata": {},
     "output_type": "execute_result"
    }
   ],
   "source": [
    "y = ' john'\n",
    "y"
   ]
  },
  {
   "cell_type": "code",
   "execution_count": 71,
   "id": "87df87c9",
   "metadata": {},
   "outputs": [
    {
     "data": {
      "text/plain": [
       "' john john john john john'"
      ]
     },
     "execution_count": 71,
     "metadata": {},
     "output_type": "execute_result"
    }
   ],
   "source": [
    "x*y"
   ]
  },
  {
   "cell_type": "code",
   "execution_count": 72,
   "id": "28840f19",
   "metadata": {},
   "outputs": [
    {
     "data": {
      "text/plain": [
       "15"
      ]
     },
     "execution_count": 72,
     "metadata": {},
     "output_type": "execute_result"
    }
   ],
   "source": [
    "3*x"
   ]
  },
  {
   "cell_type": "code",
   "execution_count": 73,
   "id": "29f18537",
   "metadata": {},
   "outputs": [
    {
     "data": {
      "text/plain": [
       "' john john john'"
      ]
     },
     "execution_count": 73,
     "metadata": {},
     "output_type": "execute_result"
    }
   ],
   "source": [
    "3*y"
   ]
  },
  {
   "cell_type": "markdown",
   "id": "a5ffaee7",
   "metadata": {},
   "source": [
    "### <span style=\"color:darkblue\">Nombres de variables</span>\n",
    "\n",
    "Una variable puede tener un nombre corto (como x e y) o un nombre más descriptivo (edad, nombre del coche, volumen_total). Reglas para las variables de Python:\n",
    "\n",
    "* Un nombre de variable debe comenzar con una letra o el carácter de subrayado\n",
    "\n",
    "* Un nombre de variable no puede comenzar con un número\n",
    "\n",
    "* Un nombre de variable solo puede contener caracteres alfanuméricos y guiones bajos (Az, 0-9 y _)\n",
    "\n",
    "* Los nombres de las variables distinguen entre mayúsculas y minúsculas (edad, Edad y EDAD son tres variables diferentes)\n",
    "\n",
    "* Un nombre de variable no puede ser ninguna de las palabras clave de Python.\n",
    "\n",
    "Ejemplos de nombres de variables aceptables: "
   ]
  },
  {
   "cell_type": "markdown",
   "id": "e8e896a1",
   "metadata": {},
   "source": [
    "Imprimamos algunas para verificar:"
   ]
  },
  {
   "cell_type": "code",
   "execution_count": 75,
   "id": "b2ad1269",
   "metadata": {},
   "outputs": [
    {
     "data": {
      "text/plain": [
       "5"
      ]
     },
     "execution_count": 75,
     "metadata": {},
     "output_type": "execute_result"
    }
   ],
   "source": [
    "_var = 5\n",
    "_var"
   ]
  },
  {
   "cell_type": "code",
   "execution_count": 76,
   "id": "7100f6da",
   "metadata": {},
   "outputs": [
    {
     "name": "stdout",
     "output_type": "stream",
     "text": [
      "6 7\n"
     ]
    }
   ],
   "source": [
    "myVAR = 6\n",
    "Myvar = 7\n",
    "\n",
    "print(myVAR,Myvar)"
   ]
  },
  {
   "cell_type": "code",
   "execution_count": 79,
   "id": "25a5b118",
   "metadata": {},
   "outputs": [
    {
     "data": {
      "text/plain": [
       "8"
      ]
     },
     "execution_count": 79,
     "metadata": {},
     "output_type": "execute_result"
    }
   ],
   "source": [
    "MYVAR = 8\n",
    "MYVAR"
   ]
  },
  {
   "cell_type": "code",
   "execution_count": 80,
   "id": "259b37a0",
   "metadata": {},
   "outputs": [],
   "source": [
    "myvar = 0"
   ]
  },
  {
   "cell_type": "code",
   "execution_count": 82,
   "id": "538eaef8",
   "metadata": {},
   "outputs": [
    {
     "data": {
      "text/plain": [
       "8"
      ]
     },
     "execution_count": 82,
     "metadata": {},
     "output_type": "execute_result"
    }
   ],
   "source": [
    "my_________var =8\n",
    "my_________var"
   ]
  },
  {
   "cell_type": "markdown",
   "id": "d77d3a5f",
   "metadata": {},
   "source": [
    "Ejemplos de nombres de variables no aceptados:"
   ]
  },
  {
   "cell_type": "code",
   "execution_count": 86,
   "id": "c5d8af9c",
   "metadata": {},
   "outputs": [
    {
     "ename": "SyntaxError",
     "evalue": "invalid syntax (2705497957.py, line 1)",
     "output_type": "error",
     "traceback": [
      "\u001b[0;36m  Input \u001b[0;32mIn [86]\u001b[0;36m\u001b[0m\n\u001b[0;31m    my var = 3\u001b[0m\n\u001b[0m       ^\u001b[0m\n\u001b[0;31mSyntaxError\u001b[0m\u001b[0;31m:\u001b[0m invalid syntax\n"
     ]
    }
   ],
   "source": [
    "my var = 3"
   ]
  },
  {
   "cell_type": "code",
   "execution_count": 84,
   "id": "91c9ade0",
   "metadata": {},
   "outputs": [
    {
     "ename": "SyntaxError",
     "evalue": "invalid syntax (2171684452.py, line 1)",
     "output_type": "error",
     "traceback": [
      "\u001b[0;36m  Input \u001b[0;32mIn [84]\u001b[0;36m\u001b[0m\n\u001b[0;31m    2myvar = 7\u001b[0m\n\u001b[0m     ^\u001b[0m\n\u001b[0;31mSyntaxError\u001b[0m\u001b[0;31m:\u001b[0m invalid syntax\n"
     ]
    }
   ],
   "source": [
    "2myvar = 7"
   ]
  },
  {
   "cell_type": "code",
   "execution_count": 85,
   "id": "9500e213",
   "metadata": {},
   "outputs": [
    {
     "ename": "SyntaxError",
     "evalue": "cannot assign to operator (817052611.py, line 1)",
     "output_type": "error",
     "traceback": [
      "\u001b[0;36m  Input \u001b[0;32mIn [85]\u001b[0;36m\u001b[0m\n\u001b[0;31m    my-var = 4\u001b[0m\n\u001b[0m    ^\u001b[0m\n\u001b[0;31mSyntaxError\u001b[0m\u001b[0;31m:\u001b[0m cannot assign to operator\n"
     ]
    }
   ],
   "source": [
    "my-var = 4"
   ]
  },
  {
   "cell_type": "markdown",
   "id": "3e55f747",
   "metadata": {},
   "source": [
    "### <span style=\"color:darkblue\">Nombres de variables de varias palabras</span>\n",
    "\n",
    "Los nombres de variables con más de una palabra pueden ser difíciles de leer.\n",
    "Hay varias técnicas que puede utilizar para hacerlos más legibles:\n"
   ]
  },
  {
   "cell_type": "markdown",
   "id": "c4efffe7",
   "metadata": {},
   "source": [
    "### <span style=\"color:darkgreen\">Camel Case:</span>\n",
    "\n",
    "Se utiliza para nombrar variables en la programación donde las palabras deben estar conectadas pero aún se desea distinguir claramente las palabras individuales. \n",
    "\n",
    "Por ejemplo, en variables de programación en lenguajes como Java y JavaScript.\n",
    "\n",
    "### Definición: \n",
    "    \n",
    "        En Camel Case, cada palabra comienza con una letra mayúscula, excepto la primera palabra que comienza en minúscula. No se utilizan espacios ni caracteres especiales entre palabras.\n",
    "        \n",
    "### Ejemplo: \n",
    "\n",
    "```\n",
    "    miVariableEjemplo\n",
    "\n",
    "    nombreUsuario\n",
    "    \n",
    "    calcularImpuesto\n",
    "```"
   ]
  },
  {
   "cell_type": "markdown",
   "id": "b58c9dbc",
   "metadata": {},
   "source": [
    "### <span style=\"color:darkgreen\">Pascal Case:</span>\n",
    "\n",
    " En nombres de clases y tipos de datos, como en la programación orientada a objetos. Se utiliza para nombrar clases, estructuras y tipos de datos en lenguajes como C# y Python.\n",
    "\n",
    "### Definición: \n",
    "    \n",
    "         Similar a Camel Case, pero la primera letra de cada palabra se coloca en mayúscula.\n",
    "        \n",
    "### Ejemplo: \n",
    "\n",
    "```\n",
    "    MiVariableEjemplo\n",
    "\n",
    "    NombreUsuario\n",
    "    \n",
    "    CrearUsuario\n",
    "```"
   ]
  },
  {
   "cell_type": "markdown",
   "id": "1b2befc6",
   "metadata": {},
   "source": [
    "### <span style=\"color:darkgreen\">Snake Case:</span>\n",
    "\n",
    "Se utiliza para nombrar variables o funciones en lenguajes que son sensibles a las mayúsculas y minúsculas y que no admiten espacios en los nombres, como Python y Ruby.\n",
    "\n",
    "### Definición: \n",
    "    \n",
    "          Las palabras están separadas por guiones bajos (subrayados). Se usan solo letras minúsculas.\n",
    "        \n",
    "### Ejemplo: \n",
    "\n",
    "```\n",
    "    numero_de_telefono\n",
    "\n",
    "    cantidad_de_productos\n",
    "    \n",
    "    mi_variable_ejemplo\n",
    "```"
   ]
  },
  {
   "cell_type": "markdown",
   "id": "55457900",
   "metadata": {},
   "source": [
    "### <span style=\"color:darkgreen\">Lower Case:</span>\n",
    "\n",
    " Se usa para nombrar variables o identificadores generales en muchos lenguajes de programación.\n",
    "\n",
    "### Definición: \n",
    "    \n",
    "          Todas las letras están en minúscula.\n",
    "        \n",
    "### Ejemplo: \n",
    "\n",
    "```\n",
    "    mivariableejemplo\n",
    "\n",
    "    cantidaddeproductos\n",
    "    \n",
    "    nombre\n",
    "```"
   ]
  },
  {
   "cell_type": "markdown",
   "id": "343c4d14",
   "metadata": {},
   "source": [
    "### <span style=\"color:darkgreen\">Upper Case:</span>\n",
    "\n",
    "Se usa para nombrar constantes en mayúsculas. Por ejemplo, en matemáticas, el número Pi se representa en mayúsculas para indicar que es una constante.\n",
    "\n",
    "### Definición: \n",
    "    \n",
    "          Todas las letras están en mayúscula.\n",
    "        \n",
    "### Ejemplo: \n",
    "\n",
    "```\n",
    "    PI\n",
    "\n",
    "    MAXIMO_VALOR\n",
    "    \n",
    "    MIVARIABLEEJEMPLO\n",
    "```"
   ]
  },
  {
   "cell_type": "markdown",
   "id": "1b04711a",
   "metadata": {},
   "source": [
    "### <span style=\"color:darkblue\">Muchos valores para múltiples variables</span>\n",
    "\n",
    "Python le permite asignar valores a múltiples variables en una línea:"
   ]
  },
  {
   "cell_type": "code",
   "execution_count": 87,
   "id": "0f66f26c",
   "metadata": {},
   "outputs": [
    {
     "data": {
      "text/plain": [
       "(2.2345, 3.2, 'NAranja', 23)"
      ]
     },
     "execution_count": 87,
     "metadata": {},
     "output_type": "execute_result"
    }
   ],
   "source": [
    "m = 2.2345\n",
    "n = 3.2\n",
    "x = 'NAranja'\n",
    "z = 23\n",
    "\n",
    "m,n,x,z"
   ]
  },
  {
   "cell_type": "code",
   "execution_count": 89,
   "id": "136fc3b2",
   "metadata": {},
   "outputs": [
    {
     "data": {
      "text/plain": [
       "(3.2, 'Naranja', 23)"
      ]
     },
     "execution_count": 89,
     "metadata": {},
     "output_type": "execute_result"
    }
   ],
   "source": [
    "x, y, z = 3.2, 'Naranja', 23\n",
    "\n",
    "x,y,z"
   ]
  },
  {
   "cell_type": "code",
   "execution_count": 91,
   "id": "193a2636",
   "metadata": {},
   "outputs": [
    {
     "name": "stdout",
     "output_type": "stream",
     "text": [
      "3.2 Naranja 23\n"
     ]
    }
   ],
   "source": [
    "print(x,y,z)"
   ]
  },
  {
   "cell_type": "code",
   "execution_count": 90,
   "id": "d311f2b8",
   "metadata": {},
   "outputs": [
    {
     "name": "stdout",
     "output_type": "stream",
     "text": [
      "3.2\n",
      "Naranja\n",
      "23\n"
     ]
    }
   ],
   "source": [
    "print(x)\n",
    "print(y)\n",
    "print(z)"
   ]
  },
  {
   "cell_type": "markdown",
   "id": "c7320906",
   "metadata": {},
   "source": [
    "### <span style=\"color:darkblue\">Un valor para múltiples variables</span>\n",
    "\n",
    "Y puede asignar el mismo valor a múltiples variables en una línea:"
   ]
  },
  {
   "cell_type": "code",
   "execution_count": 93,
   "id": "b1fc1e86",
   "metadata": {},
   "outputs": [
    {
     "data": {
      "text/plain": [
       "('valor cadena', 'valor cadena', 'valor cadena')"
      ]
     },
     "execution_count": 93,
     "metadata": {},
     "output_type": "execute_result"
    }
   ],
   "source": [
    "x = y = z = 'valor cadena'\n",
    "\n",
    "x,y,z"
   ]
  },
  {
   "cell_type": "markdown",
   "id": "12e17087",
   "metadata": {},
   "source": [
    "### <span style=\"color:darkblue\">Salida de una variable</span>\n",
    "\n",
    "La función `print()` de Python se usa a menudo para generar variables.\n"
   ]
  },
  {
   "cell_type": "code",
   "execution_count": 94,
   "id": "cbf88d65",
   "metadata": {},
   "outputs": [
    {
     "data": {
      "text/plain": [
       "'Python es asombroso: Python is awesome'"
      ]
     },
     "execution_count": 94,
     "metadata": {},
     "output_type": "execute_result"
    }
   ],
   "source": [
    "x = 'Python es asombroso: Python is awesome'\n",
    "x"
   ]
  },
  {
   "cell_type": "code",
   "execution_count": 96,
   "id": "5c56f310",
   "metadata": {},
   "outputs": [],
   "source": [
    "x = 'Python es asombroso'\n",
    "y = ':'\n",
    "z = ' Python is awesome'"
   ]
  },
  {
   "cell_type": "code",
   "execution_count": 98,
   "id": "8f5d43ae",
   "metadata": {},
   "outputs": [
    {
     "data": {
      "text/plain": [
       "('Python es asombroso', ':', ' Python is awesome')"
      ]
     },
     "execution_count": 98,
     "metadata": {},
     "output_type": "execute_result"
    }
   ],
   "source": [
    "x,y,z"
   ]
  },
  {
   "cell_type": "markdown",
   "id": "edd55714",
   "metadata": {},
   "source": [
    "En la función `print()`, genera múltiples variables, separadas por una coma:"
   ]
  },
  {
   "cell_type": "code",
   "execution_count": 97,
   "id": "b6d89737",
   "metadata": {},
   "outputs": [
    {
     "name": "stdout",
     "output_type": "stream",
     "text": [
      "Python es asombroso :  Python is awesome\n"
     ]
    }
   ],
   "source": [
    "print(x,y,z)"
   ]
  },
  {
   "cell_type": "markdown",
   "id": "cb8f88ce",
   "metadata": {},
   "source": [
    "También puede usar el **operador +** para generar múltiples variables:"
   ]
  },
  {
   "cell_type": "code",
   "execution_count": 99,
   "id": "60cf2497",
   "metadata": {},
   "outputs": [
    {
     "name": "stdout",
     "output_type": "stream",
     "text": [
      "Python es asombroso: Python is awesome\n"
     ]
    }
   ],
   "source": [
    "print(x + y + z)"
   ]
  },
  {
   "cell_type": "markdown",
   "id": "141b343a",
   "metadata": {},
   "source": [
    "Para números, el carácter **+** funciona como un operador matemático:"
   ]
  },
  {
   "cell_type": "markdown",
   "id": "dea44968",
   "metadata": {},
   "source": [
    "En la función `print()`, cuando intenta combinar una cadena y un número con el operador +, Python le dará un error:"
   ]
  },
  {
   "cell_type": "code",
   "execution_count": 100,
   "id": "a5102386",
   "metadata": {},
   "outputs": [
    {
     "name": "stdout",
     "output_type": "stream",
     "text": [
      "16\n"
     ]
    }
   ],
   "source": [
    "x , y, z = 11, 3, 2\n",
    "print(x + y + z)"
   ]
  },
  {
   "cell_type": "markdown",
   "id": "ce242acd",
   "metadata": {},
   "source": [
    "La mejor manera de generar múltiples variables en la función `print()` es separarlas con comas, que incluso admiten diferentes tipos de datos:"
   ]
  },
  {
   "cell_type": "code",
   "execution_count": 101,
   "id": "50ca7c1e",
   "metadata": {},
   "outputs": [
    {
     "ename": "TypeError",
     "evalue": "unsupported operand type(s) for +: 'int' and 'str'",
     "output_type": "error",
     "traceback": [
      "\u001b[0;31m---------------------------------------------------------------------------\u001b[0m",
      "\u001b[0;31mTypeError\u001b[0m                                 Traceback (most recent call last)",
      "Input \u001b[0;32mIn [101]\u001b[0m, in \u001b[0;36m<cell line: 2>\u001b[0;34m()\u001b[0m\n\u001b[1;32m      1\u001b[0m x , y, z \u001b[38;5;241m=\u001b[39m \u001b[38;5;241m11\u001b[39m, \u001b[38;5;124m'\u001b[39m\u001b[38;5;124mhola\u001b[39m\u001b[38;5;124m'\u001b[39m, \u001b[38;5;241m2\u001b[39m\n\u001b[0;32m----> 2\u001b[0m \u001b[38;5;28mprint\u001b[39m(\u001b[43mx\u001b[49m\u001b[43m \u001b[49m\u001b[38;5;241;43m+\u001b[39;49m\u001b[43m \u001b[49m\u001b[43my\u001b[49m \u001b[38;5;241m+\u001b[39m z)\n",
      "\u001b[0;31mTypeError\u001b[0m: unsupported operand type(s) for +: 'int' and 'str'"
     ]
    }
   ],
   "source": [
    "x , y, z = 11, 'hola', 2\n",
    "print(x + y + z)"
   ]
  },
  {
   "cell_type": "markdown",
   "id": "83f23de8",
   "metadata": {},
   "source": [
    "## Tipos de Impresión"
   ]
  },
  {
   "cell_type": "code",
   "execution_count": 102,
   "id": "67f8e4bc",
   "metadata": {},
   "outputs": [
    {
     "name": "stdout",
     "output_type": "stream",
     "text": [
      "Python es asombroso \n",
      " : \t  Python is awesome\n"
     ]
    }
   ],
   "source": [
    "x = 'Python es asombroso'\n",
    "y = ':'\n",
    "z = ' Python is awesome'\n",
    "\n",
    "print(x, '\\n', y,'\\t', z)"
   ]
  },
  {
   "cell_type": "code",
   "execution_count": 109,
   "id": "848ea3fc",
   "metadata": {},
   "outputs": [
    {
     "name": "stdout",
     "output_type": "stream",
     "text": [
      "Mi nombre es:  Monkey   D   Luffy y tengo 16 años\n"
     ]
    }
   ],
   "source": [
    "name = 'Luffy'\n",
    "lname = 'Monkey'\n",
    "mname = 'D'\n",
    "age = 16 \n",
    "\n",
    "print('Mi nombre es: ',lname,' ', mname,' ', name,'y tengo', age, 'años' )"
   ]
  },
  {
   "cell_type": "markdown",
   "id": "fe9b6ed1",
   "metadata": {},
   "source": [
    "### Formato de cadena f-string"
   ]
  },
  {
   "cell_type": "code",
   "execution_count": 111,
   "id": "dbdeb1ea",
   "metadata": {},
   "outputs": [
    {
     "name": "stdout",
     "output_type": "stream",
     "text": [
      "Mi nombre es : Monkey D Luffy y tengo 16 años\n"
     ]
    }
   ],
   "source": [
    "print(f'Mi nombre es : {lname} {mname} {name} y tengo {age} años')"
   ]
  },
  {
   "cell_type": "markdown",
   "id": "2db94cd3",
   "metadata": {},
   "source": [
    "### Marcadores de impresión:\n",
    "    \n",
    "   `%s` donde se encuentre imprime una variable string\n",
    "   \n",
    "   `%d` donde se encuentre imprime una variable int\n",
    "   \n",
    "   `%f` donde se encuentre imprime una variable float"
   ]
  },
  {
   "cell_type": "code",
   "execution_count": 112,
   "id": "d60aa5be",
   "metadata": {},
   "outputs": [
    {
     "name": "stdout",
     "output_type": "stream",
     "text": [
      "Mi nombre es : Monkey D Luffy y tengo 16 años\n"
     ]
    }
   ],
   "source": [
    "print(f'Mi nombre es : %s %s %s y tengo %d años'%(lname,mname,name,age))"
   ]
  },
  {
   "cell_type": "code",
   "execution_count": 113,
   "id": "b34556d9",
   "metadata": {},
   "outputs": [
    {
     "ename": "TypeError",
     "evalue": "%d format: a number is required, not str",
     "output_type": "error",
     "traceback": [
      "\u001b[0;31m---------------------------------------------------------------------------\u001b[0m",
      "\u001b[0;31mTypeError\u001b[0m                                 Traceback (most recent call last)",
      "Input \u001b[0;32mIn [113]\u001b[0m, in \u001b[0;36m<cell line: 1>\u001b[0;34m()\u001b[0m\n\u001b[0;32m----> 1\u001b[0m \u001b[38;5;28mprint\u001b[39m(\u001b[38;5;124;43mf\u001b[39;49m\u001b[38;5;124;43m'\u001b[39;49m\u001b[38;5;124;43mMi nombre es : %s %s %s y tengo %d años\u001b[39;49m\u001b[38;5;124;43m'\u001b[39;49m\u001b[38;5;241;43m%\u001b[39;49m\u001b[43m(\u001b[49m\u001b[43mage\u001b[49m\u001b[43m,\u001b[49m\u001b[43mlname\u001b[49m\u001b[43m,\u001b[49m\u001b[43mmname\u001b[49m\u001b[43m,\u001b[49m\u001b[43mname\u001b[49m\u001b[43m)\u001b[49m)\n",
      "\u001b[0;31mTypeError\u001b[0m: %d format: a number is required, not str"
     ]
    }
   ],
   "source": [
    "print(f'Mi nombre es : %s %s %s y tengo %d años'%(age,lname,mname,name))"
   ]
  },
  {
   "cell_type": "code",
   "execution_count": 114,
   "id": "8d8464de",
   "metadata": {},
   "outputs": [
    {
     "name": "stdout",
     "output_type": "stream",
     "text": [
      "Mi nombre es Monkey y tengo $ 67\n"
     ]
    }
   ],
   "source": [
    "price = 67.5423\n",
    "\n",
    "print('Mi nombre es %s y tengo $ %d'%(lname, price))"
   ]
  },
  {
   "cell_type": "code",
   "execution_count": 115,
   "id": "a2c34fb0",
   "metadata": {},
   "outputs": [
    {
     "name": "stdout",
     "output_type": "stream",
     "text": [
      "Mi nombre es Monkey y tengo $ 67.542300\n"
     ]
    }
   ],
   "source": [
    "print('Mi nombre es %s y tengo $ %f'%(lname, price))"
   ]
  },
  {
   "cell_type": "code",
   "execution_count": 116,
   "id": "916ec8fc",
   "metadata": {},
   "outputs": [
    {
     "name": "stdout",
     "output_type": "stream",
     "text": [
      "Mi nombre es Monkey y tengo $ 67.54\n"
     ]
    }
   ],
   "source": [
    "print('Mi nombre es %s y tengo $ %.2f'%(lname, price))"
   ]
  },
  {
   "cell_type": "code",
   "execution_count": 117,
   "id": "23ebcb30",
   "metadata": {},
   "outputs": [
    {
     "name": "stdout",
     "output_type": "stream",
     "text": [
      "Mi nombre es Monkey y tengo $ 67.5423000\n"
     ]
    }
   ],
   "source": [
    "print('Mi nombre es %s y tengo $ %.7f'%(lname, price))"
   ]
  },
  {
   "cell_type": "code",
   "execution_count": 126,
   "id": "764891be",
   "metadata": {},
   "outputs": [
    {
     "name": "stdout",
     "output_type": "stream",
     "text": [
      "hola  mundo\n",
      "dos\n"
     ]
    }
   ],
   "source": [
    "print('hola', end = '  ')\n",
    "print('mundo')\n",
    "print('dos')"
   ]
  },
  {
   "cell_type": "code",
   "execution_count": 127,
   "id": "2c5b1634",
   "metadata": {},
   "outputs": [
    {
     "name": "stdout",
     "output_type": "stream",
     "text": [
      "hola-----mundo\n",
      "dos\n"
     ]
    }
   ],
   "source": [
    "print('hola', end = '-----')\n",
    "print('mundo')\n",
    "print('dos')"
   ]
  },
  {
   "cell_type": "code",
   "execution_count": 135,
   "id": "9b5a9e18",
   "metadata": {},
   "outputs": [
    {
     "name": "stdout",
     "output_type": "stream",
     "text": [
      "verde\n",
      "amarillo\n",
      "rojo\n",
      "rojo\n",
      "amarillo\n",
      "verde amarillo rojo\n",
      "verde,amarillo,rojo\n",
      "verde;amarillo;rojo\n",
      "verde-amarillo-rojo\n"
     ]
    }
   ],
   "source": [
    "#.index       0.       1.       2.   \n",
    "colores = ['verde','amarillo','rojo']\n",
    "#.index      -3.       -2.       -1.   \n",
    "\n",
    "len(colores)\n",
    "\n",
    "print(colores[0])\n",
    "print(colores[1])\n",
    "print(colores[2])\n",
    "print(colores[-1])\n",
    "print(colores[-2])\n",
    "print(*colores)\n",
    "print(*colores, sep = ',')\n",
    "print(*colores, sep = ';')\n",
    "print(*colores, sep = '-')"
   ]
  },
  {
   "cell_type": "code",
   "execution_count": 137,
   "id": "c36fb68d",
   "metadata": {},
   "outputs": [
    {
     "data": {
      "text/plain": [
       "('tenemos que hacer tarea', 'TENEMOS QUE HACER TAREA')"
      ]
     },
     "execution_count": 137,
     "metadata": {},
     "output_type": "execute_result"
    }
   ],
   "source": [
    "message = 'TeneMOs qUe HaceR TARea'\n",
    "\n",
    "lowerCaseM = message.lower()\n",
    "upperCaseM = message.upper()\n",
    "\n",
    "lowerCaseM,upperCaseM"
   ]
  },
  {
   "cell_type": "code",
   "execution_count": 138,
   "id": "342fbe1e",
   "metadata": {},
   "outputs": [
    {
     "name": "stdout",
     "output_type": "stream",
     "text": [
      " Es el mismo empleado!\n"
     ]
    }
   ],
   "source": [
    "employe1 = 'Sakuna Rice'\n",
    "temp = 'sakuna rice'\n",
    "if employe1.lower()  == temp.lower() :\n",
    "    print(' Es el mismo empleado!')"
   ]
  },
  {
   "cell_type": "markdown",
   "id": "facf92ba",
   "metadata": {},
   "source": [
    "### <span style=\"color:darkred\">Tipos de datos</span>\n",
    "\n",
    "Python es un lenguaje de programación orientado a objetos, lo que significa que todo en Python es un objeto se convierte en tipos de datos. \n",
    "\n",
    "Existen varios tipos de datos incorporados que se utilizan para almacenar diferentes tipos de información. Algunos de los tipos de datos más comunes en Python son los siguientes:\n",
    "\n",
    "#### Números\n",
    "\n",
    "En Python, hay tres tipos de números: enteros (int), números de punto flotante (float) y números complejos (complex). Los enteros son números enteros sin decimales, como 42. \n",
    "\n",
    "Los números de punto flotante son números con decimales, como 3.14. \n",
    "\n",
    "Los números complejos son números con una parte real y una parte imaginaria, como 2 + 3j.\n",
    "\n",
    "#### Cadenas de texto\n",
    "\n",
    "Las cadenas de texto (str) se utilizan para almacenar texto y se definen entre comillas simples o dobles. Por ejemplo, “Hola, ¡mundo!\" es una cadena de texto en Python.\n",
    "\n",
    "#### Listas\n",
    "\n",
    "Las listas (list) se utilizan para almacenar una colección ordenada de elementos y se definen entre corchetes. Por ejemplo, [1, 2, 3, 4] es una lista en Python.\n",
    "\n",
    "#### Tuplas\n",
    "\n",
    "Las tuplas (tuple) son similares a las listas, pero son inmutables, lo que significa que no se pueden modificar después de su creación. \n",
    "\n",
    "Las tuplas se definen entre paréntesis. Por ejemplo, (1, 2, 3, 4) es una tupla en Python.\n",
    "\n",
    "#### Diccionarios\n",
    "\n",
    "Los diccionarios (dict) se utilizan para almacenar una colección de pares clave-valor y se definen entre llaves. Por ejemplo, {\"nombre\": \"Juan\", \"edad\": 30} es un diccionario en Python.\n",
    "\n",
    "#### Conjuntos\n",
    "\n",
    "Los conjuntos (set) se utilizan para almacenar una colección de elementos únicos y se definen entre llaves. Por ejemplo, {1, 2, 3, 4} es un conjunto en Python.\n",
    "\n",
    "\n",
    "### Tipos de datos al declarar\n",
    "\n",
    "AL declarar una variable no es necesario indicar ningún tipo en particular, e incluso pueden cambiar de tipo después de que se hayan establecido."
   ]
  },
  {
   "cell_type": "code",
   "execution_count": 139,
   "id": "cc841fa5",
   "metadata": {},
   "outputs": [
    {
     "data": {
      "text/plain": [
       "13"
      ]
     },
     "execution_count": 139,
     "metadata": {},
     "output_type": "execute_result"
    }
   ],
   "source": [
    "x = int(13.0)\n",
    "x"
   ]
  },
  {
   "cell_type": "code",
   "execution_count": 141,
   "id": "fbac574c",
   "metadata": {},
   "outputs": [
    {
     "data": {
      "text/plain": [
       "13.0"
      ]
     },
     "execution_count": 141,
     "metadata": {},
     "output_type": "execute_result"
    }
   ],
   "source": [
    "y = float(13)\n",
    "y"
   ]
  },
  {
   "cell_type": "code",
   "execution_count": 143,
   "id": "d17763e2",
   "metadata": {},
   "outputs": [
    {
     "data": {
      "text/plain": [
       "'43565'"
      ]
     },
     "execution_count": 143,
     "metadata": {},
     "output_type": "execute_result"
    }
   ],
   "source": [
    "z = str(43565)\n",
    "z"
   ]
  },
  {
   "cell_type": "markdown",
   "id": "50c32700",
   "metadata": {},
   "source": [
    "Los tipos de variable también pueden indicarse por medio de funciones que y así especificar literalmente el tipo de variable que queremos almacenar esto podrá generar una conversión de ser necesario."
   ]
  },
  {
   "cell_type": "code",
   "execution_count": 146,
   "id": "a5049e47",
   "metadata": {},
   "outputs": [
    {
     "name": "stdout",
     "output_type": "stream",
     "text": [
      "Ingrese valor: 34\n"
     ]
    }
   ],
   "source": [
    "x = input('Ingrese valor: ')"
   ]
  },
  {
   "cell_type": "code",
   "execution_count": 147,
   "id": "9fa641e4",
   "metadata": {},
   "outputs": [
    {
     "data": {
      "text/plain": [
       "'34'"
      ]
     },
     "execution_count": 147,
     "metadata": {},
     "output_type": "execute_result"
    }
   ],
   "source": [
    "x"
   ]
  },
  {
   "cell_type": "code",
   "execution_count": 148,
   "id": "e5967ab2",
   "metadata": {},
   "outputs": [
    {
     "data": {
      "text/plain": [
       "str"
      ]
     },
     "execution_count": 148,
     "metadata": {},
     "output_type": "execute_result"
    }
   ],
   "source": [
    "type(x)"
   ]
  },
  {
   "cell_type": "code",
   "execution_count": 149,
   "id": "ffa2c79a",
   "metadata": {},
   "outputs": [
    {
     "name": "stdout",
     "output_type": "stream",
     "text": [
      "Ingrese valor: 234\n"
     ]
    }
   ],
   "source": [
    "x = int(input('Ingrese valor: '))"
   ]
  },
  {
   "cell_type": "code",
   "execution_count": 150,
   "id": "7fbd041c",
   "metadata": {},
   "outputs": [
    {
     "data": {
      "text/plain": [
       "int"
      ]
     },
     "execution_count": 150,
     "metadata": {},
     "output_type": "execute_result"
    }
   ],
   "source": [
    "type(x)"
   ]
  },
  {
   "cell_type": "code",
   "execution_count": 152,
   "id": "128670ed",
   "metadata": {},
   "outputs": [
    {
     "name": "stdout",
     "output_type": "stream",
     "text": [
      "ingrese el valor: 234\n"
     ]
    },
    {
     "data": {
      "text/plain": [
       "234.0"
      ]
     },
     "execution_count": 152,
     "metadata": {},
     "output_type": "execute_result"
    }
   ],
   "source": [
    "y =  input('ingrese el valor: ')\n",
    "y = float(y)\n",
    "y"
   ]
  },
  {
   "cell_type": "markdown",
   "id": "cd86e518",
   "metadata": {},
   "source": [
    "Si el valor no coincide con una conversión correcta generará un error por ejemplo cambiar letras a enteras que no pueden ser cambiados. "
   ]
  },
  {
   "cell_type": "markdown",
   "id": "55ba11a8",
   "metadata": {},
   "source": [
    "## Aplicando Conocimientos\n",
    "\n",
    "### Ejercicio de aplicación:\n",
    "\n",
    "-\tCrea un archivo de Python en donde almacenaremos información personal, esta información debe ir con el tipo de dato correspondiente. \n",
    "Variables a crear:\n",
    "    \n",
    "o\tNombres\n",
    "\n",
    "o\tPrimerApellido\n",
    "\n",
    "o\tSegundoApellido\n",
    "\n",
    "o\tEdad\n",
    "\n",
    "o\tNacionalidad\n",
    "\n",
    "o\tSexo\n"
   ]
  },
  {
   "cell_type": "code",
   "execution_count": null,
   "id": "e95266b8",
   "metadata": {},
   "outputs": [],
   "source": []
  }
 ],
 "metadata": {
  "kernelspec": {
   "display_name": "Python 3 (ipykernel)",
   "language": "python",
   "name": "python3"
  },
  "language_info": {
   "codemirror_mode": {
    "name": "ipython",
    "version": 3
   },
   "file_extension": ".py",
   "mimetype": "text/x-python",
   "name": "python",
   "nbconvert_exporter": "python",
   "pygments_lexer": "ipython3",
   "version": "3.9.12"
  },
  "nbTranslate": {
   "displayLangs": [
    "*"
   ],
   "hotkey": "alt-t",
   "langInMainMenu": true,
   "sourceLang": "en",
   "targetLang": "fr",
   "useGoogleTranslate": true
  }
 },
 "nbformat": 4,
 "nbformat_minor": 5
}
