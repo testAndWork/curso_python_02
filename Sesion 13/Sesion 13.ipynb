{
 "cells": [
  {
   "cell_type": "markdown",
   "id": "9c8c537c",
   "metadata": {},
   "source": [
    "# <span style=\"color:darkblue\">Módulo 1 - Introducción a la programación con Python </span>\n",
    "\n",
    "## <span style=\"color:darkblue\">Sesión 13- Clases en Python</span>\n",
    "\n",
    "### <span style=\"color:darkblue\">Duración estimada:\t4 horas</span>\n",
    "\n",
    "#### <span style=\"color:darkblue\">En marco del proyecto: “EMPLEO JOVEN ES”</span>"
   ]
  },
  {
   "cell_type": "markdown",
   "id": "42a8be22",
   "metadata": {},
   "source": [
    "## <span style=\"color:darkblue\"> Tabla de contenidos:</span>\n",
    " \n",
    "    1- Bienvenida\n",
    "    \n",
    "    2- Asistencia\n",
    "    \n",
    "    3- Dudas de la Clase anterior\n",
    "    \n",
    "    4- Control de Lectura\n",
    "    \n",
    "    5- Objetivo\n",
    "    \n",
    "    6- Introducción\n",
    "    \n",
    "    7- Aprendamos\n",
    "\n",
    "   \n",
    "    \n",
    "    8- Aplicando Conocimientos\t\n",
    "\n",
    "    9- Retroalimentación\n",
    "    \n",
    "    10- Asistencia\n"
   ]
  },
  {
   "cell_type": "markdown",
   "id": "51ae1b4d",
   "metadata": {},
   "source": [
    "## <span style=\"color:darkred\">Objetivo:</span>\n",
    "\n",
    "Comprender los conceptos de la programación orientada a objetos y utilizarlos para crear tus propias clases y objetos en Python. \n",
    "\n",
    "Esto te permitirá mejorar la modularidad y la reutilización de código de tus proyectos de Python, lo que puede ahorrarte tiempo y esfuerzo, así como también utilizar las clases predefinidas en Python y diseñar e implementar programas utilizando la programación orientada a objetos.\n",
    "\n",
    "### <span style=\"color:darkred\">Recursos</span>\n",
    "\n",
    "•\tSesión 13 excepciones\n",
    "\n",
    "•\tComputadora con Python instalado\n",
    "\n",
    "•\tVisual Studio Code instalado\n",
    "\n",
    "\n",
    "\n",
    "\n",
    "### <span style=\"color:darkred\">Introducción:</span>\n",
    "\n",
    "Una de las características más importantes de Python es su soporte para la programación orientada a objetos (POO), que te permite crear tus propios tipos de datos y funciones personalizadas.\n",
    "\n",
    "La programación orientada a objetos es un paradigma de programación que se basa en la creación de objetos que tienen atributos y métodos, los cuales pueden ser manipulados para resolver problemas específicos. En Python, los objetos se definen a través de las clases, que son plantillas que se utilizan para crear objetos. \n",
    "\n",
    "Las clases son un concepto fundamental de la programación orientada a objetos y se utilizan en muchas aplicaciones, desde el desarrollo de videojuegos hasta el análisis de datos.\n",
    "\n",
    "Aprender sobre clases y objetos en Python es esencial para cualquier persona que quiera dominar este lenguaje de programación y desarrollar aplicaciones avanzadas. En este sentido, la programación orientada a objetos en Python te permite crear programas más complejos, pero también más estructurados y modulares, lo que puede ahorrarte tiempo y esfuerzo. \n",
    "\n",
    "Además, el conocimiento de las clases y objetos en Python te permitirá trabajar con bibliotecas y marcos de trabajo populares que utilizan la programación orientada a objetos.\n",
    "\n",
    "### <span style=\"color:darkred\">Aprendamos </span>\n",
    "\n",
    "Python te permite crear tus propios tipos de datos y funciones personalizadas, lo que puede ayudarte a escribir código más legible, eficiente y reutilizable.\n",
    "\n",
    "Algunos de los objetivos específicos que puedes alcanzar al aprender clases y objetos en Python son:\n",
    "\n",
    "•\tEntender los conceptos fundamentales de la programación orientada a objetos (POO), como la encapsulación, la herencia y el polimorfismo.\n",
    "\n",
    "•\tCrear tus propias clases y objetos en Python y utilizarlos en tus programas.\n",
    "\n",
    "•\tComprender cómo funcionan los métodos, atributos y constructores en Python.\n",
    "\n",
    "•\tUtilizar las clases predefinidas en Python, como las clases de los módulos integrados y las clases de las bibliotecas externas.\n",
    "\n",
    "•\tAprender a diseñar e implementar programas utilizando la programación orientada a objetos.\n",
    "\n",
    "•\tMejorar la modularidad y la reutilización de código de tus proyectos de Python, lo que puede ahorrarte tiempo y esfuerzo.\n",
    "Una clase es como un constructor de objetos o un \"modelo\" para crear objetos.\n",
    "\n"
   ]
  },
  {
   "cell_type": "code",
   "execution_count": 1,
   "id": "42618c8e",
   "metadata": {},
   "outputs": [
    {
     "name": "stdout",
     "output_type": "stream",
     "text": [
      "<class 'int'>\n"
     ]
    }
   ],
   "source": [
    "print(type(4))"
   ]
  },
  {
   "cell_type": "markdown",
   "id": "c33ac243",
   "metadata": {},
   "source": [
    "### Crear una clase\n",
    "\n",
    "Para crear una clase, utilice la palabra clave `class`:\n"
   ]
  },
  {
   "cell_type": "code",
   "execution_count": 2,
   "id": "f8be6d53",
   "metadata": {},
   "outputs": [],
   "source": [
    "class Myclass:\n",
    "    x = 5\n",
    "    y = 10.1\n",
    "    z = 'Esta es un clase' "
   ]
  },
  {
   "cell_type": "markdown",
   "id": "e316850e",
   "metadata": {},
   "source": [
    "### Crear objeto\n",
    "Ahora podemos usar la clase llamada MyClass para crear objetos:\n",
    "Ejemplo: Cree un objeto llamado p1 e imprima el valor de x:\n"
   ]
  },
  {
   "cell_type": "code",
   "execution_count": 3,
   "id": "9b6fccb2",
   "metadata": {},
   "outputs": [
    {
     "name": "stdout",
     "output_type": "stream",
     "text": [
      "<class '__main__.Myclass'>\n"
     ]
    }
   ],
   "source": [
    "p1 = Myclass()\n",
    "print(type(p1))"
   ]
  },
  {
   "cell_type": "code",
   "execution_count": 5,
   "id": "82abe033",
   "metadata": {},
   "outputs": [
    {
     "data": {
      "text/plain": [
       "(5, 'Esta es un clase')"
      ]
     },
     "execution_count": 5,
     "metadata": {},
     "output_type": "execute_result"
    }
   ],
   "source": [
    "p1.x, p1.z"
   ]
  },
  {
   "cell_type": "markdown",
   "id": "68d6e1eb",
   "metadata": {},
   "source": [
    "### Constructor de la clase `init ( )`"
   ]
  },
  {
   "cell_type": "markdown",
   "id": "432ba06a",
   "metadata": {},
   "source": [
    "### La función `__init__()`\n",
    "\n",
    "Los ejemplos anteriores son clases y objetos en su forma más simple y no son realmente útiles en aplicaciones de la vida real. Para comprender el significado de las clases, debemos comprender la función `__init__()` incorporada. \n",
    "\n",
    "Todas las clases tienen una función llamada `__init__()`, que siempre se ejecuta cuando se inicia la clase. Use la función` __init__()` para asignar valores a las propiedades del objeto u otras operaciones que sean necesarias cuando se crea el objeto.\n",
    "\n",
    "#### Ejemplo: \n",
    "Cree una clase llamada Persona, use la función `__init__( )` para asignar valores para el nombre y la edad:\n"
   ]
  },
  {
   "cell_type": "code",
   "execution_count": 6,
   "id": "6fa5c917",
   "metadata": {},
   "outputs": [],
   "source": [
    "class Persona:\n",
    "    def __init__(self, name, age):\n",
    "        self.name = name\n",
    "        self.age = age"
   ]
  },
  {
   "cell_type": "code",
   "execution_count": 9,
   "id": "5c966e00",
   "metadata": {},
   "outputs": [
    {
     "name": "stdout",
     "output_type": "stream",
     "text": [
      "<__main__.Persona object at 0x106ff0090>\n",
      "john\n",
      "34\n"
     ]
    }
   ],
   "source": [
    "info_person = Persona('john', 34)\n",
    "\n",
    "print(info_person)\n",
    "print(info_person.name)\n",
    "print(info_person.age )"
   ]
  },
  {
   "cell_type": "markdown",
   "id": "43ad7978",
   "metadata": {},
   "source": [
    "### El auto parámetro\n",
    "\n",
    "El parámetro `self` es una referencia a la instancia actual de la clase y se utiliza para acceder a las variables que pertenecen a la clase. No tiene que ser nombrado self, puedes llamarlo como quieras, pero tiene que ser el primer parámetro de cualquier función en la clase:\n",
    "Ejemplo: Usa las palabras mysillyobject y abc en lugar de `self`:\n"
   ]
  },
  {
   "cell_type": "markdown",
   "id": "9a9e6c60",
   "metadata": {},
   "source": [
    "### `self`\n",
    "En Python, `self` es una convención que se utiliza para referirse a la instancia actual de una clase. Cuando defines métodos dentro de una clase, el primer parámetro de esos métodos generalmente se llama `self`. \n",
    "\n",
    "Aunque puedes usar cualquier nombre para este primer parámetro, usar `self` es una convención común y ampliamente aceptada en la comunidad de programadores de Python.\n",
    "\n",
    "El parámetro `self` se refiere a la instancia actual de la clase en la que se está trabajando. \n",
    "\n",
    "Cuando creas un objeto basado en una clase, este objeto es una instancia de esa clase. `self` permite que los métodos de la clase accedan y manipulen los atributos y métodos de esa instancia específica.\n",
    "\n",
    "Por ejemplo, considera la siguiente clase Person:"
   ]
  },
  {
   "cell_type": "code",
   "execution_count": 19,
   "id": "83c1e50e",
   "metadata": {},
   "outputs": [],
   "source": [
    "class Person:\n",
    "     def __init__(luffy, name , age):\n",
    "            luffy.name = name\n",
    "            luffy.age  = age   "
   ]
  },
  {
   "cell_type": "code",
   "execution_count": 20,
   "id": "1bec2996",
   "metadata": {},
   "outputs": [
    {
     "name": "stdout",
     "output_type": "stream",
     "text": [
      "<__main__.Person object at 0x12022b850>\n",
      "Jack Sparrow\n",
      "40\n"
     ]
    }
   ],
   "source": [
    "el_perla_negra = Person('Jack Sparrow', 40)  \n",
    "\n",
    "print(el_perla_negra)\n",
    "print(el_perla_negra.name)\n",
    "print(el_perla_negra.age)"
   ]
  },
  {
   "cell_type": "markdown",
   "id": "15512c03",
   "metadata": {},
   "source": [
    "### La función `__str__()`\n",
    "\n",
    "La función `__str__()` controla lo que se debe devolver cuando el objeto de clase se representa como una cadena.\n",
    "\n",
    "Si la función `__str__()` no está configurada, se devuelve la representación de cadena del objeto:\n",
    "\n",
    "Ejemplo: La representación de cadena de un objeto SIN la función `__str__()`:\n"
   ]
  },
  {
   "cell_type": "code",
   "execution_count": 13,
   "id": "c4f6a0d5",
   "metadata": {},
   "outputs": [
    {
     "name": "stdout",
     "output_type": "stream",
     "text": [
      "<__main__.Persona object at 0x1070280d0>\n"
     ]
    }
   ],
   "source": [
    "# sin str\n",
    "\n",
    "class Persona:\n",
    "    def __init__(self, name, age):\n",
    "        self.name = name\n",
    "        self.age = age\n",
    "\n",
    "info_person = Persona('john', 34)\n",
    "print(info_person)"
   ]
  },
  {
   "cell_type": "code",
   "execution_count": 16,
   "id": "4694c84b",
   "metadata": {},
   "outputs": [
    {
     "name": "stdout",
     "output_type": "stream",
     "text": [
      "john,34\n"
     ]
    }
   ],
   "source": [
    "class Persona:\n",
    "    def __init__(self, name, age):\n",
    "        self.name = name\n",
    "        self.age = age\n",
    "\n",
    "    def __str__(self):\n",
    "        return f'{self.name},{self.age}'\n",
    "\n",
    "    \n",
    "info_person = Persona('john', 34)\n",
    "print(info_person)"
   ]
  },
  {
   "cell_type": "markdown",
   "id": "0f6a329f",
   "metadata": {},
   "source": [
    "### Métodos de objeto\n",
    "Los objetos también pueden contener métodos. Los métodos en los objetos son funciones que pertenecen al objeto.\n",
    "\n",
    "Vamos a crear un método en la clase Person:\n",
    "\n",
    "Ejemplo: Inserte una función que imprima un saludo y ejecútela en el objeto p1:\n"
   ]
  },
  {
   "cell_type": "code",
   "execution_count": 53,
   "id": "79356fd3",
   "metadata": {},
   "outputs": [],
   "source": [
    "class Persona:\n",
    "    def __init__(self, fname, lname, age):\n",
    "        self.fname = fname\n",
    "        self.lname = lname\n",
    "        self.age = age\n",
    "\n",
    "    def __str__(self):\n",
    "        return f'{self.fname}, {self.lname},{self.age}'\n",
    "    \n",
    "    def my_fucnt(self):\n",
    "        print(f'Hello!, I\\'m, {self.fname},{self.lname},{self.age}')"
   ]
  },
  {
   "cell_type": "code",
   "execution_count": 56,
   "id": "d65eb443",
   "metadata": {},
   "outputs": [
    {
     "name": "stdout",
     "output_type": "stream",
     "text": [
      "Hello!, I'm, JOhn,Snow,40\n",
      "None\n"
     ]
    }
   ],
   "source": [
    "info1 = Persona('JOhn','Snow',40)\n",
    "\n",
    "print(info1.my_fucnt())"
   ]
  },
  {
   "cell_type": "markdown",
   "id": "6cc5b3c5",
   "metadata": {},
   "source": [
    "**Nota:** El parámetro self es una referencia a la instancia actual de la clase y se utiliza para acceder a las variables que pertenecen a la clase."
   ]
  },
  {
   "cell_type": "markdown",
   "id": "b30e40d4",
   "metadata": {},
   "source": [
    "En este ejemplo, la clase Person tiene un atributo skills que es una lista vacía inicialmente. Luego, se agrega el método add_skill() que toma un parámetro skill y agrega ese skill a la lista de habilidades (self.skills) de la instancia actual.\n",
    "\n",
    "Al crear una instancia de la clase Person y llamar al método add_skill(), estamos utilizando el parámetro self para acceder al atributo skills de esa instancia específica y agregar una nueva habilidad a la lista.\n",
    "\n",
    "De esta manera, puedes agregar atributos y métodos a una clase en Python y luego manipularlos utilizando la instancia creada a partir de esa clase."
   ]
  },
  {
   "cell_type": "code",
   "execution_count": 72,
   "id": "f2a4ead6",
   "metadata": {},
   "outputs": [],
   "source": [
    "class Person:\n",
    "    def __init__(self, fname, lname, age):\n",
    "        self.fname = fname\n",
    "        self.lname = lname\n",
    "        self.age = age\n",
    "        self.skill = []\n",
    "\n",
    "    def __str__(self):\n",
    "        return f'{self.fname}, {self.lname},{self.age}, {self.skill}'\n",
    "    \n",
    "    def my_fucnt(self):\n",
    "        print(f'Hello!, I\\'m, {self.fname},{self.lname},{self.age}')\n",
    "    \n",
    "    def add_skill(self,skill):\n",
    "        \"\"\"Metodo para agregar muchas habilidades\"\"\"\n",
    "        self.skill.append(skill)\n",
    "        "
   ]
  },
  {
   "cell_type": "code",
   "execution_count": 73,
   "id": "865c5c5f",
   "metadata": {},
   "outputs": [
    {
     "name": "stdout",
     "output_type": "stream",
     "text": [
      "JOhn, Snow,40, []\n"
     ]
    }
   ],
   "source": [
    "info1 = Person('JOhn','Snow',40)\n",
    "\n",
    "print(info1)"
   ]
  },
  {
   "cell_type": "code",
   "execution_count": 74,
   "id": "575bc38e",
   "metadata": {},
   "outputs": [
    {
     "name": "stdout",
     "output_type": "stream",
     "text": [
      "['Python']\n"
     ]
    }
   ],
   "source": [
    "info1.add_skill('Python')\n",
    "print(info1.skill)"
   ]
  },
  {
   "cell_type": "code",
   "execution_count": 75,
   "id": "e3a16be8",
   "metadata": {},
   "outputs": [
    {
     "name": "stdout",
     "output_type": "stream",
     "text": [
      "['Python', ['Python', 'JS', 'Desveslarse', 'COmer']]\n"
     ]
    }
   ],
   "source": [
    "info1.add_skill(['Python', 'JS', 'Desveslarse', 'COmer'])\n",
    "print(info1.skill)"
   ]
  },
  {
   "cell_type": "code",
   "execution_count": 76,
   "id": "11c7c9f0",
   "metadata": {},
   "outputs": [
    {
     "name": "stdout",
     "output_type": "stream",
     "text": [
      "['Python', ['Python', 'JS', 'Desveslarse', 'COmer'], 'Python', 'JS', 'Desveslarse', 'COmer']\n"
     ]
    }
   ],
   "source": [
    "lista = ['Python', 'JS', 'Desveslarse', 'COmer']\n",
    "\n",
    "for it in lista:\n",
    "    info1.add_skill(it)\n",
    "print(info1.skill)"
   ]
  },
  {
   "cell_type": "code",
   "execution_count": 77,
   "id": "8685c446",
   "metadata": {},
   "outputs": [
    {
     "name": "stdout",
     "output_type": "stream",
     "text": [
      "JOhn, Snow,40, ['Python', ['Python', 'JS', 'Desveslarse', 'COmer'], 'Python', 'JS', 'Desveslarse', 'COmer']\n"
     ]
    }
   ],
   "source": [
    "print(info1)"
   ]
  },
  {
   "cell_type": "markdown",
   "id": "b90f9e14",
   "metadata": {},
   "source": [
    "### Modificar propiedades de objetos\n",
    "\n",
    "Puede modificar propiedades en objetos como este:\n",
    "    \n",
    "**Ejemplo:** \n",
    "\n",
    "Establezca la edad de `person_1` en 40:\n"
   ]
  },
  {
   "cell_type": "code",
   "execution_count": 80,
   "id": "8deefd0c",
   "metadata": {},
   "outputs": [
    {
     "name": "stdout",
     "output_type": "stream",
     "text": [
      "Juan, Nieves,34, ['Python', ['Python', 'JS', 'Desveslarse', 'COmer'], 'Python', 'JS', 'Desveslarse', 'COmer']\n"
     ]
    }
   ],
   "source": [
    "info1.fname = 'Juan'\n",
    "info1.lname = 'Nieves'\n",
    "info1.age = 34\n",
    "print(info1)"
   ]
  },
  {
   "cell_type": "markdown",
   "id": "2e87495d",
   "metadata": {},
   "source": [
    "### Eliminar propiedades de objetos\n",
    "\n",
    "Puede eliminar propiedades en objetos usando la palabra clave `del`:\n",
    "\n",
    "**Ejemplo:** Elimine la propiedad de edad `del objeto person_1`:\n"
   ]
  },
  {
   "cell_type": "code",
   "execution_count": 81,
   "id": "21ac919d",
   "metadata": {},
   "outputs": [],
   "source": [
    "del info1.age"
   ]
  },
  {
   "cell_type": "code",
   "execution_count": 82,
   "id": "4611aced",
   "metadata": {},
   "outputs": [
    {
     "ename": "AttributeError",
     "evalue": "'Person' object has no attribute 'age'",
     "output_type": "error",
     "traceback": [
      "\u001b[0;31m---------------------------------------------------------------------------\u001b[0m",
      "\u001b[0;31mAttributeError\u001b[0m                            Traceback (most recent call last)",
      "Cell \u001b[0;32mIn[82], line 1\u001b[0m\n\u001b[0;32m----> 1\u001b[0m \u001b[38;5;28mprint\u001b[39m(info1)\n",
      "Cell \u001b[0;32mIn[72], line 9\u001b[0m, in \u001b[0;36mPerson.__str__\u001b[0;34m(self)\u001b[0m\n\u001b[1;32m      8\u001b[0m \u001b[38;5;28;01mdef\u001b[39;00m \u001b[38;5;21m__str__\u001b[39m(\u001b[38;5;28mself\u001b[39m):\n\u001b[0;32m----> 9\u001b[0m     \u001b[38;5;28;01mreturn\u001b[39;00m \u001b[38;5;124mf\u001b[39m\u001b[38;5;124m'\u001b[39m\u001b[38;5;132;01m{\u001b[39;00m\u001b[38;5;28mself\u001b[39m\u001b[38;5;241m.\u001b[39mfname\u001b[38;5;132;01m}\u001b[39;00m\u001b[38;5;124m, \u001b[39m\u001b[38;5;132;01m{\u001b[39;00m\u001b[38;5;28mself\u001b[39m\u001b[38;5;241m.\u001b[39mlname\u001b[38;5;132;01m}\u001b[39;00m\u001b[38;5;124m,\u001b[39m\u001b[38;5;132;01m{\u001b[39;00m\u001b[38;5;28mself\u001b[39m\u001b[38;5;241m.\u001b[39mage\u001b[38;5;132;01m}\u001b[39;00m\u001b[38;5;124m, \u001b[39m\u001b[38;5;132;01m{\u001b[39;00m\u001b[38;5;28mself\u001b[39m\u001b[38;5;241m.\u001b[39mskill\u001b[38;5;132;01m}\u001b[39;00m\u001b[38;5;124m'\u001b[39m\n",
      "\u001b[0;31mAttributeError\u001b[0m: 'Person' object has no attribute 'age'"
     ]
    }
   ],
   "source": [
    "print(info1)"
   ]
  },
  {
   "cell_type": "markdown",
   "id": "d1a5db01",
   "metadata": {},
   "source": [
    "### Eliminar objetos\n",
    "\n",
    "Puede eliminar objetos utilizando la palabra clave `del`:\n",
    "    \n",
    "Ejemplo: Eliminar el objeto p1:\n"
   ]
  },
  {
   "cell_type": "code",
   "execution_count": 83,
   "id": "9c313e47",
   "metadata": {},
   "outputs": [],
   "source": [
    "del info1"
   ]
  },
  {
   "cell_type": "code",
   "execution_count": 84,
   "id": "f7d323a4",
   "metadata": {},
   "outputs": [
    {
     "ename": "NameError",
     "evalue": "name 'info1' is not defined",
     "output_type": "error",
     "traceback": [
      "\u001b[0;31m---------------------------------------------------------------------------\u001b[0m",
      "\u001b[0;31mNameError\u001b[0m                                 Traceback (most recent call last)",
      "Cell \u001b[0;32mIn[84], line 1\u001b[0m\n\u001b[0;32m----> 1\u001b[0m \u001b[38;5;28mprint\u001b[39m(info1)\n",
      "\u001b[0;31mNameError\u001b[0m: name 'info1' is not defined"
     ]
    }
   ],
   "source": [
    "print(info1)"
   ]
  },
  {
   "cell_type": "markdown",
   "id": "1660c391",
   "metadata": {},
   "source": [
    "### La declaración de `pass`\n",
    "\n",
    "Las definiciones `class` no pueden estar vacías, pero si por algún motivo tiene una definición class sin contenido, introdúzcala en la declaración pass para evitar que se produzca un error.\n"
   ]
  },
  {
   "cell_type": "code",
   "execution_count": 85,
   "id": "6a076e8d",
   "metadata": {},
   "outputs": [],
   "source": [
    "class Personita:\n",
    "    pass"
   ]
  },
  {
   "cell_type": "code",
   "execution_count": 86,
   "id": "3b366af2",
   "metadata": {},
   "outputs": [
    {
     "name": "stdout",
     "output_type": "stream",
     "text": [
      "<class '__main__.Personita'>\n"
     ]
    }
   ],
   "source": [
    "p = Personita\n",
    "print(p)"
   ]
  },
  {
   "cell_type": "code",
   "execution_count": 112,
   "id": "e18880ff",
   "metadata": {},
   "outputs": [],
   "source": [
    "class Info_usuario:\n",
    "    def __init__(self, name, lname,age):\n",
    "        self.name = name\n",
    "        self.lname = lname\n",
    "        self.age = age\n",
    "        self.information = []\n",
    "    \n",
    "    def __str__(self):\n",
    "        return f'El nombre es {self.name} y la edad es {self.age}'\n",
    "    \n",
    "    def add_info(self, info):\n",
    "        self.information.append(info)"
   ]
  },
  {
   "cell_type": "code",
   "execution_count": 122,
   "id": "ac66ac51",
   "metadata": {},
   "outputs": [
    {
     "name": "stdout",
     "output_type": "stream",
     "text": [
      "El nombre es nombre 1 y la edad es 34\n"
     ]
    }
   ],
   "source": [
    "eventAttendance = Info_usuario('nombre 1', 'apellido 1', 34) \n",
    "\n",
    "eventAttendance.add_info('ANime')\n",
    "print(eventAttendance)"
   ]
  },
  {
   "cell_type": "code",
   "execution_count": 121,
   "id": "3fe5bd03",
   "metadata": {},
   "outputs": [
    {
     "name": "stdout",
     "output_type": "stream",
     "text": [
      "El nombre es nombre 1 y la edad es 37\n"
     ]
    }
   ],
   "source": [
    "asistenciaClase = Info_usuario('nombre 1', 'apellido 1', 37) \n",
    "asistenciaClase.add_info('PRoggramacion I')\n",
    "print(asistenciaClase)"
   ]
  },
  {
   "cell_type": "code",
   "execution_count": 107,
   "id": "146f79db",
   "metadata": {},
   "outputs": [],
   "source": [
    "edadCurso = Info_usuario('nombre 1', 'apellido 1', 38) \n",
    "edadCurso.add_info('Asistencias al curso')\n"
   ]
  },
  {
   "cell_type": "markdown",
   "id": "89a1dfcc",
   "metadata": {},
   "source": [
    "### Ejemplos y Ejercicios"
   ]
  },
  {
   "cell_type": "markdown",
   "id": "9afc2411",
   "metadata": {},
   "source": [
    "### Ejemplo 1 :   Crear una Clase de Carro\n",
    "\n",
    "Crea una clase llamada `Car` que tenga los atributos `brand` (marca), `model` (modelo) y `year` (año). Luego, crea una instancia de la clase y muestra la información del coche."
   ]
  },
  {
   "cell_type": "code",
   "execution_count": 91,
   "id": "f89df927",
   "metadata": {},
   "outputs": [],
   "source": [
    "class Car:\n",
    "    def __init__(self, brand, model, year):\n",
    "        self.brand = brand\n",
    "        self.model = model \n",
    "        self.year = year\n",
    "    \n",
    "    def __str__(self):\n",
    "        return f'{self.brand},{self.model},{self.year}'"
   ]
  },
  {
   "cell_type": "code",
   "execution_count": 92,
   "id": "10580b9a",
   "metadata": {},
   "outputs": [],
   "source": [
    "carrito = Car('Troncomovil','piedra', 300)"
   ]
  },
  {
   "cell_type": "code",
   "execution_count": 93,
   "id": "704cd0fd",
   "metadata": {},
   "outputs": [
    {
     "name": "stdout",
     "output_type": "stream",
     "text": [
      "Troncomovil,piedra,300\n"
     ]
    }
   ],
   "source": [
    "print(carrito)"
   ]
  },
  {
   "cell_type": "markdown",
   "id": "758da6ff",
   "metadata": {},
   "source": [
    "### Ejemplo 2:  Clase de Estudiante\n",
    "\n",
    "Crea una clase llamada `Student` que tenga los atributos `name `(nombre), `age` (edad) y `grades` (calificaciones como una lista). \n",
    "\n",
    "Agrega un método `add_grade()` para permitir que se agreguen calificaciones a la lista. \n",
    "\n",
    "Luego, muestra el nombre, edad y calificaciones del estudiante."
   ]
  },
  {
   "cell_type": "code",
   "execution_count": 96,
   "id": "955ff3c3",
   "metadata": {},
   "outputs": [],
   "source": [
    "class Student:\n",
    "    def __init__(self, name, age):\n",
    "        self.name = name\n",
    "        self.age = age\n",
    "        self.grades = []\n",
    "    \n",
    "    def __str__(self):\n",
    "        return f'El nombre es {self.name} y la edad es {self.age}'\n",
    "    \n",
    "    def add_grades(self, grade):\n",
    "        self.grades.append(grade)\n",
    "    \n",
    "    "
   ]
  },
  {
   "cell_type": "code",
   "execution_count": 100,
   "id": "b962544e",
   "metadata": {},
   "outputs": [],
   "source": [
    "estudiantes = Student('JOhn',24)\n",
    "estudiantes.add_grades([10,9,8,7,6,4])"
   ]
  },
  {
   "cell_type": "code",
   "execution_count": 102,
   "id": "7ebc6c56",
   "metadata": {},
   "outputs": [
    {
     "name": "stdout",
     "output_type": "stream",
     "text": [
      "El nombre es JOhn y la edad es 24\n"
     ]
    },
    {
     "data": {
      "text/plain": [
       "(None, [[10, 9, 8, 7, 6, 4]])"
      ]
     },
     "execution_count": 102,
     "metadata": {},
     "output_type": "execute_result"
    }
   ],
   "source": [
    "print(estudiantes), estudiantes.grades"
   ]
  },
  {
   "cell_type": "markdown",
   "id": "612d21ac",
   "metadata": {},
   "source": [
    "### Ejercicio 3: Clase de Círculo\n",
    "\n",
    "Crea una clase llamada `Circle` que tenga el atributo `radius` (radio). \n",
    "\n",
    "Agrega métodos para calcular el área y el perímetro del círculo. \n",
    "\n",
    "Luego, crea una instancia de la clase y muestra el área y el perímetro."
   ]
  },
  {
   "cell_type": "code",
   "execution_count": null,
   "id": "9cf989fe",
   "metadata": {},
   "outputs": [],
   "source": []
  },
  {
   "cell_type": "markdown",
   "id": "515db9d8",
   "metadata": {},
   "source": [
    "### Ejercicio 4: Clase de Libro\n",
    "Crea una clase llamada `Book` que tenga los atributos `title` (título), `author` (autor) y `year` (año de publicación). \n",
    "\n",
    "Agrega un método `get_info()` para mostrar la información del libro. \n",
    "\n",
    "Luego, crea una instancia de la clase y muestra la información del libro."
   ]
  },
  {
   "cell_type": "code",
   "execution_count": null,
   "id": "b0c1a28a",
   "metadata": {},
   "outputs": [],
   "source": []
  },
  {
   "cell_type": "markdown",
   "id": "30a1efb8",
   "metadata": {},
   "source": [
    "### Ejercicio:"
   ]
  },
  {
   "cell_type": "markdown",
   "id": "0c813b60",
   "metadata": {},
   "source": [
    "### Ejercicio 1: Clase de Banco\n",
    "\n",
    "Crea una clase llamada `Bank` que permita a los usuarios realizar transacciones bancarias como depósitos y retiros. \n",
    "\n",
    "La clase debe llevar un registro de los saldos de las cuentas y debe tener métodos para realizar `depósitos`, `retiros` y `mostrar el saldo`."
   ]
  },
  {
   "cell_type": "code",
   "execution_count": 8,
   "id": "0f0270de",
   "metadata": {},
   "outputs": [],
   "source": [
    "class Bank:\n",
    "    def __init__(self):\n",
    "        #agregamos un diccionario\n",
    "        self.accounts = {}\n",
    "        \n",
    "    def deposit(self, account_number, amount):\n",
    "        if account_number in self.accounts:\n",
    "            self.accounts[account_number] += amount #actualizar saldos\n",
    "        else:\n",
    "            self.accounts[account_number] = amount # crear cuentas\n",
    "        \n",
    "    \n",
    "    def withdraw(self, account_number, amount):\n",
    "        if account_number in self.accounts:\n",
    "            if self.accounts[account_number] >= amount:\n",
    "                self.accounts[account_number] -= amount\n",
    "            else:\n",
    "                print('Fondos insuficientes')\n",
    "            \n",
    "        else:\n",
    "            print('Cuenta no. encontrada')\n",
    "        \n",
    "        \n",
    "    def balance(self, account_number):\n",
    "        return print('$',self.accounts.get(account_number, 0))"
   ]
  },
  {
   "cell_type": "code",
   "execution_count": 9,
   "id": "bc3cd8f1",
   "metadata": {},
   "outputs": [],
   "source": [
    "bank_account = Bank()"
   ]
  },
  {
   "cell_type": "code",
   "execution_count": 10,
   "id": "1ae20305",
   "metadata": {},
   "outputs": [
    {
     "name": "stdout",
     "output_type": "stream",
     "text": [
      "$ 0\n"
     ]
    }
   ],
   "source": [
    "bank_account.balance('AN001')"
   ]
  },
  {
   "cell_type": "markdown",
   "id": "7cff69e8",
   "metadata": {},
   "source": [
    "### Ejercicio 2: Clase de Tienda en Línea\n",
    "\n",
    "Crea una clase llamada `OnlineStore` que represente una tienda en línea. \n",
    "\n",
    "La clase debe tener métodos para agregar productos al inventario, realizar compras y mostrar el total de ventas. \n",
    "\n",
    "Implementa la capacidad de realizar descuentos en ciertos productos y de aplicar impuestos a las compras."
   ]
  },
  {
   "cell_type": "code",
   "execution_count": null,
   "id": "42f352a2",
   "metadata": {},
   "outputs": [],
   "source": []
  },
  {
   "cell_type": "markdown",
   "id": "d28e030f",
   "metadata": {},
   "source": [
    "### Ejercicio 3: Clase de Figuras Geométricas\n",
    "\n",
    "Crea una clase abstracta `Shape` con métodos para calcular el área y el perímetro.\n",
    "\n",
    "Luego, crea subclases para representar diferentes figuras geométricas como cuadrados, rectángulos y círculos. \n",
    "\n",
    "Implementa los cálculos de área y perímetro para cada subclase."
   ]
  },
  {
   "cell_type": "code",
   "execution_count": null,
   "id": "a8df35fe",
   "metadata": {},
   "outputs": [],
   "source": []
  },
  {
   "cell_type": "markdown",
   "id": "0b8a1abb",
   "metadata": {},
   "source": [
    "## Ejercicios de Tarea:"
   ]
  },
  {
   "cell_type": "markdown",
   "id": "02332bd1",
   "metadata": {},
   "source": [
    "### Ejercicio 1: Sistema de Biblioteca\n",
    "\n",
    "Crea una clase llamada `Library` que simule un sistema de biblioteca. La clase debe tener métodos para agregar libros, prestar libros y mostrar la lista de libros disponibles.\n"
   ]
  },
  {
   "cell_type": "markdown",
   "id": "7af88a79",
   "metadata": {},
   "source": [
    "### Ejercicio 2: Registro de Empleados\n",
    "\n",
    "Crea una clase llamada `Employee` que represente a un empleado en una empresa. La clase debe tener métodos para registrar la asistencia diaria, registrar horas trabajadas y calcular el salario basado en las horas trabajadas."
   ]
  },
  {
   "cell_type": "markdown",
   "id": "b99d801d",
   "metadata": {},
   "source": [
    "### Ejercicio 3: Calculadora Avanzada\n",
    "\n",
    "Crea una clase llamada `Calculator` que sea capaz de realizar operaciones matemáticas avanzadas como exponentes y raíces cuadradas. La clase debe tener métodos para realizar estas operaciones."
   ]
  },
  {
   "cell_type": "markdown",
   "id": "0b5aa873",
   "metadata": {},
   "source": [
    "### Ejercicio 4: Juego de Adivinanza\n",
    "\n",
    "Crea una clase llamada `GuessingGame` que simule un juego de adivinanzas. La clase debe generar un número aleatorio y permitir que el jugador adivine el número. Debe proporcionar pistas si el número es mayor o menor que el número a adivinar."
   ]
  },
  {
   "cell_type": "markdown",
   "id": "58a5372b",
   "metadata": {},
   "source": [
    "### Un simulador de banco utilizando clases\n",
    "Simulador de Banco - Ejercicio Práctico\n",
    "\n",
    "Objetivo:\n",
    "Crear un programa en Python que simule un banco y permita realizar operaciones bancarias para diferentes clientes utilizando clases.\n",
    "\n",
    "Instrucciones:\n",
    "\n",
    "Crear la Clase Cliente:\n",
    "\n",
    "Define una clase llamada Cliente. Cada cliente debe tener los siguientes atributos:\n",
    "\n",
    "nombre (cadena): Nombre del cliente.\n",
    "saldo (flotante): Saldo inicial del cliente.\n",
    "\n",
    "Además, implementa los siguientes métodos dentro de la clase Cliente:\n",
    "\n",
    "depositar(cantidad): Recibe una cantidad y agrega ese valor al saldo del cliente. Si la cantidad es positiva, muestra un mensaje de depósito exitoso y el nuevo saldo. Si es negativa, muestra un mensaje de cantidad inválida.\n",
    " \n",
    "retirar(cantidad): Recibe una cantidad y resta ese valor del saldo del cliente. Si la cantidad es mayor que cero y menor o igual al saldo, muestra un mensaje de retiro exitoso y el nuevo saldo. Si es negativa o mayor al saldo, muestra un mensaje de cantidad inválida.\n",
    "\n",
    "consultar_saldo(): Muestra el saldo actual del cliente.\n",
    "\n",
    "Crear la Clase Banco:\n",
    "Define una clase llamada Banco. Cada banco debe tener los siguientes atributos:\n",
    "\n",
    "nombre (cadena): Nombre del banco.\n",
    "\n",
    "clientes (lista): Lista que almacenará los objetos Cliente.\n",
    "\n",
    "\n",
    "Además, implementa los siguientes métodos dentro de la clase Banco:\n",
    "\n",
    "agregar_cliente(cliente): Recibe un objeto Cliente y lo agrega a la lista de clientes del banco. \n",
    "\n",
    "Muestra un mensaje de cliente agregado.\n",
    "\n",
    "mostrar_clientes(): Muestra la lista de nombres de los clientes del banco.\n",
    "\n",
    "Crear el Programa Principal:\n",
    "\n",
    "Crea una instancia de la clase Banco con un nombre específico, por ejemplo, \"Banco XYZ\". \n",
    "\n",
    "Luego, crea instancias de la clase Cliente con diferentes nombres y saldos iniciales. \n",
    "\n",
    "Agrega estos clientes al banco utilizando el método agregar_cliente.\n",
    "\n",
    "Luego, permite realizar operaciones bancarias para cada cliente. Pide al usuario que elija entre depósito, retiro o consulta de saldo, y solicita la cantidad correspondiente. Realiza las operaciones utilizando los métodos de la clase Cliente.\n",
    "\n",
    "Finalmente, muestra la lista de clientes del banco utilizando el método mostrar_clientes.\n",
    "\n",
    "Nota:\n",
    "Asegúrate de utilizar el concepto de encapsulación y métodos para realizar las operaciones dentro de las clases."
   ]
  },
  {
   "cell_type": "markdown",
   "id": "8aea96ff",
   "metadata": {},
   "source": [
    "Bienvenido al Simulador de Banco - Banco XYZ\n",
    "\n",
    "1. Agregar Cliente\n",
    "2. Realizar Operaciones Bancarias\n",
    "3. Mostrar Clientes\n",
    "4. Salir\n",
    "\n",
    "Elige una opción: 1\n",
    "\n",
    "Ingresa el nombre del cliente: Juan Pérez\n",
    "Ingresa el saldo inicial: 5000\n",
    "Cliente Juan Pérez agregado al Banco XYZ.\n",
    "\n",
    "Elige una opción: 1\n",
    "\n",
    "Ingresa el nombre del cliente: María González\n",
    "Ingresa el saldo inicial: 10000\n",
    "Cliente María González agregado al Banco XYZ.\n",
    "\n",
    "Elige una opción: 2\n",
    "\n",
    "Elige un cliente (1: Juan Pérez, 2: María González): 1\n",
    "\n",
    "1. Depositar\n",
    "2. Retirar\n",
    "3. Consultar Saldo\n",
    "\n",
    "Elige una operación: 1\n",
    "\n",
    "Ingresa la cantidad a depositar: 2000\n",
    "Depósito de $2000 realizado. Nuevo saldo: $7000\n",
    "\n",
    "Elige una opción: 2\n",
    "\n",
    "Ingresa la cantidad a retirar: 1500\n",
    "Retiro de $1500 realizado. Nuevo saldo: $5500\n",
    "\n",
    "Elige una opción: 3\n",
    "\n",
    "Saldo actual de Juan Pérez: $5500\n",
    "\n",
    "Elige una opción: 2\n",
    "\n",
    "Elige un cliente (1: Juan Pérez, 2: María González): 2\n",
    "\n",
    "1. Depositar\n",
    "2. Retirar\n",
    "3. Consultar Saldo\n",
    "\n",
    "Elige una operación: 1\n",
    "\n",
    "Ingresa la cantidad a depositar: 500\n",
    "Depósito de $500 realizado. Nuevo saldo: $10500\n",
    "\n",
    "Elige una opción: 2\n",
    "\n",
    "Ingresa la cantidad a retirar: 7000\n",
    "Retiro de $7000 realizado. Nuevo saldo: $3500\n",
    "\n",
    "Elige una opción: 3\n",
    "\n",
    "Saldo actual de María González: $3500\n",
    "\n",
    "Elige una opción: 3\n",
    "\n",
    "Clientes del Banco XYZ:\n",
    "- Juan Pérez\n",
    "- María González\n"
   ]
  },
  {
   "cell_type": "code",
   "execution_count": null,
   "id": "67966d31",
   "metadata": {},
   "outputs": [],
   "source": []
  }
 ],
 "metadata": {
  "kernelspec": {
   "display_name": "Python 3 (ipykernel)",
   "language": "python",
   "name": "python3"
  },
  "language_info": {
   "codemirror_mode": {
    "name": "ipython",
    "version": 3
   },
   "file_extension": ".py",
   "mimetype": "text/x-python",
   "name": "python",
   "nbconvert_exporter": "python",
   "pygments_lexer": "ipython3",
   "version": "3.11.4"
  },
  "nbTranslate": {
   "displayLangs": [
    "*"
   ],
   "hotkey": "alt-t",
   "langInMainMenu": true,
   "sourceLang": "en",
   "targetLang": "fr",
   "useGoogleTranslate": true
  }
 },
 "nbformat": 4,
 "nbformat_minor": 5
}
