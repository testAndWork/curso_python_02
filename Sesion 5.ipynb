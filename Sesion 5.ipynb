{
 "cells": [
  {
   "cell_type": "markdown",
   "id": "9c8c537c",
   "metadata": {},
   "source": [
    "\n",
    "\n",
    "# <span style=\"color:darkblue\">Módulo 1 - Introducción a la programación con Python </span>\n",
    "\n",
    "## <span style=\"color:darkblue\">Sesión: 5 - Estructuras de Decisión</span>\n",
    "\n",
    "### <span style=\"color:darkblue\">Duración estimada:\t4 horas</span>\n",
    "\n",
    "#### <span style=\"color:darkblue\">En marco del proyecto: “EMPLEO JOVEN ES”</span>"
   ]
  },
  {
   "cell_type": "markdown",
   "id": "42a8be22",
   "metadata": {},
   "source": [
    "## <span style=\"color:darkblue\"> Tabla de contenidos:\n",
    " \n",
    "    1- Bienvenida\n",
    "    \n",
    "    2- Asistencia\n",
    "    \n",
    "    3- Dudas de la Clase anterior\n",
    "    \n",
    "    4- Control de Lectura\n",
    "    \n",
    "    5- Objetivo\n",
    "    \n",
    "    6- Introducción\n",
    "    \n",
    "    7- Sentencia `if`\n",
    "    \n",
    "    8- Sangria\n",
    "    \n",
    "    9- Sentencia `elif`\n",
    "    \n",
    "    10-Sentencia `else`\n",
    "    \n",
    "    12-Sentencia `if` corta o abreviada\n",
    "    \n",
    "    13-Sentencia `else if` abreviada\n",
    "    \n",
    "    14- Operador Lógico AND\n",
    "    \n",
    "    15- Operador Lógico OR\n",
    "    \n",
    "    16- Operador Lógico NOT\n",
    "    \n",
    "    17- Sentencia `if` anidados\n",
    "    \n",
    "    18- Declaracion pass\n",
    "    \n",
    "    19- Asistencia\n",
    "    \n",
    "    20 - Tarea\n",
    "</span>"
   ]
  },
  {
   "cell_type": "markdown",
   "id": "51ae1b4d",
   "metadata": {},
   "source": [
    "### <span style=\"color:darkred\">Objetivo:</span>\n",
    "\n",
    "Poder crear programas que puedan tomar decisiones basadas en condiciones. Las estructuras de decisión son herramientas fundamentales en la programación, ya que permiten que los programas realicen tareas diferentes según las condiciones que se cumplan. \n",
    "\n",
    "### <span style=\"color:darkred\">Recursos</span>\n",
    "\n",
    "•\tSesión 5 de Curso de Python\n",
    "\n",
    "•\tAcceso a internet\n",
    "\n",
    "•\tPython Instalado en computadora\n",
    "\n",
    "•\tVisual Studio Code\n",
    "\n",
    "### <span style=\"color:darkred\">Introducción:</span>\n",
    "\n",
    "Python es un lenguaje de programación de alto nivel, diseñado para ser fácil de aprender y entender. Una de las características más importantes de Python son las estructuras de decisión, que permiten que los programas tomen decisiones basadas en condiciones específicas. \n",
    "\n",
    "Estas estructuras de decisión son herramientas fundamentales en Python y son utilizadas por programadores de todo el mundo.\n",
    "\n",
    "Aprender a utilizar las estructuras de decisión en Python puede ser muy útil para una amplia gama de aplicaciones. \n",
    "\n",
    "Desde la automatización de tareas cotidianas hasta el análisis de datos y la inteligencia artificial, las estructuras de decisión en Python pueden ayudarte a crear programas más eficientes y efectivos. \n",
    "\n",
    "###  <span style=\"color:darkred\">Sentencias `If`</span>\n",
    "\n",
    "Python admite las condiciones lógicas habituales de las matemáticas:\n",
    "\n",
    "\n",
    "<table> <thead> <tr> <th>Operador</th> <th>Significado</th> </tr> </thead> <tbody> <tr> <td>a == b</td> <td>Es igual a</td> </tr> <tr> <td>a != b</td> <td>No es igual a</td> </tr> <tr> <td>a < b</td> <td>Menos que</td> </tr> <tr> <td>a <= b</td> <td>Menor o igual que</td> </tr> <tr> <td>a > b</td> <td>Mayor que</td> </tr> <tr> <td>a >= b</td> <td>Mayor o igual que</td> </tr> </tbody> </table>\n",
    "\n",
    "\n",
    "Estas condiciones se pueden usar de varias maneras, más comúnmente en \"sentencias if\" y bucles.\n",
    "\n",
    "Una \"sentencia if\" se escribe utilizando la palabra clave if .\n",
    "\n",
    "<img src=\"./images/05.png\">\n",
    "\n"
   ]
  },
  {
   "cell_type": "markdown",
   "id": "52ef36f4",
   "metadata": {},
   "source": []
  },
  {
   "cell_type": "code",
   "execution_count": 2,
   "id": "5d512399",
   "metadata": {},
   "outputs": [
    {
     "name": "stdout",
     "output_type": "stream",
     "text": [
      "Contrasenia correcta\n"
     ]
    }
   ],
   "source": [
    "# Verificar una contraseña\n",
    "\n",
    "password = 'python1234'\n",
    "\n",
    "if password == 'python1234':\n",
    "    print('Contrasenia correcta')"
   ]
  },
  {
   "cell_type": "code",
   "execution_count": 4,
   "id": "5c0ff12f",
   "metadata": {},
   "outputs": [
    {
     "name": "stdout",
     "output_type": "stream",
     "text": [
      "El número es par\n"
     ]
    }
   ],
   "source": [
    "num = 40\n",
    "\n",
    "if num % 2 == 0:\n",
    "    print('El número es par')"
   ]
  },
  {
   "cell_type": "code",
   "execution_count": 6,
   "id": "db4f6b1c",
   "metadata": {},
   "outputs": [
    {
     "name": "stdout",
     "output_type": "stream",
     "text": [
      "El numero es múltiplo de 5\n"
     ]
    }
   ],
   "source": [
    "# %-> es el mod(a,b)\n",
    "\n",
    "if num % 5 == 0:\n",
    "    print('El numero es múltiplo de 5')"
   ]
  },
  {
   "cell_type": "markdown",
   "id": "832fb1da",
   "metadata": {},
   "source": [
    "### <span style=\"color:darkred\">Sangría</span>\n",
    "\n",
    "Python se basa en la sangría (espacio en blanco al comienzo de una línea) para definir el alcance en el código. Otros lenguajes de programación a menudo usan corchetes para este propósito.\n"
   ]
  },
  {
   "cell_type": "code",
   "execution_count": 13,
   "id": "b256e668",
   "metadata": {},
   "outputs": [
    {
     "ename": "IndentationError",
     "evalue": "expected an indented block (3561011237.py, line 2)",
     "output_type": "error",
     "traceback": [
      "\u001b[0;36m  Input \u001b[0;32mIn [13]\u001b[0;36m\u001b[0m\n\u001b[0;31m    print('Es multiplo de 4')\u001b[0m\n\u001b[0m    ^\u001b[0m\n\u001b[0;31mIndentationError\u001b[0m\u001b[0;31m:\u001b[0m expected an indented block\n"
     ]
    }
   ],
   "source": [
    "if num % 4 == 0:\n",
    "print('Es multiplo de 4')"
   ]
  },
  {
   "cell_type": "code",
   "execution_count": 14,
   "id": "de604adb",
   "metadata": {},
   "outputs": [
    {
     "name": "stdout",
     "output_type": "stream",
     "text": [
      "Es multiplo de 4\n"
     ]
    }
   ],
   "source": [
    "if num % 4 == 0:\n",
    "                print('Es multiplo de 4')"
   ]
  },
  {
   "cell_type": "code",
   "execution_count": 15,
   "id": "b24bdf8b",
   "metadata": {},
   "outputs": [
    {
     "name": "stdout",
     "output_type": "stream",
     "text": [
      "Es multiplo de 4\n"
     ]
    }
   ],
   "source": [
    "if num % 4 == 0:\n",
    "    print('Es multiplo de 4')"
   ]
  },
  {
   "cell_type": "markdown",
   "id": "d242ac26",
   "metadata": {},
   "source": [
    "###   <span style=\"color:darkred\">Sentencia `elif`</span>\n",
    "\n",
    "La palabra clave `elif` es la forma en que Python dice `\"si las condiciones anteriores no fueron ciertas, intente con esta condición\".`"
   ]
  },
  {
   "cell_type": "code",
   "execution_count": 18,
   "id": "43dc733a",
   "metadata": {},
   "outputs": [
    {
     "name": "stdout",
     "output_type": "stream",
     "text": [
      "Los números son iguales \n"
     ]
    }
   ],
   "source": [
    "x = 4\n",
    "y = 4\n",
    "\n",
    "if x > y:\n",
    "    print(f'El número mayor es x = {x}')\n",
    "elif x == y:\n",
    "    print('Los números son iguales ')"
   ]
  },
  {
   "cell_type": "markdown",
   "id": "fefee5e6",
   "metadata": {},
   "source": [
    "###   <span style=\"color:darkred\">Sentencia `else`</span>\n",
    "También puede tener un else sin el elif:"
   ]
  },
  {
   "cell_type": "code",
   "execution_count": 25,
   "id": "25e8015d",
   "metadata": {},
   "outputs": [
    {
     "name": "stdout",
     "output_type": "stream",
     "text": [
      "x puede ser menor o igual que y\n"
     ]
    }
   ],
   "source": [
    "x = 1\n",
    "y = 4\n",
    "\n",
    "if x > y:\n",
    "    print(f'El número mayor es x = {x}')\n",
    "\n",
    "else:\n",
    "    print('x puede ser menor o igual que y')"
   ]
  },
  {
   "cell_type": "code",
   "execution_count": 26,
   "id": "f85ab89d",
   "metadata": {},
   "outputs": [
    {
     "name": "stdout",
     "output_type": "stream",
     "text": [
      "x puede ser menor y\n"
     ]
    }
   ],
   "source": [
    "#case 1\n",
    "if x > y:\n",
    "    print(f'El número mayor es x = {x}')\n",
    "\n",
    "    \n",
    "#case 2\n",
    "elif  x == y:\n",
    "    print('La variables son iguales')\n",
    "    \n",
    "#case 3    \n",
    "elif x < y:\n",
    "    print('x es menor que y')\n",
    "    \n",
    "#case: default    \n",
    "else:\n",
    "    print('Ninguno de los anteriores')"
   ]
  },
  {
   "cell_type": "markdown",
   "id": "06b6a1c6",
   "metadata": {},
   "source": [
    "### <span style=\"color:darkred\">Resumen del uso de `if`, `elif` y `else`</span>\n",
    "\n",
    "\n",
    "#### `if`: \n",
    "La sentencia `if` se utiliza para ejecutar un bloque de código si una condición dada es verdadera (True). Si la condición es cierta, el bloque de código indentado después del if se ejecutará. Si la condición es falsa (False), el bloque no se ejecutará.\n",
    "\n",
    "#### `elif`: \n",
    "La sentencia `elif` (abreviatura de \"else if\") se utiliza para evaluar condiciones adicionales si la condición anterior al `if` o al `elif` resulta falsa.\n",
    "\n",
    "<span style=\"color:darkgreen\">_Puedes tener múltiples bloques `elif` después de un `if` y antes de un posible `else`_.</span>\n",
    "\n",
    "#### `else`: \n",
    "La sentencia else se utiliza para ejecutar un bloque de código si ninguna de las condiciones anteriores (en el `if` y `elif`) es verdadera. \n",
    "\n",
    "<span style=\"color:darkgreen\">_Es una especie de \"opción por defecto\" en caso de que ninguna de las condiciones anteriores se cumpla_.</span>"
   ]
  },
  {
   "cell_type": "code",
   "execution_count": 28,
   "id": "186c9ea8",
   "metadata": {},
   "outputs": [],
   "source": [
    "n = 4\n",
    "if n == 3:\n",
    "    print('Verdadero')"
   ]
  },
  {
   "cell_type": "code",
   "execution_count": 30,
   "id": "61a573c3",
   "metadata": {},
   "outputs": [
    {
     "name": "stdout",
     "output_type": "stream",
     "text": [
      "Ingrese el valor867576\n",
      "Es multiplo de 2\n"
     ]
    }
   ],
   "source": [
    "valor = int(input('Ingrese el valor'))\n",
    "\n",
    "if valor %2 == 0:\n",
    "    print('Es multiplo de 2')\n",
    "elif valor %3 == 0:\n",
    "    print('Es multiplo de 3')\n",
    "elif valor %4 == 0:\n",
    "    print('Es multiplo de 4')\n",
    "elif valor %5 == 0:\n",
    "    print('Es multiplo de 5')\n",
    "elif valor % 7:\n",
    "    print('Es multiplo de 7')"
   ]
  },
  {
   "cell_type": "code",
   "execution_count": 37,
   "id": "995118c4",
   "metadata": {},
   "outputs": [
    {
     "name": "stdout",
     "output_type": "stream",
     "text": [
      "Ingrese el valor 2345354568567867589678\n",
      "Es multiplo de 2\n"
     ]
    }
   ],
   "source": [
    "valor = int(input('Ingrese el valor '))\n",
    "\n",
    "if valor %2 == 0:\n",
    "    print('Es multiplo de 2')\n",
    "elif valor %3 == 0:\n",
    "    print('Es multiplo de 3')\n",
    "elif valor %4 == 0:\n",
    "    print('Es multiplo de 4')\n",
    "elif valor %5 == 0:\n",
    "    print('Es multiplo de 5')\n",
    "elif valor % 7:\n",
    "    print('Es multiplo de 7')\n",
    "else:\n",
    "    print('No se pudo identificar su multiplo')"
   ]
  },
  {
   "cell_type": "code",
   "execution_count": 38,
   "id": "8e97f062",
   "metadata": {},
   "outputs": [
    {
     "data": {
      "text/plain": [
       "1"
      ]
     },
     "execution_count": 38,
     "metadata": {},
     "output_type": "execute_result"
    }
   ],
   "source": [
    "7%3"
   ]
  },
  {
   "cell_type": "markdown",
   "id": "6c4b831a",
   "metadata": {},
   "source": [
    "$$\\int e^x sen(x)dx = ?$$\n",
    "\n",
    "$u = ?$\n",
    "\n",
    "$dv = ? $\n"
   ]
  },
  {
   "cell_type": "markdown",
   "id": "1d98f19a",
   "metadata": {},
   "source": [
    "## <span style=\"color:darkorange\">Abreviaciones de las Sentencias</span>\n",
    "\n",
    "### <span style=\"color:darkblue\">Sentencia `if` corta o abreviada</span>\n",
    "\n",
    "Si solo tiene una declaración para ejecutar, puede colocarla en la misma línea que la declaración `if`."
   ]
  },
  {
   "cell_type": "code",
   "execution_count": 40,
   "id": "90a2e614",
   "metadata": {},
   "outputs": [],
   "source": [
    "x = 6\n",
    "y = 5"
   ]
  },
  {
   "cell_type": "code",
   "execution_count": 42,
   "id": "2c703c41",
   "metadata": {},
   "outputs": [
    {
     "name": "stdout",
     "output_type": "stream",
     "text": [
      "a es mayor que b\n"
     ]
    }
   ],
   "source": [
    "if x > y:\n",
    "    print('a es mayor que b')"
   ]
  },
  {
   "cell_type": "code",
   "execution_count": 43,
   "id": "74a8d662",
   "metadata": {},
   "outputs": [
    {
     "name": "stdout",
     "output_type": "stream",
     "text": [
      "a es mayor que b\n"
     ]
    }
   ],
   "source": [
    "if x > y: print('a es mayor que b')"
   ]
  },
  {
   "cell_type": "markdown",
   "id": "a5ffaee7",
   "metadata": {},
   "source": [
    "### <span style=\"color:darkblue\">Sentencia `else` `if` abreviada</span>\n",
    "\n",
    "Si solo tiene una declaración para ejecutar, una para `if` y otra para `else`, puede ponerlas todas en la misma línea:\n",
    "\n",
    "### syntax\n",
    "\n",
    "code `if` condition `else` code\n"
   ]
  },
  {
   "cell_type": "code",
   "execution_count": null,
   "id": "88ba4bb0",
   "metadata": {},
   "outputs": [],
   "source": [
    "x = 3"
   ]
  },
  {
   "cell_type": "code",
   "execution_count": 44,
   "id": "1460aaa1",
   "metadata": {},
   "outputs": [
    {
     "name": "stdout",
     "output_type": "stream",
     "text": [
      " x es positivo\n"
     ]
    }
   ],
   "source": [
    "if x > 0:\n",
    "    print(' x es positivo')\n",
    "else:\n",
    "    print('el número es negativo')"
   ]
  },
  {
   "cell_type": "code",
   "execution_count": 45,
   "id": "46668e13",
   "metadata": {},
   "outputs": [
    {
     "name": "stdout",
     "output_type": "stream",
     "text": [
      "x es positivo\n"
     ]
    }
   ],
   "source": [
    "print('x es positivo') if x > 0 else print('el número es negativo')"
   ]
  },
  {
   "cell_type": "code",
   "execution_count": 51,
   "id": "88021497",
   "metadata": {},
   "outputs": [],
   "source": [
    "def  compara(x):\n",
    "    if x > 0:\n",
    "        print(' x es positivo')\n",
    "    else:\n",
    "        print('el número es negativo')\n",
    "    return x"
   ]
  },
  {
   "cell_type": "code",
   "execution_count": 53,
   "id": "673cce23",
   "metadata": {},
   "outputs": [],
   "source": [
    "def  comparar(x):\n",
    "    return (print('x es positivo') if x > 0 else print('el número es negativo'))"
   ]
  },
  {
   "cell_type": "code",
   "execution_count": 54,
   "id": "9621442b",
   "metadata": {},
   "outputs": [
    {
     "name": "stdout",
     "output_type": "stream",
     "text": [
      "x es positivo\n"
     ]
    }
   ],
   "source": [
    "comparar(5)"
   ]
  },
  {
   "cell_type": "code",
   "execution_count": 49,
   "id": "0a43c619",
   "metadata": {},
   "outputs": [
    {
     "name": "stdout",
     "output_type": "stream",
     "text": [
      "el mayor es y\n"
     ]
    }
   ],
   "source": [
    "x = 6\n",
    "y = 6 \n",
    "\n",
    "print('El mayor es x') if x > y else print('el mayor es y')"
   ]
  },
  {
   "cell_type": "markdown",
   "id": "e8e896a1",
   "metadata": {},
   "source": [
    "Esta técnica se conoce como **Operadores Ternarios** o **Expresiones Condicionales.**\n",
    "\n",
    "También puede tener varias declaraciones `else` en la misma línea:"
   ]
  },
  {
   "cell_type": "code",
   "execution_count": 50,
   "id": "9a26df3b",
   "metadata": {},
   "outputs": [
    {
     "name": "stdout",
     "output_type": "stream",
     "text": [
      "son iguales\n"
     ]
    }
   ],
   "source": [
    "print('El mayor es x') if x > y else print('son iguales') if x == y else print('el mayor es y')"
   ]
  },
  {
   "cell_type": "code",
   "execution_count": 56,
   "id": "d4df5076",
   "metadata": {},
   "outputs": [
    {
     "name": "stdout",
     "output_type": "stream",
     "text": [
      "Ingresa el precio del artículo 101\n",
      "85.85\n"
     ]
    }
   ],
   "source": [
    "'''\n",
    "Calcular el descuento de una compra tomando en cuenta su precio:\n",
    "  1- si el precio es mayor que 100, recibe un descuento del 15%,  sino del 10%.\n",
    "'''\n",
    "precioArt = float(input('Ingresa el precio del artículo '))\n",
    "\n",
    "descuento = 0.15  if precioArt > 100 else 0.10\n",
    "precioFinal = precioArt-precioArt*descuento\n",
    "print(precioFinal)"
   ]
  },
  {
   "cell_type": "code",
   "execution_count": 59,
   "id": "9d9b2f4b",
   "metadata": {},
   "outputs": [
    {
     "name": "stdout",
     "output_type": "stream",
     "text": [
      "35000.0\n"
     ]
    }
   ],
   "source": [
    "'''\n",
    "Calcular el salario de un empleado, con descuento:\n",
    "$ 10,000 -> 30% descuento\n",
    "$ 5, 000 -> 20% descuento\n",
    "menos de lo anterior 10%\n",
    "'''\n",
    "salario = 50000\n",
    "\n",
    "descuento = 0.30 if  salario > 10000 else 0.20 if salario > 5000 else 0.10\n",
    "\n",
    "salarioNeto = salario - salario*descuento\n",
    "\n",
    "print(salarioNeto)"
   ]
  },
  {
   "cell_type": "markdown",
   "id": "3e55f747",
   "metadata": {},
   "source": [
    "### <span style=\"color:darkred\">Operador Lógico AND</span>\n",
    "\n",
    "La palabra clave and es un operador lógico y se usa para combinar sentencias condicionales:\n",
    "\n",
    "Prueba si a es mayor que b, Y si c es mayor que a:"
   ]
  },
  {
   "cell_type": "code",
   "execution_count": 61,
   "id": "4aa189ed",
   "metadata": {},
   "outputs": [
    {
     "name": "stdout",
     "output_type": "stream",
     "text": [
      "COndiciones: Verdadero y Verdadero\n"
     ]
    }
   ],
   "source": [
    "x, y , z = 3, 6, 9 \n",
    "\n",
    "if x < y and z > y:\n",
    "    print('COndiciones: Verdadero y Verdadero')"
   ]
  },
  {
   "cell_type": "code",
   "execution_count": 63,
   "id": "70715c77",
   "metadata": {},
   "outputs": [
    {
     "name": "stdout",
     "output_type": "stream",
     "text": [
      "Pago o membresia invalida\n"
     ]
    }
   ],
   "source": [
    "# Servicios de Streaming \n",
    "# Neifli\n",
    "\n",
    "pago = False\n",
    "membresia = True\n",
    "\n",
    "acceso_aplicacion = pago and membresia\n",
    "\n",
    "if acceso_aplicacion:\n",
    "    print('Bienvenido al contenido')\n",
    "else:\n",
    "    print('Pago o membresia invalida')\n"
   ]
  },
  {
   "cell_type": "code",
   "execution_count": 66,
   "id": "29436b1d",
   "metadata": {},
   "outputs": [
    {
     "name": "stdout",
     "output_type": "stream",
     "text": [
      "es un numero positivo y par\n"
     ]
    }
   ],
   "source": [
    "valor = 6\n",
    "\n",
    "if valor > 0 and valor % 2== 0:\n",
    "    print('es un numero positivo y par')\n",
    "elif valor > 0 and valor %2 != 0:\n",
    "    print('es un impar positivo')\n",
    "else:\n",
    "    print('el numero es negativo')"
   ]
  },
  {
   "cell_type": "markdown",
   "id": "43513380",
   "metadata": {},
   "source": [
    "### <span style=\"color:darkred\">Operador Lógico OR</span>\n",
    "\n",
    "La palabra clave or es un operador lógico y se usa para combinar declaraciones condicionales:\n",
    "\n",
    "Prueba si a es mayor que b, O si a es mayor que c:\n"
   ]
  },
  {
   "cell_type": "code",
   "execution_count": 69,
   "id": "b73e2672",
   "metadata": {},
   "outputs": [
    {
     "name": "stdout",
     "output_type": "stream",
     "text": [
      "COndiciones: por lo menos una verdadera\n"
     ]
    }
   ],
   "source": [
    "x, y , z = 3, 6, 9 \n",
    "\n",
    "if x < y or z < y:\n",
    "    print('COndiciones: por lo menos una verdadera')"
   ]
  },
  {
   "cell_type": "code",
   "execution_count": 73,
   "id": "44158356",
   "metadata": {},
   "outputs": [
    {
     "name": "stdout",
     "output_type": "stream",
     "text": [
      "True\n"
     ]
    }
   ],
   "source": [
    "#Verificar su un año es bisiesto\n",
    "year = 2016\n",
    "\n",
    "bisiesto =  True if(year % 4 == 0 and year % 100 != 0) or year % 400 ==0 else False\n",
    "\n",
    "print(bisiesto)\n"
   ]
  },
  {
   "cell_type": "code",
   "execution_count": 78,
   "id": "71ee3fda",
   "metadata": {},
   "outputs": [
    {
     "name": "stdout",
     "output_type": "stream",
     "text": [
      "El triangulo es escaleno\n"
     ]
    }
   ],
   "source": [
    "'''\n",
    "Clasificar un triángulo según sus lados:\n",
    "Equilatero > tiene sus tres lados iguales \n",
    "Isosceles  > dos lados iguales\n",
    "Escaleno   > todos sus lados son desiguales\n",
    "'''\n",
    "lado1 = 1\n",
    "lado2 = 2\n",
    "lado3 = 3\n",
    "\n",
    "if lado1 == lado2 == lado3:\n",
    "    print('El triángulo es equilatero')\n",
    "elif lado1 == lado2 or lado1 == lado3 or lado2 == lado3:\n",
    "    print('El triángulo es isósceles')\n",
    "else: \n",
    "    print('El triangulo es escaleno')\n",
    "\n"
   ]
  },
  {
   "cell_type": "markdown",
   "id": "5aadb476",
   "metadata": {},
   "source": [
    "### <span style=\"color:darkred\">Operador Lógico NOT</span>\n",
    "\n",
    "La palabra clave not es un operador lógico y se utiliza para invertir el resultado de la declaración condicional:\n",
    "\n",
    "Prueba si a NO es mayor que b:\n"
   ]
  },
  {
   "cell_type": "code",
   "execution_count": 81,
   "id": "97a11377",
   "metadata": {},
   "outputs": [
    {
     "name": "stdout",
     "output_type": "stream",
     "text": [
      "COndiciones: por lo menos una verdadera\n"
     ]
    }
   ],
   "source": [
    "x, y , z = 3, 6, 9 \n",
    "\n",
    "if x < y and not z < y:\n",
    "    print('COndiciones verdaderas')\n",
    "else:\n",
    "    print('no cumplió con las condiciones')"
   ]
  },
  {
   "cell_type": "markdown",
   "id": "c4efffe7",
   "metadata": {},
   "source": [
    "### <span style=\"color:darkgreen\">Sentencia if anidados</span>\n",
    "\n",
    "Puede tener declaraciones if dentro declaraciones if de, esto se llama declaraciones anidadas if."
   ]
  },
  {
   "cell_type": "code",
   "execution_count": 82,
   "id": "eb7080aa",
   "metadata": {},
   "outputs": [
    {
     "name": "stdout",
     "output_type": "stream",
     "text": [
      "es un numero positivo y par\n",
      "es mayor que 3\n"
     ]
    }
   ],
   "source": [
    "valor = 6\n",
    "\n",
    "if valor > 0 and valor % 2== 0:\n",
    "    print('es un numero positivo y par')\n",
    "    if valor > 3: \n",
    "        print('es mayor que 3')\n",
    "    else: \n",
    "        print('no es mayor que 3')\n",
    "elif valor > 0 and valor %2 != 0:\n",
    "    print('es un impar positivo')\n",
    "else:\n",
    "    print('el numero es negativo')"
   ]
  },
  {
   "cell_type": "markdown",
   "id": "b58c9dbc",
   "metadata": {},
   "source": [
    "### <span style=\"color:darkgreen\">Declaración Pass</span>\n",
    "\n",
    "Las declaraciones `if` no pueden estar vacías, pero si por alguna razón tiene una declaración `if` sin contenido, introdúzcala pass para evitar errores. \n",
    "\n",
    "La declaración `pass` se utiliza como un marcador de posición cuando necesitas tener una estructura sintáctica válida en un bloque de código, pero no deseas ejecutar ninguna acción en ese momento. \n",
    "\n",
    "Es especialmente útil en situaciones como cuando estás diseñando una función, clase o bucle y aún no has implementado el contenido, pero deseas evitar errores de sintaxis."
   ]
  },
  {
   "cell_type": "code",
   "execution_count": 89,
   "id": "af35ffb9",
   "metadata": {},
   "outputs": [
    {
     "name": "stdout",
     "output_type": "stream",
     "text": [
      "default\n"
     ]
    }
   ],
   "source": [
    "condicion_1 = False\n",
    "condicion_2 = False\n",
    "\n",
    "if condicion_1:\n",
    "    print('si')\n",
    "\n",
    "elif condicion_2:\n",
    "    pass\n",
    "    \n",
    "else:\n",
    "    print('default')\n",
    "    \n",
    "    "
   ]
  },
  {
   "cell_type": "markdown",
   "id": "4aef0c22",
   "metadata": {},
   "source": [
    "### Práctica:\n",
    "\n",
    "Compara los valores de mi_edad y tu_edad usando if ... else. ¿Quién es mayor (yo o tú)? Utiliza input(\"Ingresa tu edad: \") para obtener la edad como entrada. Puedes usar una condición anidada para imprimir 'año' para una diferencia de edad de 1 año, 'años' para diferencias mayores, y un texto personalizado si mi_edad = tu_edad."
   ]
  },
  {
   "cell_type": "code",
   "execution_count": null,
   "id": "f78080e3",
   "metadata": {},
   "outputs": [],
   "source": []
  },
  {
   "cell_type": "markdown",
   "id": "1b2befc6",
   "metadata": {},
   "source": [
    "### <span style=\"color:darkorange\">Aplicando Conocimientos</span>\n",
    "\n",
    "1.\tEscribe un programa en Python que solicite al usuario ingresar un número entero y determine si es positivo, negativo o cero utilizando una estructura de decisión if-elif-else.\n",
    "\n",
    "2.\tEscribe un programa en Python que solicite al usuario ingresar un número entero y determine si es par, impar y si es divisible por 3 utilizando estructuras de decisión anidadas.\n",
    "\n",
    "3.\tEscribe un programa en Python que solicite al usuario ingresar una letra y determine si es una vocal o una consonante.\n",
    "\n",
    "4. Obtener la entrada del usuario usando input(\"Ingresa tu edad: \"). Si el usuario tiene 18 años o más, dar el siguiente mensaje: Eres lo suficientemente mayor para conducir. Si es menor de 18, dar el siguiente mensaje indicando cuántos años faltan. \n",
    "\n",
    "5. Compara los valores de mi_edad y tu_edad usando if ... else. ¿Quién es mayor (yo o tú)? Utiliza input(\"Ingresa tu edad: \") para obtener la edad como entrada. Puedes usar una condición anidada para imprimir 'año' para una diferencia de edad de 1 año, 'años' para diferencias mayores, y un texto personalizado si mi_edad = tu_edad.\n",
    "\n",
    "### Soluciones:"
   ]
  },
  {
   "cell_type": "code",
   "execution_count": null,
   "id": "6e03f226",
   "metadata": {},
   "outputs": [],
   "source": []
  }
 ],
 "metadata": {
  "kernelspec": {
   "display_name": "Python 3 (ipykernel)",
   "language": "python",
   "name": "python3"
  },
  "language_info": {
   "codemirror_mode": {
    "name": "ipython",
    "version": 3
   },
   "file_extension": ".py",
   "mimetype": "text/x-python",
   "name": "python",
   "nbconvert_exporter": "python",
   "pygments_lexer": "ipython3",
   "version": "3.9.12"
  },
  "nbTranslate": {
   "displayLangs": [
    "*"
   ],
   "hotkey": "alt-t",
   "langInMainMenu": true,
   "sourceLang": "en",
   "targetLang": "fr",
   "useGoogleTranslate": true
  }
 },
 "nbformat": 4,
 "nbformat_minor": 5
}
