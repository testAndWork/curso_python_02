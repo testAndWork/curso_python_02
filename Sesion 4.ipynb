{
 "cells": [
  {
   "cell_type": "markdown",
   "id": "9c8c537c",
   "metadata": {},
   "source": [
    "\n",
    "\n",
    "# <span style=\"color:darkblue\">Módulo 1 - Introducción a la programación con Python </span>\n",
    "\n",
    "## <span style=\"color:darkblue\">Sesión:\tSesión 4 - Operaciones generales con Python  </span>\n",
    "\n",
    "### <span style=\"color:darkblue\">Duración estimada:\t3 horas</span>\n",
    "\n",
    "#### <span style=\"color:darkblue\">En marco del proyecto: “EMPLEO JOVEN ES”</span>"
   ]
  },
  {
   "cell_type": "markdown",
   "id": "42a8be22",
   "metadata": {},
   "source": [
    "## <span style=\"color:darkblue\"> Tabla de contenidos:</span>\n",
    " \n",
    "    1- Bienvenida\n",
    "    \n",
    "    2- Asistencia\n",
    "    \n",
    "    3- Dudas de la Clase anterior\n",
    "    \n",
    "    4- Control de Lectura\n",
    "    \n",
    "    5- Objetivo\n",
    "    \n",
    "    6- Introducción\n",
    "    \n",
    "    7- Operadores aritméticos de Python\n",
    "    \n",
    "    8- Operadores de asignación de Python\n",
    "    \n",
    "    9- Operadores de comparación de Python\n",
    "    \n",
    "    10- Operadores lógicos de Python\n",
    "    \n",
    "    12- Operadores de identidad de Python\n",
    "    \n",
    "     \n",
    "    14- Precedencia de operadores\n",
    "    \n",
    "    15- Retroalimentación\n",
    "    \n",
    "    16- Asistencia\n"
   ]
  },
  {
   "cell_type": "markdown",
   "id": "51ae1b4d",
   "metadata": {},
   "source": [
    "## Objetivo:\n",
    "Aprender operaciones con Python puede abrir muchas posibilidades en diferentes campos de trabajo y puede ser una habilidad valiosa para cualquier persona interesada en la programación y la automatización\n",
    "\n",
    "### Recursos\n",
    "\n",
    "•\tSesión 4 de Curso de Python\n",
    "\n",
    "•\tAcceso a internet\n",
    "\n",
    "•\tPython Instalado en computadora\n",
    "\n",
    "•\tVisual Studio Code\n",
    "\n",
    "### Introducción:\n",
    "\n",
    "En programación, los operadores son símbolos especiales que realizan operaciones específicas en uno o más valores. En Python, hay varios tipos de operadores, incluyendo operadores aritméticos, operadores de asignación, operadores de comparación y operadores lógicos.\n",
    "\n",
    "Los operadores aritméticos se utilizan para realizar operaciones matemáticas básicas, como la suma, la resta, la multiplicación y la división. Los operadores de asignación se utilizan para asignar un valor a una variable. \n",
    "\n",
    "Los operadores de comparación se utilizan para comparar dos valores y devuelven un valor booleano (verdadero o falso) según la condición. Los operadores lógicos se utilizan para combinar expresiones booleanas y devolver un valor booleano.\n",
    "\n",
    "Exploraremos en detalle cada tipo de operador en Python, con ejemplos prácticos para ayudar a comprender mejor su uso. Además, discutiremos cómo se pueden utilizar los operadores en combinación con variables y condicionales para crear programas más complejos.\n",
    "\n",
    "\n",
    "### Aprendamos\n",
    "\n",
    "Los operadores se utilizan para realizar operaciones en variables y valores. En el siguiente ejemplo, usamos el operador + para sumar dos valores:"
   ]
  },
  {
   "cell_type": "code",
   "execution_count": 1,
   "id": "2ed49a2c",
   "metadata": {},
   "outputs": [
    {
     "data": {
      "text/plain": [
       "9"
      ]
     },
     "execution_count": 1,
     "metadata": {},
     "output_type": "execute_result"
    }
   ],
   "source": [
    "4 + 5"
   ]
  },
  {
   "cell_type": "markdown",
   "id": "0b7d03f8",
   "metadata": {},
   "source": [
    "Python divide a los operadores en los siguientes grupos:\n",
    "\n",
    "<ul> <li>Operadores aritméticos</li> <li>Operadores de Asignación</li> <li>Operadores de comparación</li> <li>Operadores lógicos</li> <li>Operadores de identidad</li> </ul>\n",
    "\n",
    "### <span style=\"color:darkred\">Operadores aritméticos de Python</span>\n",
    "\n",
    "Los operadores aritméticos se utilizan con valores numéricos para realizar operaciones matemáticas comunes:\n",
    "\n",
    "<table> <tr> <th>Operador</th> <th>Nombre</th> <th>Ejemplo de Uso</th> </tr> <tr> <td>+</td> <td>Adición</td> <td>x + y</td> </tr> <tr> <td>-</td> <td>Sustracción</td> <td>x - y</td> </tr> <tr> <td>*</td> <td>Multiplicación</td> <td>x * y</td> </tr> <tr> <td>/</td> <td>División</td> <td>x / y</td> </tr> <tr> <td>%</td> <td>Modulo</td> <td>x % y</td> </tr> <tr> <td>**</td> <td>Exponentes</td> <td>x ** y</td> </tr> <tr> <td>//</td> <td>División de Piso</td> <td>x // y</td> </tr> </table>\n",
    "\n",
    "Estos son los operadores son los que utilizamos en nuestra vida cotidiana y son una herramienta importante en programación para realizar cálculos matemáticos y manipular datos numéricos. \n",
    "\n",
    "**Ejemplo utilizando todos los operadores aritméticos: **\n",
    "\n",
    "En este ejemplo, creamos dos variables `a` y `b` con valores de 7 y 3, respectivamente. \n",
    "\n",
    "Luego, usamos diferentes operadores aritméticos para realizar operaciones matemáticas en estas variables y almacenar el resultado en la variable `c`. \n",
    "\n",
    "Finalmente, usamos la función `print()` para imprimir el valor de `c` en la consola.\n"
   ]
  },
  {
   "cell_type": "code",
   "execution_count": 5,
   "id": "37d4e79d",
   "metadata": {},
   "outputs": [
    {
     "name": "stdout",
     "output_type": "stream",
     "text": [
      "10\n",
      "4\n",
      "21\n",
      "2.3333333333333335\n",
      "343\n",
      "Division entera 2\n",
      "Módulo 1\n"
     ]
    }
   ],
   "source": [
    "a, b = 7, 3\n",
    "\n",
    "print(a + b)\n",
    "print(a - b)\n",
    "print(a * b)\n",
    "print(a / b)\n",
    "print(a ** b)\n",
    "print('Division entera',a // b)\n",
    "print('Módulo', a % b)"
   ]
  },
  {
   "cell_type": "markdown",
   "id": "d9989023",
   "metadata": {},
   "source": [
    "### Combinaciones de operadores Aritméticos \n",
    "\n",
    "#### Práctica:"
   ]
  },
  {
   "cell_type": "code",
   "execution_count": 6,
   "id": "a7e5c8c7",
   "metadata": {},
   "outputs": [
    {
     "data": {
      "text/plain": [
       "-105"
      ]
     },
     "execution_count": 6,
     "metadata": {},
     "output_type": "execute_result"
    }
   ],
   "source": [
    "4 + 6 - 23  * 5"
   ]
  },
  {
   "cell_type": "code",
   "execution_count": 8,
   "id": "0898aa26",
   "metadata": {},
   "outputs": [
    {
     "data": {
      "text/plain": [
       "-105"
      ]
     },
     "execution_count": 8,
     "metadata": {},
     "output_type": "execute_result"
    }
   ],
   "source": [
    "4 + 6 - 23  * 5"
   ]
  },
  {
   "cell_type": "code",
   "execution_count": 9,
   "id": "334a021b",
   "metadata": {},
   "outputs": [
    {
     "data": {
      "text/plain": [
       "-129"
      ]
     },
     "execution_count": 9,
     "metadata": {},
     "output_type": "execute_result"
    }
   ],
   "source": [
    "4 + (4 + 6 - 23  * 5)// 6 - 23  * 5"
   ]
  },
  {
   "cell_type": "code",
   "execution_count": 10,
   "id": "31955369",
   "metadata": {},
   "outputs": [
    {
     "data": {
      "text/plain": [
       "224"
      ]
     },
     "execution_count": 10,
     "metadata": {},
     "output_type": "execute_result"
    }
   ],
   "source": [
    "4 % 6 -(4 + 6 - 23  * 5)+ 23  * 5"
   ]
  },
  {
   "cell_type": "code",
   "execution_count": 11,
   "id": "b6401d07",
   "metadata": {},
   "outputs": [
    {
     "data": {
      "text/plain": [
       "5.038095238095238"
      ]
     },
     "execution_count": 11,
     "metadata": {},
     "output_type": "execute_result"
    }
   ],
   "source": [
    "4 + ( 6 - 23  * 5) / (4 + 6 - 23  * 5)"
   ]
  },
  {
   "cell_type": "code",
   "execution_count": 12,
   "id": "25907ee2",
   "metadata": {},
   "outputs": [
    {
     "data": {
      "text/plain": [
       "13.5"
      ]
     },
     "execution_count": 12,
     "metadata": {},
     "output_type": "execute_result"
    }
   ],
   "source": [
    "x = 3 \n",
    "(x-6) + (x + 12) - (x - 9) / (x + 1)"
   ]
  },
  {
   "cell_type": "markdown",
   "id": "70af8401",
   "metadata": {},
   "source": [
    "## Ecuación Cuadrática\n",
    "\n",
    "$$6x^2 + 9x - 8 =0$$\n",
    "\n",
    "$ax^2 + bx +c = 0$\n",
    "\n",
    "$a = ?$, $b = ?$ y $c = ?$\n",
    "\n",
    "$$x = \\frac{-b \\pm \\sqrt{b^2 - 4ac}}{2a}$$"
   ]
  },
  {
   "cell_type": "code",
   "execution_count": 15,
   "id": "1348490f",
   "metadata": {},
   "outputs": [
    {
     "data": {
      "text/plain": [
       "(22.568134925574913, -76.56813492557491)"
      ]
     },
     "execution_count": 15,
     "metadata": {},
     "output_type": "execute_result"
    }
   ],
   "source": [
    "from math import sqrt\n",
    "\n",
    "a, b, c = 6, 9, -8\n",
    "\n",
    "discriminante =  b**2 -4*a*c\n",
    "\n",
    "x1 = (-b+ sqrt(discriminante))/2*a\n",
    "\n",
    "x2 = (-b - sqrt(discriminante))/2*a\n",
    "\n",
    "x1,x2"
   ]
  },
  {
   "cell_type": "markdown",
   "id": "a50ce0e9",
   "metadata": {},
   "source": [
    "### <span style=\"color:darkred\">Operadores de asignación de Python</span>\n",
    "\n",
    "Los operadores de asignación se utilizan comúnmente en la programación para asignar un valor a una variable. Estos operadores permiten actualizar el valor de una variable en función de una operación aritmética o lógica. Por ejemplo, el operador de asignación \"=\".\n",
    "\n",
    "\n",
    "Aquí hay algunos ejemplos de lugares comunes donde se utilizan los operadores de asignación:\n",
    "\n",
    "En la inicialización de variables: Los operadores de asignación se utilizan para inicializar el valor de una variable al principio del programa. Por ejemplo, int a = 10; asigna el valor 10 a la variable \"a\".\n",
    "\n",
    "En las expresiones aritméticas: Los operadores de asignación se pueden utilizar en combinación con operadores aritméticos, como +, -, *, /, para actualizar el valor de una variable. Por ejemplo, a += 5; suma 5 al valor actual de \"a\".\n",
    "\n",
    "En las expresiones booleanas: Los operadores de asignación también se utilizan en las expresiones booleanas para asignar valores booleanos a variables. Por ejemplo, bool b = (a > 5); asigna el valor booleano verdadero o falso a la variable \"b\" en función de la evaluación de la expresión a > 5.\n",
    "\n",
    "#### Tabla de Operadores de asignación\n",
    "\n",
    "<p style=\"font-size: 30px;\">\n",
    "<table> <tr> <th>Operador</th> <th>Ejemplo</th> <th>Equivalente</th> </tr> <tr> <td>=</td> <td>x = 5</td> <td>x = 5</td> </tr> <tr> <td>+=</td> <td>x += 3</td> <td>x = x + 3</td> </tr> <tr> <td>-=</td> <td>x -= 3</td> <td>x = x - 3</td> </tr> <tr> <td>*=</td> <td>x *= 3</td> <td>x = x * 3</td> </tr> <tr> <td>/=</td> <td>x /= 3</td> <td>x = x / 3</td> </tr> <tr> <td>%=</td> <td>x %= 3</td> <td>x = x % 3</td> </tr> <tr> <td>//=</td> <td>x //= 3</td> <td>x = x // 3</td> </tr> <tr> <td>**=</td> <td>x **= 3</td> <td>x = x ** 3</td> </tr> <tr> <td>&=</td> <td>x &= 3</td> <td>x = x & 3</td> </tr> <tr> <td>|=</td> <td>x |= 3</td> <td>x = x | 3</td> </tr> <tr> <td>^=</td> <td>x ^= 3</td> <td>x = x ^ 3</td> </tr> <tr> <td>>=</td> <td>x >>= 3</td> <td>x = x >> 3</td> </tr> <tr> <td><<=</td> <td>x <<= 3</td> <td>x = x << 3</td> </tr> </table>\n",
    "</p>\n"
   ]
  },
  {
   "cell_type": "code",
   "execution_count": 18,
   "id": "17459062",
   "metadata": {},
   "outputs": [
    {
     "data": {
      "text/plain": [
       "8"
      ]
     },
     "execution_count": 18,
     "metadata": {},
     "output_type": "execute_result"
    }
   ],
   "source": [
    "x = 5\n",
    "\n",
    "x = x + 3\n",
    "x"
   ]
  },
  {
   "cell_type": "code",
   "execution_count": 21,
   "id": "45a09749",
   "metadata": {},
   "outputs": [
    {
     "data": {
      "text/plain": [
       "8"
      ]
     },
     "execution_count": 21,
     "metadata": {},
     "output_type": "execute_result"
    }
   ],
   "source": [
    "x = 5\n",
    "\n",
    "x += 3\n",
    "x"
   ]
  },
  {
   "cell_type": "code",
   "execution_count": 22,
   "id": "dd4c5848",
   "metadata": {},
   "outputs": [
    {
     "data": {
      "text/plain": [
       "2"
      ]
     },
     "execution_count": 22,
     "metadata": {},
     "output_type": "execute_result"
    }
   ],
   "source": [
    "x -= 6\n",
    "x"
   ]
  },
  {
   "cell_type": "code",
   "execution_count": 23,
   "id": "7f24891c",
   "metadata": {},
   "outputs": [
    {
     "data": {
      "text/plain": [
       "12"
      ]
     },
     "execution_count": 23,
     "metadata": {},
     "output_type": "execute_result"
    }
   ],
   "source": [
    "x *=6\n",
    "x"
   ]
  },
  {
   "cell_type": "code",
   "execution_count": 25,
   "id": "17c23275",
   "metadata": {},
   "outputs": [
    {
     "data": {
      "text/plain": [
       "5"
      ]
     },
     "execution_count": 25,
     "metadata": {},
     "output_type": "execute_result"
    }
   ],
   "source": [
    "x %= 7\n",
    "x"
   ]
  },
  {
   "cell_type": "code",
   "execution_count": 26,
   "id": "da94dacf",
   "metadata": {},
   "outputs": [
    {
     "data": {
      "text/plain": [
       "0.8333333333333334"
      ]
     },
     "execution_count": 26,
     "metadata": {},
     "output_type": "execute_result"
    }
   ],
   "source": [
    "x /= 6\n",
    "x"
   ]
  },
  {
   "cell_type": "markdown",
   "id": "72bf2988",
   "metadata": {},
   "source": [
    "\n",
    "### <span style=\"color:darkred\">Operadores de comparación de Python</span>\n",
    "\n",
    "Los operadores de comparación se utilizan para comparar dos valores y devolver un valor booleano (verdadero o falso) según el resultado de la comparación. \n",
    "\n",
    "A continuación, se muestran los operadores de comparación en Python:\n",
    "\n",
    "<table> <tr> <th>Operador</th> <th>Nombre</th> <th>Ejemplo</th> </tr> <tr> <td>==</td> <td>Comprueba si dos valores son iguales</td> <td>x == y</td> </tr> <tr> <td>!=</td> <td>Comprueba si dos valores son diferentes</td> <td>x != y</td> </tr> <tr> <td>></td> <td>Comprueba si el valor de la izquierda es mayor que el de la derecha</td> <td>x > y</td> </tr> <tr> <td><</td> <td>Comprueba si el valor de la izquierda es menor que el de la derecha</td> <td>x < y</td> </tr> <tr> <td>>=</td> <td>Comprueba si el valor de la izquierda es mayor o igual que el de la derecha</td> <td>x >= y</td> </tr> <tr> <td><=</td> <td>Comprueba si el valor de la izquierda es menor o igual que el de la derecha</td> <td>x <= y</td> </tr> </table>\n",
    "\n",
    "Por ejemplo, si se quisiera verificar si dos variables a y b son iguales, se puede utilizar el operador de comparación `==`:"
   ]
  },
  {
   "cell_type": "code",
   "execution_count": 27,
   "id": "6cfe3e52",
   "metadata": {},
   "outputs": [
    {
     "data": {
      "text/plain": [
       "False"
      ]
     },
     "execution_count": 27,
     "metadata": {},
     "output_type": "execute_result"
    }
   ],
   "source": [
    "3 == 4"
   ]
  },
  {
   "cell_type": "code",
   "execution_count": 28,
   "id": "7c39f2f7",
   "metadata": {},
   "outputs": [
    {
     "data": {
      "text/plain": [
       "True"
      ]
     },
     "execution_count": 28,
     "metadata": {},
     "output_type": "execute_result"
    }
   ],
   "source": [
    "4 !=  6"
   ]
  },
  {
   "cell_type": "code",
   "execution_count": 29,
   "id": "2cad4fd1",
   "metadata": {},
   "outputs": [
    {
     "data": {
      "text/plain": [
       "True"
      ]
     },
     "execution_count": 29,
     "metadata": {},
     "output_type": "execute_result"
    }
   ],
   "source": [
    "5 > 1"
   ]
  },
  {
   "cell_type": "code",
   "execution_count": 30,
   "id": "a2df0706",
   "metadata": {},
   "outputs": [
    {
     "data": {
      "text/plain": [
       "True"
      ]
     },
     "execution_count": 30,
     "metadata": {},
     "output_type": "execute_result"
    }
   ],
   "source": [
    "3 < 6"
   ]
  },
  {
   "cell_type": "code",
   "execution_count": 31,
   "id": "6c095029",
   "metadata": {},
   "outputs": [
    {
     "data": {
      "text/plain": [
       "False"
      ]
     },
     "execution_count": 31,
     "metadata": {},
     "output_type": "execute_result"
    }
   ],
   "source": [
    "5 >= 5.1"
   ]
  },
  {
   "cell_type": "markdown",
   "id": "ed9b6162",
   "metadata": {},
   "source": [
    "### <span style=\"color:darkred\">Operadores lógicos de Python</span>\n",
    "\n",
    "Los operadores lógicos se utilizan para combinar expresiones lógicas y producir un resultado lógico. \n",
    "\n",
    "Los operadores lógicos disponibles en Python son los siguientes:\n",
    "\n",
    "<table cellpadding=\"10\" align=\"center\"> <tr> <th align=\"center\">Operador</th> <th align=\"center\">Descripción</th> <th align=\"center\">Ejemplo</th> </tr> <tr> <td align=\"center\">and</td> <td align=\"center\">Devuelve True si ambas afirmaciones son verdaderas</td> <td align=\"center\">x < 5 and x < 10</td> </tr> <tr> <td align=\"center\">or</td> <td align=\"center\">Devuelve True si una de las afirmaciones es verdadera</td> <td align=\"center\">x < 5 or x < 4</td> </tr> <tr> <td align=\"center\">not</td> <td align=\"center\">Invierte el resultado, devuelve False si el resultado es verdadero</td> <td align=\"center\">not(x < 5 and x < 10)</td> </tr> </table>"
   ]
  },
  {
   "cell_type": "code",
   "execution_count": 32,
   "id": "bc5edda9",
   "metadata": {},
   "outputs": [
    {
     "data": {
      "text/plain": [
       "True"
      ]
     },
     "execution_count": 32,
     "metadata": {},
     "output_type": "execute_result"
    }
   ],
   "source": [
    "x = 4\n",
    "y = 3\n",
    "z = 2\n",
    "\n",
    "#4 > 3 y 4 > 2\n",
    "x > y and x > z"
   ]
  },
  {
   "cell_type": "code",
   "execution_count": 33,
   "id": "afe0101e",
   "metadata": {},
   "outputs": [
    {
     "data": {
      "text/plain": [
       "False"
      ]
     },
     "execution_count": 33,
     "metadata": {},
     "output_type": "execute_result"
    }
   ],
   "source": [
    "#4 > 3 y 4 < 2\n",
    "x > y and x < z"
   ]
  },
  {
   "cell_type": "code",
   "execution_count": 34,
   "id": "04ca4c7f",
   "metadata": {},
   "outputs": [
    {
     "data": {
      "text/plain": [
       "True"
      ]
     },
     "execution_count": 34,
     "metadata": {},
     "output_type": "execute_result"
    }
   ],
   "source": [
    "x > y or x > z"
   ]
  },
  {
   "cell_type": "code",
   "execution_count": 36,
   "id": "53e7625a",
   "metadata": {},
   "outputs": [
    {
     "data": {
      "text/plain": [
       "True"
      ]
     },
     "execution_count": 36,
     "metadata": {},
     "output_type": "execute_result"
    }
   ],
   "source": [
    "x > y or x < z"
   ]
  },
  {
   "cell_type": "code",
   "execution_count": 37,
   "id": "b8a91130",
   "metadata": {},
   "outputs": [
    {
     "data": {
      "text/plain": [
       "False"
      ]
     },
     "execution_count": 37,
     "metadata": {},
     "output_type": "execute_result"
    }
   ],
   "source": [
    "x < y or x < z"
   ]
  },
  {
   "cell_type": "code",
   "execution_count": 38,
   "id": "2426f121",
   "metadata": {},
   "outputs": [
    {
     "data": {
      "text/plain": [
       "True"
      ]
     },
     "execution_count": 38,
     "metadata": {},
     "output_type": "execute_result"
    }
   ],
   "source": [
    "not(x < y or x < z)"
   ]
  },
  {
   "cell_type": "code",
   "execution_count": 39,
   "id": "198de8e5",
   "metadata": {},
   "outputs": [
    {
     "data": {
      "text/plain": [
       "True"
      ]
     },
     "execution_count": 39,
     "metadata": {},
     "output_type": "execute_result"
    }
   ],
   "source": [
    "not x < y or x < z"
   ]
  },
  {
   "cell_type": "markdown",
   "id": "9f2753ab",
   "metadata": {},
   "source": [
    "Además, se pueden utilizar paréntesis para agrupar expresiones lógicas y especificar el orden de evaluación. Por ejemplo:"
   ]
  },
  {
   "cell_type": "code",
   "execution_count": 40,
   "id": "5fccdfee",
   "metadata": {},
   "outputs": [
    {
     "data": {
      "text/plain": [
       "False"
      ]
     },
     "execution_count": 40,
     "metadata": {},
     "output_type": "execute_result"
    }
   ],
   "source": [
    "not x < y and x < z"
   ]
  },
  {
   "cell_type": "markdown",
   "id": "d242ac26",
   "metadata": {},
   "source": [
    "###   <span style=\"color:darkred\">Operadores de identidad de Python</span>\n",
    "\n",
    "En Python, los operadores de identidad se utilizan para comparar si dos objetos son idénticos, es decir, si se refieren al mismo objeto en memoria. Los operadores de identidad son los siguientes:\n",
    "\n",
    "**El operador \"is\":** \n",
    "\n",
    "devuelve True si dos objetos son el mismo objeto en memoria, es decir, si tienen la misma dirección de memoria.\n",
    "\n",
    "**El operador \"is not\":** \n",
    "\n",
    "devuelve True si dos objetos no son el mismo objeto en memoria, es decir, si tienen diferentes direcciones de memoria.\n",
    "\n",
    "\n",
    "A continuación, te muestro un ejemplo sencillo:\n",
    "\n",
    "### <span style=\"color:darkblue\">Comentarios por línea</span>\n",
    "\n",
    "En este ejemplo, la variable `\"x\"` y \"y\" apuntan al mismo objeto en memoria, mientras que `\"z\"` es un objeto diferente.\n",
    "\n"
   ]
  },
  {
   "cell_type": "code",
   "execution_count": 43,
   "id": "17b77f21",
   "metadata": {},
   "outputs": [],
   "source": [
    "x = [1, 2, 3]\n",
    "\n",
    "y = x\n",
    "\n",
    "z = [1, 2, 3]"
   ]
  },
  {
   "cell_type": "code",
   "execution_count": 44,
   "id": "8da12ac0",
   "metadata": {},
   "outputs": [
    {
     "data": {
      "text/plain": [
       "True"
      ]
     },
     "execution_count": 44,
     "metadata": {},
     "output_type": "execute_result"
    }
   ],
   "source": [
    "x is y"
   ]
  },
  {
   "cell_type": "code",
   "execution_count": 45,
   "id": "d4f3f167",
   "metadata": {},
   "outputs": [
    {
     "data": {
      "text/plain": [
       "False"
      ]
     },
     "execution_count": 45,
     "metadata": {},
     "output_type": "execute_result"
    }
   ],
   "source": [
    "x is z"
   ]
  },
  {
   "cell_type": "code",
   "execution_count": 46,
   "id": "147240ac",
   "metadata": {},
   "outputs": [
    {
     "data": {
      "text/plain": [
       "True"
      ]
     },
     "execution_count": 46,
     "metadata": {},
     "output_type": "execute_result"
    }
   ],
   "source": [
    "x is not z"
   ]
  },
  {
   "cell_type": "code",
   "execution_count": 47,
   "id": "fd30c30a",
   "metadata": {},
   "outputs": [
    {
     "data": {
      "text/plain": [
       "False"
      ]
     },
     "execution_count": 47,
     "metadata": {},
     "output_type": "execute_result"
    }
   ],
   "source": [
    "x is not y"
   ]
  },
  {
   "cell_type": "markdown",
   "id": "5a9020c0",
   "metadata": {},
   "source": [
    "\n",
    "### <span style=\"color:darkblue\">Comentarios por línea</span>\n",
    "\n",
    "los operadores de membresía (membership) se utilizan para comprobar si un valor se encuentra en una secuencia, como una lista, una tupla o un conjunto. \n",
    "\n",
    "Hay dos operadores de membresía en Python: **in** y **not in**.\n",
    "\n",
    "**in:** devuelve True si el valor se encuentra en la secuencia.\n",
    "**not in:** devuelve True si el valor no se encuentra en la secuencia.\n",
    "\n",
    "A continuación, te muestro un ejemplo sencillo:\n"
   ]
  },
  {
   "cell_type": "code",
   "execution_count": 48,
   "id": "5fdb237f",
   "metadata": {},
   "outputs": [
    {
     "data": {
      "text/plain": [
       "True"
      ]
     },
     "execution_count": 48,
     "metadata": {},
     "output_type": "execute_result"
    }
   ],
   "source": [
    "lista = [ 1, 2, 3, 4, 5, 6, 7]\n",
    "\n",
    "4 in lista"
   ]
  },
  {
   "cell_type": "code",
   "execution_count": 49,
   "id": "45838c96",
   "metadata": {},
   "outputs": [
    {
     "data": {
      "text/plain": [
       "False"
      ]
     },
     "execution_count": 49,
     "metadata": {},
     "output_type": "execute_result"
    }
   ],
   "source": [
    "121 in lista "
   ]
  },
  {
   "cell_type": "markdown",
   "id": "c3d04b1b",
   "metadata": {},
   "source": [
    "### <span style=\"color:darkblue\">Precedencia de operadores</span>\n",
    "\n",
    "La precedencia de operadores describe el orden en que se realizan las operaciones.\n",
    "los operadores tienen una precedencia definida, lo que significa que algunos operadores se evalúan antes que otros. \n",
    "\n",
    "En caso de que haya más de un operador en una expresión, los operadores con mayor precedencia se evalúan primero.\n",
    "\n",
    "A continuación, se muestra una lista de los operadores de mayor a menor precedencia:\n",
    "\n",
    "<table align=\"center\"> <tr> <th align=\"center\">Operaciones</th> </tr> <tr> <td align=\"center\">Paréntesis:    ()</td> </tr> <tr> <td align=\"center\">Potencia:     **</td> </tr> <tr> <td align=\"center\">Negación:       - (unario)</td> </tr> <tr> <td align=\"center\">Multiplicación, División y Módulo:      *, /, %</td> </tr> <tr> <td align=\"center\">Suma y Resta:    +, -</td> </tr> <tr> <td align=\"center\">Comparación:      ==, !=, >, <, >=, <=</td> </tr> <tr> <td align=\"center\">Operadores Lógicos:      and, or, not</td> </tr> </table>\n",
    "\n",
    "    \n",
    "Es importante tener en cuenta que, en caso de que haya operadores con la misma precedencia, se evalúan de izquierda a derecha. Por ejemplo, en la expresión 8 / 4 * 2, la división y la multiplicación tienen la misma precedencia, pero la división se evalúa primero debido a la regla de evaluación de izquierda a derecha, lo que resulta en un valor de 4.\n",
    "    \n",
    "Es recomendable utilizar paréntesis en expresiones complejas para asegurar que se evalúen en el orden correcto y evitar confusiones.\n",
    "    \n",
    "**Ejemplos sobre precedencia**\n",
    "    \n",
    "A continuación, presentaré algunos ejemplos de cómo se aplica la precedencia de operadores en Python:\n",
    "    \n",
    "**Ejemplo con paréntesis:**\n",
    "    \n",
    "\n",
    "\n"
   ]
  },
  {
   "cell_type": "code",
   "execution_count": 51,
   "id": "e04f777b",
   "metadata": {},
   "outputs": [
    {
     "data": {
      "text/plain": [
       "0"
      ]
     },
     "execution_count": 51,
     "metadata": {},
     "output_type": "execute_result"
    }
   ],
   "source": [
    "(4 + 5) - 9\n"
   ]
  },
  {
   "cell_type": "markdown",
   "id": "32f0c20e",
   "metadata": {},
   "source": [
    "Ejemplo con potencia y multiplicación:"
   ]
  },
  {
   "cell_type": "code",
   "execution_count": null,
   "id": "3a929eac",
   "metadata": {},
   "outputs": [],
   "source": []
  },
  {
   "cell_type": "markdown",
   "id": "61a5f2fb",
   "metadata": {},
   "source": [
    "Ejemplo con multiplicación, división y suma:"
   ]
  },
  {
   "cell_type": "markdown",
   "id": "065d6c15",
   "metadata": {},
   "source": [
    "### <span style=\"color:darkorange\"> Práctica: (8 minutos)</span>\n",
    "1. Cálculo de Descuento:\n",
    "Escribe un programa que calcule el precio final de un producto después de aplicar un descuento. Solicita al usuario el precio original del producto y el porcentaje de descuento. Luego, muestra el precio final después del descuento.\n",
    "\n",
    "\n",
    "2. Calculadora de IMC:\n",
    "Escribe un programa que calcule el Índice de Masa Corporal (IMC) de una persona. Pide al usuario su peso en kilogramos y su altura en metros, luego calcula y muestra su IMC.\n",
    "\n",
    "\n",
    "3. Conversión de Horas y Minutos a Segundos:\n",
    "Escribe un programa que tome una cantidad de horas y minutos ingresados por el usuario y los convierta a segundos.\n",
    "\n",
    "\n",
    "4. Calculadora de Propina:\n",
    "Escribe un programa que calcule el monto total a pagar en un restaurante, incluyendo una propina. Pide al usuario el monto de la comida y el porcentaje de propina deseado. Luego, muestra el total a pagar.\n",
    "\n",
    "\n",
    "5. temperatura_celsius = float(input(\"Ingrese la temperatura en grados Celsius: \"))\n",
    "temperatura_fahrenheit = (temperatura_celsius * 9/5) + 32\n",
    "print(\"La temperatura en grados Fahrenheit es:\", temperatura_fahrenheit)\n",
    "\n",
    "6. Calculadora de División con Resto:\n",
    "Escribe un programa que tome dos números enteros ingresados por el usuario y muestre el cociente y el resto de la división entre los dos números."
   ]
  },
  {
   "cell_type": "markdown",
   "id": "1d98f19a",
   "metadata": {},
   "source": [
    "## <span style=\"color:darkblue\">Aplicando Conocimientos</span>\n",
    "\n",
    "Escriba un programa en Python que defina tres variables a, b y c con valores enteros y realice las siguientes operaciones aritméticas con ellas, teniendo en cuenta la precedencia de operadores:\n",
    "\n",
    "Asigne a la variable resultado1 el resultado de sumar a y multiplicar b por c.\n",
    "\n",
    "Asigne a la variable resultado2 el resultado de sumar a y b, y luego multiplicar el resultado por c.\n",
    "\n",
    "Asigne a la variable resultado3 el resultado de dividir a entre b y luego multiplicar el resultado por c.\n",
    "\n",
    "Asigne a la variable resultado4 el resultado de dividir a entre el producto de b y c.\n",
    "\n",
    "Asigne a la variable resultado5 el resultado de elevar a a la potencia b y luego sumar c.\n",
    "\n",
    "Asigne a la variable resultado6 el resultado de elevar a a la potencia de la suma de b y c.\n",
    "\n",
    "Luego, muestre por pantalla los valores de las variables resultado1, resultado2, resultado3, resultado4, resultado5 y resultado6.\n"
   ]
  },
  {
   "cell_type": "markdown",
   "id": "b32cd6b9",
   "metadata": {},
   "source": [
    "### 1- Cálculo de Descuento: \n",
    "Escribe un programa que calcule el precio final de un producto después de aplicar un descuento.\n",
    "\n",
    "Solicita al usuario el precio original del producto y el porcentaje \n",
    "de descuento. Luego, muestra el precio final después del descuento.\n",
    "\n",
    "#### Solución:\n",
    "\n",
    "#### Variables de entrada:\n",
    "\n",
    "1. Precio Original       - `precioOriginal`\n",
    "2. Procentaje Descuento  - `porcentajeDescuento`\n",
    "\n",
    "##### Variables de Salida:\n",
    "\n",
    "1. Precio FInal  - `precioFinal`\n",
    " \n",
    "#### Variables de proceso y condiciones:\n",
    "\n",
    "**Variables de proceso:**\n",
    "\n",
    "1. Descuento = Precio Original * (Porcentaje de Descuento)/100\n",
    "\n",
    "2. precioFinal = precioOriginal - descuento\n",
    "\n",
    "**Condiciones:**\n",
    "\n",
    "Precio Original > 0\n",
    "Procentaje Descuento > 0\n"
   ]
  },
  {
   "cell_type": "code",
   "execution_count": null,
   "id": "e95266b8",
   "metadata": {},
   "outputs": [],
   "source": []
  },
  {
   "cell_type": "markdown",
   "id": "f0b97bcc",
   "metadata": {},
   "source": [
    "### Práctica:\n",
    "\n",
    "1. Verificación de Contraseña:\n",
    "Escribe un programa que solicite al usuario que ingrese una contraseña. Si la contraseña ingresada es \"secreto123\", muestra un mensaje de acceso concedido; de lo contrario, muestra un mensaje de acceso denegado.\n",
    "\n",
    "2. Comprobación de Edad para Entrada:\n",
    "Escribe un programa que permita el acceso a una película solo si el usuario tiene al menos 18 años o está acompañado por un adulto. Pregunta al usuario su edad y si está acompañado (responde \"si\" o \"no\").\n",
    "\n",
    "3. Cálculo de Beca Escolar:\n",
    "Escribe un programa que determine si un estudiante es elegible para una beca escolar. Pide al usuario su promedio de calificaciones y si asistió a más del 80% de las clases. Si el promedio es mayor o igual a 9 y asistió a suficientes clases, muestra un mensaje de beca otorgada; de lo contrario, muestra un mensaje de no elegible.\n",
    "\n",
    "4. Juego de Adivinanzas:\n",
    "Escribe un programa que simule un juego de adivinanzas. Genera un número aleatorio entre 1 y 100, y luego pide al usuario que adivine el número. Proporciona pistas como \"Demasiado alto\" o \"Demasiado bajo\" en función de las conjeturas del usuario."
   ]
  }
 ],
 "metadata": {
  "kernelspec": {
   "display_name": "Python 3 (ipykernel)",
   "language": "python",
   "name": "python3"
  },
  "language_info": {
   "codemirror_mode": {
    "name": "ipython",
    "version": 3
   },
   "file_extension": ".py",
   "mimetype": "text/x-python",
   "name": "python",
   "nbconvert_exporter": "python",
   "pygments_lexer": "ipython3",
   "version": "3.9.12"
  },
  "nbTranslate": {
   "displayLangs": [
    "*"
   ],
   "hotkey": "alt-t",
   "langInMainMenu": true,
   "sourceLang": "en",
   "targetLang": "fr",
   "useGoogleTranslate": true
  }
 },
 "nbformat": 4,
 "nbformat_minor": 5
}
