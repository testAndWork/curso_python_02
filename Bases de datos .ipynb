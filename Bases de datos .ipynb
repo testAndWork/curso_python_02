{
 "cells": [
  {
   "cell_type": "code",
   "execution_count": 1,
   "id": "75b43f40",
   "metadata": {},
   "outputs": [
    {
     "name": "stdout",
     "output_type": "stream",
     "text": [
      "Requirement already satisfied: mysql-connector in /Users/bltzkrg/anaconda3/lib/python3.11/site-packages (2.2.9)\n",
      "Note: you may need to restart the kernel to use updated packages.\n"
     ]
    }
   ],
   "source": [
    "pip install mysql-connector"
   ]
  },
  {
   "cell_type": "markdown",
   "id": "20f0b2da",
   "metadata": {},
   "source": [
    "Importando el módulo para usar la Base de Datos"
   ]
  },
  {
   "cell_type": "code",
   "execution_count": 2,
   "id": "a4f46b39",
   "metadata": {},
   "outputs": [],
   "source": [
    "import mysql.connector"
   ]
  },
  {
   "cell_type": "markdown",
   "id": "32b18df7",
   "metadata": {},
   "source": [
    "Haciendo conexión al servidor "
   ]
  },
  {
   "cell_type": "code",
   "execution_count": 4,
   "id": "81b4786c",
   "metadata": {},
   "outputs": [],
   "source": [
    "mydb = mysql.connector.connect(\n",
    "                        host = \"localhost\",\n",
    "                        user = \"root\",\n",
    "                        passwd= \"\"\n",
    "                )"
   ]
  },
  {
   "cell_type": "markdown",
   "id": "c80f7776",
   "metadata": {},
   "source": [
    "Creamos un puntero para establecer las oprenciones que indiquen conexión en la base de datos."
   ]
  },
  {
   "cell_type": "code",
   "execution_count": 5,
   "id": "8f40a290",
   "metadata": {},
   "outputs": [],
   "source": [
    "mycursor = mydb.cursor()"
   ]
  },
  {
   "cell_type": "markdown",
   "id": "b9357062",
   "metadata": {},
   "source": [
    "Creando una base de datos"
   ]
  },
  {
   "cell_type": "code",
   "execution_count": 6,
   "id": "e2e1eead",
   "metadata": {},
   "outputs": [],
   "source": [
    "mycursor.execute('CREATE DATABASE pydb02')"
   ]
  },
  {
   "cell_type": "markdown",
   "id": "083e5cdc",
   "metadata": {},
   "source": [
    "Verificar las bases de datos existentes en mi servidor."
   ]
  },
  {
   "cell_type": "code",
   "execution_count": 8,
   "id": "39e848bc",
   "metadata": {},
   "outputs": [],
   "source": [
    "mycursor.execute('show databases')"
   ]
  },
  {
   "cell_type": "code",
   "execution_count": 11,
   "id": "3aba9dfd",
   "metadata": {},
   "outputs": [
    {
     "name": "stdout",
     "output_type": "stream",
     "text": [
      "('SQL_prueba',)\n",
      "('information_schema',)\n",
      "('mysql',)\n",
      "('new_prueba',)\n",
      "('performance_schema',)\n",
      "('phpmyadmin',)\n",
      "('py02TEST',)\n",
      "('pydb02',)\n",
      "('test',)\n"
     ]
    }
   ],
   "source": [
    "for db in mycursor:\n",
    "    print(db) "
   ]
  },
  {
   "cell_type": "markdown",
   "id": "aaf90060",
   "metadata": {},
   "source": [
    "Conectando a la base de datos."
   ]
  },
  {
   "cell_type": "code",
   "execution_count": 15,
   "id": "4c2115b9",
   "metadata": {},
   "outputs": [],
   "source": [
    "mydb = mysql.connector.connect(\n",
    "                        host = \"localhost\",\n",
    "                        user = \"root\",\n",
    "                        passwd= \"\",\n",
    "                        database = \"pydb02\"\n",
    "                )"
   ]
  },
  {
   "cell_type": "code",
   "execution_count": 16,
   "id": "6d9903cf",
   "metadata": {},
   "outputs": [],
   "source": [
    "mycursor = mydb.cursor()"
   ]
  },
  {
   "cell_type": "markdown",
   "id": "5e119748",
   "metadata": {},
   "source": [
    "Creando una tabla en la BD \"pydb02\""
   ]
  },
  {
   "cell_type": "code",
   "execution_count": 20,
   "id": "2eab2723",
   "metadata": {},
   "outputs": [
    {
     "ename": "ProgrammingError",
     "evalue": "1050 (42S01): Table 'pystudents' already exists",
     "output_type": "error",
     "traceback": [
      "\u001b[0;31m---------------------------------------------------------------------------\u001b[0m",
      "\u001b[0;31mProgrammingError\u001b[0m                          Traceback (most recent call last)",
      "Cell \u001b[0;32mIn[20], line 1\u001b[0m\n\u001b[0;32m----> 1\u001b[0m mycursor\u001b[38;5;241m.\u001b[39mexecute(\u001b[38;5;124m'\u001b[39m\u001b[38;5;124mCREATE TABLE pystudents (id INT AUTO_INCREMENT PRIMARY KEY, fname VARCHAR(20), lname VARCHAR(20), edad INT)\u001b[39m\u001b[38;5;124m'\u001b[39m)\n",
      "File \u001b[0;32m~/anaconda3/lib/python3.11/site-packages/mysql/connector/cursor.py:551\u001b[0m, in \u001b[0;36mMySQLCursor.execute\u001b[0;34m(self, operation, params, multi)\u001b[0m\n\u001b[1;32m    549\u001b[0m \u001b[38;5;28;01melse\u001b[39;00m:\n\u001b[1;32m    550\u001b[0m     \u001b[38;5;28;01mtry\u001b[39;00m:\n\u001b[0;32m--> 551\u001b[0m         \u001b[38;5;28mself\u001b[39m\u001b[38;5;241m.\u001b[39m_handle_result(\u001b[38;5;28mself\u001b[39m\u001b[38;5;241m.\u001b[39m_connection\u001b[38;5;241m.\u001b[39mcmd_query(stmt))\n\u001b[1;32m    552\u001b[0m     \u001b[38;5;28;01mexcept\u001b[39;00m errors\u001b[38;5;241m.\u001b[39mInterfaceError:\n\u001b[1;32m    553\u001b[0m         \u001b[38;5;28;01mif\u001b[39;00m \u001b[38;5;28mself\u001b[39m\u001b[38;5;241m.\u001b[39m_connection\u001b[38;5;241m.\u001b[39m_have_next_result:  \u001b[38;5;66;03m# pylint: disable=W0212\u001b[39;00m\n",
      "File \u001b[0;32m~/anaconda3/lib/python3.11/site-packages/mysql/connector/connection.py:490\u001b[0m, in \u001b[0;36mMySQLConnection.cmd_query\u001b[0;34m(self, query, raw, buffered, raw_as_string)\u001b[0m\n\u001b[1;32m    488\u001b[0m \u001b[38;5;28;01mif\u001b[39;00m \u001b[38;5;129;01mnot\u001b[39;00m \u001b[38;5;28misinstance\u001b[39m(query, \u001b[38;5;28mbytes\u001b[39m):\n\u001b[1;32m    489\u001b[0m     query \u001b[38;5;241m=\u001b[39m query\u001b[38;5;241m.\u001b[39mencode(\u001b[38;5;124m'\u001b[39m\u001b[38;5;124mutf-8\u001b[39m\u001b[38;5;124m'\u001b[39m)\n\u001b[0;32m--> 490\u001b[0m result \u001b[38;5;241m=\u001b[39m \u001b[38;5;28mself\u001b[39m\u001b[38;5;241m.\u001b[39m_handle_result(\u001b[38;5;28mself\u001b[39m\u001b[38;5;241m.\u001b[39m_send_cmd(ServerCmd\u001b[38;5;241m.\u001b[39mQUERY, query))\n\u001b[1;32m    492\u001b[0m \u001b[38;5;28;01mif\u001b[39;00m \u001b[38;5;28mself\u001b[39m\u001b[38;5;241m.\u001b[39m_have_next_result:\n\u001b[1;32m    493\u001b[0m     \u001b[38;5;28;01mraise\u001b[39;00m errors\u001b[38;5;241m.\u001b[39mInterfaceError(\n\u001b[1;32m    494\u001b[0m         \u001b[38;5;124m'\u001b[39m\u001b[38;5;124mUse cmd_query_iter for statements with multiple queries.\u001b[39m\u001b[38;5;124m'\u001b[39m)\n",
      "File \u001b[0;32m~/anaconda3/lib/python3.11/site-packages/mysql/connector/connection.py:395\u001b[0m, in \u001b[0;36mMySQLConnection._handle_result\u001b[0;34m(self, packet)\u001b[0m\n\u001b[1;32m    393\u001b[0m     \u001b[38;5;28;01mreturn\u001b[39;00m \u001b[38;5;28mself\u001b[39m\u001b[38;5;241m.\u001b[39m_handle_eof(packet)\n\u001b[1;32m    394\u001b[0m \u001b[38;5;28;01melif\u001b[39;00m packet[\u001b[38;5;241m4\u001b[39m] \u001b[38;5;241m==\u001b[39m \u001b[38;5;241m255\u001b[39m:\n\u001b[0;32m--> 395\u001b[0m     \u001b[38;5;28;01mraise\u001b[39;00m errors\u001b[38;5;241m.\u001b[39mget_exception(packet)\n\u001b[1;32m    397\u001b[0m \u001b[38;5;66;03m# We have a text result set\u001b[39;00m\n\u001b[1;32m    398\u001b[0m column_count \u001b[38;5;241m=\u001b[39m \u001b[38;5;28mself\u001b[39m\u001b[38;5;241m.\u001b[39m_protocol\u001b[38;5;241m.\u001b[39mparse_column_count(packet)\n",
      "\u001b[0;31mProgrammingError\u001b[0m: 1050 (42S01): Table 'pystudents' already exists"
     ]
    }
   ],
   "source": [
    "mycursor.execute('CREATE TABLE pystudents (id INT AUTO_INCREMENT PRIMARY KEY, fname VARCHAR(20), lname VARCHAR(20), edad INT)')"
   ]
  },
  {
   "cell_type": "markdown",
   "id": "3386cb54",
   "metadata": {},
   "source": [
    "Crear otra tabla en la BD"
   ]
  },
  {
   "cell_type": "code",
   "execution_count": 21,
   "id": "fd00e90f",
   "metadata": {},
   "outputs": [],
   "source": [
    "mycursor.execute('CREATE TABLE pyBooks (id INT AUTO_INCREMENT PRIMARY KEY, bname VARCHAR(20), Autor VARCHAR(20), anio INT)')"
   ]
  },
  {
   "cell_type": "code",
   "execution_count": 22,
   "id": "ce958fd3",
   "metadata": {},
   "outputs": [],
   "source": [
    "mycursor.execute('CREATE TABLE pyProject ( fname VARCHAR(50), siteName VARCHAR(20), nBenef INT)')"
   ]
  },
  {
   "cell_type": "markdown",
   "id": "01bf14a7",
   "metadata": {},
   "source": [
    "crando una llave primaria para la tambla anterior"
   ]
  },
  {
   "cell_type": "code",
   "execution_count": 25,
   "id": "8757b949",
   "metadata": {},
   "outputs": [],
   "source": [
    "mycursor.execute('ALTER TABLE pyProject ADD COLUMN id INT AUTO_INCREMENT PRIMARY KEY')"
   ]
  },
  {
   "cell_type": "markdown",
   "id": "99e9d862",
   "metadata": {},
   "source": [
    "Mostrando las tablasdentro de la base de datos"
   ]
  },
  {
   "cell_type": "code",
   "execution_count": 26,
   "id": "450ffa03",
   "metadata": {},
   "outputs": [],
   "source": [
    "mycursor.execute('SHOW TABLES')"
   ]
  },
  {
   "cell_type": "code",
   "execution_count": 27,
   "id": "d2bc14e8",
   "metadata": {},
   "outputs": [
    {
     "name": "stdout",
     "output_type": "stream",
     "text": [
      "('pyBooks',)\n",
      "('pyProject',)\n",
      "('pystudents',)\n"
     ]
    }
   ],
   "source": [
    "for table in mycursor:\n",
    "    print(table)"
   ]
  },
  {
   "cell_type": "markdown",
   "id": "19641028",
   "metadata": {},
   "source": [
    "Agregando registros a la base de datos"
   ]
  },
  {
   "cell_type": "code",
   "execution_count": 28,
   "id": "49ba3bbd",
   "metadata": {},
   "outputs": [
    {
     "name": "stdout",
     "output_type": "stream",
     "text": [
      "1 Registro insetado\n"
     ]
    }
   ],
   "source": [
    "mycursor.execute('INSERT INTO pystudents(fname, lname, edad) VALUES (%s, %s, %s)',\n",
    "                ('john', 'Snow', 60)\n",
    "                )\n",
    "mydb.commit()\n",
    "print(mycursor.rowcount, 'Registro insetado')"
   ]
  },
  {
   "cell_type": "code",
   "execution_count": null,
   "id": "a4511bc8",
   "metadata": {},
   "outputs": [],
   "source": []
  }
 ],
 "metadata": {
  "kernelspec": {
   "display_name": "Python 3 (ipykernel)",
   "language": "python",
   "name": "python3"
  },
  "language_info": {
   "codemirror_mode": {
    "name": "ipython",
    "version": 3
   },
   "file_extension": ".py",
   "mimetype": "text/x-python",
   "name": "python",
   "nbconvert_exporter": "python",
   "pygments_lexer": "ipython3",
   "version": "3.11.4"
  },
  "nbTranslate": {
   "displayLangs": [
    "*"
   ],
   "hotkey": "alt-t",
   "langInMainMenu": true,
   "sourceLang": "en",
   "targetLang": "fr",
   "useGoogleTranslate": true
  }
 },
 "nbformat": 4,
 "nbformat_minor": 5
}
