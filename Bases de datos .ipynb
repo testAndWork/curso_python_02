{
 "cells": [
  {
   "cell_type": "code",
   "execution_count": 1,
   "id": "168a1d36",
   "metadata": {},
   "outputs": [
    {
     "name": "stdout",
     "output_type": "stream",
     "text": [
      "Requirement already satisfied: mysql-connector in /Users/bltzkrg/anaconda3/lib/python3.11/site-packages (2.2.9)\n",
      "Note: you may need to restart the kernel to use updated packages.\n"
     ]
    }
   ],
   "source": [
    "pip install mysql-connector"
   ]
  },
  {
   "cell_type": "markdown",
   "id": "cce436fd",
   "metadata": {},
   "source": [
    "Importando el módulo para usar la Base de Datos"
   ]
  },
  {
   "cell_type": "code",
   "execution_count": 2,
   "id": "0139d7f3",
   "metadata": {},
   "outputs": [],
   "source": [
    "import mysql.connector"
   ]
  },
  {
   "cell_type": "markdown",
   "id": "189bf4f4",
   "metadata": {},
   "source": [
    "Haciendo conexión al servidor "
   ]
  },
  {
   "cell_type": "code",
   "execution_count": 4,
   "id": "1178bfe5",
   "metadata": {},
   "outputs": [],
   "source": [
    "mydb = mysql.connector.connect(\n",
    "                        host = \"localhost\",\n",
    "                        user = \"root\",\n",
    "                        passwd= \"\"\n",
    "                )"
   ]
  },
  {
   "cell_type": "markdown",
   "id": "c595f12e",
   "metadata": {},
   "source": [
    "Creamos un puntero para establecer las oprenciones que indiquen conexión en la base de datos."
   ]
  },
  {
   "cell_type": "code",
   "execution_count": 5,
   "id": "1db43bcb",
   "metadata": {},
   "outputs": [],
   "source": [
    "mycursor = mydb.cursor()"
   ]
  },
  {
   "cell_type": "markdown",
   "id": "cd475730",
   "metadata": {},
   "source": [
    "Creando una base de datos"
   ]
  },
  {
   "cell_type": "code",
   "execution_count": 6,
   "id": "9377bf06",
   "metadata": {},
   "outputs": [],
   "source": [
    "mycursor.execute('CREATE DATABASE pydb02')"
   ]
  },
  {
   "cell_type": "markdown",
   "id": "c7573d6e",
   "metadata": {},
   "source": [
    "Verificar las bases de datos existentes en mi servidor."
   ]
  },
  {
   "cell_type": "code",
   "execution_count": 8,
   "id": "2ef0cc8a",
   "metadata": {},
   "outputs": [],
   "source": [
    "mycursor.execute('show databases')"
   ]
  },
  {
   "cell_type": "code",
   "execution_count": 11,
   "id": "b6c55671",
   "metadata": {},
   "outputs": [
    {
     "name": "stdout",
     "output_type": "stream",
     "text": [
      "('SQL_prueba',)\n",
      "('information_schema',)\n",
      "('mysql',)\n",
      "('new_prueba',)\n",
      "('performance_schema',)\n",
      "('phpmyadmin',)\n",
      "('py02TEST',)\n",
      "('pydb02',)\n",
      "('test',)\n"
     ]
    }
   ],
   "source": [
    "for db in mycursor:\n",
    "    print(db) "
   ]
  },
  {
   "cell_type": "markdown",
   "id": "791f0d88",
   "metadata": {},
   "source": [
    "Conectando a la base de datos."
   ]
  },
  {
   "cell_type": "code",
   "execution_count": 15,
   "id": "394e2943",
   "metadata": {},
   "outputs": [],
   "source": [
    "mydb = mysql.connector.connect(\n",
    "                        host = \"localhost\",\n",
    "                        user = \"root\",\n",
    "                        passwd= \"\",\n",
    "                        database = \"pydb02\"\n",
    "                )"
   ]
  },
  {
   "cell_type": "code",
   "execution_count": 16,
   "id": "1651babb",
   "metadata": {},
   "outputs": [],
   "source": [
    "mycursor = mydb.cursor()"
   ]
  },
  {
   "cell_type": "markdown",
   "id": "6154b266",
   "metadata": {},
   "source": [
    "Creando una tabla en la BD \"pydb02\""
   ]
  },
  {
   "cell_type": "code",
   "execution_count": 20,
   "id": "4428239a",
   "metadata": {},
   "outputs": [
    {
     "ename": "ProgrammingError",
     "evalue": "1050 (42S01): Table 'pystudents' already exists",
     "output_type": "error",
     "traceback": [
      "\u001b[0;31m---------------------------------------------------------------------------\u001b[0m",
      "\u001b[0;31mProgrammingError\u001b[0m                          Traceback (most recent call last)",
      "Cell \u001b[0;32mIn[20], line 1\u001b[0m\n\u001b[0;32m----> 1\u001b[0m mycursor\u001b[38;5;241m.\u001b[39mexecute(\u001b[38;5;124m'\u001b[39m\u001b[38;5;124mCREATE TABLE pystudents (id INT AUTO_INCREMENT PRIMARY KEY, fname VARCHAR(20), lname VARCHAR(20), edad INT)\u001b[39m\u001b[38;5;124m'\u001b[39m)\n",
      "File \u001b[0;32m~/anaconda3/lib/python3.11/site-packages/mysql/connector/cursor.py:551\u001b[0m, in \u001b[0;36mMySQLCursor.execute\u001b[0;34m(self, operation, params, multi)\u001b[0m\n\u001b[1;32m    549\u001b[0m \u001b[38;5;28;01melse\u001b[39;00m:\n\u001b[1;32m    550\u001b[0m     \u001b[38;5;28;01mtry\u001b[39;00m:\n\u001b[0;32m--> 551\u001b[0m         \u001b[38;5;28mself\u001b[39m\u001b[38;5;241m.\u001b[39m_handle_result(\u001b[38;5;28mself\u001b[39m\u001b[38;5;241m.\u001b[39m_connection\u001b[38;5;241m.\u001b[39mcmd_query(stmt))\n\u001b[1;32m    552\u001b[0m     \u001b[38;5;28;01mexcept\u001b[39;00m errors\u001b[38;5;241m.\u001b[39mInterfaceError:\n\u001b[1;32m    553\u001b[0m         \u001b[38;5;28;01mif\u001b[39;00m \u001b[38;5;28mself\u001b[39m\u001b[38;5;241m.\u001b[39m_connection\u001b[38;5;241m.\u001b[39m_have_next_result:  \u001b[38;5;66;03m# pylint: disable=W0212\u001b[39;00m\n",
      "File \u001b[0;32m~/anaconda3/lib/python3.11/site-packages/mysql/connector/connection.py:490\u001b[0m, in \u001b[0;36mMySQLConnection.cmd_query\u001b[0;34m(self, query, raw, buffered, raw_as_string)\u001b[0m\n\u001b[1;32m    488\u001b[0m \u001b[38;5;28;01mif\u001b[39;00m \u001b[38;5;129;01mnot\u001b[39;00m \u001b[38;5;28misinstance\u001b[39m(query, \u001b[38;5;28mbytes\u001b[39m):\n\u001b[1;32m    489\u001b[0m     query \u001b[38;5;241m=\u001b[39m query\u001b[38;5;241m.\u001b[39mencode(\u001b[38;5;124m'\u001b[39m\u001b[38;5;124mutf-8\u001b[39m\u001b[38;5;124m'\u001b[39m)\n\u001b[0;32m--> 490\u001b[0m result \u001b[38;5;241m=\u001b[39m \u001b[38;5;28mself\u001b[39m\u001b[38;5;241m.\u001b[39m_handle_result(\u001b[38;5;28mself\u001b[39m\u001b[38;5;241m.\u001b[39m_send_cmd(ServerCmd\u001b[38;5;241m.\u001b[39mQUERY, query))\n\u001b[1;32m    492\u001b[0m \u001b[38;5;28;01mif\u001b[39;00m \u001b[38;5;28mself\u001b[39m\u001b[38;5;241m.\u001b[39m_have_next_result:\n\u001b[1;32m    493\u001b[0m     \u001b[38;5;28;01mraise\u001b[39;00m errors\u001b[38;5;241m.\u001b[39mInterfaceError(\n\u001b[1;32m    494\u001b[0m         \u001b[38;5;124m'\u001b[39m\u001b[38;5;124mUse cmd_query_iter for statements with multiple queries.\u001b[39m\u001b[38;5;124m'\u001b[39m)\n",
      "File \u001b[0;32m~/anaconda3/lib/python3.11/site-packages/mysql/connector/connection.py:395\u001b[0m, in \u001b[0;36mMySQLConnection._handle_result\u001b[0;34m(self, packet)\u001b[0m\n\u001b[1;32m    393\u001b[0m     \u001b[38;5;28;01mreturn\u001b[39;00m \u001b[38;5;28mself\u001b[39m\u001b[38;5;241m.\u001b[39m_handle_eof(packet)\n\u001b[1;32m    394\u001b[0m \u001b[38;5;28;01melif\u001b[39;00m packet[\u001b[38;5;241m4\u001b[39m] \u001b[38;5;241m==\u001b[39m \u001b[38;5;241m255\u001b[39m:\n\u001b[0;32m--> 395\u001b[0m     \u001b[38;5;28;01mraise\u001b[39;00m errors\u001b[38;5;241m.\u001b[39mget_exception(packet)\n\u001b[1;32m    397\u001b[0m \u001b[38;5;66;03m# We have a text result set\u001b[39;00m\n\u001b[1;32m    398\u001b[0m column_count \u001b[38;5;241m=\u001b[39m \u001b[38;5;28mself\u001b[39m\u001b[38;5;241m.\u001b[39m_protocol\u001b[38;5;241m.\u001b[39mparse_column_count(packet)\n",
      "\u001b[0;31mProgrammingError\u001b[0m: 1050 (42S01): Table 'pystudents' already exists"
     ]
    }
   ],
   "source": [
    "mycursor.execute('CREATE TABLE pystudents (id INT AUTO_INCREMENT PRIMARY KEY, fname VARCHAR(20), lname VARCHAR(20), edad INT)')"
   ]
  },
  {
   "cell_type": "markdown",
   "id": "537b4d1d",
   "metadata": {},
   "source": [
    "Crear otra tabla en la BD"
   ]
  },
  {
   "cell_type": "code",
   "execution_count": 21,
   "id": "715a33dd",
   "metadata": {},
   "outputs": [],
   "source": [
    "mycursor.execute('CREATE TABLE pyBooks (id INT AUTO_INCREMENT PRIMARY KEY, bname VARCHAR(20), Autor VARCHAR(20), anio INT)')"
   ]
  },
  {
   "cell_type": "code",
   "execution_count": 22,
   "id": "c30867dc",
   "metadata": {},
   "outputs": [],
   "source": [
    "mycursor.execute('CREATE TABLE pyProject ( fname VARCHAR(50), siteName VARCHAR(20), nBenef INT)')"
   ]
  },
  {
   "cell_type": "markdown",
   "id": "38eb9656",
   "metadata": {},
   "source": [
    "crando una llave primaria para la tambla anterior"
   ]
  },
  {
   "cell_type": "code",
   "execution_count": 25,
   "id": "8ceb89b7",
   "metadata": {},
   "outputs": [],
   "source": [
    "mycursor.execute('ALTER TABLE pyProject ADD COLUMN id INT AUTO_INCREMENT PRIMARY KEY')"
   ]
  },
  {
   "cell_type": "markdown",
   "id": "c17355e6",
   "metadata": {},
   "source": [
    "Mostrando las tablasdentro de la base de datos"
   ]
  },
  {
   "cell_type": "code",
   "execution_count": 26,
   "id": "c0ee5fac",
   "metadata": {},
   "outputs": [],
   "source": [
    "mycursor.execute('SHOW TABLES')"
   ]
  },
  {
   "cell_type": "code",
   "execution_count": 27,
   "id": "c29df1f6",
   "metadata": {},
   "outputs": [
    {
     "name": "stdout",
     "output_type": "stream",
     "text": [
      "('pyBooks',)\n",
      "('pyProject',)\n",
      "('pystudents',)\n"
     ]
    }
   ],
   "source": [
    "for table in mycursor:\n",
    "    print(table)"
   ]
  },
  {
   "cell_type": "markdown",
   "id": "0bb64863",
   "metadata": {},
   "source": [
    "Agregando registros a la base de datos"
   ]
  },
  {
   "cell_type": "code",
   "execution_count": 28,
   "id": "2deffae2",
   "metadata": {},
   "outputs": [
    {
     "name": "stdout",
     "output_type": "stream",
     "text": [
      "1 Registro insetado\n"
     ]
    }
   ],
   "source": [
    "mycursor.execute('INSERT INTO pystudents(fname, lname, edad) VALUES (%s, %s, %s)',\n",
    "                ('john', 'Snow', 60)\n",
    "                )\n",
    "mydb.commit()\n",
    "print(mycursor.rowcount, 'Registro insetado')"
   ]
  },
  {
   "cell_type": "code",
   "execution_count": 29,
   "id": "582e76fe",
   "metadata": {},
   "outputs": [
    {
     "name": "stdout",
     "output_type": "stream",
     "text": [
      "1 Registro insetado\n"
     ]
    }
   ],
   "source": [
    "sql = 'INSERT INTO pystudents(fname, lname, edad) VALUES (%s, %s, %s)'\n",
    "val = ('jony', 'DOe', 670)\n",
    "\n",
    "mycursor.execute(sql, val)\n",
    "\n",
    "mydb.commit()\n",
    "print(mycursor.rowcount, 'Registro insetado')"
   ]
  },
  {
   "cell_type": "markdown",
   "id": "8d60f032",
   "metadata": {},
   "source": [
    "Agregar Múltiples Registros"
   ]
  },
  {
   "cell_type": "code",
   "execution_count": 30,
   "id": "9f9ac131",
   "metadata": {},
   "outputs": [
    {
     "name": "stdout",
     "output_type": "stream",
     "text": [
      "20 Registros insetados\n"
     ]
    }
   ],
   "source": [
    "sql = 'INSERT INTO pystudents(fname, lname, edad) VALUES (%s, %s, %s)'\n",
    "val = [\n",
    "    ('jony', 'Doe', 30),\n",
    "    ('Jane', 'Smith', 92),\n",
    "    ('Robert', 'Johnson', 78),\n",
    "    ('Susan', 'Williams', 95),\n",
    "    ('Michael', 'Brown', 88),\n",
    "    ('Emily', 'Jones', 91),\n",
    "    ('William', 'Davis', 77),\n",
    "    ('Jennifer', 'Taylor', 89),\n",
    "    ('James', 'Martinez', 83),\n",
    "    ('Sarah', 'Miller', 94),\n",
    "    ('David', 'Garcia', 86),\n",
    "    ('Mary', 'White', 90),\n",
    "    ('Matthew', 'Anderson', 79),\n",
    "    ('Linda', 'Jackson', 93),\n",
    "    ('Christopher', 'Harris', 82),\n",
    "    ('Karen', 'Lee', 87),\n",
    "    ('Joseph', 'Thompson', 80),\n",
    "    ('Patricia', 'Hall', 96),\n",
    "    ('Daniel', 'Scott', 75),\n",
    "    ('Nancy', 'Moore', 97)\n",
    "    ]\n",
    "\n",
    "mycursor.executemany(sql, val)\n",
    "\n",
    "mydb.commit()\n",
    "print(mycursor.rowcount, 'Registros insetados')"
   ]
  },
  {
   "cell_type": "code",
   "execution_count": 32,
   "id": "0abd51d2",
   "metadata": {},
   "outputs": [
    {
     "name": "stdout",
     "output_type": "stream",
     "text": [
      "40 Registros insetados\n"
     ]
    }
   ],
   "source": [
    "sql = 'INSERT INTO pystudents(fname, lname, edad) VALUES (%s, %s, %s)'\n",
    "val = [\n",
    "    ('jony', 'Doe', 30),\n",
    "    ('Jane', 'Smith', 92),\n",
    "    ('Robert', 'Johnson', 78),\n",
    "    ('Susan', 'Williams', 95),\n",
    "    ('Michael', 'Brown', 88),\n",
    "    ('Emily', 'Jones', 91),\n",
    "    ('William', 'Davis', 77),\n",
    "    ('Jennifer', 'Taylor', 89),\n",
    "    ('James', 'Martinez', 83),\n",
    "    ('Sarah', 'Miller', 94),\n",
    "    ('David', 'Garcia', 86),\n",
    "    ('Mary', 'White', 90),\n",
    "    ('Matthew', 'Anderson', 79),\n",
    "    ('Linda', 'Jackson', 93),\n",
    "    ('Christopher', 'Harris', 82),\n",
    "    ('Karen', 'Lee', 87),\n",
    "    ('Joseph', 'Thompson', 80),\n",
    "    ('Patricia', 'Hall', 96),\n",
    "    ('Daniel', 'Scott', 75),\n",
    "    ('Nancy', 'Moore', 97),\n",
    "    ('jony', 'Doe', 30),\n",
    "    ('Jane', 'Smith', 92),\n",
    "    ('Robert', 'Johnson', 78),\n",
    "    ('Susan', 'Williams', 95),\n",
    "    ('Michael', 'Brown', 88),\n",
    "    ('Emily', 'Jones', 91),\n",
    "    ('William', 'Davis', 77),\n",
    "    ('Jennifer', 'Taylor', 89),\n",
    "    ('James', 'Martinez', 83),\n",
    "    ('Sarah', 'Miller', 94),\n",
    "    ('David', 'Garcia', 86),\n",
    "    ('Mary', 'White', 90),\n",
    "    ('Matthew', 'Anderson', 79),\n",
    "    ('Linda', 'Jackson', 93),\n",
    "    ('Christopher', 'Harris', 82),\n",
    "    ('Karen', 'Lee', 87),\n",
    "    ('Joseph', 'Thompson', 80),\n",
    "    ('Patricia', 'Hall', 96),\n",
    "    ('Daniel', 'Scott', 75),\n",
    "    ('Nancy', 'Moore', 97)\n",
    "    ]\n",
    "\n",
    "mycursor.executemany(sql, val)\n",
    "\n",
    "mydb.commit()\n",
    "print(mycursor.rowcount, 'Registros insetados')"
   ]
  },
  {
   "cell_type": "code",
   "execution_count": 33,
   "id": "5f61c891",
   "metadata": {},
   "outputs": [],
   "source": [
    "mycursor.execute('SELECT * FROM pystudents')"
   ]
  },
  {
   "cell_type": "code",
   "execution_count": 34,
   "id": "5ee54f1c",
   "metadata": {},
   "outputs": [],
   "source": [
    "myresult = mycursor.fetchall()"
   ]
  },
  {
   "cell_type": "code",
   "execution_count": 35,
   "id": "18956646",
   "metadata": {},
   "outputs": [
    {
     "name": "stdout",
     "output_type": "stream",
     "text": [
      "(1, 'john', 'Snow', 60)\n",
      "(2, 'jony', 'DOe', 670)\n",
      "(3, 'jony', 'Doe', 30)\n",
      "(4, 'Jane', 'Smith', 92)\n",
      "(5, 'Robert', 'Johnson', 78)\n",
      "(6, 'Susan', 'Williams', 95)\n",
      "(7, 'Michael', 'Brown', 88)\n",
      "(8, 'Emily', 'Jones', 91)\n",
      "(9, 'William', 'Davis', 77)\n",
      "(10, 'Jennifer', 'Taylor', 89)\n",
      "(11, 'James', 'Martinez', 83)\n",
      "(12, 'Sarah', 'Miller', 94)\n",
      "(13, 'David', 'Garcia', 86)\n",
      "(14, 'Mary', 'White', 90)\n",
      "(15, 'Matthew', 'Anderson', 79)\n",
      "(16, 'Linda', 'Jackson', 93)\n",
      "(17, 'Christopher', 'Harris', 82)\n",
      "(18, 'Karen', 'Lee', 87)\n",
      "(19, 'Joseph', 'Thompson', 80)\n",
      "(20, 'Patricia', 'Hall', 96)\n",
      "(21, 'Daniel', 'Scott', 75)\n",
      "(22, 'Nancy', 'Moore', 97)\n",
      "(23, 'jony', 'Doe', 30)\n",
      "(24, 'Jane', 'Smith', 92)\n",
      "(25, 'Robert', 'Johnson', 78)\n",
      "(26, 'Susan', 'Williams', 95)\n",
      "(27, 'Michael', 'Brown', 88)\n",
      "(28, 'Emily', 'Jones', 91)\n",
      "(29, 'William', 'Davis', 77)\n",
      "(30, 'Jennifer', 'Taylor', 89)\n",
      "(31, 'James', 'Martinez', 83)\n",
      "(32, 'Sarah', 'Miller', 94)\n",
      "(33, 'David', 'Garcia', 86)\n",
      "(34, 'Mary', 'White', 90)\n",
      "(35, 'Matthew', 'Anderson', 79)\n",
      "(36, 'Linda', 'Jackson', 93)\n",
      "(37, 'Christopher', 'Harris', 82)\n",
      "(38, 'Karen', 'Lee', 87)\n",
      "(39, 'Joseph', 'Thompson', 80)\n",
      "(40, 'Patricia', 'Hall', 96)\n",
      "(41, 'Daniel', 'Scott', 75)\n",
      "(42, 'Nancy', 'Moore', 97)\n",
      "(43, 'jony', 'Doe', 30)\n",
      "(44, 'Jane', 'Smith', 92)\n",
      "(45, 'Robert', 'Johnson', 78)\n",
      "(46, 'Susan', 'Williams', 95)\n",
      "(47, 'Michael', 'Brown', 88)\n",
      "(48, 'Emily', 'Jones', 91)\n",
      "(49, 'William', 'Davis', 77)\n",
      "(50, 'Jennifer', 'Taylor', 89)\n",
      "(51, 'James', 'Martinez', 83)\n",
      "(52, 'Sarah', 'Miller', 94)\n",
      "(53, 'David', 'Garcia', 86)\n",
      "(54, 'Mary', 'White', 90)\n",
      "(55, 'Matthew', 'Anderson', 79)\n",
      "(56, 'Linda', 'Jackson', 93)\n",
      "(57, 'Christopher', 'Harris', 82)\n",
      "(58, 'Karen', 'Lee', 87)\n",
      "(59, 'Joseph', 'Thompson', 80)\n",
      "(60, 'Patricia', 'Hall', 96)\n",
      "(61, 'Daniel', 'Scott', 75)\n",
      "(62, 'Nancy', 'Moore', 97)\n"
     ]
    }
   ],
   "source": [
    "for registry in myresult:\n",
    "    print(registry)"
   ]
  },
  {
   "cell_type": "code",
   "execution_count": null,
   "id": "58bcdee9",
   "metadata": {},
   "outputs": [],
   "source": []
  }
 ],
 "metadata": {
  "kernelspec": {
   "display_name": "Python 3 (ipykernel)",
   "language": "python",
   "name": "python3"
  },
  "language_info": {
   "codemirror_mode": {
    "name": "ipython",
    "version": 3
   },
   "file_extension": ".py",
   "mimetype": "text/x-python",
   "name": "python",
   "nbconvert_exporter": "python",
   "pygments_lexer": "ipython3",
   "version": "3.11.4"
  },
  "nbTranslate": {
   "displayLangs": [
    "*"
   ],
   "hotkey": "alt-t",
   "langInMainMenu": true,
   "sourceLang": "en",
   "targetLang": "fr",
   "useGoogleTranslate": true
  }
 },
 "nbformat": 4,
 "nbformat_minor": 5
}
