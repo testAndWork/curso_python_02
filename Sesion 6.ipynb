{
 "cells": [
  {
   "cell_type": "markdown",
   "id": "9c8c537c",
   "metadata": {},
   "source": [
    "# <span style=\"color:darkblue\">Módulo 1 - Introducción a la programación con Python </span>\n",
    "\n",
    "## <span style=\"color:darkblue\">Sesión 5-Colecciones de datos</span>\n",
    "\n",
    "### <span style=\"color:darkblue\">Duración estimada:\t3 horas</span>\n"
   ]
  },
  {
   "cell_type": "markdown",
   "id": "42a8be22",
   "metadata": {},
   "source": [
    "## <span style=\"color:darkblue\"> Tabla de contenidos:</span>\n",
    " \n",
    "    1- Bienvenida\n",
    "    \n",
    "    2- Asistencia\n",
    "    \n",
    "    3- Dudas de la Clase anterior\n",
    "    \n",
    "    4- Control de Lectura\n",
    "    \n",
    "    5- Objetivo\n",
    "    \n",
    "    6- Introducción\n",
    "    \n",
    "    7- Qué es una matriz\n",
    "    \n",
    "    8- Comparativa entre colecciones de datos\n",
    "    \n",
    "    9- Listas en Python - list\n",
    "    \n",
    "    10- Longitud de la Lista \n",
    "    \n",
    "    11- Agregar elementos a una lista\n",
    "    \n",
    "    12- Elementos de la lista - Tipos de datos\n",
    "\n",
    "    13- Tuplas en Python - tuple\n",
    "\n",
    "    14- Longitud de la tupla\n",
    "    \n",
    "    15- Crear tupla con un elemento\t\n",
    "   \n",
    "    16- Conjuntos en Python - set\t\n",
    "\n",
    "    17- Obtener la longitud de un conjunto\t\n",
    "\n",
    "    18- Diccionario en Python – Dictionary\t\n",
    "\n",
    "    19- Diccionarios anidados\t\n",
    "    \n",
    "    20- Los constructores de las colecciones\n",
    "    \n",
    "    21 - Retroalimentación\n",
    "    \n",
    "    22 - Asistencia\n"
   ]
  },
  {
   "cell_type": "markdown",
   "id": "51ae1b4d",
   "metadata": {},
   "source": [
    "## <span style=\"color:darkred\">Objetivo:</span>\n",
    "\n",
    "Comprender como Python proporciona una manera flexible y eficiente de almacenar y manipular conjuntos de datos en diferentes formatos y estructuras. Estas colecciones de datos incluyen tipos de datos como listas, tuplas, diccionarios y conjuntos, cada uno con sus propias características y funcionalidades.\n",
    "\n",
    "### <span style=\"color:darkred\">Recursos</span>\n",
    "\n",
    "•\tSesión 5 de Curso de Python\n",
    "\n",
    "•\tComputadora con Python instalado\n",
    "\n",
    "•\tVisual Studio Code instalado\n",
    "\n",
    "\n",
    "\n",
    "### <span style=\"color:darkred\">Introducción:</span>\n",
    "\n",
    "Las colecciones de datos son un aspecto fundamental de la programación y la ciencia de datos en Python. Python ofrece una variedad de tipos de datos integrados, como listas, tuplas, diccionarios y conjuntos, que permiten a los desarrolladores y analistas de datos almacenar y manipular conjuntos de datos en diferentes formatos y estructuras. \n",
    "\n",
    "El conocimiento y la comprensión de estas colecciones de datos es esencial para cualquier persona que trabaje con Python, ya que son una herramienta fundamental para la manipulación eficiente y flexible de datos en muchas aplicaciones, desde la programación básica hasta el análisis avanzado de datos. \n",
    "\n",
    "En esta guía, exploraremos las diferentes colecciones de datos en Python, sus características y funcionalidades, y cómo se pueden utilizar para mejorar la eficiencia del código y la capacidad de análisis de datos.\n",
    "\n",
    "### <span style=\"color:darkred\">Aprendamos </span>\n",
    "\n",
    "Python no tiene soporte integrado para arreglos, pero en su lugar se pueden usar listas de Python. Las matrices se utilizan para almacenar múltiples valores en una sola variable."
   ]
  },
  {
   "cell_type": "markdown",
   "id": "6bc551e5",
   "metadata": {},
   "source": [
    "\n"
   ]
  },
  {
   "cell_type": "markdown",
   "id": "dae5ab9c",
   "metadata": {},
   "source": [
    "## <span style=\"color:darkred\">¿Qué es una matriz?</span>\n",
    "\n",
    "Una matriz es una variable especial que puede contener más de un valor a la vez.\n",
    "\n",
    "Si tiene una lista de elementos (una lista de nombres de automóviles, por ejemplo), almacenar los automóviles en variables individuales podría tener este aspecto:\n",
    "```\n",
    "car1 = \"Ford\"\n",
    "car2 = \"Volvo\"\n",
    "car3 = \"BMW\"\n",
    "```\n",
    "\n",
    "Sin embargo, ¿qué sucede si desea recorrer los autos y encontrar uno específico? ¿Y si no tuvieras 3 coches, sino 300?\n",
    "\n",
    "**¡La solución es una matriz!**\n",
    "\n",
    "Una matriz puede contener muchos valores bajo un solo nombre y puede acceder a los valores haciendo referencia a un número de índice.\n",
    "\n",
    "**Cree una arrglo que contenga nombres de automóviles:**\n",
    "\n",
    "```\n",
    "cars = [\"Ford\", \"Volvo\", \"BMW\"]\n",
    "```\n",
    "\n",
    "## <span style=\"color:darkred\">Comparativa entre colecciones de datos</span>\n",
    "\n",
    "En Python existen diferentes tipos de colecciones y cada una de ellas poseen diferentes características y la elección depende de cual utilizar en una situación dependen bastante de ellas, a continuación, tenemos una tabla comparativa: \n",
    "\n",
    "<table>\n",
    "  <tr>\n",
    "    <th>COLECCIÓN</th> \n",
    "    <th>ORDENADA</th>\n",
    "    <th>MUTABLE</th>\n",
    "    <th>ÚNICA</th>\n",
    "    <th>ACCESO POR ÍNDICE</th>\n",
    "    <th>ACCESO POR CLAVE</th>\n",
    "  </tr>\n",
    "  <tr>\n",
    "    <td>LISTA</td>\n",
    "    <td>Sí</td>\n",
    "    <td>Sí</td> \n",
    "    <td>No</td>\n",
    "    <td>Sí</td>\n",
    "    <td>No</td>\n",
    "  </tr>\n",
    "  <tr>\n",
    "    <td>TUPLA</td>\n",
    "    <td>Sí</td>\n",
    "    <td>No</td>\n",
    "    <td>No</td>\n",
    "    <td>Sí</td> \n",
    "    <td>No</td>\n",
    "  </tr>  \n",
    "  <tr>\n",
    "    <td>SET</td>\n",
    "    <td>No</td>\n",
    "    <td>Sí</td>\n",
    "    <td>Sí</td>\n",
    "    <td>No</td>\n",
    "    <td>No</td>\n",
    "  </tr>\n",
    "  <tr>    \n",
    "    <td>DICCIONARIO</td>\n",
    "    <td>No</td>\n",
    "    <td>Sí</td>\n",
    "    <td>No</td>\n",
    "    <td>No</td>\n",
    "    <td>Sí</td>\n",
    "  </tr>\n",
    "</table>\n",
    "\n",
    "\n",
    "\n",
    "\n",
    "<ul> <li> <strong>Ordenada:</strong> indica si la colección mantiene el orden de los elementos. </li> <li> <strong>Mutable:</strong> indica si la colección puede ser modificada después de creada. </li> <li> <strong>Única:</strong> indica si la colección permite elementos duplicados. </li> <li> <strong>Acceso por índice:</strong> indica si los elementos pueden ser accedidos por su posición en la colección. </li> <li> <strong>Acceso por clave:</strong> indica si los elementos pueden ser accedidos por una clave asignada a cada elemento en la colección. </li> </ul>\n",
    "\n",
    "Es importante tener en cuenta estas diferencias al elegir la colección adecuada para una tarea determinada. Por ejemplo, si se necesita una colección de elementos ordenados y modificables, una lista sería la mejor opción. Si se necesita una colección de elementos únicos y no importa el orden, un set sería más adecuado. Si se necesita una colección de pares clave-valor, un diccionario sería la mejor opción, y si se necesita una colección de elementos ordenados, pero no modificables, una tupla sería la mejor opción.\n",
    "\n",
    "## <span style=\"color:darkred\">Listas en Python - `list[]` </span>\n",
    "\n",
    "Las listas se utilizan para almacenar varios elementos en una sola variable. Las listas se crean usando corchetes:\n"
   ]
  },
  {
   "cell_type": "code",
   "execution_count": 1,
   "id": "76ffc30a",
   "metadata": {},
   "outputs": [
    {
     "name": "stdout",
     "output_type": "stream",
     "text": [
      "['apple', 'banana', 'cherry']\n"
     ]
    }
   ],
   "source": [
    "thislist = [\"apple\", \"banana\", \"cherry\"]\n",
    "print (thislist)"
   ]
  },
  {
   "cell_type": "code",
   "execution_count": null,
   "id": "9a6000bb",
   "metadata": {},
   "outputs": [],
   "source": []
  },
  {
   "cell_type": "markdown",
   "id": "21c3cfa1",
   "metadata": {},
   "source": [
    "## <span style=\"color:darkred\">Características principales</span>\n",
    "\n",
    "### <span style=\"color:darkred\">Elementos de la lista:</span>\n",
    "\n",
    "    Los elementos de la lista están ordenados, se pueden cambiar y permiten valores duplicados. \n",
    "    Los elementos de la lista están indexados, el primer elemento tiene índice [0], el segundo elemento tiene índice [1], etc.\n",
    "\n",
    "### <span style=\"color:darkred\">Ordenado: </span>\n",
    "    \n",
    "    Cuando decimos que las listas están ordenadas, significa que los elementos tienen un orden definido y ese orden no cambiará. Si agrega nuevos elementos a una lista, los nuevos elementos se colocarán al final de la lista.\n",
    "\n",
    "### <span style=\"color:darkblue\">Nota:</span>\n",
    "\n",
    "    Hay algunos métodos de lista que cambiarán el orden, pero en general: el orden de los elementos no cambiará.\n",
    "\n",
    "### <span style=\"color:darkred\">Cambiable:</span>\n",
    "\n",
    "    La lista se puede cambiar, lo que significa que podemos cambiar, agregar y eliminar elementos en una lista después de que se haya creado.\n",
    "    \n",
    "### <span style=\"color:darkred\">Permitir duplicados:</span>\n",
    "\n",
    "    Dado que las listas están indexadas, las listas pueden tener elementos con el mismo valor\n",
    "\n",
    "### <span style=\"color:darkred\">Longitud de la lista</span>\n",
    "\n",
    "Para determinar cuántos elementos tiene una lista, use la función len():\n",
    "\n",
    "Imprime el número de artículos en la lista:"
   ]
  },
  {
   "cell_type": "code",
   "execution_count": 2,
   "id": "c59abba7",
   "metadata": {},
   "outputs": [
    {
     "data": {
      "text/plain": [
       "4"
      ]
     },
     "execution_count": 2,
     "metadata": {},
     "output_type": "execute_result"
    }
   ],
   "source": [
    "thislist = ['manza', 'banana','sandia', 'jocote' ] \n",
    "len(thislist)"
   ]
  },
  {
   "cell_type": "code",
   "execution_count": 3,
   "id": "ceb0785b",
   "metadata": {},
   "outputs": [
    {
     "data": {
      "text/plain": [
       "5"
      ]
     },
     "execution_count": 3,
     "metadata": {},
     "output_type": "execute_result"
    }
   ],
   "source": [
    "vegetales = ['tomate','papa', 'zanahoria', 'cebolla', 'chile']\n",
    "len(vegetales)"
   ]
  },
  {
   "cell_type": "code",
   "execution_count": 6,
   "id": "4ed3907f",
   "metadata": {},
   "outputs": [
    {
     "data": {
      "text/plain": [
       "(8, [1, 2, 3, 4, 5, 'a', 'e', 'o'])"
      ]
     },
     "execution_count": 6,
     "metadata": {},
     "output_type": "execute_result"
    }
   ],
   "source": [
    "mixLista = [1, 2, 3, 4, 5, 'a', 'e', 'o']\n",
    "len(mixLista), mixLista"
   ]
  },
  {
   "cell_type": "code",
   "execution_count": 15,
   "id": "ab541844",
   "metadata": {},
   "outputs": [
    {
     "data": {
      "text/plain": [
       "(True, True)"
      ]
     },
     "execution_count": 15,
     "metadata": {},
     "output_type": "execute_result"
    }
   ],
   "source": [
    "mix = ['manzana', 'banana','sandia', 'jocote','tomate','papa', 'zanahoria', 'cebolla', 'chile']\n",
    "\n",
    "'manzana' in mix, 'tomate' in mix "
   ]
  },
  {
   "cell_type": "markdown",
   "id": "ab7a57d6",
   "metadata": {},
   "source": [
    "### <span style=\"color:darkred\">Agregar elementos a una lista</span>\n",
    "\n",
    "Para agregar un elemento al final de la lista, use el método `append()` :\n"
   ]
  },
  {
   "cell_type": "code",
   "execution_count": 17,
   "id": "a6db7e42",
   "metadata": {},
   "outputs": [
    {
     "data": {
      "text/plain": [
       "[1, 2, 3, 4, 5, 'a', 'e', 'o']"
      ]
     },
     "execution_count": 17,
     "metadata": {},
     "output_type": "execute_result"
    }
   ],
   "source": [
    "mixLista = [1, 2, 3, 4, 5, 'a', 'e', 'o']\n",
    "mixLista"
   ]
  },
  {
   "cell_type": "code",
   "execution_count": 23,
   "id": "eb102dec",
   "metadata": {},
   "outputs": [],
   "source": [
    "mixLista.append('True')\n",
    "mixLista.append(True)"
   ]
  },
  {
   "cell_type": "code",
   "execution_count": 24,
   "id": "ba9a6cb9",
   "metadata": {},
   "outputs": [
    {
     "data": {
      "text/plain": [
       "[1, 2, 3, 4, 5, 'a', 'e', 'o', 'True', 'True', True]"
      ]
     },
     "execution_count": 24,
     "metadata": {},
     "output_type": "execute_result"
    }
   ],
   "source": [
    "mixLista"
   ]
  },
  {
   "cell_type": "code",
   "execution_count": 27,
   "id": "a4e84a88",
   "metadata": {},
   "outputs": [
    {
     "data": {
      "text/plain": [
       "[[1, 2, 3], [4, 5, 6], [7, 8, 9]]"
      ]
     },
     "execution_count": 27,
     "metadata": {},
     "output_type": "execute_result"
    }
   ],
   "source": [
    "emptyList = []\n",
    "\n",
    "emptyList.append([1,2,3])\n",
    "emptyList.append([4,5,6])\n",
    "emptyList.append([7,8,9])\n",
    "emptyList"
   ]
  },
  {
   "cell_type": "code",
   "execution_count": 28,
   "id": "a14f40fd",
   "metadata": {},
   "outputs": [
    {
     "data": {
      "text/plain": [
       "[7, 8, 9]"
      ]
     },
     "execution_count": 28,
     "metadata": {},
     "output_type": "execute_result"
    }
   ],
   "source": [
    "emptyList[2]"
   ]
  },
  {
   "cell_type": "code",
   "execution_count": 29,
   "id": "a8c3d262",
   "metadata": {},
   "outputs": [
    {
     "data": {
      "text/plain": [
       "8"
      ]
     },
     "execution_count": 29,
     "metadata": {},
     "output_type": "execute_result"
    }
   ],
   "source": [
    "emptyList[2][1]"
   ]
  },
  {
   "cell_type": "markdown",
   "id": "76faa5e7",
   "metadata": {},
   "source": [
    "### <span style=\"color:darkred\">Elementos de la lista - Tipos de datos</span>\n",
    "\n",
    "Los elementos de la lista pueden ser de cualquier tipo de datos, por ejemplo, tipos de datos de **cadena, int y booleanos:**\n",
    "\n",
    "#### Ejemplos:"
   ]
  },
  {
   "cell_type": "code",
   "execution_count": 34,
   "id": "e1dd14dc",
   "metadata": {},
   "outputs": [
    {
     "data": {
      "text/plain": [
       "([3.4, 5.667, 234.4565, 34.78], float)"
      ]
     },
     "execution_count": 34,
     "metadata": {},
     "output_type": "execute_result"
    }
   ],
   "source": [
    "lstFloat = [3.4, 5.667, 234.4565, 34.78]\n",
    "lstFloat, type(lstFloat[3])"
   ]
  },
  {
   "cell_type": "code",
   "execution_count": 36,
   "id": "4ec2f302",
   "metadata": {},
   "outputs": [
    {
     "data": {
      "text/plain": [
       "(['a', 'b', 'c', 'd'], list, str)"
      ]
     },
     "execution_count": 36,
     "metadata": {},
     "output_type": "execute_result"
    }
   ],
   "source": [
    "lstStr = ['a', 'b', 'c','d']\n",
    "lstStr, type(lstStr),type(lstStr[2])"
   ]
  },
  {
   "cell_type": "code",
   "execution_count": 37,
   "id": "5b964d40",
   "metadata": {},
   "outputs": [
    {
     "data": {
      "text/plain": [
       "([1, 2, 3, 4, 5, 6, 7], int)"
      ]
     },
     "execution_count": 37,
     "metadata": {},
     "output_type": "execute_result"
    }
   ],
   "source": [
    "lstInt = [1, 2, 3, 4, 5, 6, 7]\n",
    "lstInt, type(lstInt[3])"
   ]
  },
  {
   "cell_type": "code",
   "execution_count": 38,
   "id": "2b0a7db5",
   "metadata": {},
   "outputs": [
    {
     "data": {
      "text/plain": [
       "[True, False, False, False, True]"
      ]
     },
     "execution_count": 38,
     "metadata": {},
     "output_type": "execute_result"
    }
   ],
   "source": [
    "lstBool = [True, False, False, False, True]\n",
    "lstBool"
   ]
  },
  {
   "cell_type": "markdown",
   "id": "2c2a0d7e",
   "metadata": {},
   "source": [
    "Una lista puede contener diferentes tipos de datos, por ejemplo, una lista con cadenas, enteros y valores booleanos: "
   ]
  },
  {
   "cell_type": "code",
   "execution_count": 46,
   "id": "53aa3512",
   "metadata": {},
   "outputs": [],
   "source": [
    "import unicodedata"
   ]
  },
  {
   "cell_type": "code",
   "execution_count": 51,
   "id": "592a532f",
   "metadata": {},
   "outputs": [
    {
     "data": {
      "text/plain": [
       "[[3.4, 5.667, 234.4565, 34.78],\n",
       " ['a', 'b', 'c', 'd'],\n",
       " [1, 2, 3, 4, 5, 6, 7],\n",
       " [True, False, False, False, True],\n",
       " 3.4,\n",
       " 6,\n",
       " 'hola MUndo',\n",
       " 4,\n",
       " {'clave': 'valor', 'edad': 32}]"
      ]
     },
     "execution_count": 51,
     "metadata": {},
     "output_type": "execute_result"
    }
   ],
   "source": [
    "x = 4\n",
    "mixLst = [[3.4, 5.667, 234.4565, 34.78], \n",
    "          ['a', 'b', 'c','d'],\n",
    "          [1, 2, 3, 4, 5, 6, 7],\n",
    "         [True, False, False, False, True],\n",
    "         3.4, 6, 'hola MUndo', x,\n",
    "         {\n",
    "             'clave':'valor',\n",
    "             'edad': 32\n",
    "         }\n",
    "         ]\n",
    "mixLst"
   ]
  },
  {
   "cell_type": "markdown",
   "id": "d02697dd",
   "metadata": {},
   "source": [
    "### Accesando a los elementos de una Lista con índices positivos"
   ]
  },
  {
   "cell_type": "code",
   "execution_count": 56,
   "id": "b2dabc3e",
   "metadata": {},
   "outputs": [
    {
     "data": {
      "text/plain": [
       "13"
      ]
     },
     "execution_count": 56,
     "metadata": {},
     "output_type": "execute_result"
    }
   ],
   "source": [
    "lstfull = [3.4, 5.667, 234.4565, 34.78,'manzana', 'banana','sandia', 'jocote','tomate','papa', 'zanahoria', 'cebolla', 'chile']\n",
    "len(lstfull)"
   ]
  },
  {
   "cell_type": "code",
   "execution_count": 57,
   "id": "758ee407",
   "metadata": {},
   "outputs": [
    {
     "data": {
      "text/plain": [
       "('manzana', 'jocote', 'zanahoria', 234.4565)"
      ]
     },
     "execution_count": 57,
     "metadata": {},
     "output_type": "execute_result"
    }
   ],
   "source": [
    "lstfull[4], lstfull[7],lstfull[10], lstfull[2]"
   ]
  },
  {
   "cell_type": "code",
   "execution_count": 59,
   "id": "fd3f0551",
   "metadata": {},
   "outputs": [
    {
     "data": {
      "text/plain": [
       "['manzana', 'jocote', 'zanahoria', 234.4565]"
      ]
     },
     "execution_count": 59,
     "metadata": {},
     "output_type": "execute_result"
    }
   ],
   "source": [
    "lstNew = [lstfull[4], lstfull[7],lstfull[10], lstfull[2]]\n",
    "lstNew"
   ]
  },
  {
   "cell_type": "markdown",
   "id": "5a58b7a3",
   "metadata": {},
   "source": [
    "### Accesando a los elementos de una Lista con índices negativos\n"
   ]
  },
  {
   "cell_type": "code",
   "execution_count": 60,
   "id": "48151626",
   "metadata": {},
   "outputs": [
    {
     "data": {
      "text/plain": [
       "('papa', 'sandia', 34.78, 'cebolla')"
      ]
     },
     "execution_count": 60,
     "metadata": {},
     "output_type": "execute_result"
    }
   ],
   "source": [
    "lstfull[-4], lstfull[-7],lstfull[-10], lstfull[-2]"
   ]
  },
  {
   "cell_type": "code",
   "execution_count": 62,
   "id": "40596730",
   "metadata": {},
   "outputs": [
    {
     "data": {
      "text/plain": [
       "['papa', 'sandia', 34.78, 'cebolla']"
      ]
     },
     "execution_count": 62,
     "metadata": {},
     "output_type": "execute_result"
    }
   ],
   "source": [
    "lstN = [lstfull[-4], lstfull[-7],lstfull[-10], lstfull[-2]]\n",
    "lstN"
   ]
  },
  {
   "cell_type": "markdown",
   "id": "9d8a6cee",
   "metadata": {},
   "source": [
    "### Desempacando elementos de una lista"
   ]
  },
  {
   "cell_type": "code",
   "execution_count": 63,
   "id": "1fe3713b",
   "metadata": {},
   "outputs": [
    {
     "data": {
      "text/plain": [
       "6"
      ]
     },
     "execution_count": 63,
     "metadata": {},
     "output_type": "execute_result"
    }
   ],
   "source": [
    "lstfull = [ 'jocote','tomate','papa', 'zanahoria', 'cebolla', 'chile']\n",
    "len(lstfull)"
   ]
  },
  {
   "cell_type": "code",
   "execution_count": 67,
   "id": "75194d02",
   "metadata": {},
   "outputs": [
    {
     "name": "stdout",
     "output_type": "stream",
     "text": [
      "jocote tomate papa ['zanahoria', 'cebolla', 'chile']\n"
     ]
    }
   ],
   "source": [
    "item1, item2, item3, *resto = lstfull\n",
    "\n",
    "print (item1, item2, item3, resto)"
   ]
  },
  {
   "cell_type": "code",
   "execution_count": 66,
   "id": "0b3f10f9",
   "metadata": {},
   "outputs": [
    {
     "data": {
      "text/plain": [
       "('jocote', ['tomate', 'papa', 'zanahoria', 'cebolla', 'chile'])"
      ]
     },
     "execution_count": 66,
     "metadata": {},
     "output_type": "execute_result"
    }
   ],
   "source": [
    "item1,  *resto = lstfull\n",
    "\n",
    "item1,  resto"
   ]
  },
  {
   "cell_type": "code",
   "execution_count": 69,
   "id": "d7d77dda",
   "metadata": {},
   "outputs": [
    {
     "data": {
      "text/plain": [
       "('jocote', 'chile')"
      ]
     },
     "execution_count": 69,
     "metadata": {},
     "output_type": "execute_result"
    }
   ],
   "source": [
    "first_element , *middle_element, last_element  = lstfull\n",
    "first_element , last_element"
   ]
  },
  {
   "cell_type": "code",
   "execution_count": 72,
   "id": "35105e16",
   "metadata": {},
   "outputs": [
    {
     "name": "stdout",
     "output_type": "stream",
     "text": [
      "15\n"
     ]
    },
    {
     "data": {
      "text/plain": [
       "('survived', 'alone')"
      ]
     },
     "execution_count": 72,
     "metadata": {},
     "output_type": "execute_result"
    }
   ],
   "source": [
    "info_cols = ['survived', 'pclass', 'sex', 'age', 'sibsp', 'parch', \n",
    "             'fare','embarked', 'class', 'who', 'adult_male', 'deck', 'embark_town',\n",
    "           'alive', 'alone']\n",
    "print(len(info_cols))\n",
    "first_element , *middle_element, last_element  = info_cols\n",
    "first_element , last_element"
   ]
  },
  {
   "cell_type": "code",
   "execution_count": 73,
   "id": "f4f3673a",
   "metadata": {},
   "outputs": [
    {
     "data": {
      "text/plain": [
       "['pclass',\n",
       " 'sex',\n",
       " 'age',\n",
       " 'sibsp',\n",
       " 'parch',\n",
       " 'fare',\n",
       " 'embarked',\n",
       " 'class',\n",
       " 'who',\n",
       " 'adult_male',\n",
       " 'deck',\n",
       " 'embark_town',\n",
       " 'alive']"
      ]
     },
     "execution_count": 73,
     "metadata": {},
     "output_type": "execute_result"
    }
   ],
   "source": [
    "middle_element"
   ]
  },
  {
   "cell_type": "code",
   "execution_count": 74,
   "id": "bda012fc",
   "metadata": {},
   "outputs": [
    {
     "name": "stdout",
     "output_type": "stream",
     "text": [
      "15\n"
     ]
    },
    {
     "data": {
      "text/plain": [
       "('survived', 'alone')"
      ]
     },
     "execution_count": 74,
     "metadata": {},
     "output_type": "execute_result"
    }
   ],
   "source": [
    "info_cols = ['survived', 'pclass', 'sex', 'age', 'sibsp', 'parch', \n",
    "             'fare','embarked', 'class', 'who', 'adult_male', 'deck', 'embark_town',\n",
    "           'alive', 'alone']\n",
    "print(len(info_cols))\n",
    "first_element , *middle_element, before_lastE, last_element  = info_cols\n",
    "first_element , last_element"
   ]
  },
  {
   "cell_type": "code",
   "execution_count": 75,
   "id": "aec2471e",
   "metadata": {},
   "outputs": [
    {
     "data": {
      "text/plain": [
       "(['pclass',\n",
       "  'sex',\n",
       "  'age',\n",
       "  'sibsp',\n",
       "  'parch',\n",
       "  'fare',\n",
       "  'embarked',\n",
       "  'class',\n",
       "  'who',\n",
       "  'adult_male',\n",
       "  'deck',\n",
       "  'embark_town'],\n",
       " 'alive')"
      ]
     },
     "execution_count": 75,
     "metadata": {},
     "output_type": "execute_result"
    }
   ],
   "source": [
    "middle_element, before_lastE"
   ]
  },
  {
   "cell_type": "code",
   "execution_count": 77,
   "id": "87034f8d",
   "metadata": {},
   "outputs": [
    {
     "data": {
      "text/plain": [
       "('index 1', ['index 2', 'index 3', 'index 4'], 'index 5', 'index 6')"
      ]
     },
     "execution_count": 77,
     "metadata": {},
     "output_type": "execute_result"
    }
   ],
   "source": [
    "numList = ['index 1', 'index 2', 'index 3', 'index 4', 'index 5', 'index 6']\n",
    "first_element , *middle_element, before_lastE, last_element  = numList\n",
    "\n",
    "first_element , middle_element, before_lastE, last_element"
   ]
  },
  {
   "cell_type": "markdown",
   "id": "5526178e",
   "metadata": {},
   "source": [
    "### Slicing elementos de una lista\n",
    "\n",
    "Indexación positiva: Podemos especificar un rango de índices positivos al especificar el inicio, final y paso. El valor de retorno será una nueva lista. (valores predeterminados para inicio = 0, final = len(lst) - 1 (último elemento), paso = 1)"
   ]
  },
  {
   "cell_type": "code",
   "execution_count": 79,
   "id": "1aaeccfc",
   "metadata": {},
   "outputs": [],
   "source": [
    "info_cols = ['survived', 'pclass', 'sex', 'age', 'sibsp', 'parch', \n",
    "             'fare','embarked', 'class', 'who', 'adult_male', 'deck', 'embark_town',\n",
    "           'alive', 'alone']"
   ]
  },
  {
   "cell_type": "code",
   "execution_count": 81,
   "id": "d34881e0",
   "metadata": {},
   "outputs": [
    {
     "data": {
      "text/plain": [
       "['survived', 'pclass', 'sex', 'age', 'sibsp']"
      ]
     },
     "execution_count": 81,
     "metadata": {},
     "output_type": "execute_result"
    }
   ],
   "source": [
    "#[desde inicio: indice -1]\n",
    "\n",
    "subInfo = info_cols[:5]\n",
    "subInfo"
   ]
  },
  {
   "cell_type": "code",
   "execution_count": 82,
   "id": "f16d4aec",
   "metadata": {},
   "outputs": [
    {
     "data": {
      "text/plain": [
       "['parch', 'fare', 'embarked']"
      ]
     },
     "execution_count": 82,
     "metadata": {},
     "output_type": "execute_result"
    }
   ],
   "source": [
    "subInfo = info_cols[5:8]\n",
    "subInfo"
   ]
  },
  {
   "cell_type": "code",
   "execution_count": 83,
   "id": "e565615f",
   "metadata": {},
   "outputs": [
    {
     "data": {
      "text/plain": [
       "['parch',\n",
       " 'fare',\n",
       " 'embarked',\n",
       " 'class',\n",
       " 'who',\n",
       " 'adult_male',\n",
       " 'deck',\n",
       " 'embark_town',\n",
       " 'alive',\n",
       " 'alone']"
      ]
     },
     "execution_count": 83,
     "metadata": {},
     "output_type": "execute_result"
    }
   ],
   "source": [
    "subInfo = info_cols[5:]\n",
    "subInfo"
   ]
  },
  {
   "cell_type": "markdown",
   "id": "c86491f2",
   "metadata": {},
   "source": [
    "### Indexación negativa: \n",
    "Podemos especificar un rango de índices negativos al indicar el inicio, fin y paso, y el valor de retorno será una nueva lista."
   ]
  },
  {
   "cell_type": "code",
   "execution_count": 85,
   "id": "17c68645",
   "metadata": {},
   "outputs": [
    {
     "data": {
      "text/plain": [
       "['alone',\n",
       " 'alive',\n",
       " 'embark_town',\n",
       " 'deck',\n",
       " 'adult_male',\n",
       " 'who',\n",
       " 'class',\n",
       " 'embarked',\n",
       " 'fare',\n",
       " 'parch',\n",
       " 'sibsp',\n",
       " 'age',\n",
       " 'sex',\n",
       " 'pclass',\n",
       " 'survived']"
      ]
     },
     "execution_count": 85,
     "metadata": {},
     "output_type": "execute_result"
    }
   ],
   "source": [
    "subInfo = info_cols[::-1]\n",
    "subInfo"
   ]
  },
  {
   "cell_type": "markdown",
   "id": "a43cb976",
   "metadata": {},
   "source": [
    "## [OT]"
   ]
  },
  {
   "cell_type": "code",
   "execution_count": 91,
   "id": "8e370446",
   "metadata": {},
   "outputs": [
    {
     "name": "stdout",
     "output_type": "stream",
     "text": [
      "si es un palindromo\n"
     ]
    }
   ],
   "source": [
    "palindromo ='arañara'\n",
    "\n",
    "print('si es un palindromo')if palindromo == palindromo[::-1]else print('No es un palindromo')"
   ]
  },
  {
   "cell_type": "markdown",
   "id": "71476511",
   "metadata": {},
   "source": [
    "### Agregar elementos a las listas en cualquier posición"
   ]
  },
  {
   "cell_type": "code",
   "execution_count": 92,
   "id": "f2d5c4d8",
   "metadata": {},
   "outputs": [],
   "source": [
    "info_cols = ['survived', 'pclass', 'sex', 'age', 'sibsp', 'parch', \n",
    "             'fare','embarked', 'class', 'who', 'adult_male', 'deck', 'embark_town',\n",
    "           'alive', 'alone']"
   ]
  },
  {
   "cell_type": "code",
   "execution_count": 93,
   "id": "5c090c17",
   "metadata": {},
   "outputs": [
    {
     "data": {
      "text/plain": [
       "['survived',\n",
       " 'pclass',\n",
       " 'Genre',\n",
       " 'age',\n",
       " 'sibsp',\n",
       " 'parch',\n",
       " 'fare',\n",
       " 'embarked',\n",
       " 'class',\n",
       " 'who',\n",
       " 'adult_male',\n",
       " 'deck',\n",
       " 'embark_town',\n",
       " 'alive',\n",
       " 'alone']"
      ]
     },
     "execution_count": 93,
     "metadata": {},
     "output_type": "execute_result"
    }
   ],
   "source": [
    "info_cols[2]= 'Genre'\n",
    "info_cols"
   ]
  },
  {
   "cell_type": "markdown",
   "id": "4f7f6586",
   "metadata": {},
   "source": [
    "### Buscar elementos en una lista"
   ]
  },
  {
   "cell_type": "code",
   "execution_count": 94,
   "id": "ececad20",
   "metadata": {},
   "outputs": [
    {
     "data": {
      "text/plain": [
       "True"
      ]
     },
     "execution_count": 94,
     "metadata": {},
     "output_type": "execute_result"
    }
   ],
   "source": [
    "'deck' in info_cols"
   ]
  },
  {
   "cell_type": "code",
   "execution_count": 95,
   "id": "e09fc7a3",
   "metadata": {},
   "outputs": [
    {
     "data": {
      "text/plain": [
       "False"
      ]
     },
     "execution_count": 95,
     "metadata": {},
     "output_type": "execute_result"
    }
   ],
   "source": [
    "'sex' in info_cols"
   ]
  },
  {
   "cell_type": "code",
   "execution_count": 96,
   "id": "dd151de2",
   "metadata": {},
   "outputs": [
    {
     "name": "stdout",
     "output_type": "stream",
     "text": [
      "True\n"
     ]
    }
   ],
   "source": [
    "for name in info_cols:\n",
    "    if 'deck' == name:\n",
    "        print(True)"
   ]
  },
  {
   "cell_type": "markdown",
   "id": "6fa2c919",
   "metadata": {},
   "source": [
    "### Insertar elementos en una lista\n",
    "\n",
    "El metodo `insert()` , iinserta elementos en una lista en un determinado índice.\n",
    "\n",
    "`Sintaxis:`\n",
    "\n",
    "```list.insert(index, element)```\n"
   ]
  },
  {
   "cell_type": "code",
   "execution_count": 97,
   "id": "91b79e9a",
   "metadata": {},
   "outputs": [
    {
     "data": {
      "text/plain": [
       "['survived',\n",
       " 'pclass',\n",
       " 'Genre',\n",
       " 'age',\n",
       " 'sibsp',\n",
       " 'parch',\n",
       " 'fare',\n",
       " 'embarked',\n",
       " 'class',\n",
       " 'who',\n",
       " 'adult_male',\n",
       " 'deck',\n",
       " 'embark_town',\n",
       " 'alive',\n",
       " 'alone']"
      ]
     },
     "execution_count": 97,
     "metadata": {},
     "output_type": "execute_result"
    }
   ],
   "source": [
    "info_cols"
   ]
  },
  {
   "cell_type": "code",
   "execution_count": 99,
   "id": "13bf59ba",
   "metadata": {},
   "outputs": [
    {
     "data": {
      "text/plain": [
       "['survived',\n",
       " 'pclass',\n",
       " 'Genre',\n",
       " 'age',\n",
       " 'sibsp',\n",
       " 'parch',\n",
       " 'fare',\n",
       " 'embarked',\n",
       " 'class',\n",
       " 'DiCaprio',\n",
       " 'DiCaprio',\n",
       " 'who',\n",
       " 'adult_male',\n",
       " 'deck',\n",
       " 'embark_town',\n",
       " 'alive',\n",
       " 'alone']"
      ]
     },
     "execution_count": 99,
     "metadata": {},
     "output_type": "execute_result"
    }
   ],
   "source": [
    "info_cols.insert(9,'DiCaprio')\n",
    "info_cols"
   ]
  },
  {
   "cell_type": "code",
   "execution_count": 100,
   "id": "42347d6c",
   "metadata": {},
   "outputs": [
    {
     "data": {
      "text/plain": [
       "True"
      ]
     },
     "execution_count": 100,
     "metadata": {},
     "output_type": "execute_result"
    }
   ],
   "source": [
    "'DiCaprio' in info_cols"
   ]
  },
  {
   "cell_type": "markdown",
   "id": "a69088a7",
   "metadata": {},
   "source": [
    "### Eliminar elementos en una lista\n",
    "\n",
    "Para eliminar un elemento en específico en una lista utilizamos el método `remove()`:\n",
    "\n",
    "`Sintaxis:`\n",
    "\n",
    "`list.remove(elemento)`"
   ]
  },
  {
   "cell_type": "code",
   "execution_count": 101,
   "id": "4dca0ecc",
   "metadata": {},
   "outputs": [],
   "source": [
    "info_cols.remove('DiCaprio')"
   ]
  },
  {
   "cell_type": "code",
   "execution_count": 104,
   "id": "93a9111c",
   "metadata": {},
   "outputs": [],
   "source": [
    "'DiCaprio' in info_cols\n",
    "info_cols.remove('DiCaprio')"
   ]
  },
  {
   "cell_type": "code",
   "execution_count": 105,
   "id": "f76eae4c",
   "metadata": {},
   "outputs": [
    {
     "data": {
      "text/plain": [
       "['survived',\n",
       " 'pclass',\n",
       " 'Genre',\n",
       " 'age',\n",
       " 'sibsp',\n",
       " 'parch',\n",
       " 'fare',\n",
       " 'embarked',\n",
       " 'class',\n",
       " 'who',\n",
       " 'adult_male',\n",
       " 'deck',\n",
       " 'embark_town',\n",
       " 'alive',\n",
       " 'alone']"
      ]
     },
     "execution_count": 105,
     "metadata": {},
     "output_type": "execute_result"
    }
   ],
   "source": [
    "info_cols"
   ]
  },
  {
   "cell_type": "markdown",
   "id": "8d6344d3",
   "metadata": {},
   "source": [
    "### Eliminar elementos en una lista utilizando el método `pop( )`\n",
    "\n",
    "Para eliminar un elemento en un índice especifico  de una lista utilizamos el método `pop()`:\n",
    "\n",
    "`Sintaxis:`\n",
    "\n",
    "`list.pop(index)`"
   ]
  },
  {
   "cell_type": "code",
   "execution_count": 106,
   "id": "59afb847",
   "metadata": {},
   "outputs": [
    {
     "data": {
      "text/plain": [
       "'alone'"
      ]
     },
     "execution_count": 106,
     "metadata": {},
     "output_type": "execute_result"
    }
   ],
   "source": [
    "info_cols.pop()"
   ]
  },
  {
   "cell_type": "code",
   "execution_count": 107,
   "id": "81c965b8",
   "metadata": {},
   "outputs": [
    {
     "data": {
      "text/plain": [
       "'Genre'"
      ]
     },
     "execution_count": 107,
     "metadata": {},
     "output_type": "execute_result"
    }
   ],
   "source": [
    "info_cols.pop(2)"
   ]
  },
  {
   "cell_type": "markdown",
   "id": "71efdec9",
   "metadata": {},
   "source": [
    "### Eliminar elementos en una lista utilizando `del( )`\n",
    "\n",
    "Para eliminar un elemento en específico, un grupo en especifico o toda la lista en una lista utilizamos el método `del()`:\n",
    "\n",
    "`Sintaxis:`\n",
    "\n",
    "- `del list[index]`\n",
    "\n",
    "- `del list`\n",
    "\n",
    "- `del list[a:b]`"
   ]
  },
  {
   "cell_type": "code",
   "execution_count": 110,
   "id": "3dc00d5a",
   "metadata": {},
   "outputs": [
    {
     "data": {
      "text/plain": [
       "['pclass',\n",
       " 'age',\n",
       " 'sibsp',\n",
       " 'parch',\n",
       " 'fare',\n",
       " 'embarked',\n",
       " 'class',\n",
       " 'who',\n",
       " 'adult_male',\n",
       " 'deck',\n",
       " 'embark_town',\n",
       " 'alive']"
      ]
     },
     "execution_count": 110,
     "metadata": {},
     "output_type": "execute_result"
    }
   ],
   "source": [
    "info_cols"
   ]
  },
  {
   "cell_type": "code",
   "execution_count": 109,
   "id": "de27a315",
   "metadata": {},
   "outputs": [],
   "source": [
    "del info_cols[0]"
   ]
  },
  {
   "cell_type": "code",
   "execution_count": 111,
   "id": "ab0ffab2",
   "metadata": {},
   "outputs": [],
   "source": [
    "del info_cols[2:5]"
   ]
  },
  {
   "cell_type": "code",
   "execution_count": 112,
   "id": "f4625dbc",
   "metadata": {},
   "outputs": [
    {
     "data": {
      "text/plain": [
       "['pclass',\n",
       " 'age',\n",
       " 'embarked',\n",
       " 'class',\n",
       " 'who',\n",
       " 'adult_male',\n",
       " 'deck',\n",
       " 'embark_town',\n",
       " 'alive']"
      ]
     },
     "execution_count": 112,
     "metadata": {},
     "output_type": "execute_result"
    }
   ],
   "source": [
    "info_cols"
   ]
  },
  {
   "cell_type": "code",
   "execution_count": 113,
   "id": "e35013e8",
   "metadata": {},
   "outputs": [],
   "source": [
    "del info_cols"
   ]
  },
  {
   "cell_type": "code",
   "execution_count": 114,
   "id": "39526907",
   "metadata": {},
   "outputs": [
    {
     "ename": "NameError",
     "evalue": "name 'info_cols' is not defined",
     "output_type": "error",
     "traceback": [
      "\u001b[0;31m---------------------------------------------------------------------------\u001b[0m",
      "\u001b[0;31mNameError\u001b[0m                                 Traceback (most recent call last)",
      "Input \u001b[0;32mIn [114]\u001b[0m, in \u001b[0;36m<cell line: 1>\u001b[0;34m()\u001b[0m\n\u001b[0;32m----> 1\u001b[0m \u001b[43minfo_cols\u001b[49m\n",
      "\u001b[0;31mNameError\u001b[0m: name 'info_cols' is not defined"
     ]
    }
   ],
   "source": [
    "info_cols"
   ]
  },
  {
   "cell_type": "code",
   "execution_count": 3,
   "id": "76657bc2",
   "metadata": {},
   "outputs": [
    {
     "data": {
      "text/plain": [
       "['survived',\n",
       " 'pclass',\n",
       " 'sex',\n",
       " 'age',\n",
       " 'sibsp',\n",
       " 'parch',\n",
       " 'fare',\n",
       " 'embarked',\n",
       " 'class',\n",
       " 'who']"
      ]
     },
     "execution_count": 3,
     "metadata": {},
     "output_type": "execute_result"
    }
   ],
   "source": [
    "info = ['survived', 'pclass', 'sex', 'age', 'sibsp', 'parch', \n",
    "             'fare','embarked', 'class', 'who']\n",
    "info"
   ]
  },
  {
   "cell_type": "markdown",
   "id": "da575a66",
   "metadata": {},
   "source": [
    "### Limpiar items de listas\n",
    "\n",
    "El método `clear()` limpia elementos en una lista.\n",
    "\n",
    "```\n",
    "Sintaxis:\n",
    "```\n",
    "`list.clear()\n",
    "`"
   ]
  },
  {
   "cell_type": "code",
   "execution_count": 5,
   "id": "ad75ad3d",
   "metadata": {},
   "outputs": [
    {
     "data": {
      "text/plain": [
       "[]"
      ]
     },
     "execution_count": 5,
     "metadata": {},
     "output_type": "execute_result"
    }
   ],
   "source": [
    "info.clear()\n",
    "info"
   ]
  },
  {
   "cell_type": "markdown",
   "id": "928231fe",
   "metadata": {},
   "source": [
    "### Como copiar una lista.\n",
    "\n",
    "`Sintaxis`\n",
    "\n",
    "`listNew = list.copy()`"
   ]
  },
  {
   "cell_type": "code",
   "execution_count": 6,
   "id": "24ba18ac",
   "metadata": {},
   "outputs": [],
   "source": [
    "info = ['survived', 'pclass', 'sex', 'age', 'sibsp', 'parch', \n",
    "             'fare','embarked', 'class', 'who']\n"
   ]
  },
  {
   "cell_type": "code",
   "execution_count": 8,
   "id": "c2d27414",
   "metadata": {},
   "outputs": [
    {
     "data": {
      "text/plain": [
       "['survived',\n",
       " 'pclass',\n",
       " 'sex',\n",
       " 'age',\n",
       " 'sibsp',\n",
       " 'parch',\n",
       " 'fare',\n",
       " 'embarked',\n",
       " 'class',\n",
       " 'who']"
      ]
     },
     "execution_count": 8,
     "metadata": {},
     "output_type": "execute_result"
    }
   ],
   "source": [
    "newInfo = info.copy()\n",
    "newInfo"
   ]
  },
  {
   "cell_type": "code",
   "execution_count": 9,
   "id": "d22afd10",
   "metadata": {},
   "outputs": [
    {
     "data": {
      "text/plain": [
       "False"
      ]
     },
     "execution_count": 9,
     "metadata": {},
     "output_type": "execute_result"
    }
   ],
   "source": [
    "newInfo is info"
   ]
  },
  {
   "cell_type": "markdown",
   "id": "4c217033",
   "metadata": {},
   "source": [
    "### Unir listas \n",
    "\n",
    "utilizamo el operador de concatenacion `( + )`"
   ]
  },
  {
   "cell_type": "code",
   "execution_count": 12,
   "id": "37f763a7",
   "metadata": {},
   "outputs": [],
   "source": [
    "info = ['survived', 'pclass', 'sex', 'age','sibsp']\n",
    "info2 = [ 'parch', 'fare','embarked', 'class', 'who']"
   ]
  },
  {
   "cell_type": "code",
   "execution_count": 13,
   "id": "74b5d249",
   "metadata": {},
   "outputs": [
    {
     "data": {
      "text/plain": [
       "['survived',\n",
       " 'pclass',\n",
       " 'sex',\n",
       " 'age',\n",
       " 'sibsp',\n",
       " 'parch',\n",
       " 'fare',\n",
       " 'embarked',\n",
       " 'class',\n",
       " 'who']"
      ]
     },
     "execution_count": 13,
     "metadata": {},
     "output_type": "execute_result"
    }
   ],
   "source": [
    "info_total = info + info2\n",
    "info_total"
   ]
  },
  {
   "cell_type": "markdown",
   "id": "408d4e27",
   "metadata": {},
   "source": [
    "Utilizando el método `extend()` para unir listas\n",
    "\n",
    "`Sintaxis:`\n",
    "\n",
    "`list1.extend(list2)`"
   ]
  },
  {
   "cell_type": "code",
   "execution_count": 15,
   "id": "6cef270b",
   "metadata": {},
   "outputs": [
    {
     "data": {
      "text/plain": [
       "['survived',\n",
       " 'pclass',\n",
       " 'sex',\n",
       " 'age',\n",
       " 'sibsp',\n",
       " 'parch',\n",
       " 'fare',\n",
       " 'embarked',\n",
       " 'class',\n",
       " 'who',\n",
       " 'parch',\n",
       " 'fare',\n",
       " 'embarked',\n",
       " 'class',\n",
       " 'who',\n",
       " 'parch',\n",
       " 'fare',\n",
       " 'embarked',\n",
       " 'class',\n",
       " 'who']"
      ]
     },
     "execution_count": 15,
     "metadata": {},
     "output_type": "execute_result"
    }
   ],
   "source": [
    "info_total.extend(info2)\n",
    "info_total"
   ]
  },
  {
   "cell_type": "markdown",
   "id": "a14f5abd",
   "metadata": {},
   "source": [
    "### Contando elmentos en uns lista\n",
    "Utilizando el método `count()` para unir listas\n",
    "\n",
    "`Sintaxis:`\n",
    "\n",
    "`list.count(item)`"
   ]
  },
  {
   "cell_type": "code",
   "execution_count": 36,
   "id": "673836e4",
   "metadata": {},
   "outputs": [
    {
     "name": "stdout",
     "output_type": "stream",
     "text": [
      "['survived', 'pclass', 'sex', 'age', 'sibsp', 'parch', 'fare', 'embarked', 'class', 'who', 'parch', 'fare', 'embarked', 'class', 'who', 'parch', 'fare', 'embarked', 'class', 'who']\n"
     ]
    }
   ],
   "source": [
    "print(info_total)"
   ]
  },
  {
   "cell_type": "code",
   "execution_count": 18,
   "id": "dea1d00e",
   "metadata": {},
   "outputs": [
    {
     "data": {
      "text/plain": [
       "3"
      ]
     },
     "execution_count": 18,
     "metadata": {},
     "output_type": "execute_result"
    }
   ],
   "source": [
    "info_total.count('parch')"
   ]
  },
  {
   "cell_type": "code",
   "execution_count": 35,
   "id": "1665aa19",
   "metadata": {},
   "outputs": [
    {
     "data": {
      "text/plain": [
       "3"
      ]
     },
     "execution_count": 35,
     "metadata": {},
     "output_type": "execute_result"
    }
   ],
   "source": [
    "info_total.count('class')"
   ]
  },
  {
   "cell_type": "code",
   "execution_count": 19,
   "id": "e303acbc",
   "metadata": {},
   "outputs": [
    {
     "data": {
      "text/plain": [
       "6"
      ]
     },
     "execution_count": 19,
     "metadata": {},
     "output_type": "execute_result"
    }
   ],
   "source": [
    "num = [1,2,1,3,1,3,3,5,6,7,8,5,3,4,5,3,3,4 ]\n",
    "num.count(3)"
   ]
  },
  {
   "cell_type": "markdown",
   "id": "8d4081d6",
   "metadata": {},
   "source": [
    "### Buscar elementos en una lista\n",
    "\n",
    "Utilizando el método \n",
    "\n",
    "`Sintaxis:`\n",
    "\n",
    "`list.index(item)`"
   ]
  },
  {
   "cell_type": "code",
   "execution_count": 23,
   "id": "a0d691af",
   "metadata": {},
   "outputs": [
    {
     "data": {
      "text/plain": [
       "9"
      ]
     },
     "execution_count": 23,
     "metadata": {},
     "output_type": "execute_result"
    }
   ],
   "source": [
    "info_total.index('who')"
   ]
  },
  {
   "cell_type": "markdown",
   "id": "61b3d897",
   "metadata": {},
   "source": [
    "### Reversing elemento una lista\n",
    "\n",
    "Utilizando el método \n",
    "\n",
    "`Sintaxis:`\n",
    "\n",
    "`list.reverse()`"
   ]
  },
  {
   "cell_type": "code",
   "execution_count": 24,
   "id": "0c30097b",
   "metadata": {},
   "outputs": [
    {
     "name": "stdout",
     "output_type": "stream",
     "text": [
      "['survived', 'pclass', 'sex', 'age', 'sibsp']\n"
     ]
    }
   ],
   "source": [
    "print(info)"
   ]
  },
  {
   "cell_type": "code",
   "execution_count": 27,
   "id": "5f5e817d",
   "metadata": {},
   "outputs": [
    {
     "data": {
      "text/plain": [
       "['sibsp', 'age', 'sex', 'pclass', 'survived']"
      ]
     },
     "execution_count": 27,
     "metadata": {},
     "output_type": "execute_result"
    }
   ],
   "source": [
    "info.reverse()\n",
    "info"
   ]
  },
  {
   "cell_type": "code",
   "execution_count": 28,
   "id": "198465c5",
   "metadata": {},
   "outputs": [
    {
     "data": {
      "text/plain": [
       "['sibsp', 'age', 'sex', 'pclass', 'survived']"
      ]
     },
     "execution_count": 28,
     "metadata": {},
     "output_type": "execute_result"
    }
   ],
   "source": [
    "info"
   ]
  },
  {
   "cell_type": "markdown",
   "id": "5d160d3a",
   "metadata": {},
   "source": [
    "### Ordenar elementos en una lista\n",
    "\n",
    "Para ordenar listas, podemos utilizar el método `sort()` o las funciones integradas `sorted()`. \n",
    "\n",
    "El método `sort()` reorganiza los elementos de la lista en orden ascendente y modifica la lista original. Si se proporciona un argumento reverse igual a verdadero al método `sort()`, ordenará la lista en orden descendente.\n",
    "\n",
    "`Sintaxis:`\n",
    "\n",
    "`# Ascendente modificando la lista  original`\n",
    "\n",
    "`lst.sort() `\n",
    "\n",
    "`# Descendente modificando la lista original`\n",
    "\n",
    "`lst.sort(reverse=True)`"
   ]
  },
  {
   "cell_type": "code",
   "execution_count": 30,
   "id": "1d165d2f",
   "metadata": {},
   "outputs": [
    {
     "data": {
      "text/plain": [
       "['age', 'pclass', 'sex', 'sibsp', 'survived']"
      ]
     },
     "execution_count": 30,
     "metadata": {},
     "output_type": "execute_result"
    }
   ],
   "source": [
    "info.sort()\n",
    "info"
   ]
  },
  {
   "cell_type": "code",
   "execution_count": 32,
   "id": "fa8f31e4",
   "metadata": {},
   "outputs": [
    {
     "data": {
      "text/plain": [
       "['who', 'parch', 'fare', 'embarked', 'class']"
      ]
     },
     "execution_count": 32,
     "metadata": {},
     "output_type": "execute_result"
    }
   ],
   "source": [
    "info2.sort(reverse = True)\n",
    "info2"
   ]
  },
  {
   "cell_type": "code",
   "execution_count": 33,
   "id": "01862ba9",
   "metadata": {},
   "outputs": [
    {
     "data": {
      "text/plain": [
       "[1, 1, 1, 2, 3, 3, 3, 3, 3, 3, 4, 4, 5, 5, 5, 6, 7, 8]"
      ]
     },
     "execution_count": 33,
     "metadata": {},
     "output_type": "execute_result"
    }
   ],
   "source": [
    "num = [1,2,1,3,1,3,3,5,6,7,8,5,3,4,5,3,3,4 ]\n",
    "sorted(num)"
   ]
  },
  {
   "cell_type": "code",
   "execution_count": 34,
   "id": "c880aa6d",
   "metadata": {},
   "outputs": [
    {
     "data": {
      "text/plain": [
       "[8, 7, 6, 5, 5, 5, 4, 4, 3, 3, 3, 3, 3, 3, 2, 1, 1, 1]"
      ]
     },
     "execution_count": 34,
     "metadata": {},
     "output_type": "execute_result"
    }
   ],
   "source": [
    "num = [1,2,1,3,1,3,3,5,6,7,8,5,3,4,5,3,3,4 ]\n",
    "sorted(num, reverse = True)"
   ]
  },
  {
   "cell_type": "markdown",
   "id": "be7ddc4b",
   "metadata": {},
   "source": [
    "## <span style=\"color:darkred\">Creando Tuplas en python</span>\n"
   ]
  },
  {
   "cell_type": "code",
   "execution_count": 39,
   "id": "b59c71c9",
   "metadata": {},
   "outputs": [
    {
     "data": {
      "text/plain": [
       "0"
      ]
     },
     "execution_count": 39,
     "metadata": {},
     "output_type": "execute_result"
    }
   ],
   "source": [
    "tupla = ()\n",
    "len(tupla)"
   ]
  },
  {
   "cell_type": "code",
   "execution_count": 40,
   "id": "799e6d80",
   "metadata": {},
   "outputs": [],
   "source": [
    "tupla2 = ('who', 'parch', 'fare', 'embarked', 'class')"
   ]
  },
  {
   "cell_type": "markdown",
   "id": "8aadc764",
   "metadata": {},
   "source": [
    "### <span style=\"color:darkred\">Características principales</span>\n",
    "\n",
    "#### <span style=\"color:darkred\">Elementos de tupla:</span>\n",
    "\n",
    "    Los elementos de tupla están ordenados, no se pueden modificar y permiten valores duplicados. Los elementos de tupla están indexados, el primer elemento tiene índice [0], el segundo elemento tiene índice [1], etc.\n",
    "\n",
    "#### <span style=\"color:darkred\">Ordenado:</span> \n",
    "\n",
    "    Cuando decimos que las tuplas están ordenadas, significa que los elementos tienen un orden definido y ese orden no cambiará.\n",
    "\n",
    "#### <span style=\"color:darkred\">Inmutable:</span> \n",
    "\n",
    "    Las tuplas no se pueden cambiar, lo que significa que no podemos cambiar, agregar o eliminar elementos después de que se haya creado la tupla.\n",
    "\n",
    "#### <span style=\"color:darkred\">Permitir duplicados</span> \n",
    "\n",
    "    Dado que las tuplas están indexadas, pueden tener elementos con el mismo valor.\n",
    "    \n",
    "### <span style=\"color:darkred\">Longitud de la tupla</span> \n",
    "Para determinar cuántos elementos tiene una tupla, use la función `len()`:\n"
   ]
  },
  {
   "cell_type": "code",
   "execution_count": 41,
   "id": "6a5f4176",
   "metadata": {},
   "outputs": [
    {
     "name": "stdout",
     "output_type": "stream",
     "text": [
      "3\n"
     ]
    }
   ],
   "source": [
    "thistuple = (\"apple\", \"banana\", \"cherry\")\n",
    "print (len(thistuple))"
   ]
  },
  {
   "cell_type": "markdown",
   "id": "7696a6f9",
   "metadata": {},
   "source": [
    "### <span style=\"color:darkred\">Crear tupla con un elemento</span> \n",
    "\n",
    "Para crear una tupla con un solo elemento, debe agregar una coma después del elemento; de lo contrario, Python no lo reconocerá como una tupla."
   ]
  },
  {
   "cell_type": "code",
   "execution_count": 51,
   "id": "880521cd",
   "metadata": {},
   "outputs": [
    {
     "data": {
      "text/plain": [
       "(1, tuple)"
      ]
     },
     "execution_count": 51,
     "metadata": {},
     "output_type": "execute_result"
    }
   ],
   "source": [
    "thistuple = ('apple',)\n",
    "len(thistuple), type(thistuple)"
   ]
  },
  {
   "cell_type": "code",
   "execution_count": 52,
   "id": "6cf3b2b2",
   "metadata": {},
   "outputs": [
    {
     "data": {
      "text/plain": [
       "(7, str)"
      ]
     },
     "execution_count": 52,
     "metadata": {},
     "output_type": "execute_result"
    }
   ],
   "source": [
    "thistuple = ('naranja')\n",
    "len(thistuple), type(thistuple)"
   ]
  },
  {
   "cell_type": "markdown",
   "id": "e0224004",
   "metadata": {},
   "source": [
    "### Slicing en la Tuplas"
   ]
  },
  {
   "cell_type": "code",
   "execution_count": 53,
   "id": "802c6d46",
   "metadata": {},
   "outputs": [],
   "source": [
    "tupla2 = ('who', 'parch', 'fare', 'embarked', 'class')"
   ]
  },
  {
   "cell_type": "code",
   "execution_count": 54,
   "id": "332639ab",
   "metadata": {},
   "outputs": [
    {
     "data": {
      "text/plain": [
       "('who', 'parch', 'fare', 'embarked')"
      ]
     },
     "execution_count": 54,
     "metadata": {},
     "output_type": "execute_result"
    }
   ],
   "source": [
    "tupla3 = tupla2[:4]\n",
    "tupla3"
   ]
  },
  {
   "cell_type": "code",
   "execution_count": 55,
   "id": "b44cd3bf",
   "metadata": {},
   "outputs": [
    {
     "data": {
      "text/plain": [
       "('embarked', 'class')"
      ]
     },
     "execution_count": 55,
     "metadata": {},
     "output_type": "execute_result"
    }
   ],
   "source": [
    "tupla4 =tupla2[3:]\n",
    "tupla4"
   ]
  },
  {
   "cell_type": "markdown",
   "id": "b844a633",
   "metadata": {},
   "source": [
    "### Cambiando Tuplas a Listas"
   ]
  },
  {
   "cell_type": "code",
   "execution_count": 56,
   "id": "abfb1d03",
   "metadata": {},
   "outputs": [
    {
     "data": {
      "text/plain": [
       "['who', 'parch', 'fare', 'embarked', 'class']"
      ]
     },
     "execution_count": 56,
     "metadata": {},
     "output_type": "execute_result"
    }
   ],
   "source": [
    "list2tuple = list(tupla2)\n",
    "list2tuple"
   ]
  },
  {
   "cell_type": "code",
   "execution_count": 57,
   "id": "206de8e9",
   "metadata": {},
   "outputs": [
    {
     "data": {
      "text/plain": [
       "['who', 'parch', 'fare', 'embarked', 'class', 'Genre', 'Pclass']"
      ]
     },
     "execution_count": 57,
     "metadata": {},
     "output_type": "execute_result"
    }
   ],
   "source": [
    "list2tuple.append('Genre')\n",
    "list2tuple.append('Pclass')\n",
    "list2tuple"
   ]
  },
  {
   "cell_type": "code",
   "execution_count": 59,
   "id": "f4a46f34",
   "metadata": {},
   "outputs": [
    {
     "data": {
      "text/plain": [
       "('who', 'parch', 'fare', 'embarked', 'class', 'Genre', 'Pclass')"
      ]
     },
     "execution_count": 59,
     "metadata": {},
     "output_type": "execute_result"
    }
   ],
   "source": [
    "tupla2 = tuple(list2tuple)\n",
    "tupla2"
   ]
  },
  {
   "cell_type": "markdown",
   "id": "c98cfaa7",
   "metadata": {},
   "source": [
    "### Búsquedas en Tuplas"
   ]
  },
  {
   "cell_type": "code",
   "execution_count": 60,
   "id": "afe182eb",
   "metadata": {},
   "outputs": [
    {
     "data": {
      "text/plain": [
       "True"
      ]
     },
     "execution_count": 60,
     "metadata": {},
     "output_type": "execute_result"
    }
   ],
   "source": [
    "'fare' in tupla2"
   ]
  },
  {
   "cell_type": "code",
   "execution_count": 61,
   "id": "17b66da6",
   "metadata": {},
   "outputs": [
    {
     "data": {
      "text/plain": [
       "False"
      ]
     },
     "execution_count": 61,
     "metadata": {},
     "output_type": "execute_result"
    }
   ],
   "source": [
    "'Sex' in tupla2"
   ]
  },
  {
   "cell_type": "markdown",
   "id": "b4fbe229",
   "metadata": {},
   "source": [
    "### Unir Tuplas `+`"
   ]
  },
  {
   "cell_type": "code",
   "execution_count": 65,
   "id": "92721478",
   "metadata": {},
   "outputs": [
    {
     "data": {
      "text/plain": [
       "('embarked',\n",
       " 'class',\n",
       " 'who',\n",
       " 'parch',\n",
       " 'fare',\n",
       " 'embarked',\n",
       " 'class',\n",
       " 'Genre',\n",
       " 'Pclass',\n",
       " 'who',\n",
       " 'parch',\n",
       " 'fare',\n",
       " 'embarked')"
      ]
     },
     "execution_count": 65,
     "metadata": {},
     "output_type": "execute_result"
    }
   ],
   "source": [
    "joinTuple = tupla4 + tupla2+ tupla3\n",
    "joinTuple"
   ]
  },
  {
   "cell_type": "code",
   "execution_count": 66,
   "id": "ae789f53",
   "metadata": {},
   "outputs": [],
   "source": [
    "del joinTuple"
   ]
  },
  {
   "cell_type": "code",
   "execution_count": 67,
   "id": "94a19c01",
   "metadata": {},
   "outputs": [
    {
     "ename": "NameError",
     "evalue": "name 'jointuple' is not defined",
     "output_type": "error",
     "traceback": [
      "\u001b[0;31m---------------------------------------------------------------------------\u001b[0m",
      "\u001b[0;31mNameError\u001b[0m                                 Traceback (most recent call last)",
      "Cell \u001b[0;32mIn[67], line 1\u001b[0m\n\u001b[0;32m----> 1\u001b[0m jointuple\n",
      "\u001b[0;31mNameError\u001b[0m: name 'jointuple' is not defined"
     ]
    }
   ],
   "source": [
    "jointuple"
   ]
  },
  {
   "cell_type": "markdown",
   "id": "99edbacc",
   "metadata": {},
   "source": [
    "## <span style=\"color:darkred\">Recordatorio</span> \n",
    "\n",
    "Lista van entre `[]`\n",
    "\n",
    "Tuplas vas entre `()`\n",
    "\n",
    "Conjuntos van entre `{}`"
   ]
  },
  {
   "cell_type": "markdown",
   "id": "8af9c28a",
   "metadata": {},
   "source": [
    "\n",
    "#### <span style=\"color:darkred\">Conjuntos en Python - `set`</span> \n",
    "\n",
    "Los conjuntos se utilizan para almacenar varios elementos en una sola variable. Un conjunto es una colección desordenada, inmutable* y no indexada. \n",
    "\n",
    "Los elementos establecidos no se pueden modificar, pero puede eliminar elementos y agregar elementos nuevos. Los conjuntos se escriben con llaves."
   ]
  },
  {
   "cell_type": "code",
   "execution_count": 151,
   "id": "181b9887",
   "metadata": {},
   "outputs": [
    {
     "name": "stdout",
     "output_type": "stream",
     "text": [
      "{'apple', 'cherry', 'banana'}\n"
     ]
    }
   ],
   "source": [
    "thisset = {\"apple\", \"banana\", \"cherry\"}\n",
    "print(thisset)"
   ]
  },
  {
   "cell_type": "markdown",
   "id": "9ef7c636",
   "metadata": {},
   "source": [
    "Los conjuntos no están ordenados, por lo que no puede estar seguro en qué orden aparecerán los elementos.\n",
    "\n",
    "### <span style=\"color:darkred\">Características principales</span>\n",
    "\n",
    "#### <span style=\"color:darkred\">Establecer elementos:</span>\n",
    "\n",
    "    Los elementos establecidos no están ordenados, no se pueden modificar y no permiten valores duplicados.\n",
    "\n",
    "#### <span style=\"color:darkred\">Desordenado:</span> \n",
    "\n",
    "    desordenado significa que los elementos de un conjunto no tienen un orden definido.\n",
    "    \n",
    "    Los elementos establecidos pueden aparecer en un orden diferente cada vez que los usa y no se puede hacer referencia a ellos por índice o clave.\n",
    "\n",
    "\n",
    "#### <span style=\"color:darkred\">Inmutable:</span> \n",
    "\n",
    "    Los elementos del conjunto no se pueden cambiar, lo que significa que no podemos  modificar  los elementos después de que se haya creado el conjunto. \n",
    "    \n",
    "    Una vez que se crea un conjunto, no puede cambiar sus elementos, pero puede eliminar elementos y agregar elementos nuevos.\n",
    "\n",
    "#### <span style=\"color:darkred\">No se permiten duplicados</span> \n",
    "\n",
    "    los conjuntos no pueden tener dos artículos con el mismo valor.\n",
    "    \n",
    "#### <span style=\"color:darkorange\">Nota</span>  \n",
    "\n",
    "Los valores `True` y `1` se consideran el mismo valor en conjuntos y se tratan como duplicados.\n",
    "\n",
    " \n",
    "### <span style=\"color:darkred\">Obtener la longitud de un conjunto</span> \n",
    "\n",
    "Para determinar cuántos elementos tiene un set, use la función `len()`:"
   ]
  },
  {
   "cell_type": "code",
   "execution_count": 72,
   "id": "02b78cb5",
   "metadata": {},
   "outputs": [
    {
     "data": {
      "text/plain": [
       "({'class', 'embarked', 'fare', 'parch', 'who'}, 5)"
      ]
     },
     "execution_count": 72,
     "metadata": {},
     "output_type": "execute_result"
    }
   ],
   "source": [
    "set1 = {'who', 'parch', 'fare', 'embarked', 'class',\n",
    "                'who', 'parch', 'fare', 'embarked', 'class',\n",
    "                'who', 'parch', 'fare', 'embarked', 'class'}\n",
    "set1, len(set1)"
   ]
  },
  {
   "cell_type": "code",
   "execution_count": 73,
   "id": "716e4e59",
   "metadata": {},
   "outputs": [
    {
     "data": {
      "text/plain": [
       "({1}, 1)"
      ]
     },
     "execution_count": 73,
     "metadata": {},
     "output_type": "execute_result"
    }
   ],
   "source": [
    "numset= {1,1,1,1,1,1,1,1,1}\n",
    "numset, len(numset)"
   ]
  },
  {
   "cell_type": "markdown",
   "id": "e1a55f21",
   "metadata": {},
   "source": [
    "### Agregar elemento en los 'set'\n",
    "\n",
    "Usando el metodo  `set.add(item)` se agrega un elemento, si desea agregar varios utilice `set.update(item1, item2, item3...)`"
   ]
  },
  {
   "cell_type": "code",
   "execution_count": 75,
   "id": "ab66bf2b",
   "metadata": {},
   "outputs": [
    {
     "data": {
      "text/plain": [
       "{1, 2, 3, 5, 7}"
      ]
     },
     "execution_count": 75,
     "metadata": {},
     "output_type": "execute_result"
    }
   ],
   "source": [
    "numset.add(1)\n",
    "numset.add(2)\n",
    "numset.add(3)\n",
    "numset.add(5)\n",
    "numset.add(7)\n",
    "numset.add(7)\n",
    "numset"
   ]
  },
  {
   "cell_type": "code",
   "execution_count": 78,
   "id": "179558cc",
   "metadata": {},
   "outputs": [
    {
     "data": {
      "text/plain": [
       "{'class',\n",
       " 'como',\n",
       " 'embarked',\n",
       " 'estamos',\n",
       " 'fare',\n",
       " 'hola',\n",
       " 'mundo',\n",
       " 'parch',\n",
       " 'who'}"
      ]
     },
     "execution_count": 78,
     "metadata": {},
     "output_type": "execute_result"
    }
   ],
   "source": [
    "set1.add('hola')\n",
    "set1.add('mundo')\n",
    "set1.add('como')\n",
    "set1.add('hola')\n",
    "set1.add('estamos')\n",
    "set1"
   ]
  },
  {
   "cell_type": "markdown",
   "id": "424416b5",
   "metadata": {},
   "source": [
    "### Eliminar elementos en un set \n",
    "\n",
    "utilizan `set.remove()`, `set.pop()` elimina aleatoriamente un elemento del `set`.\n",
    "\n",
    "\n"
   ]
  },
  {
   "cell_type": "code",
   "execution_count": 79,
   "id": "5d4fba4f",
   "metadata": {},
   "outputs": [
    {
     "data": {
      "text/plain": [
       "{'class', 'como', 'embarked', 'estamos', 'fare', 'mundo', 'parch', 'who'}"
      ]
     },
     "execution_count": 79,
     "metadata": {},
     "output_type": "execute_result"
    }
   ],
   "source": [
    "set1.remove('hola')\n",
    "set1"
   ]
  },
  {
   "cell_type": "code",
   "execution_count": 80,
   "id": "601c2ee1",
   "metadata": {},
   "outputs": [
    {
     "data": {
      "text/plain": [
       "{'class', 'embarked', 'estamos', 'fare', 'mundo', 'parch', 'who'}"
      ]
     },
     "execution_count": 80,
     "metadata": {},
     "output_type": "execute_result"
    }
   ],
   "source": [
    "set1.pop()\n",
    "set1"
   ]
  },
  {
   "cell_type": "code",
   "execution_count": 82,
   "id": "80ac27fd",
   "metadata": {},
   "outputs": [
    {
     "data": {
      "text/plain": [
       "set()"
      ]
     },
     "execution_count": 82,
     "metadata": {},
     "output_type": "execute_result"
    }
   ],
   "source": [
    "set1.clear()\n",
    "set1"
   ]
  },
  {
   "cell_type": "code",
   "execution_count": 83,
   "id": "c8389f2b",
   "metadata": {},
   "outputs": [
    {
     "ename": "NameError",
     "evalue": "name 'set1' is not defined",
     "output_type": "error",
     "traceback": [
      "\u001b[0;31m---------------------------------------------------------------------------\u001b[0m",
      "\u001b[0;31mNameError\u001b[0m                                 Traceback (most recent call last)",
      "Cell \u001b[0;32mIn[83], line 2\u001b[0m\n\u001b[1;32m      1\u001b[0m \u001b[38;5;28;01mdel\u001b[39;00m set1\n\u001b[0;32m----> 2\u001b[0m set1\n",
      "\u001b[0;31mNameError\u001b[0m: name 'set1' is not defined"
     ]
    }
   ],
   "source": [
    "del set1\n",
    "set1"
   ]
  },
  {
   "cell_type": "markdown",
   "id": "af75de90",
   "metadata": {},
   "source": [
    "### Unión de conjuntos `union( )`\n",
    "\n",
    "$$A \\cup B$$"
   ]
  },
  {
   "cell_type": "code",
   "execution_count": 84,
   "id": "b28b1f34",
   "metadata": {},
   "outputs": [
    {
     "data": {
      "text/plain": [
       "{'a', 'b', 'c', 'd', 'e', 'f', 'g'}"
      ]
     },
     "execution_count": 84,
     "metadata": {},
     "output_type": "execute_result"
    }
   ],
   "source": [
    "s1 = {'a','b','c','d','e'}\n",
    "s2 = {'b', 'd', 'f', 'g'}\n",
    "\n",
    "union = s1.union(s2)\n",
    "union"
   ]
  },
  {
   "cell_type": "markdown",
   "id": "568dfd22",
   "metadata": {},
   "source": [
    "### interseccion de Conjuntos"
   ]
  },
  {
   "cell_type": "code",
   "execution_count": 85,
   "id": "59a6cbde",
   "metadata": {},
   "outputs": [
    {
     "data": {
      "text/plain": [
       "{'b', 'd'}"
      ]
     },
     "execution_count": 85,
     "metadata": {},
     "output_type": "execute_result"
    }
   ],
   "source": [
    "intersect = s1.intersection(s2)\n",
    "intersect"
   ]
  },
  {
   "cell_type": "markdown",
   "id": "8c310e33",
   "metadata": {},
   "source": [
    "### Diferencia Simetrica en conjuntos"
   ]
  },
  {
   "cell_type": "code",
   "execution_count": 86,
   "id": "a7c7ef48",
   "metadata": {},
   "outputs": [
    {
     "data": {
      "text/plain": [
       "{'a', 'c', 'e', 'f', 'g'}"
      ]
     },
     "execution_count": 86,
     "metadata": {},
     "output_type": "execute_result"
    }
   ],
   "source": [
    "symmetric = s1.symmetric_difference(s2)\n",
    "symmetric"
   ]
  },
  {
   "cell_type": "markdown",
   "id": "26380022",
   "metadata": {},
   "source": [
    "### COnvertir listas a conjuntos"
   ]
  },
  {
   "cell_type": "code",
   "execution_count": 88,
   "id": "cd50eb32",
   "metadata": {},
   "outputs": [
    {
     "data": {
      "text/plain": [
       "{'a', 'b', 'c', 'd', 'e', 'f', 'g'}"
      ]
     },
     "execution_count": 88,
     "metadata": {},
     "output_type": "execute_result"
    }
   ],
   "source": [
    "lstSet =['a', 'b', 'c', 'd', 'e', 'f', 'g']\n",
    "\n",
    "setList = set(lstSet)\n",
    "setList"
   ]
  },
  {
   "cell_type": "markdown",
   "id": "8cad9efb",
   "metadata": {},
   "source": [
    "### <span style=\"color:darkred\">Diccionario en Python – Dictionary</span> \n",
    "\n",
    "Los diccionarios se utilizan para almacenar valores de datos en pares clave:valor. Un diccionario es una colección ordenada*, modificable y que no admite duplicados. \n",
    "\n",
    "Los diccionarios se escriben con llaves y tienen claves y valores:"
   ]
  },
  {
   "cell_type": "code",
   "execution_count": 90,
   "id": "81b52368",
   "metadata": {},
   "outputs": [
    {
     "data": {
      "text/plain": [
       "{'clave': 'valor', 'marca': 'ford', 'modelo': 'mustang', 'cantidad': 34}"
      ]
     },
     "execution_count": 90,
     "metadata": {},
     "output_type": "execute_result"
    }
   ],
   "source": [
    "mydict = {\n",
    "    'clave': 'valor',\n",
    "    'marca': 'ford',\n",
    "    'modelo': 'mustang',\n",
    "    'cantidad': 34\n",
    "    }\n",
    "mydict"
   ]
  },
  {
   "cell_type": "code",
   "execution_count": 92,
   "id": "37107210",
   "metadata": {},
   "outputs": [
    {
     "data": {
      "text/plain": [
       "{}"
      ]
     },
     "execution_count": 92,
     "metadata": {},
     "output_type": "execute_result"
    }
   ],
   "source": [
    "emptyDict= {}\n",
    "emptyDict"
   ]
  },
  {
   "cell_type": "markdown",
   "id": "956ab1b8",
   "metadata": {},
   "source": [
    "### <span style=\"color:darkred\">Características principales</span>\n",
    "\n",
    "#### <span style=\"color:darkred\">Elementos del diccionario:</span>\n",
    "\n",
    "    Los elementos del diccionario están ordenados, se pueden modificar y no permiten duplicados. Los elementos del diccionario se presentan en pares clave:valor y se puede hacer referencia a ellos mediante el nombre de la clave.\n",
    "    \n",
    "#### <span style=\"color:darkred\">¿Ordenado o Desordenado?:</span> \n",
    "\n",
    "    Cuando decimos que los diccionarios están ordenados, significa que los elementos tienen un orden definido y ese orden no cambiará. Desordenado significa que los elementos no tienen un orden definido, no puede hacer referencia a un elemento mediante el uso de un índice.\n",
    "\n",
    "#### <span style=\"color:darkred\">Cambiable:</span> \n",
    "\n",
    "    Los diccionarios se pueden cambiar, lo que significa que podemos cambiar, agregar o eliminar elementos después de que se haya creado el diccionario.\n",
    "\n",
    "#### <span style=\"color:darkred\">No se permiten duplicados</span> \n",
    "\n",
    "    los diccionarios no pueden tener dos elementos con la misma clave\n",
    "\n",
    "### <span style=\"color:darkred\">Diccionarios anidados</span> \n",
    "\n",
    "Un diccionario puede contener diccionarios, esto se llama diccionarios anidados, por ejemplo: \n",
    "\n",
    "Cree un diccionario que contenga tres diccionarios:"
   ]
  },
  {
   "cell_type": "code",
   "execution_count": 93,
   "id": "98b4d53a",
   "metadata": {},
   "outputs": [
    {
     "data": {
      "text/plain": [
       "{'childl': {'name': 'Emil', 'year': 2004},\n",
       " 'child2': {'name': 'Tobias', 'year': 2007},\n",
       " 'child3': {'name': 'Linus', 'year': 2011}}"
      ]
     },
     "execution_count": 93,
     "metadata": {},
     "output_type": "execute_result"
    }
   ],
   "source": [
    "myfamily = {\n",
    "    \"childl\" : {\n",
    "    \"name\" : \"Emil\",\n",
    "    \"year\": 2004\n",
    "    },\n",
    "    \"child2\" : {\n",
    "    \"name\" : \"Tobias\",\n",
    "    \"year\" : 2007\n",
    "    },\n",
    "    \"child3\" : {\n",
    "    \"name\" : \"Linus\",\n",
    "    \"year\" : 2011\n",
    "    }\n",
    "}\n",
    "\n",
    "myfamily"
   ]
  },
  {
   "cell_type": "code",
   "execution_count": 94,
   "id": "31c1f556",
   "metadata": {},
   "outputs": [
    {
     "data": {
      "text/plain": [
       "3"
      ]
     },
     "execution_count": 94,
     "metadata": {},
     "output_type": "execute_result"
    }
   ],
   "source": [
    "len(myfamily)"
   ]
  },
  {
   "cell_type": "code",
   "execution_count": 95,
   "id": "b7f8e6ff",
   "metadata": {},
   "outputs": [
    {
     "data": {
      "text/plain": [
       "{'name': 'Emil', 'year': 2004}"
      ]
     },
     "execution_count": 95,
     "metadata": {},
     "output_type": "execute_result"
    }
   ],
   "source": [
    "myfamily['childl']"
   ]
  },
  {
   "cell_type": "code",
   "execution_count": 96,
   "id": "9c83b404",
   "metadata": {},
   "outputs": [
    {
     "data": {
      "text/plain": [
       "{'name': 'Tobias', 'year': 2007}"
      ]
     },
     "execution_count": 96,
     "metadata": {},
     "output_type": "execute_result"
    }
   ],
   "source": [
    "myfamily['child2']"
   ]
  },
  {
   "cell_type": "code",
   "execution_count": 97,
   "id": "de97dd26",
   "metadata": {},
   "outputs": [
    {
     "data": {
      "text/plain": [
       "{'name': 'Linus', 'year': 2011}"
      ]
     },
     "execution_count": 97,
     "metadata": {},
     "output_type": "execute_result"
    }
   ],
   "source": [
    "myfamily['child3']"
   ]
  },
  {
   "cell_type": "code",
   "execution_count": 117,
   "id": "686acaa8",
   "metadata": {},
   "outputs": [
    {
     "data": {
      "text/plain": [
       "{'fname': 'John',\n",
       " 'lname': 'Snow',\n",
       " 'age': 40,\n",
       " 'country': 'Winterfell',\n",
       " 'skills': ['Python', 'C', 'java', 'vb', 'html'],\n",
       " 'addres': {'street': 'north', 'zipcode': '000'}}"
      ]
     },
     "execution_count": 117,
     "metadata": {},
     "output_type": "execute_result"
    }
   ],
   "source": [
    "person = {\n",
    "    'fname': 'John',\n",
    "    'lname': 'Snow',\n",
    "    'age': 40,\n",
    "    'country': 'Winterfell',\n",
    "    'skills': ['Python', 'C', 'java','vb', 'html' ],\n",
    "    'addres': {\n",
    "        'street': 'north',\n",
    "        'zipcode': '000'} \n",
    "    }\n",
    "person"
   ]
  },
  {
   "cell_type": "code",
   "execution_count": 118,
   "id": "73c29c28",
   "metadata": {},
   "outputs": [
    {
     "data": {
      "text/plain": [
       "'John'"
      ]
     },
     "execution_count": 118,
     "metadata": {},
     "output_type": "execute_result"
    }
   ],
   "source": [
    "person['fname']"
   ]
  },
  {
   "cell_type": "code",
   "execution_count": 119,
   "id": "63ca7c3a",
   "metadata": {},
   "outputs": [
    {
     "data": {
      "text/plain": [
       "['Python', 'C', 'java', 'vb', 'html']"
      ]
     },
     "execution_count": 119,
     "metadata": {},
     "output_type": "execute_result"
    }
   ],
   "source": [
    "person['skills']"
   ]
  },
  {
   "cell_type": "code",
   "execution_count": 120,
   "id": "23a2e266",
   "metadata": {},
   "outputs": [
    {
     "data": {
      "text/plain": [
       "['Python', 'C', 'java', 'vb', 'html', 'archer']"
      ]
     },
     "execution_count": 120,
     "metadata": {},
     "output_type": "execute_result"
    }
   ],
   "source": [
    "person['skills'].append('archer')\n",
    "person['skills']"
   ]
  },
  {
   "cell_type": "code",
   "execution_count": 121,
   "id": "a90a8049",
   "metadata": {},
   "outputs": [
    {
     "data": {
      "text/plain": [
       "{'fname': 'roboto',\n",
       " 'lname': 'Snow',\n",
       " 'age': 40,\n",
       " 'country': 'Winterfell',\n",
       " 'skills': ['Python', 'C', 'java', 'vb', 'html', 'archer'],\n",
       " 'addres': {'street': 'north', 'zipcode': '000'}}"
      ]
     },
     "execution_count": 121,
     "metadata": {},
     "output_type": "execute_result"
    }
   ],
   "source": [
    "person['fname'] = 'roboto'\n",
    "person"
   ]
  },
  {
   "cell_type": "code",
   "execution_count": 122,
   "id": "f02230ab",
   "metadata": {},
   "outputs": [
    {
     "data": {
      "text/plain": [
       "{'fname': 'roboto',\n",
       " 'lname': 'Snow',\n",
       " 'age': 40,\n",
       " 'country': 'Winterfell',\n",
       " 'skills': ['Python', 'C', 'java', 'vb', 'html', 'archer'],\n",
       " 'addres': {'street': 'north', 'zipcode': '000'},\n",
       " 'foods': ['tai', 'mexican', 'chinesse']}"
      ]
     },
     "execution_count": 122,
     "metadata": {},
     "output_type": "execute_result"
    }
   ],
   "source": [
    "person['foods']= ['tai', 'mexican', 'chinesse'] \n",
    "person"
   ]
  },
  {
   "cell_type": "code",
   "execution_count": 124,
   "id": "ffc4f801",
   "metadata": {},
   "outputs": [
    {
     "data": {
      "text/plain": [
       "{'fname': 'roboto',\n",
       " 'lname': 'Snow',\n",
       " 'country': 'Winterfell',\n",
       " 'skills': ['Python', 'C', 'java', 'vb', 'html', 'archer'],\n",
       " 'addres': {'street': 'north', 'zipcode': '000'},\n",
       " 'foods': ['tai', 'mexican', 'chinesse'],\n",
       " 'saludos': 'hola'}"
      ]
     },
     "execution_count": 124,
     "metadata": {},
     "output_type": "execute_result"
    }
   ],
   "source": [
    "person['saludos']= 'hola' \n",
    "person"
   ]
  },
  {
   "cell_type": "code",
   "execution_count": 126,
   "id": "4f408872",
   "metadata": {},
   "outputs": [
    {
     "data": {
      "text/plain": [
       "{'fname': 'roboto',\n",
       " 'lname': 'Snow',\n",
       " 'country': 'Winterfell',\n",
       " 'skills': ['Python', 'C', 'java', 'vb', 'html', 'archer'],\n",
       " 'addres': {'street': 'north', 'zipcode': '000'},\n",
       " 'foods': ['tai', 'mexican', 'chinesse'],\n",
       " 'saludos': 'hola',\n",
       " 'solito': True}"
      ]
     },
     "execution_count": 126,
     "metadata": {},
     "output_type": "execute_result"
    }
   ],
   "source": [
    "person['solito'] = True\n",
    "person"
   ]
  },
  {
   "cell_type": "code",
   "execution_count": 123,
   "id": "662ef6a7",
   "metadata": {},
   "outputs": [
    {
     "data": {
      "text/plain": [
       "40"
      ]
     },
     "execution_count": 123,
     "metadata": {},
     "output_type": "execute_result"
    }
   ],
   "source": [
    "person.pop('age')"
   ]
  },
  {
   "cell_type": "code",
   "execution_count": 113,
   "id": "e8eb6f39",
   "metadata": {},
   "outputs": [
    {
     "data": {
      "text/plain": [
       "{'fname': 'roboto',\n",
       " 'lname': 'Snow',\n",
       " 'country': 'Winterfell',\n",
       " 'skills': ['Python', 'C', 'java', 'vb', 'html', 'archer', 'archer'],\n",
       " 'addres': {'street': 'north', 'zipcode': '000'},\n",
       " 'foods': ['tai', 'mexican', 'chinesse']}"
      ]
     },
     "execution_count": 113,
     "metadata": {},
     "output_type": "execute_result"
    }
   ],
   "source": [
    "person"
   ]
  },
  {
   "cell_type": "code",
   "execution_count": 114,
   "id": "34969d36",
   "metadata": {},
   "outputs": [
    {
     "data": {
      "text/plain": [
       "('foods', ['tai', 'mexican', 'chinesse'])"
      ]
     },
     "execution_count": 114,
     "metadata": {},
     "output_type": "execute_result"
    }
   ],
   "source": [
    "person.popitem()"
   ]
  },
  {
   "cell_type": "code",
   "execution_count": 115,
   "id": "9570282e",
   "metadata": {},
   "outputs": [],
   "source": [
    "del person"
   ]
  },
  {
   "cell_type": "code",
   "execution_count": 116,
   "id": "d26fd661",
   "metadata": {},
   "outputs": [
    {
     "ename": "NameError",
     "evalue": "name 'person' is not defined",
     "output_type": "error",
     "traceback": [
      "\u001b[0;31m---------------------------------------------------------------------------\u001b[0m",
      "\u001b[0;31mNameError\u001b[0m                                 Traceback (most recent call last)",
      "Cell \u001b[0;32mIn[116], line 1\u001b[0m\n\u001b[0;32m----> 1\u001b[0m person\n",
      "\u001b[0;31mNameError\u001b[0m: name 'person' is not defined"
     ]
    }
   ],
   "source": [
    "person"
   ]
  },
  {
   "cell_type": "markdown",
   "id": "dd5d424b",
   "metadata": {},
   "source": [
    "\n",
    "### <span style=\"color:darkred\">Los constructores de las colecciones</span> \n",
    "\n",
    "Los **constructores** son métodos especiales que se ejecutan automáticamente cuando se crea una nueva instancia de una clase.\n",
    "\n",
    "\n",
    "#### <span style=\"color:darkblue\">Listas</span> \n",
    "\n",
    "También es posible usar el constructor `list()` al crear una nueva lista.\n"
   ]
  },
  {
   "cell_type": "code",
   "execution_count": 127,
   "id": "7612a93f",
   "metadata": {},
   "outputs": [
    {
     "name": "stdout",
     "output_type": "stream",
     "text": [
      "['apple', 'banana', 'cherry']\n"
     ]
    }
   ],
   "source": [
    "thislist = list((\"apple\", \"banana\", \"cherry\")) # note the double round-brackets\n",
    "print(thislist)"
   ]
  },
  {
   "cell_type": "markdown",
   "id": "82c0b486",
   "metadata": {},
   "source": [
    "A diferencia de crear una lista normal acá podemos compartir una `tupla` que se caracteriza por tener los elementos dentro de paréntesis y es convertido a lista si esta cumple las características de esta. \n",
    "\n",
    "#### <span style=\"color:darkblue\">Tuplas</span> \n",
    "\n",
    "También es posible usar el constructor tuple() para hacer una tupla."
   ]
  },
  {
   "cell_type": "code",
   "execution_count": 22,
   "id": "741c8592",
   "metadata": {},
   "outputs": [
    {
     "name": "stdout",
     "output_type": "stream",
     "text": [
      "('apple', 'banana', 'cherry')\n"
     ]
    }
   ],
   "source": [
    "thistuple = tuple ((\"apple\", \"banana\", \"cherry\")) # note the double round-brackets\n",
    "print(thistuple)"
   ]
  },
  {
   "cell_type": "markdown",
   "id": "184c8f6c",
   "metadata": {},
   "source": [
    "#### <span style=\"color:darkblue\">Conjuntos</span> \n",
    "\n",
    "También es posible usar el constructor `set()` para hacer un conjunto."
   ]
  },
  {
   "cell_type": "code",
   "execution_count": 24,
   "id": "51c288a8",
   "metadata": {},
   "outputs": [
    {
     "name": "stdout",
     "output_type": "stream",
     "text": [
      "{'cherry', 'apple', 'banana'}\n"
     ]
    }
   ],
   "source": [
    "thisset = set((\"apple\",  \"banana\",  \"cherry\")) # note the double round-brackets\n",
    "print(thisset)"
   ]
  },
  {
   "cell_type": "markdown",
   "id": "c1cc63cb",
   "metadata": {},
   "source": [
    "#### <span style=\"color:darkblue\">Diccionarios</span> \n",
    "\n",
    "También es posible usar el constructor `dict()` para hacer un diccionario."
   ]
  },
  {
   "cell_type": "code",
   "execution_count": 26,
   "id": "c518bc47",
   "metadata": {},
   "outputs": [
    {
     "name": "stdout",
     "output_type": "stream",
     "text": [
      "{'name': 'John', 'age': 36, 'country': 'Norway'}\n"
     ]
    }
   ],
   "source": [
    "thisdict = dict (name = \"John\", age = 36, country = \"Norway\")\n",
    "print(thisdict)"
   ]
  },
  {
   "cell_type": "markdown",
   "id": "bf99011e",
   "metadata": {},
   "source": [
    "\n",
    "#### <span style=\"color:darkred\">Aplicando Conocimientos</span> \n",
    "\n",
    "1.\tUtilizar una lista para añadir y eliminar elementos en un bucle repetitivo: "
   ]
  },
  {
   "cell_type": "markdown",
   "id": "91cc29b3",
   "metadata": {},
   "source": [
    "Este ejemplo crea una lista vacía y luego le pide al usuario que ingrese elementos uno por uno, añadiéndolos a la lista con el método `append()`.\n",
    "\n",
    "Una vez que el usuario ingresa \"fin\", el bucle se detiene y la lista completa se imprime en pantalla.\n",
    "\n",
    "Luego, se elimina el último elemento de la lista con el método `pop()`, y se imprime la lista actualizada.\n",
    "\n",
    "2. Utilizar un diccionario como una base de datos\n"
   ]
  },
  {
   "cell_type": "markdown",
   "id": "7ea89d86",
   "metadata": {},
   "source": [
    "Este ejemplo utiliza un diccionario para almacenar datos de usuarios, donde cada usuario es una clave que apunta a otro diccionario que contiene los datos de ese usuario (en este caso, su edad y su ciudad).\n",
    "\n",
    "El ejemplo agrega algunos usuarios a la base de datos y luego imprime la base de datos completa en pantalla.\n",
    "\n",
    "Luego, modifica los datos de un usuario existente (en este caso, Juan cambia de tener 25 años a tener 27) y vuelve a imprimir la base de datos actualizada.\n",
    "\n",
    "3. Utilizar un set para variables de sistema como ejemplo\n"
   ]
  },
  {
   "cell_type": "markdown",
   "id": "301e49fe",
   "metadata": {},
   "source": [
    "\n",
    "#### <span style=\"color:darkred\">Permitir duplicados</span> "
   ]
  }
 ],
 "metadata": {
  "kernelspec": {
   "display_name": "Python 3 (ipykernel)",
   "language": "python",
   "name": "python3"
  },
  "language_info": {
   "codemirror_mode": {
    "name": "ipython",
    "version": 3
   },
   "file_extension": ".py",
   "mimetype": "text/x-python",
   "name": "python",
   "nbconvert_exporter": "python",
   "pygments_lexer": "ipython3",
   "version": "3.11.4"
  },
  "nbTranslate": {
   "displayLangs": [
    "*"
   ],
   "hotkey": "alt-t",
   "langInMainMenu": true,
   "sourceLang": "en",
   "targetLang": "fr",
   "useGoogleTranslate": true
  }
 },
 "nbformat": 4,
 "nbformat_minor": 5
}
