{
 "cells": [
  {
   "cell_type": "markdown",
   "id": "9c8c537c",
   "metadata": {},
   "source": [
    "# <span style=\"color:darkblue\">Módulo 1 - Introducción a la programación con Python </span>\n",
    "\n",
    "## <span style=\"color:darkblue\">Sesión 11 - Excepciones en Python</span>\n",
    "\n",
    "### <span style=\"color:darkblue\">Duración estimada:\t4 horas</span>\n",
    "\n",
    "#### <span style=\"color:darkblue\">En marco del proyecto: “EMPLEO JOVEN ES”</span>"
   ]
  },
  {
   "cell_type": "markdown",
   "id": "42a8be22",
   "metadata": {},
   "source": [
    "## <span style=\"color:darkblue\"> Tabla de contenidos:</span>\n",
    " \n",
    "    1- Bienvenida\n",
    "    \n",
    "    2- Asistencia\n",
    "    \n",
    "    3- Dudas de la Clase anterior\n",
    "    \n",
    "    4- Control de Lectura\n",
    "    \n",
    "    5- Objetivo\n",
    "    \n",
    "    6- Introducción\n",
    "    \n",
    "    7- Aprendamos\n",
    "\n",
    "    \n",
    "    \n",
    "    \n",
    "    8- Aplicando Conocimientos\t\n",
    "\n",
    "    9- Retroalimentación\n",
    "    \n",
    "    10- Asistencia\n"
   ]
  },
  {
   "cell_type": "markdown",
   "id": "51ae1b4d",
   "metadata": {},
   "source": [
    "## <span style=\"color:darkred\">Objetivo:</span>\n",
    "\n",
    "Aprender el manejo de excepciones en Python para ser capaz de identificar y manejar errores en el código, lo que permitirá desarrollar programas más robustos y fiables. Al finalizar el aprendizaje, podrás escribir código que maneje excepciones de manera eficiente, y evitar que los errores causen la terminación inesperada del programa. También podrás entender los tipos de excepciones que pueden ocurrir en Python, y cómo manejarlos para mejorar la calidad y seguridad de tus programas.\n",
    "\n",
    "### <span style=\"color:darkred\">Recursos</span>\n",
    "\n",
    "•\tSesión 11 excepciones\n",
    "\n",
    "•\tComputadora con Python instalado\n",
    "\n",
    "•\tVisual Studio Code instalado\n",
    "\n",
    "\n",
    "\n",
    "\n",
    "### <span style=\"color:darkred\">Introducción:</span>\n",
    "\n",
    "La programación es una tarea compleja que implica la creación y el mantenimiento de software para realizar tareas específicas. A menudo, los programas deben interactuar con fuentes de datos externas o dispositivos, lo que puede dar lugar a situaciones inesperadas o errores. El manejo de excepciones es una técnica fundamental en la programación para manejar estos casos y garantizar que el programa continúe funcionando de manera adecuada.\n",
    "\n",
    "En términos simples, una excepción es un evento que ocurre durante la ejecución del programa que interrumpe su flujo normal. Puede ser causada por diversos factores, como entradas de datos incorrectas, fallos en la conexión de red o problemas de memoria insuficiente. Si no se manejan adecuadamente, estas excepciones pueden hacer que el programa falle o genere resultados incorrectos.\n",
    "\n",
    "El manejo de excepciones es un mecanismo que permite a los programadores anticipar y manejar las excepciones que puedan ocurrir durante la ejecución del programa. Al hacerlo, pueden asegurarse de que el programa siga funcionando correctamente y eviten la interrupción del flujo normal del programa.\n",
    "\n",
    "El bloque **try** le permite probar un bloque de código en busca de errores.\n",
    "\n",
    "El bloque **except** le permite manejar el error.\n",
    "\n",
    "El bloque **else** te permite ejecutar código cuando no hay ningún error.\n",
    "\n",
    "El bloque **finally** le permite ejecutar código, independientemente del resultado de los bloques de prueba y excepción.\n",
    "\n",
    "\n",
    "### <span style=\"color:darkred\">Aprendamos </span>\n"
   ]
  },
  {
   "cell_type": "code",
   "execution_count": 2,
   "id": "45151d1a",
   "metadata": {},
   "outputs": [
    {
     "ename": "ZeroDivisionError",
     "evalue": "division by zero",
     "output_type": "error",
     "traceback": [
      "\u001b[0;31m---------------------------------------------------------------------------\u001b[0m",
      "\u001b[0;31mZeroDivisionError\u001b[0m                         Traceback (most recent call last)",
      "Input \u001b[0;32mIn [2]\u001b[0m, in \u001b[0;36m<cell line: 4>\u001b[0;34m()\u001b[0m\n\u001b[1;32m      1\u001b[0m x \u001b[38;5;241m=\u001b[39m \u001b[38;5;241m1\u001b[39m\n\u001b[1;32m      2\u001b[0m y \u001b[38;5;241m=\u001b[39m \u001b[38;5;241m0\u001b[39m\n\u001b[0;32m----> 4\u001b[0m \u001b[43mx\u001b[49m\u001b[38;5;241;43m/\u001b[39;49m\u001b[43my\u001b[49m\n",
      "\u001b[0;31mZeroDivisionError\u001b[0m: division by zero"
     ]
    }
   ],
   "source": [
    "x = 1\n",
    "y = 0\n",
    "\n",
    "x/y"
   ]
  },
  {
   "cell_type": "markdown",
   "id": "0460e94a",
   "metadata": {},
   "source": [
    "### Manejo de Excepciones\n",
    "\n",
    "Cuando ocurre un error, o una excepción como lo llamamos, Python normalmente se detendrá y generará un mensaje de error. Estas excepciones se pueden manejar usando la declaración `try`:\n"
   ]
  },
  {
   "cell_type": "code",
   "execution_count": 10,
   "id": "5e778bbf",
   "metadata": {},
   "outputs": [
    {
     "name": "stdout",
     "output_type": "stream",
     "text": [
      "1\n"
     ]
    }
   ],
   "source": [
    "try: \n",
    "    print(x) # Generador o donde ocurre el error\n",
    "except:\n",
    "    print('An exception occurred') # Nos dice que tipo fue el error"
   ]
  },
  {
   "cell_type": "markdown",
   "id": "677b46cf",
   "metadata": {},
   "source": [
    "### Muchas excepciones \n",
    "\n",
    "Podemos definicuantos bloques de excepciones necesitemos."
   ]
  },
  {
   "cell_type": "code",
   "execution_count": 12,
   "id": "f10aab09",
   "metadata": {},
   "outputs": [
    {
     "name": "stdout",
     "output_type": "stream",
     "text": [
      "1\n"
     ]
    }
   ],
   "source": [
    "try:\n",
    "    print(x)\n",
    "except NameError:\n",
    "    print('Variable is not defined')\n",
    "except:\n",
    "    print('Anything else')"
   ]
  },
  {
   "cell_type": "markdown",
   "id": "ee03b2e5",
   "metadata": {},
   "source": [
    "\n",
    "<html>\n",
    "\n",
    "\n",
    "<body>\n",
    "\n",
    "<h2>Excepciones y Descripciones de Manejo de Errores</h2>\n",
    "\n",
    "<table>\n",
    "    <tr>\n",
    "        <th>Excepción</th>\n",
    "        <th>Descripción sobre el manejo del Error</th>\n",
    "    </tr>\n",
    "    <tr>\n",
    "        <td>Exception</td>\n",
    "        <td>La excepción base de la que heredan todas las demás excepciones</td>\n",
    "    </tr>\n",
    "    <tr>\n",
    "        <td>TypeError</td>\n",
    "        <td>Se produce cuando se intenta realizar una operación con un tipo de datos no compatible</td>\n",
    "    </tr>\n",
    "    <tr>\n",
    "        <td>ValueError</td>\n",
    "        <td>Se produce cuando se intenta realizar una operación con un valor no válido</td>\n",
    "    </tr>\n",
    "    <tr>\n",
    "        <td>IndexError</td>\n",
    "        <td>Se produce cuando se intenta acceder a un índice fuera de los límites de una secuencia</td>\n",
    "    </tr>\n",
    "    <tr>\n",
    "        <td>KeyError</td>\n",
    "        <td>Se produce cuando se intenta acceder a una clave inexistente en un diccionario</td>\n",
    "    </tr>\n",
    "    <tr>\n",
    "        <td>AttributeError</td>\n",
    "        <td>Se produce cuando se intenta acceder a un atributo inexistente en un objeto</td>\n",
    "    </tr>\n",
    "    <tr>\n",
    "        <td>NameError</td>\n",
    "        <td>Se produce cuando se intenta acceder a una variable no definida</td>\n",
    "    </tr>\n",
    "    <tr>\n",
    "        <td>IOError</td>\n",
    "        <td>Se produce cuando se produce un error de entrada/salida</td>\n",
    "    </tr>\n",
    "    <tr>\n",
    "        <td>ZeroDivisionError</td>\n",
    "        <td>Se produce cuando se intenta dividir un número por cero</td>\n",
    "    </tr>\n",
    "    <tr>\n",
    "        <td>SyntaxError</td>\n",
    "        <td>Se produce cuando se encuentra un error de sintaxis en el código fuente</td>\n",
    "    </tr>\n",
    "    <tr>\n",
    "        <td>IndentationError</td>\n",
    "        <td>Se produce cuando se encuentra un error de indentación en el código fuente</td>\n",
    "    </tr>\n",
    "    <tr>\n",
    "        <td>FileNotFoundError</td>\n",
    "        <td>Se produce cuando se intenta abrir un archivo que no existe</td>\n",
    "    </tr>\n",
    "    <tr>\n",
    "        <td>ModuleNotFoundError</td>\n",
    "        <td>Se produce cuando se intenta importar un módulo que no existe</td>\n",
    "    </tr>\n",
    "    <tr>\n",
    "        <td>KeyboardInterrupt</td>\n",
    "        <td>Se produce cuando se interrumpe la ejecución con la combinación de teclas Ctrl+C</td>\n",
    "    </tr>\n",
    "    <tr>\n",
    "        <td>SystemExit</td>\n",
    "        <td>Se produce cuando se llama a la función sys.exit() para salir del programa</td>\n",
    "    </tr>\n",
    "</table>\n",
    "\n",
    "</body>"
   ]
  },
  {
   "cell_type": "markdown",
   "id": "db7d1341",
   "metadata": {},
   "source": [
    "### Ejercicio 1: División Segura\n",
    "\n",
    "**Objetivo:** Crear una función que divida dos números de manera segura, manejando excepciones si es necesario."
   ]
  },
  {
   "cell_type": "code",
   "execution_count": 3,
   "id": "fabc63e6",
   "metadata": {},
   "outputs": [],
   "source": [
    "def division_segura(numerador, denominador):\n",
    "    \n",
    "    try:\n",
    "        division = numerador / denominador\n",
    "        return division\n",
    "    \n",
    "    except ZeroDivisionError:\n",
    "        print('Error: no se puede dividir entre cero')\n",
    "        \n",
    "    except ValueError:\n",
    "        print('Error: El valor no es valido')\n",
    "    "
   ]
  },
  {
   "cell_type": "code",
   "execution_count": 4,
   "id": "83348655",
   "metadata": {},
   "outputs": [
    {
     "data": {
      "text/plain": [
       "0.3333333333333333"
      ]
     },
     "execution_count": 4,
     "metadata": {},
     "output_type": "execute_result"
    }
   ],
   "source": [
    "division_segura(1,3)"
   ]
  },
  {
   "cell_type": "code",
   "execution_count": 5,
   "id": "c15a32f4",
   "metadata": {},
   "outputs": [
    {
     "name": "stdout",
     "output_type": "stream",
     "text": [
      "Error: no se puede dividir entre cero\n"
     ]
    }
   ],
   "source": [
    "division_segura(1,0)"
   ]
  },
  {
   "cell_type": "markdown",
   "id": "e2d359b0",
   "metadata": {},
   "source": [
    "### Ejercicio 2: Conversión de Número Entero\n",
    "\n",
    "### Objetivo: \n",
    "Crear una función que convierta una cadena en un número entero, manejando excepciones si la conversión falla."
   ]
  },
  {
   "cell_type": "code",
   "execution_count": 6,
   "id": "85ab5559",
   "metadata": {},
   "outputs": [],
   "source": [
    "def str_2_int(cadena):\n",
    "    try: \n",
    "        entero = int(cadena)\n",
    "        return entero\n",
    "    \n",
    "    except ValueError:\n",
    "        print('Error : la cadena no es valida')"
   ]
  },
  {
   "cell_type": "code",
   "execution_count": 9,
   "id": "3b40cd5a",
   "metadata": {},
   "outputs": [
    {
     "data": {
      "text/plain": [
       "(int, 1234)"
      ]
     },
     "execution_count": 9,
     "metadata": {},
     "output_type": "execute_result"
    }
   ],
   "source": [
    "x\n",
    "\n",
    "type(str_2_int(cad)), str_2_int(cad)"
   ]
  },
  {
   "cell_type": "code",
   "execution_count": 10,
   "id": "c81c693f",
   "metadata": {},
   "outputs": [
    {
     "name": "stdout",
     "output_type": "stream",
     "text": [
      "Error : la cadena no es valida\n"
     ]
    }
   ],
   "source": [
    "cad = 'fgh'\n",
    "str_2_int(cad)"
   ]
  },
  {
   "cell_type": "markdown",
   "id": "742a1682",
   "metadata": {},
   "source": [
    "### Ejercicio 3: Validación de Entrada (5 min)\n",
    "\n",
    "#### Objetivo: \n",
    "Crear un programa que solicite al usuario ingresar un número positivo y maneje excepciones en caso de entrada inválida."
   ]
  },
  {
   "cell_type": "code",
   "execution_count": 17,
   "id": "82e3a286",
   "metadata": {},
   "outputs": [],
   "source": [
    "def validacion(n):\n",
    "\n",
    "    try:\n",
    "        if n > 0:\n",
    "            print('El numero es positivo')\n",
    "        else:\n",
    "            return n\n",
    "        \n",
    "    except TypeError:\n",
    "        print('Error no coincide con el tipo de datos')\n",
    "        \n",
    "    except ValueError:\n",
    "        print('Error: ENtrada invalida')\n",
    "  "
   ]
  },
  {
   "cell_type": "code",
   "execution_count": 18,
   "id": "84f38f7d",
   "metadata": {},
   "outputs": [
    {
     "name": "stdout",
     "output_type": "stream",
     "text": [
      "El numero es positivo\n",
      "Error no coincide con el tipo de datos\n"
     ]
    }
   ],
   "source": [
    "validacion(4)\n",
    "validacion('a')"
   ]
  },
  {
   "cell_type": "markdown",
   "id": "5181617b",
   "metadata": {},
   "source": [
    "### Else en el manejo de excepciones"
   ]
  },
  {
   "cell_type": "code",
   "execution_count": null,
   "id": "7896771a",
   "metadata": {},
   "outputs": [],
   "source": [
    "try:\n",
    "    print(x)\n",
    "except:\n",
    "    print('Error message')\n",
    "else:\n",
    "    print('Error Message 2')"
   ]
  },
  {
   "cell_type": "markdown",
   "id": "41cc8618",
   "metadata": {},
   "source": [
    "### Ejemplo: Conversión de Entrada\n",
    "\n",
    "En este ejemplo, se intenta convertir una entrada del usuario a un número entero. Si la conversión es exitosa, se muestra un mensaje indicando que la conversión fue exitosa. Si ocurre un error debido a que la entrada no es un número válido, se maneja la excepción y se imprime un mensaje de error."
   ]
  },
  {
   "cell_type": "code",
   "execution_count": 20,
   "id": "897b4d90",
   "metadata": {},
   "outputs": [
    {
     "name": "stdout",
     "output_type": "stream",
     "text": [
      "Ingrese un número h\n",
      "Error en la conversion de datos\n"
     ]
    }
   ],
   "source": [
    "entrada = input('Ingrese un número ')\n",
    "\n",
    "try:\n",
    "    numero = int(entrada)\n",
    "    print(numero)\n",
    "\n",
    "except ValueError:\n",
    "    print('Error en la conversion de datos')\n",
    "    \n",
    "else:\n",
    "    print('Conversion exitosa')"
   ]
  },
  {
   "cell_type": "markdown",
   "id": "83601c0f",
   "metadata": {},
   "source": [
    "### Finally en el manejo de Excepciones"
   ]
  },
  {
   "cell_type": "code",
   "execution_count": null,
   "id": "5e196fe7",
   "metadata": {},
   "outputs": [],
   "source": [
    "try:\n",
    "    print(x)\n",
    "\n",
    "except:\n",
    "    print('Tipo de error')\n",
    "\n",
    "finally: \n",
    "    print('El blque except finalizo!')\n",
    "    "
   ]
  },
  {
   "cell_type": "code",
   "execution_count": 22,
   "id": "305f776e",
   "metadata": {},
   "outputs": [
    {
     "name": "stdout",
     "output_type": "stream",
     "text": [
      "Ingrese el numerador 1\n",
      "Ingrese el denominador 0\n",
      "Error: no se puede dividir entre zero\n",
      "El codigo ha sido ejecutado con exito\n"
     ]
    }
   ],
   "source": [
    "try:\n",
    "    numerador = float(input('Ingrese el numerador '))\n",
    "    denominador = float(input('Ingrese el denominador '))\n",
    "    \n",
    "    division = numerador / denominador\n",
    "\n",
    "except ZeroDivisionError:\n",
    "    print('Error: no se puede dividir entre zero')\n",
    "\n",
    "else:\n",
    "    print(' El resulta de la division es :' , division)\n",
    "\n",
    "finally:\n",
    "    print('El codigo ha sido ejecutado con exito')"
   ]
  },
  {
   "cell_type": "markdown",
   "id": "9cdf3422",
   "metadata": {},
   "source": [
    "#### Finally para cerrar conexion a una BD"
   ]
  },
  {
   "cell_type": "code",
   "execution_count": 26,
   "id": "b0a094a2",
   "metadata": {},
   "outputs": [
    {
     "name": "stdout",
     "output_type": "stream",
     "text": [
      "cerrando la conexion ...\n"
     ]
    }
   ],
   "source": [
    "conexion = None\n",
    "\n",
    "try:\n",
    "    conexion = 'Conexión abierta'\n",
    "\n",
    "except Exception as e:\n",
    "    print('Error', e)\n",
    "\n",
    "finally:\n",
    "    if conexion:\n",
    "        print('cerrando la conexion ...')\n",
    "        conexion = None\n",
    "        "
   ]
  },
  {
   "cell_type": "code",
   "execution_count": 27,
   "id": "86e1871d",
   "metadata": {},
   "outputs": [
    {
     "ename": "ZeroDivisionError",
     "evalue": "division by zero",
     "output_type": "error",
     "traceback": [
      "\u001b[0;31m---------------------------------------------------------------------------\u001b[0m",
      "\u001b[0;31mZeroDivisionError\u001b[0m                         Traceback (most recent call last)",
      "Input \u001b[0;32mIn [27]\u001b[0m, in \u001b[0;36m<cell line: 1>\u001b[0;34m()\u001b[0m\n\u001b[0;32m----> 1\u001b[0m \u001b[38;5;241;43m1\u001b[39;49m\u001b[38;5;241;43m/\u001b[39;49m\u001b[38;5;241;43m0\u001b[39;49m\n",
      "\u001b[0;31mZeroDivisionError\u001b[0m: division by zero"
     ]
    }
   ],
   "source": [
    "1/0"
   ]
  },
  {
   "cell_type": "markdown",
   "id": "57e6a4fe",
   "metadata": {},
   "source": [
    "### Levantar una excepcion con `raise`"
   ]
  },
  {
   "cell_type": "code",
   "execution_count": 29,
   "id": "8565d02f",
   "metadata": {},
   "outputs": [
    {
     "ename": "Exception",
     "evalue": "Negativos no !!!!!!",
     "output_type": "error",
     "traceback": [
      "\u001b[0;31m---------------------------------------------------------------------------\u001b[0m",
      "\u001b[0;31mException\u001b[0m                                 Traceback (most recent call last)",
      "Input \u001b[0;32mIn [29]\u001b[0m, in \u001b[0;36m<cell line: 3>\u001b[0;34m()\u001b[0m\n\u001b[1;32m      1\u001b[0m x \u001b[38;5;241m=\u001b[39m \u001b[38;5;241m-\u001b[39m\u001b[38;5;241m1\u001b[39m\n\u001b[1;32m      3\u001b[0m \u001b[38;5;28;01mif\u001b[39;00m x \u001b[38;5;241m<\u001b[39m \u001b[38;5;241m0\u001b[39m :\n\u001b[0;32m----> 4\u001b[0m     \u001b[38;5;28;01mraise\u001b[39;00m \u001b[38;5;167;01mException\u001b[39;00m(\u001b[38;5;124m'\u001b[39m\u001b[38;5;124mNegativos no !!!!!!\u001b[39m\u001b[38;5;124m'\u001b[39m)\n",
      "\u001b[0;31mException\u001b[0m: Negativos no !!!!!!"
     ]
    }
   ],
   "source": [
    "x = -1\n",
    "\n",
    "if x < 0 :\n",
    "    raise Exception('Negativos no !!!!!!')"
   ]
  },
  {
   "cell_type": "code",
   "execution_count": 30,
   "id": "6109505f",
   "metadata": {},
   "outputs": [
    {
     "ename": "TypeError",
     "evalue": "Es entero!!",
     "output_type": "error",
     "traceback": [
      "\u001b[0;31m---------------------------------------------------------------------------\u001b[0m",
      "\u001b[0;31mTypeError\u001b[0m                                 Traceback (most recent call last)",
      "Input \u001b[0;32mIn [30]\u001b[0m, in \u001b[0;36m<cell line: 3>\u001b[0;34m()\u001b[0m\n\u001b[1;32m      1\u001b[0m string \u001b[38;5;241m=\u001b[39m \u001b[38;5;124m'\u001b[39m\u001b[38;5;124mholaaaaaaa\u001b[39m\u001b[38;5;124m'\u001b[39m\n\u001b[1;32m      3\u001b[0m \u001b[38;5;28;01mif\u001b[39;00m \u001b[38;5;129;01mnot\u001b[39;00m \u001b[38;5;28mtype\u001b[39m(string) \u001b[38;5;129;01mis\u001b[39;00m \u001b[38;5;28mint\u001b[39m:\n\u001b[0;32m----> 4\u001b[0m     \u001b[38;5;28;01mraise\u001b[39;00m \u001b[38;5;167;01mTypeError\u001b[39;00m(\u001b[38;5;124m'\u001b[39m\u001b[38;5;124mEs entero!!\u001b[39m\u001b[38;5;124m'\u001b[39m)\n",
      "\u001b[0;31mTypeError\u001b[0m: Es entero!!"
     ]
    }
   ],
   "source": [
    "string = 'holaaaaaaa'\n",
    "\n",
    "if not type(string) is int:\n",
    "    raise TypeError('Es entero!!')"
   ]
  },
  {
   "cell_type": "code",
   "execution_count": 34,
   "id": "2937f0be",
   "metadata": {},
   "outputs": [
    {
     "name": "stdout",
     "output_type": "stream",
     "text": [
      "Ingrese el Numerador1\n",
      "ingrese el denominador0\n",
      "El codigo ha sido ejecutado con exito\n"
     ]
    },
    {
     "ename": "Exception",
     "evalue": "No se puede dividir entre cero",
     "output_type": "error",
     "traceback": [
      "\u001b[0;31m---------------------------------------------------------------------------\u001b[0m",
      "\u001b[0;31mException\u001b[0m                                 Traceback (most recent call last)",
      "Input \u001b[0;32mIn [34]\u001b[0m, in \u001b[0;36m<cell line: 1>\u001b[0;34m()\u001b[0m\n\u001b[1;32m      3\u001b[0m     denominador \u001b[38;5;241m=\u001b[39m \u001b[38;5;28mfloat\u001b[39m(\u001b[38;5;28minput\u001b[39m(\u001b[38;5;124m'\u001b[39m\u001b[38;5;124mingrese el denominador\u001b[39m\u001b[38;5;124m'\u001b[39m))\n\u001b[1;32m      5\u001b[0m     \u001b[38;5;28;01mif\u001b[39;00m denominador \u001b[38;5;241m==\u001b[39m \u001b[38;5;241m0\u001b[39m:\n\u001b[0;32m----> 7\u001b[0m         \u001b[38;5;28;01mraise\u001b[39;00m \u001b[38;5;167;01mException\u001b[39;00m(\u001b[38;5;124m'\u001b[39m\u001b[38;5;124mNo se puede dividir entre cero\u001b[39m\u001b[38;5;124m'\u001b[39m)\n\u001b[1;32m      9\u001b[0m     result \u001b[38;5;241m=\u001b[39m numerador \u001b[38;5;241m/\u001b[39m denominador\n\u001b[1;32m     11\u001b[0m \u001b[38;5;28;01mexcept\u001b[39;00m \u001b[38;5;167;01mZeroDivisionError\u001b[39;00m:\n",
      "\u001b[0;31mException\u001b[0m: No se puede dividir entre cero"
     ]
    }
   ],
   "source": [
    "try: \n",
    "    numerador = float(input('Ingrese el Numerador'))\n",
    "    denominador = float(input('ingrese el denominador'))\n",
    "    \n",
    "    if denominador == 0:\n",
    "        \n",
    "        raise Exception('No se puede dividir entre cero')\n",
    "\n",
    "    result = numerador / denominador\n",
    "\n",
    "except ZeroDivisionError:\n",
    "    print('Error: no se puede dividir entre cero')\n",
    "    \n",
    "\n",
    "else:\n",
    "    print('El resultado es', result)\n",
    "\n",
    "finally:\n",
    "    print('El codigo ha sido ejecutado con exito')"
   ]
  },
  {
   "cell_type": "markdown",
   "id": "88c2df18",
   "metadata": {},
   "source": [
    "### Validación de Edad (10 min)\n",
    "\n",
    "Se pide al usuario que ingrese su edad. Luego, se verifica si la edad ingresada es menor de 18 años. Si es menor, se genera la excepción personalizada `MenorDeEdadError` utilizando `raise`. En el bloque `except`, se maneja esta excepción y se imprime un mensaje de error indicando que el usuario debe ser mayor de edad. Si la edad es igual o mayor a 18, se imprime un mensaje indicando que el usuario es mayor de edad.\n",
    "\n",
    "`class MenorDeEdadError(Exception):\n",
    "    pass`"
   ]
  },
  {
   "cell_type": "code",
   "execution_count": 37,
   "id": "228a03e5",
   "metadata": {},
   "outputs": [
    {
     "name": "stdout",
     "output_type": "stream",
     "text": [
      "Error No eres Mayor de edad\n",
      "Al fin se termino\n"
     ]
    }
   ],
   "source": [
    "class MenorDeEdadError(Exception):\n",
    "    pass\n",
    "\n",
    "try: \n",
    "    edad = 12\n",
    "    \n",
    "    if edad < 18:\n",
    "        raise MenorDeEdadError('No eres Mayor de edad')\n",
    "\n",
    "\n",
    "except MenorDeEdadError as e:\n",
    "    print('Error',e)\n",
    "\n",
    "else:\n",
    "    print('Eres mayor de Edad')\n",
    "    \n",
    "finally:\n",
    "    print('Al fin se termino')"
   ]
  },
  {
   "cell_type": "markdown",
   "id": "9439f5ec",
   "metadata": {},
   "source": [
    "### Tarea: Cálculo de Raíz Cuadrada con Manejo de Excepciones\n",
    "\n",
    "#### Instrucciones:\n",
    "\n",
    "1. Los estudiantes deben crear un programa en Python que permita calcular la raíz cuadrada de un número ingresado por el usuario.\n",
    "\n",
    "\n",
    "2. El programa debe manejar posibles excepciones que puedan ocurrir al calcular la raíz cuadrada de un número negativo o al ingresar un valor no numérico.\n",
    "\n",
    "\n",
    "3. Si se ingresa un número negativo, el programa debe generar una excepción personalizada llamada `RaizNegativaError` y mostrar un mensaje de error.\n",
    "\n",
    "\n",
    "4. Si se ingresa un valor no numérico, el programa debe generar una excepción personalizada llamada `ValorNoNumericoError` y mostrar un mensaje de error.\n",
    "\n",
    "\n",
    "5. Si no se generaron excepciones, el programa debe mostrar el resultado de la raíz cuadrada calculada."
   ]
  },
  {
   "cell_type": "code",
   "execution_count": 40,
   "id": "57c762d6",
   "metadata": {},
   "outputs": [
    {
     "name": "stdout",
     "output_type": "stream",
     "text": [
      "Digite el numero a l que s ele calculara la raiz-2\n",
      "Error  NO se puede calcular raices pares de numeros negativos\n",
      "******************************\n",
      "\n",
      "Ejecucion finalizada con exito\n",
      "\n",
      "******************************\n"
     ]
    }
   ],
   "source": [
    "class RaizNegativaError(Exception):\n",
    "    pass\n",
    "\n",
    "class ValorNoNumericoError(Exception):\n",
    "    pass\n",
    "\n",
    "import math as mt\n",
    "\n",
    "\n",
    "def  calcular_raiz(n):\n",
    "    if n < 0:\n",
    "        raise RaizNegativaError('NO se puede calcular raices pares de numeros negativos')\n",
    "\n",
    "    return mt.sqrt(n)\n",
    "\n",
    "try: \n",
    "    \n",
    "    numero = float(input('Digite el numero a l que s ele calculara la raiz'))\n",
    "    \n",
    "    result = calcular_raiz(numero)\n",
    "\n",
    "except RaizNegativaError as err:\n",
    "    print('Error ', err)\n",
    "\n",
    "\n",
    "except ValorNoNumericoError as e:\n",
    "    print('Error ')\n",
    "    \n",
    "else:\n",
    "    print('El resultado es: ', result)\n",
    "    \n",
    "finally:\n",
    "    print(30*'*')\n",
    "    print('\\nEjecucion finalizada con exito\\n')\n",
    "    print(30*'*')\n",
    "    "
   ]
  },
  {
   "cell_type": "markdown",
   "id": "cb8cc1cd",
   "metadata": {},
   "source": [
    "### Ejercicio 1: Registro de usuarios\n",
    "\n",
    "En este ejercicio, vamos a simular el registro de usuarios en un sistema. El programa solicitará al usuario ingresar un nombre de usuario y verificará si ya existe en la base de datos. Si el nombre de usuario ya existe, se lanzará una excepción personalizada y se manejará usando try y except."
   ]
  },
  {
   "cell_type": "markdown",
   "id": "e8ea6e00",
   "metadata": {},
   "source": [
    "### Ejercicio 2: División por cero con múltiples intentos\n",
    "\n",
    "Este ejercicio implica la captura de excepciones al intentar realizar una división por cero, y permite al usuario realizar varios intentos."
   ]
  },
  {
   "cell_type": "markdown",
   "id": "ad1f22c0",
   "metadata": {},
   "source": [
    "### Ejercicio 3: Cálculo de la raíz cuadrada\n",
    "\n",
    "En este ejercicio, vamos a calcular la raíz cuadrada de un número ingresado por el usuario. El programa manejará las excepciones en caso de que se intente calcular la raíz cuadrada de un número negativo."
   ]
  },
  {
   "cell_type": "markdown",
   "id": "06ac8c7f",
   "metadata": {},
   "source": [
    "### Ejercicio 4: Adivina el número\n",
    "\n",
    "En este juego, el programa seleccionará un número aleatorio y le pedirá al usuario que adivine ese número. El programa manejará las excepciones si el usuario ingresa algo que no sea un número.\n",
    "\n",
    "utilizar esta linea de codigo para generar los numeros aletorios\n",
    "```\n",
    "import random\n",
    "numero_secreto = random.randint(inicio,fin)\n",
    "intentos = 0\n",
    "```"
   ]
  },
  {
   "cell_type": "markdown",
   "id": "15be7574",
   "metadata": {},
   "source": [
    "### Ejercicio 5: Verificación de contraseña\n",
    "\n",
    "En este ejercicio, vamos a crear un programa que verifique una contraseña. El programa manejará una excepción si la contraseña no cumple con ciertos criterios.\n",
    "\n",
    "```\n",
    "class ContraseñaInvalidaError(Exception):\n",
    "    pass\n",
    "\n",
    "```"
   ]
  }
 ],
 "metadata": {
  "kernelspec": {
   "display_name": "Python 3 (ipykernel)",
   "language": "python",
   "name": "python3"
  },
  "language_info": {
   "codemirror_mode": {
    "name": "ipython",
    "version": 3
   },
   "file_extension": ".py",
   "mimetype": "text/x-python",
   "name": "python",
   "nbconvert_exporter": "python",
   "pygments_lexer": "ipython3",
   "version": "3.9.12"
  },
  "nbTranslate": {
   "displayLangs": [
    "*"
   ],
   "hotkey": "alt-t",
   "langInMainMenu": true,
   "sourceLang": "en",
   "targetLang": "fr",
   "useGoogleTranslate": true
  }
 },
 "nbformat": 4,
 "nbformat_minor": 5
}
