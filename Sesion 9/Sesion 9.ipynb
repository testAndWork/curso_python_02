{
 "cells": [
  {
   "cell_type": "markdown",
   "id": "9c8c537c",
   "metadata": {},
   "source": [
    "# <span style=\"color:darkblue\">Módulo 1 - Introducción a la programación con Python </span>\n",
    "\n",
    "## <span style=\"color:darkblue\">Sesión 9 – Módulos en Python</span>\n",
    "\n",
    "### <span style=\"color:darkblue\">Duración estimada:\t3 horas</span>"
   ]
  },
  {
   "cell_type": "markdown",
   "id": "42a8be22",
   "metadata": {},
   "source": [
    "## <span style=\"color:darkblue\"> Tabla de contenidos:</span>\n",
    " \n",
    "    1- Bienvenida\n",
    "    \n",
    "    2- Asistencia\n",
    "    \n",
    "    3- Dudas de la Clase anterior\n",
    "    \n",
    "    4- Control de Lectura\n",
    "    \n",
    "    5- Objetivo\n",
    "    \n",
    "    6- Introducción\n",
    "    \n",
    "    7- Aprendamos\n",
    "\n",
    "    8- Crear un módulo\n",
    "    \n",
    "    9- Usar un módulo\n",
    "    \n",
    "    10- Variables en un módulo\n",
    "    \n",
    "    11- Nombrar un Módulo y uso de alias\n",
    "    \n",
    "    12- Módulos Intregrados\n",
    "    \n",
    "    13- Usando la función `dir( )`\t\n",
    "    \n",
    "    14- Importar desde Módulo\t\n",
    "    \n",
    "    15-  Aplicando Conocimientos\t\n",
    "\n",
    "    16- Retroalimentación\n",
    "    \n",
    "    17- Asistencia\n"
   ]
  },
  {
   "cell_type": "markdown",
   "id": "51ae1b4d",
   "metadata": {},
   "source": [
    "## <span style=\"color:darkred\">Objetivo:</span>\n",
    "\n",
    "Comprender como poder aprovechar la funcionalidad que ofrecen para simplificar y mejorar el proceso de desarrollo de software. Un módulo es básicamente un archivo que contiene código Python, el cual puede ser utilizado en otros programas mediante la importación de este.\n",
    "\n",
    "### <span style=\"color:darkred\">Recursos</span>\n",
    "\n",
    "•\tSesión 9 de Curso de Python\n",
    "\n",
    "•\tComputadora con Python instalado\n",
    "\n",
    "•\tVisual Studio Code instalado\n",
    "\n",
    "\n",
    "\n",
    "\n",
    "### <span style=\"color:darkred\">Introducción:</span>\n",
    "\n",
    "Los módulos en Python proporcionan una forma eficiente y organizada de encapsular y reutilizar el código. Al utilizar módulos, se puede evitar tener que escribir código repetitivo y mejorar la legibilidad del código. Además, los módulos pueden ser compartidos entre diferentes programas y desarrolladores, lo que facilita la colaboración y reduce el tiempo de desarrollo.\n",
    "\n",
    "Python cuenta con una amplia variedad de módulos predefinidos que cubren una amplia gama de tareas, como la manipulación de archivos, el procesamiento de datos, la creación de interfaces gráficas de usuario, entre otros. Además, los desarrolladores pueden crear sus propios módulos personalizados para satisfacer sus necesidades específicas.\n",
    "\n",
    "\n",
    "### <span style=\"color:darkred\">Aprendamos </span>\n",
    "\n",
    "#### <span style=\"color:darkred\">¿Qué es un Módulo?</span>\n",
    "\n",
    "* Considere que un módulo es lo mismo que una biblioteca de código. \n",
    "\n",
    "* Un archivo que contiene un conjunto de funciones que desea incluir en su aplicación. \n",
    "\n",
    "* A los módulos también se les puede conocer como librería de Python. \n"
   ]
  },
  {
   "cell_type": "markdown",
   "id": "dae5ab9c",
   "metadata": {},
   "source": [
    "## <span style=\"color:darkred\">Crear un Módulo</span>\n",
    "\n",
    "Para crear un módulo, simplemente guarde el código que desee en un archivo con la extensión de archivo `.py`, ejemplo: Guarde este código en un archivo llamado `mymodule.py`"
   ]
  },
  {
   "cell_type": "code",
   "execution_count": 1,
   "id": "08d8c795",
   "metadata": {},
   "outputs": [],
   "source": [
    "def greeting (name):\n",
    "    print (\"Hello, \" + name)"
   ]
  },
  {
   "cell_type": "code",
   "execution_count": 2,
   "id": "d04edbd9",
   "metadata": {},
   "outputs": [
    {
     "name": "stdout",
     "output_type": "stream",
     "text": [
      "Hello, jose\n"
     ]
    }
   ],
   "source": [
    "greeting('jose')\n"
   ]
  },
  {
   "cell_type": "markdown",
   "id": "ad6c80a5",
   "metadata": {},
   "source": [
    "### MODULOS BUILT IN EN Python "
   ]
  },
  {
   "cell_type": "code",
   "execution_count": 7,
   "id": "ebd683ca",
   "metadata": {},
   "outputs": [
    {
     "name": "stdout",
     "output_type": "stream",
     "text": [
      "La raiz cuadrada es : 2.0\n"
     ]
    }
   ],
   "source": [
    "import math \n",
    "\n",
    "raiz = math.sqrt(4)\n",
    "print('La raiz cuadrada es :' ,raiz)"
   ]
  },
  {
   "cell_type": "code",
   "execution_count": 8,
   "id": "0afc4058",
   "metadata": {},
   "outputs": [
    {
     "name": "stdout",
     "output_type": "stream",
     "text": [
      "9.0\n"
     ]
    }
   ],
   "source": [
    "print(math.pow(3,2))"
   ]
  },
  {
   "cell_type": "code",
   "execution_count": 9,
   "id": "09a0a5a8",
   "metadata": {},
   "outputs": [
    {
     "name": "stdout",
     "output_type": "stream",
     "text": [
      "3.141592653589793\n"
     ]
    }
   ],
   "source": [
    "print(math.pi)"
   ]
  },
  {
   "cell_type": "code",
   "execution_count": 10,
   "id": "9df5c82a",
   "metadata": {},
   "outputs": [
    {
     "name": "stdout",
     "output_type": "stream",
     "text": [
      "1.3010299956639813\n"
     ]
    }
   ],
   "source": [
    "print(math.log10(20))"
   ]
  },
  {
   "cell_type": "markdown",
   "id": "a8d6227f",
   "metadata": {},
   "source": [
    "## Otra Forma de llamar a los Módulos"
   ]
  },
  {
   "cell_type": "code",
   "execution_count": 11,
   "id": "8b347b6d",
   "metadata": {},
   "outputs": [],
   "source": [
    "from math import pi, e, sqrt, pow"
   ]
  },
  {
   "cell_type": "code",
   "execution_count": 14,
   "id": "a4c80b0e",
   "metadata": {},
   "outputs": [
    {
     "data": {
      "text/plain": [
       "2.718281828459045"
      ]
     },
     "execution_count": 14,
     "metadata": {},
     "output_type": "execute_result"
    }
   ],
   "source": [
    "e"
   ]
  },
  {
   "cell_type": "code",
   "execution_count": 15,
   "id": "e39c2b21",
   "metadata": {},
   "outputs": [
    {
     "data": {
      "text/plain": [
       "2.0"
      ]
     },
     "execution_count": 15,
     "metadata": {},
     "output_type": "execute_result"
    }
   ],
   "source": [
    "sqrt(4)"
   ]
  },
  {
   "cell_type": "code",
   "execution_count": 16,
   "id": "406a644d",
   "metadata": {},
   "outputs": [],
   "source": [
    "from statistics import *"
   ]
  },
  {
   "cell_type": "code",
   "execution_count": 17,
   "id": "b40e4b6a",
   "metadata": {},
   "outputs": [
    {
     "name": "stdout",
     "output_type": "stream",
     "text": [
      "28.2\n"
     ]
    }
   ],
   "source": [
    "ages = [ 30, 25, 40, 20, 26]\n",
    "\n",
    "print(mean(ages))"
   ]
  },
  {
   "cell_type": "code",
   "execution_count": 18,
   "id": "8ba0e07a",
   "metadata": {},
   "outputs": [
    {
     "name": "stdout",
     "output_type": "stream",
     "text": [
      "7.496665925596525\n"
     ]
    }
   ],
   "source": [
    "print(stdev(ages))"
   ]
  },
  {
   "cell_type": "code",
   "execution_count": 19,
   "id": "02307f73",
   "metadata": {},
   "outputs": [
    {
     "name": "stdout",
     "output_type": "stream",
     "text": [
      "0.07040742890533747\n"
     ]
    }
   ],
   "source": [
    "from random import random, randint\n",
    "\n",
    "print(random())"
   ]
  },
  {
   "cell_type": "code",
   "execution_count": 20,
   "id": "8a743c34",
   "metadata": {},
   "outputs": [
    {
     "name": "stdout",
     "output_type": "stream",
     "text": [
      "6\n"
     ]
    }
   ],
   "source": [
    "print(randint(1, 9))"
   ]
  },
  {
   "cell_type": "code",
   "execution_count": null,
   "id": "9252ddf6",
   "metadata": {},
   "outputs": [],
   "source": []
  },
  {
   "cell_type": "code",
   "execution_count": null,
   "id": "ec6add65",
   "metadata": {},
   "outputs": [],
   "source": []
  },
  {
   "cell_type": "code",
   "execution_count": null,
   "id": "8ac845d4",
   "metadata": {},
   "outputs": [],
   "source": []
  },
  {
   "cell_type": "code",
   "execution_count": null,
   "id": "fcbd8e99",
   "metadata": {},
   "outputs": [],
   "source": []
  },
  {
   "cell_type": "markdown",
   "id": "21c3cfa1",
   "metadata": {},
   "source": [
    "### <span style=\"color:darkred\">Usar un módulo</span>\n",
    "\n",
    "Para llamar a una función, use el nombre de la función seguido de paréntesis:"
   ]
  },
  {
   "cell_type": "code",
   "execution_count": 2,
   "id": "667a2f3b",
   "metadata": {},
   "outputs": [
    {
     "ename": "ModuleNotFoundError",
     "evalue": "No module named 'mymodule'",
     "output_type": "error",
     "traceback": [
      "\u001b[0;31m---------------------------------------------------------------------------\u001b[0m",
      "\u001b[0;31mModuleNotFoundError\u001b[0m                       Traceback (most recent call last)",
      "\u001b[1;32m/Users/bltzkrg/Documents/Courses/Formación/Modulo 1/sesion 9/Sesion 9.ipynb Cell 8\u001b[0m in \u001b[0;36m<module>\u001b[0;34m\u001b[0m\n\u001b[0;32m----> <a href='vscode-notebook-cell:/Users/bltzkrg/Documents/Courses/Formaci%C3%B3n/Modulo%201/sesion%209/Sesion%209.ipynb#X10sZmlsZQ%3D%3D?line=0'>1</a>\u001b[0m \u001b[39mimport\u001b[39;00m \u001b[39mmymodule\u001b[39;00m\n\u001b[1;32m      <a href='vscode-notebook-cell:/Users/bltzkrg/Documents/Courses/Formaci%C3%B3n/Modulo%201/sesion%209/Sesion%209.ipynb#X10sZmlsZQ%3D%3D?line=2'>3</a>\u001b[0m mymodule\u001b[39m.\u001b[39mgreeting(\u001b[39m'\u001b[39m\u001b[39m Mundo\u001b[39m\u001b[39m'\u001b[39m)\n",
      "\u001b[0;31mModuleNotFoundError\u001b[0m: No module named 'mymodule'"
     ]
    }
   ],
   "source": [
    "import librarys.mymodule as mymodule\n",
    "\n",
    "mymodule.greeting(' Mundo')"
   ]
  },
  {
   "cell_type": "markdown",
   "id": "76037a41",
   "metadata": {},
   "source": [
    "### <span style=\"color:darkred\">Variables en Módulo</span>\n",
    "\n",
    "El módulo puede contener funciones, como ya se ha descrito, pero también variables de todo tipo (matrices, diccionarios, objetos, etc.):\n",
    "\n",
    "Guarda este código en el archivo `mymodule.py`"
   ]
  },
  {
   "cell_type": "code",
   "execution_count": null,
   "id": "d3514b16",
   "metadata": {},
   "outputs": [],
   "source": [
    "import librarys.mymodule as mymodule\n",
    "\n",
    "a = mymodule.person1['age']"
   ]
  },
  {
   "cell_type": "markdown",
   "id": "76faa5e7",
   "metadata": {},
   "source": [
    "### <span style=\"color:darkred\">Nombrar un módulo y uso de alias</span>\n",
    "\n",
    "Puede nombrar el archivo del módulo como desee, pero debe tener la extensión de archivo `.py`\n",
    "Puede crear un alias cuando importa un módulo, utilizando la palabra clave `as`:\n",
    "Crea un alias para mymodule llamado `mx`:"
   ]
  },
  {
   "cell_type": "code",
   "execution_count": null,
   "id": "99efaf5e",
   "metadata": {},
   "outputs": [],
   "source": [
    "import librarys.mymodule as mx\n",
    "a = mx.person1 [\"age\"]\n",
    "print(a)"
   ]
  },
  {
   "cell_type": "code",
   "execution_count": null,
   "id": "6385ffd2",
   "metadata": {},
   "outputs": [],
   "source": []
  },
  {
   "cell_type": "markdown",
   "id": "3844ccc8",
   "metadata": {},
   "source": [
    "En este ejemplo, la función suma espera dos parámetros (a y b), y al llamarla con suma(5, 3), proporcionamos dos argumentos (5 y 3)."
   ]
  },
  {
   "cell_type": "code",
   "execution_count": 2,
   "id": "a50280a7",
   "metadata": {},
   "outputs": [
    {
     "name": "stdout",
     "output_type": "stream",
     "text": [
      "9\n"
     ]
    }
   ],
   "source": [
    "import  librarys.mymodule as mymodule\n",
    "\n",
    "print(mymodule.sumar(4,5))\n"
   ]
  },
  {
   "cell_type": "markdown",
   "id": "7063f142",
   "metadata": {},
   "source": [
    "Si intenta llamar a la función con 1 o 3 argumentos, obtendrá un error, en el ejemplo de a continuación Esta función espera 2 argumentos, pero solo obtiene 1:"
   ]
  },
  {
   "cell_type": "code",
   "execution_count": null,
   "id": "d0b132d6",
   "metadata": {},
   "outputs": [],
   "source": [
    "def my_function(nombre1, nombre2):\n",
    "    print(nombre1 + ' ' + nombre2)\n",
    "\n",
    "my_function('Juan')"
   ]
  },
  {
   "cell_type": "markdown",
   "id": "f06b5c8f",
   "metadata": {},
   "source": [
    "### Algunos ejemplos"
   ]
  },
  {
   "cell_type": "code",
   "execution_count": null,
   "id": "575e0ec2",
   "metadata": {},
   "outputs": [],
   "source": [
    "# Ejemplo 1 : Función para calcular el area de un rectángulo\n",
    "\n",
    "def area_rectangulo(base, altura):\n",
    "    return base * altura\n",
    "\n",
    "area = area_rectangulo(4,5)\n",
    "\n",
    "print('El area de un rectángulo es', area)"
   ]
  },
  {
   "cell_type": "code",
   "execution_count": null,
   "id": "613e36a0",
   "metadata": {},
   "outputs": [],
   "source": [
    "# Ejemplo 2: Funcion para imprimir una lista \n",
    "\n",
    "def imprimir_lista(lista):\n",
    "    for it in lista:\n",
    "        print(it)\n",
    "\n",
    "lst = [1, 2, 'hola']\n",
    "\n",
    "imprimir_lista(lst)\n",
    "\n",
    "lst = [1, 2.0, 6]\n",
    "\n",
    "imprimir_lista(lst)"
   ]
  },
  {
   "cell_type": "code",
   "execution_count": null,
   "id": "531cfddd",
   "metadata": {},
   "outputs": [],
   "source": [
    "# Ejemplo 3: Funcion para verificar si un número es par.\n",
    "\n",
    "def es_par(numero):\n",
    "    if numero % 2 == 0:\n",
    "        return True\n",
    "    else:\n",
    "        return False\n"
   ]
  },
  {
   "cell_type": "code",
   "execution_count": null,
   "id": "423afc41",
   "metadata": {},
   "outputs": [],
   "source": [
    "num = 5\n",
    "\n",
    "\n",
    "if es_par(num):\n",
    "    print('El número es par')\n",
    "else:\n",
    "    print('El numero es impar')"
   ]
  },
  {
   "cell_type": "code",
   "execution_count": null,
   "id": "82c8cbc9",
   "metadata": {},
   "outputs": [],
   "source": [
    "# Ejemplo 4: FUnción que regresa una lista de numeros pares\n",
    "\n",
    "def lista_pares(n):\n",
    "    lstPares = []\n",
    "    for it in range(n + 1):\n",
    "        if it % 2 == 0:\n",
    "            lstPares.append(it)\n",
    "    return lstPares\n",
    "\n",
    "\n",
    "print(lista_pares(20))"
   ]
  },
  {
   "cell_type": "code",
   "execution_count": 3,
   "id": "72046ef6",
   "metadata": {},
   "outputs": [
    {
     "name": "stderr",
     "output_type": "stream",
     "text": [
      "/var/folders/nq/l0_9gxxj3hv1_wwwd11kyscc0000gn/T/ipykernel_1971/1896958162.py:13: RuntimeWarning: invalid value encountered in sqrt\n",
      "  eq1 = ((x/7)**2*sqrt(abs(abs(x)-3)/(abs(x)-3))+(y/3)**2*sqrt(abs(y+3/7*sqrt(33))/(y+3/7*sqrt(33)))-1)\n",
      "/var/folders/nq/l0_9gxxj3hv1_wwwd11kyscc0000gn/T/ipykernel_1971/1896958162.py:14: RuntimeWarning: invalid value encountered in sqrt\n",
      "  eq2 = (abs(x/2)-((3*sqrt(33)-7)/112)*x**2-3+sqrt(1-(abs(abs(x)-2)-1)**2)-y)\n",
      "/var/folders/nq/l0_9gxxj3hv1_wwwd11kyscc0000gn/T/ipykernel_1971/1896958162.py:15: RuntimeWarning: invalid value encountered in sqrt\n",
      "  eq3 = (9*sqrt(abs((abs(x)-1)*(abs(x)-.75))/((1-abs(x))*(abs(x)-.75)))-8*abs(x)-y)\n",
      "/var/folders/nq/l0_9gxxj3hv1_wwwd11kyscc0000gn/T/ipykernel_1971/1896958162.py:16: RuntimeWarning: invalid value encountered in sqrt\n",
      "  eq4 = (3*abs(x)+.75*sqrt(abs((abs(x)-.75)*(abs(x)-.5))/((.75-abs(x))*(abs(x)-.5)))-y)\n",
      "/var/folders/nq/l0_9gxxj3hv1_wwwd11kyscc0000gn/T/ipykernel_1971/1896958162.py:17: RuntimeWarning: invalid value encountered in sqrt\n",
      "  eq5 = (2.25*sqrt(abs((x-.5)*(x+.5))/((.5-x)*(.5+x)))-y)\n",
      "/var/folders/nq/l0_9gxxj3hv1_wwwd11kyscc0000gn/T/ipykernel_1971/1896958162.py:18: RuntimeWarning: invalid value encountered in sqrt\n",
      "  eq6 = (6*sqrt(10)/7+(1.5-.5*abs(x))*sqrt(abs(abs(x)-1)/(abs(x)-1))-(6*sqrt(10)/14)*sqrt(4-(abs(x)-1)**2)-y)\n"
     ]
    },
    {
     "data": {
      "image/png": "[encoded data removed]",
      "text/plain": [
       "<Figure size 432x288 with 1 Axes>"
      ]
     },
     "metadata": {
      "needs_background": "light"
     },
     "output_type": "display_data"
    }
   ],
   "source": [
    "# Importando lo necesario para los cálculos\n",
    "import matplotlib.pyplot as plt\n",
    "from numpy import sqrt \n",
    "from numpy import meshgrid\n",
    "from numpy import arange\n",
    "\n",
    "\n",
    "# Graficando la ecuación de Batman.\n",
    "xs = arange(-7.25, 7.25, 0.01)\n",
    "ys = arange(-5, 5, 0.01)\n",
    "x, y = meshgrid(xs, ys)\n",
    "\n",
    "eq1 = ((x/7)**2*sqrt(abs(abs(x)-3)/(abs(x)-3))+(y/3)**2*sqrt(abs(y+3/7*sqrt(33))/(y+3/7*sqrt(33)))-1)\n",
    "eq2 = (abs(x/2)-((3*sqrt(33)-7)/112)*x**2-3+sqrt(1-(abs(abs(x)-2)-1)**2)-y)\n",
    "eq3 = (9*sqrt(abs((abs(x)-1)*(abs(x)-.75))/((1-abs(x))*(abs(x)-.75)))-8*abs(x)-y)\n",
    "eq4 = (3*abs(x)+.75*sqrt(abs((abs(x)-.75)*(abs(x)-.5))/((.75-abs(x))*(abs(x)-.5)))-y)\n",
    "eq5 = (2.25*sqrt(abs((x-.5)*(x+.5))/((.5-x)*(.5+x)))-y)\n",
    "eq6 = (6*sqrt(10)/7+(1.5-.5*abs(x))*sqrt(abs(abs(x)-1)/(abs(x)-1))-(6*sqrt(10)/14)*sqrt(4-(abs(x)-1)**2)-y)\n",
    "\n",
    "for f, c in [(eq1, \"red\"), (eq2, \"purple\"), (eq3, \"green\"),\n",
    "             (eq4, \"blue\"), (eq5, \"orange\"), (eq6, \"black\")]:\n",
    "    plt.contour(x, y, f, [0], colors=c)\n",
    "\n",
    "plt.show()"
   ]
  },
  {
   "cell_type": "code",
   "execution_count": 1,
   "id": "b3e20858",
   "metadata": {},
   "outputs": [
    {
     "name": "stdout",
     "output_type": "stream",
     "text": [
      "Un saludo desde la función\n"
     ]
    }
   ],
   "source": [
    "import mymodule as my\n",
    "\n",
    "my.saludar()"
   ]
  },
  {
   "cell_type": "code",
   "execution_count": 2,
   "id": "ed49df6d",
   "metadata": {},
   "outputs": [
    {
     "name": "stdout",
     "output_type": "stream",
     "text": [
      "Imprimir lo que sea de:  1\n",
      "Imprimir lo que sea de:  2\n",
      "Imprimir lo que sea de:  3\n",
      "Imprimir lo que sea de:  4\n"
     ]
    }
   ],
   "source": [
    "my.test_func(1,2,3,4,)"
   ]
  },
  {
   "cell_type": "markdown",
   "id": "ad277c43",
   "metadata": {},
   "source": [
    "## Ejercicios de Módulos en Pytho n\n",
    "\n",
    "### Ejercicio 1: Importando Módulos\n",
    "\n",
    "    Importa el módulo \"math\" y utiliza una de sus funciones para calcular la raíz cuadrada de un número.\n",
    "    Importa el módulo \"random\" y genera un número entero aleatorio entre 1 y 100.\n",
    "    Importa el módulo \"datetime\" y obtén la fecha actual.\n",
    "    Importa el módulo \"os\" y muestra el directorio de trabajo actual.\n",
    "    Importa el módulo \"sys\" y muestra la lista de argumentos de línea de comandos.\n",
    "\n",
    "## Ejercicio 2: Creando Módulos\n",
    "\n",
    "    Crea un módulo llamado \"operaciones\" que incluya una función para sumar dos números.\n",
    "    Importa el módulo \"operaciones\" y utiliza la función para sumar 5 y 3.\n",
    "    Expande el módulo \"operaciones\" para incluir una función que reste dos números.\n",
    "    Importa el módulo \"operaciones\" y utiliza la función para restar 10 y 4.\n",
    "    Modifica el módulo \"operaciones\" para incluir una función que multiplique dos números.\n",
    "\n",
    "## Ejercicio 3: Alias de Módulos\n",
    "\n",
    "    Importa el módulo \"math\" utilizando un alias y calcula el valor de Pi.\n",
    "    Importa el módulo \"datetime\" utilizando un alias y muestra la hora actual.\n",
    "    Importa el módulo \"random\" utilizando un alias y genera un número aleatorio entre 1 y 50.\n",
    "    Importa el módulo \"os\" utilizando un alias y muestra el directorio de trabajo actual.\n",
    "    Importa el módulo \"sys\" utilizando un alias y muestra la lista de argumentos de línea de comandos.\n",
    "\n",
    "## Ejercicio 4: Módulos Personalizados\n",
    "\n",
    "    Crea un módulo personalizado llamado \"calculadora\" que incluye funciones para sumar, restar, multiplicar y dividir.\n",
    "    Importa el módulo \"calculadora\" y utiliza sus funciones para realizar operaciones matemáticas.\n",
    "    Expande el módulo \"calculadora\" para incluir una función que calcule el cuadrado de un número.\n",
    "    Importa el módulo \"calculadora\" y usa la nueva función para calcular el cuadrado de un número.\n",
    "    Modifica el módulo \"calculadora\" para incluir una función que calcule la raíz cuadrada de un número.\n",
    "\n",
    "## Ejercicio 5: Documentación de Módulos\n",
    "\n",
    "    Documenta el módulo \"math\" incluyendo descripciones de al menos cinco funciones que proporciona.\n",
    "    Documenta el módulo \"datetime\" incluyendo descripciones de al menos cinco funciones que proporciona.\n",
    "    Documenta el módulo \"random\" incluyendo descripciones de al menos cinco funciones que proporciona.\n",
    "    Documenta el módulo \"os\" incluyendo descripciones de al menos cinco funciones que proporciona.\n",
    "    Documenta el módulo \"sys\" incluyendo descripciones de al menos cinco funciones que proporciona.\n",
    "\n",
    "## Ejercicio 6: Recarga de Módulos\n",
    "\n",
    "    Crea un módulo personalizado llamado \"mimodulo\" que incluya una función \"saludar()\" que imprima un saludo.\n",
    "    Importa el módulo \"mimodulo\" y utiliza la función \"saludar()\".\n",
    "    Modifica la función \"saludar()\" en el módulo \"mimodulo\" para que imprima un mensaje de saludo diferente.\n",
    "    Utiliza la función \"reload()\" del módulo \"importlib\" para recargar el módulo \"mimodulo\".\n",
    "    Llama a la función \"saludar()\" nuevamente y observa si muestra el nuevo mensaje de saludo.\n",
    "\n",
    "## Ejercicio 7: Encapsulación en Módulos\n",
    "\n",
    "    Crea un módulo personalizado llamado \"encapsulacion\" que incluya una variable global llamada \"contador\" con un valor inicial de 0.\n",
    "    En el módulo \"encapsulacion\", define una función \"incrementar_contador()\" que incremente el valor de \"contador\" en 1.\n",
    "    Importa el módulo \"encapsulacion\" y utiliza la función \"incrementar_contador()\" varias veces.\n",
    "    Intenta acceder directamente a la variable \"contador\" desde fuera del módulo y observa si puedes modificar su valor.\n",
    "    Modifica el módulo \"encapsulacion\" para que la variable \"contador\" sea privada y define una función \"obtener_contador()\" para acceder a su valor.\n",
    "\n",
    "## Ejercicio 8: Módulos Estándar\n",
    "\n",
    "    Investiga y selecciona un módulo estándar en Python que no se haya mencionado en ejercicios anteriores (por ejemplo, \"csv\", \"json\", \"re\", \"socket\", etc.).\n",
    "    Importa el módulo seleccionado y utiliza una de sus funciones o características en un pequeño programa.\n",
    "    Describe en detalle para qué sirve el módulo, qué funciones proporciona y cómo lo utilizaste en tu programa.\n",
    "    Investiga y comparte ejemplos adicionales de uso del módulo seleccionado en Python.\n",
    "    Explica la importancia y aplicabilidad del módulo en el desarrollo de aplicaciones."
   ]
  },
  {
   "cell_type": "code",
   "execution_count": null,
   "id": "f86b443f",
   "metadata": {},
   "outputs": [],
   "source": []
  }
 ],
 "metadata": {
  "kernelspec": {
   "display_name": "Python 3 (ipykernel)",
   "language": "python",
   "name": "python3"
  },
  "language_info": {
   "codemirror_mode": {
    "name": "ipython",
    "version": 3
   },
   "file_extension": ".py",
   "mimetype": "text/x-python",
   "name": "python",
   "nbconvert_exporter": "python",
   "pygments_lexer": "ipython3",
   "version": "3.10.0"
  },
  "nbTranslate": {
   "displayLangs": [
    "*"
   ],
   "hotkey": "alt-t",
   "langInMainMenu": true,
   "sourceLang": "en",
   "targetLang": "fr",
   "useGoogleTranslate": true
  }
 },
 "nbformat": 4,
 "nbformat_minor": 5
}
