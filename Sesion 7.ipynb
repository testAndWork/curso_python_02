{
 "cells": [
  {
   "cell_type": "markdown",
   "id": "9c8c537c",
   "metadata": {},
   "source": [
    "# <span style=\"color:darkblue\">Módulo 1 - Introducción a la programación con Python </span>\n",
    "\n",
    "## <span style=\"color:darkblue\">Sesión 6 - Estructuras Repetitivas</span>\n",
    "\n",
    "### <span style=\"color:darkblue\">Duración estimada:\t4 horas</span>\n",
    "\n",
    "#### <span style=\"color:darkblue\">En marco del proyecto: “EMPLEO JOVEN ES”</span>"
   ]
  },
  {
   "cell_type": "markdown",
   "id": "42a8be22",
   "metadata": {},
   "source": [
    "## <span style=\"color:darkblue\"> Tabla de contenidos:</span>\n",
    " \n",
    "    1- Bienvenida\n",
    "    \n",
    "    2- Asistencia\n",
    "    \n",
    "    3- Dudas de la Clase anterior\n",
    "    \n",
    "    4- Control de Lectura\n",
    "    \n",
    "    5- Objetivo\n",
    "    \n",
    "    6- Introducción\n",
    "    \n",
    "    7- Objetivo\t\n",
    "\n",
    "    8- El ciclo while\t\n",
    "\n",
    "    9- La declaración de ruptura - while\t\n",
    "\n",
    "    10- La declaración de continuación - while\t\n",
    "\n",
    "    11- La declaración else en un ciclo repetitivo\t\n",
    "\n",
    "    12- La declaración for\t\n",
    "\n",
    "    13- Bucle a través de una cadena\t\n",
    "\n",
    "    14- La declaración de ruptura – for\t\n",
    "\n",
    "    15- La declaración de continuación - for\t\n",
    "\n",
    "    16- La función range()\t\n",
    "\n",
    "    17- Else en el ciclo for\t\n",
    "\n",
    "    18- Bucles anidados\t\n",
    "\n",
    "    19- La declaración pass\t\n",
    "    \n",
    "    20- Retroalimentación\n",
    "    \n",
    "    21- Asistencia\n"
   ]
  },
  {
   "cell_type": "markdown",
   "id": "51ae1b4d",
   "metadata": {},
   "source": [
    "## <span style=\"color:darkred\">Objetivo:</span>\n",
    "\n",
    "Crear programas que automatizan tareas que deben repetirse múltiples veces, sin tener que escribir el mismo código repetidamente. \n",
    "\n",
    "Las estructuras repetitivas nos permiten crear programas que realizan tareas como iterar a través de una lista de elementos, contar y sumar valores, buscar y filtrar elementos, y realizar operaciones matemáticas complejas varias veces en una sola ejecución del programa.\n",
    "\n",
    "### <span style=\"color:darkred\">Recursos</span>\n",
    "\n",
    "•\tSesión 7 de Curso de Python\n",
    "\n",
    "•\tComputadora con Python instalado\n",
    "\n",
    "•\tVisual Studio Code instalado\n",
    "\n",
    "\n",
    "### <span style=\"color:darkred\">Introducción:</span>\n",
    "\n",
    "Python ofrece dos tipos principales de estructuras repetitivas: el bucle \"for\" y el bucle \"while\". \n",
    "\n",
    "El bucle \"for\" se utiliza para iterar a través de una secuencia de elementos (como una lista o una cadena de texto), mientras que el bucle \"while\" se utiliza para ejecutar una serie de instrucciones mientras una condición sea verdadera. \n",
    "\n",
    "Ambos bucles son herramientas esenciales para cualquier programador que desee escribir código eficiente y escalable en Python.\n",
    "\n",
    "Al comprender cómo funcionan las estructuras repetitivas en Python, los programadores pueden escribir programas más eficientes y realizar tareas complejas de manera más efectiva, lo que puede ser especialmente útil en áreas como la ciencia de datos, la ingeniería de software y la automatización de tareas.\n",
    "\n",
    "### <span style=\"color:darkred\">Aprendamos </span>\n",
    "\n",
    "Python tiene dos comandos de bucle primitivos:\n",
    "\n",
    "•\tBucle `while`\n",
    "\n",
    "•\tBucle `for`\n"
   ]
  },
  {
   "cell_type": "markdown",
   "id": "dae5ab9c",
   "metadata": {},
   "source": [
    "## <span style=\"color:darkred\">El ciclo while</span>\n",
    "\n",
    "Con el bucle while podemos ejecutar un conjunto de declaraciones siempre que una condición sea verdadera.\n",
    "\n",
    "Utilizamos la palabra reservada `while` para crear un bucle `while`.\n",
    "\n",
    "Se utiliza para ejecutar un bloque de instrucciones repetidamente hasta que se cumpla una determinada condición. \n",
    "\n",
    "Cuando la condición se vuelve falsa, las líneas de código después del bucle seguirán siendo ejecutadas.\n",
    "\n",
    "\n",
    "### syntax\n",
    "\n",
    "`while` condition:\n",
    "\n",
    "    code goes here\n",
    "\n"
   ]
  },
  {
   "cell_type": "code",
   "execution_count": 2,
   "id": "a03994f6",
   "metadata": {},
   "outputs": [
    {
     "name": "stdout",
     "output_type": "stream",
     "text": [
      "0\n",
      "1\n",
      "2\n",
      "3\n",
      "4\n"
     ]
    }
   ],
   "source": [
    "flag = 0\n",
    "\n",
    "while flag < 5:\n",
    "    print(flag)\n",
    "    flag = flag + 1"
   ]
  },
  {
   "cell_type": "code",
   "execution_count": 3,
   "id": "439e5b3d",
   "metadata": {},
   "outputs": [
    {
     "name": "stdout",
     "output_type": "stream",
     "text": [
      "0\n",
      "1\n",
      "2\n",
      "3\n",
      "4\n"
     ]
    }
   ],
   "source": [
    "flag = 0\n",
    "\n",
    "while flag < 5:\n",
    "    print(flag)\n",
    "    flag += 1"
   ]
  },
  {
   "cell_type": "code",
   "execution_count": 7,
   "id": "36bff4c0",
   "metadata": {},
   "outputs": [
    {
     "name": "stdout",
     "output_type": "stream",
     "text": [
      "1X2 = 2\n",
      "2X2 = 4\n",
      "3X2 = 6\n",
      "4X2 = 8\n",
      "5X2 = 10\n",
      "6X2 = 12\n",
      "7X2 = 14\n",
      "8X2 = 16\n",
      "9X2 = 18\n",
      "10X2 = 20\n"
     ]
    }
   ],
   "source": [
    "flag = 1\n",
    "n =2\n",
    "\n",
    "while flag <= 10:\n",
    "    print(f'{flag}X{n} = {flag*n}')\n",
    "    flag += 1"
   ]
  },
  {
   "cell_type": "markdown",
   "id": "21c3cfa1",
   "metadata": {},
   "source": [
    "En el bucle \"while\" anterior, la condición se vuelve falsa cuando el contador es 5. Es en ese momento cuando el bucle se detiene. \n",
    "\n",
    "Si estamos interesados en ejecutar un bloque de código una vez que la condición ya no sea verdadera, podemos usar \"else\"."
   ]
  },
  {
   "cell_type": "code",
   "execution_count": 8,
   "id": "b79270da",
   "metadata": {},
   "outputs": [
    {
     "name": "stdout",
     "output_type": "stream",
     "text": [
      "0\n",
      "1\n",
      "2\n",
      "3\n",
      "4\n",
      "EL valor final de flag es:  5\n"
     ]
    }
   ],
   "source": [
    "flag = 0\n",
    "\n",
    "while flag < 5:\n",
    "    print(flag)\n",
    "    flag += 1\n",
    "else:\n",
    "    print('EL valor final de flag es: ',flag)"
   ]
  },
  {
   "cell_type": "markdown",
   "id": "dfd3d2a9",
   "metadata": {},
   "source": [
    "$$\\sum _i ^n i$$"
   ]
  },
  {
   "cell_type": "code",
   "execution_count": 11,
   "id": "6834c9c8",
   "metadata": {},
   "outputs": [
    {
     "name": "stdout",
     "output_type": "stream",
     "text": [
      "La suma es:  5050\n"
     ]
    }
   ],
   "source": [
    "## Sumen los primeros n números\n",
    "i= 1\n",
    "suma = 0\n",
    "n = 100\n",
    "\n",
    "while i <= n:\n",
    "    suma += i\n",
    "    i += 1\n",
    "else:\n",
    "    print('La suma es: ', suma)"
   ]
  },
  {
   "cell_type": "markdown",
   "id": "ea4e83c4",
   "metadata": {},
   "source": [
    "#### Break and Continue:\n",
    "    Usamos \"break\" cuando queremos salir o detener el bucle.\n",
    "\n",
    "## <span style=\"color:darkred\">Break</span>"
   ]
  },
  {
   "cell_type": "code",
   "execution_count": null,
   "id": "53955fde",
   "metadata": {},
   "outputs": [],
   "source": [
    "# syntax\n",
    "while condition:\n",
    "    code goes here\n",
    "    if another_condition:\n",
    "        break"
   ]
  },
  {
   "cell_type": "code",
   "execution_count": 14,
   "id": "f4c41784",
   "metadata": {},
   "outputs": [
    {
     "name": "stdout",
     "output_type": "stream",
     "text": [
      "0\n",
      "1\n",
      "2\n",
      "3\n",
      "4\n",
      "5\n",
      "6\n",
      "7\n"
     ]
    }
   ],
   "source": [
    "flag = 0\n",
    "\n",
    "while flag < 10:\n",
    "    print(flag)\n",
    "    flag += 1\n",
    "    if flag == 7:\n",
    "        print(flag)\n",
    "        break "
   ]
  },
  {
   "cell_type": "markdown",
   "id": "8f75d988",
   "metadata": {},
   "source": [
    "## <span style=\"color:darkred\">Continue</span>"
   ]
  },
  {
   "cell_type": "markdown",
   "id": "c7f8e806",
   "metadata": {},
   "source": [
    "Continue: Con la declaración \"continue\" podemos saltar la iteración actual y continuar con la siguiente:"
   ]
  },
  {
   "cell_type": "code",
   "execution_count": 16,
   "id": "35b8d0b5",
   "metadata": {},
   "outputs": [
    {
     "name": "stdout",
     "output_type": "stream",
     "text": [
      "Valor luego del continue 1\n",
      "Valor luego del continue 2\n",
      "Valor luego del continue 3\n",
      "Valor luego del continue 4\n",
      "Valor luego del continue 6\n",
      "Valor luego del continue 7\n",
      "Valor luego del continue 8\n",
      "Valor luego del continue 9\n",
      "Valor luego del continue 10\n"
     ]
    }
   ],
   "source": [
    "flag = 0\n",
    "\n",
    "while flag < 10:\n",
    "    #print(flag)\n",
    "    flag += 1\n",
    "    if flag == 5:\n",
    "        continue\n",
    "    print('Valor luego del continue',flag)"
   ]
  },
  {
   "cell_type": "markdown",
   "id": "486505d4",
   "metadata": {},
   "source": [
    "## <span style=\"color:darkred\">La declaración de un ciclo for</span>\n",
    "\n",
    "Un bucle for se usa para iterar sobre una secuencia (es decir, una lista, una tupla, un diccionario, un conjunto o una cadena). \n",
    "\n",
    "Esto se parece menos a la palabra clave for en otros lenguajes de programación y funciona más como un método iterador como se encuentra en otros lenguajes de programación orientados a objetos.\n",
    "\n",
    "Con el bucle for podemos ejecutar un conjunto de sentencias, una vez por cada elemento de una lista, tupla, conjunto, etc.\n",
    "\n",
    "\n",
    "#### Ejemplos:"
   ]
  },
  {
   "cell_type": "code",
   "execution_count": 18,
   "id": "d0c7cd20",
   "metadata": {},
   "outputs": [],
   "source": [
    "test = ['survived', 'pclass', 'sex', 'age', 'sibsp', 'parch', \n",
    "             'fare','embarked', 'class', 'who', 'adult_male', 'deck', 'embark_town',\n",
    "           'alive', 'alone']"
   ]
  },
  {
   "cell_type": "code",
   "execution_count": 19,
   "id": "665a8cdf",
   "metadata": {},
   "outputs": [
    {
     "name": "stdout",
     "output_type": "stream",
     "text": [
      "survived\n",
      "pclass\n",
      "sex\n",
      "age\n",
      "sibsp\n",
      "parch\n",
      "fare\n",
      "embarked\n",
      "class\n",
      "who\n",
      "adult_male\n",
      "deck\n",
      "embark_town\n",
      "alive\n",
      "alone\n"
     ]
    }
   ],
   "source": [
    "for it in test:\n",
    "    print(it)"
   ]
  },
  {
   "cell_type": "code",
   "execution_count": 20,
   "id": "b071b07b",
   "metadata": {},
   "outputs": [
    {
     "data": {
      "text/plain": [
       "'survived'"
      ]
     },
     "execution_count": 20,
     "metadata": {},
     "output_type": "execute_result"
    }
   ],
   "source": [
    "test[0]"
   ]
  },
  {
   "cell_type": "markdown",
   "id": "c0c7bd14",
   "metadata": {},
   "source": [
    "Nota: se profundizará sobre temáticas de listas en la guía de la “Sesión 7 - Colecciones de datos” \n",
    "El ciclo for no requiere una variable de indexación para establecer de antemano.\n"
   ]
  },
  {
   "cell_type": "markdown",
   "id": "7e218eff",
   "metadata": {},
   "source": [
    "## <span style=\"color:darkred\">Bucle a través de una cadena</span>\n",
    "\n",
    "Incluso las cadenas son objetos iterables, contienen una secuencia de caracteres:\n",
    "\n",
    "#### Ejemplos:"
   ]
  },
  {
   "cell_type": "code",
   "execution_count": 21,
   "id": "79a142e8",
   "metadata": {},
   "outputs": [
    {
     "name": "stdout",
     "output_type": "stream",
     "text": [
      "h\n",
      "o\n",
      "l\n",
      "a\n",
      " \n",
      "m\n",
      "u\n",
      "n\n",
      "d\n",
      "o\n",
      " \n",
      "e\n",
      "s\n",
      "t\n",
      "a\n",
      " \n",
      "e\n",
      "s\n",
      " \n",
      "u\n",
      "n\n",
      "a\n",
      " \n",
      "p\n",
      "r\n",
      "u\n",
      "e\n",
      "b\n",
      "a\n"
     ]
    }
   ],
   "source": [
    "strC = 'hola mundo esta es una prueba'\n",
    "\n",
    "for it in strC:\n",
    "    print(it)"
   ]
  },
  {
   "cell_type": "markdown",
   "id": "a7064375",
   "metadata": {},
   "source": [
    "Este ejercicio repasa las letras de la palabra \"banana\" y en cada interacción se utilizará cada letra de la palabra. "
   ]
  },
  {
   "cell_type": "markdown",
   "id": "b163949a",
   "metadata": {},
   "source": [
    "## <span style=\"color:darkred\">Ciclo `for` sobre tuplas</span>\n",
    "\n",
    "#### Ejemplos:"
   ]
  },
  {
   "cell_type": "code",
   "execution_count": null,
   "id": "d03a93f4",
   "metadata": {},
   "outputs": [],
   "source": []
  },
  {
   "cell_type": "code",
   "execution_count": 39,
   "id": "cba82a87",
   "metadata": {},
   "outputs": [
    {
     "name": "stdout",
     "output_type": "stream",
     "text": [
      "pclass\n",
      "sex\n",
      "age\n",
      "---------------\n",
      "pclass\n",
      "sex\n",
      "age\n",
      "---------------\n",
      "lol\n",
      "lol\n",
      "lol\n"
     ]
    }
   ],
   "source": [
    "tup = ( 'pclass', 'sex', 'age')\n",
    "\n",
    "for it in tup:\n",
    "    print(it)\n",
    "\n",
    "\n",
    "print('---------------')   \n",
    "for goku in tup:\n",
    "    print(goku)\n",
    "\n",
    "print('---------------')   \n",
    "for _ in tup:\n",
    "    print('lol')\n"
   ]
  },
  {
   "cell_type": "markdown",
   "id": "efdda261",
   "metadata": {},
   "source": [
    "## <span style=\"color:darkred\">Ciclo `for` sobre diccionarios</span>\n",
    "\n",
    "#### Ejemplos:"
   ]
  },
  {
   "cell_type": "code",
   "execution_count": 31,
   "id": "15d44233",
   "metadata": {},
   "outputs": [
    {
     "name": "stdout",
     "output_type": "stream",
     "text": [
      "fname\n",
      "lname\n",
      "age\n",
      "country\n",
      "skills\n",
      "address\n",
      "---------------\n",
      "fname\n",
      "lname\n",
      "age\n",
      "country\n",
      "skills\n",
      "address\n",
      "---------------\n",
      "fname\n",
      "lname\n",
      "age\n",
      "country\n",
      "skills\n",
      "address\n"
     ]
    }
   ],
   "source": [
    "person = {\n",
    "    'fname': 'John',\n",
    "    'lname': 'Snow',\n",
    "    'age': 40,\n",
    "    'country': 'Winterfell',\n",
    "    'skills': ['Python', 'C', 'java','vb', 'html' ],\n",
    "    'address': {\n",
    "        'street': 'north',\n",
    "        'zipcode': '000'} \n",
    "    }\n",
    "\n",
    "for it in person:\n",
    "    print(it)\n",
    "print('---------------')   \n",
    "for contar in person:\n",
    "    print(contar)\n",
    "print('---------------')   \n",
    "for i in person:\n",
    "    print(i)"
   ]
  },
  {
   "cell_type": "code",
   "execution_count": 37,
   "id": "ac3534f8",
   "metadata": {},
   "outputs": [
    {
     "name": "stdout",
     "output_type": "stream",
     "text": [
      "John\n",
      "Snow\n",
      "40\n",
      "Winterfell\n",
      "['Python', 'C', 'java', 'vb', 'html']\n",
      "{'street': 'north', 'zipcode': '000'}\n"
     ]
    }
   ],
   "source": [
    "for it in person.values():\n",
    "    print(it)"
   ]
  },
  {
   "cell_type": "code",
   "execution_count": 27,
   "id": "6264f405",
   "metadata": {},
   "outputs": [
    {
     "name": "stdout",
     "output_type": "stream",
     "text": [
      "fname : John\n",
      "lname : Snow\n",
      "age : 40\n",
      "country : Winterfell\n",
      "skills : ['Python', 'C', 'java', 'vb', 'html']\n",
      "addres : {'street': 'north', 'zipcode': '000'}\n"
     ]
    }
   ],
   "source": [
    "for key, value in person.items():\n",
    "    print(key,':' ,value)"
   ]
  },
  {
   "cell_type": "markdown",
   "id": "92635156",
   "metadata": {},
   "source": [
    "## <span style=\"color:darkred\">La declaración de ruptura – for</span>\n",
    "\n",
    "Con la instrucción break podemos detener el bucle antes de que haya recorrido todos los elementos:\n",
    "\n",
    "#### Ejemplos:"
   ]
  },
  {
   "cell_type": "code",
   "execution_count": 40,
   "id": "03ce459a",
   "metadata": {},
   "outputs": [],
   "source": [
    "test = ['survived', 'pclass', 'sex', 'age', 'sibsp', 'parch', \n",
    "             'fare','embarked', 'class', 'who', 'adult_male', 'deck', 'embark_town',\n",
    "           'alive', 'alone']"
   ]
  },
  {
   "cell_type": "code",
   "execution_count": 41,
   "id": "aca6b9f4",
   "metadata": {},
   "outputs": [
    {
     "name": "stdout",
     "output_type": "stream",
     "text": [
      "survived\n",
      "pclass\n",
      "sex\n",
      "age\n",
      "sibsp\n",
      "parch\n",
      "fare\n",
      "embarked\n",
      "class\n"
     ]
    }
   ],
   "source": [
    "for it in test:\n",
    "    print(it)\n",
    "    if it == 'class':\n",
    "        break"
   ]
  },
  {
   "cell_type": "markdown",
   "id": "ab4a39a4",
   "metadata": {},
   "source": [
    "## <span style=\"color:darkred\">La declaración de continue - for</span>\n",
    "\n",
    "Con la instrucción continuar podemos detener la iteración actual del ciclo y continuar con la siguiente:\n",
    "\n",
    "#### Ejemplos:"
   ]
  },
  {
   "cell_type": "code",
   "execution_count": 44,
   "id": "b3310048",
   "metadata": {},
   "outputs": [
    {
     "name": "stdout",
     "output_type": "stream",
     "text": [
      "survived\n",
      "pclass\n",
      "sex\n",
      "age\n",
      "sibsp\n",
      "parch\n",
      "fare\n",
      "embarked\n",
      "who\n",
      "adult_male\n",
      "deck\n",
      "embark_town\n",
      "alive\n",
      "alone\n"
     ]
    }
   ],
   "source": [
    "for it in test:\n",
    "    if it == 'class':\n",
    "        continue\n",
    "    print(it)"
   ]
  },
  {
   "cell_type": "markdown",
   "id": "97e9ef28",
   "metadata": {},
   "source": [
    "Según el ejercicio anterior no imprimir 'class' en el ciclo repetitivo. "
   ]
  },
  {
   "cell_type": "code",
   "execution_count": null,
   "id": "8f36f70f",
   "metadata": {},
   "outputs": [],
   "source": []
  },
  {
   "cell_type": "markdown",
   "id": "4b4c2865",
   "metadata": {},
   "source": [
    "## <span style=\"color:darkred\">La función rango()- `range()`</span>\n",
    "\n",
    "Para recorrer un conjunto de código un número específico de veces, podemos usar la función range().\n",
    "\n",
    "La función range() devuelve una secuencia de números, comenzando desde 0 de forma predeterminada, se incrementa en 1 (de forma predeterminada) y termina en un número específico.\n",
    "\n",
    "#### Ejemplos:"
   ]
  },
  {
   "cell_type": "code",
   "execution_count": 46,
   "id": "65cfda36",
   "metadata": {},
   "outputs": [
    {
     "name": "stdout",
     "output_type": "stream",
     "text": [
      "0\n",
      "1\n",
      "2\n",
      "3\n",
      "4\n",
      "5\n"
     ]
    }
   ],
   "source": [
    "for it in range(6):\n",
    "    print(it)"
   ]
  },
  {
   "cell_type": "code",
   "execution_count": 47,
   "id": "177cca4a",
   "metadata": {},
   "outputs": [
    {
     "name": "stdout",
     "output_type": "stream",
     "text": [
      "2\n",
      "3\n",
      "4\n",
      "5\n"
     ]
    }
   ],
   "source": [
    "for it in range(2,6):\n",
    "    print(it)"
   ]
  },
  {
   "cell_type": "code",
   "execution_count": 48,
   "id": "8d854c3c",
   "metadata": {},
   "outputs": [
    {
     "name": "stdout",
     "output_type": "stream",
     "text": [
      "4\n",
      "7\n",
      "10\n"
     ]
    }
   ],
   "source": [
    "for it in range(4, 12, 3):\n",
    "    print(it)"
   ]
  },
  {
   "cell_type": "code",
   "execution_count": 49,
   "id": "8a7c807b",
   "metadata": {},
   "outputs": [
    {
     "name": "stdout",
     "output_type": "stream",
     "text": [
      "30\n",
      "26\n",
      "22\n",
      "18\n",
      "14\n",
      "10\n"
     ]
    }
   ],
   "source": [
    "for it in range(30,9, -4):\n",
    "    print(it)"
   ]
  },
  {
   "cell_type": "code",
   "execution_count": 51,
   "id": "2d5cd0c1",
   "metadata": {},
   "outputs": [
    {
     "data": {
      "text/plain": [
       "[0, 2, 4, 6, 8, 10]"
      ]
     },
     "execution_count": 51,
     "metadata": {},
     "output_type": "execute_result"
    }
   ],
   "source": [
    "listaSeq = list(range(0,12,2))\n",
    "listaSeq"
   ]
  },
  {
   "cell_type": "code",
   "execution_count": 53,
   "id": "9a92504b",
   "metadata": {},
   "outputs": [
    {
     "data": {
      "text/plain": [
       "[0, 1, 2, 3, 4, 5, 6, 7, 8, 9, 10]"
      ]
     },
     "execution_count": 53,
     "metadata": {},
     "output_type": "execute_result"
    }
   ],
   "source": [
    "listaSeq = list(range(11))\n",
    "listaSeq"
   ]
  },
  {
   "cell_type": "code",
   "execution_count": 54,
   "id": "a6cb0391",
   "metadata": {},
   "outputs": [
    {
     "data": {
      "text/plain": [
       "[0, 12, 24, 36, 48, 60, 72, 84, 96]"
      ]
     },
     "execution_count": 54,
     "metadata": {},
     "output_type": "execute_result"
    }
   ],
   "source": [
    "listaSeq = list(range(0,102,12))\n",
    "listaSeq"
   ]
  },
  {
   "cell_type": "markdown",
   "id": "3eaa5504",
   "metadata": {},
   "source": [
    "Tenga en cuenta que range(6) no son los valores de 0 a 6, sino los valores de 0 a 5.\n",
    "\n",
    "La función range() por defecto es 0 como valor inicial, sin embargo, es posible especificar el valor inicial agregando un parámetro: range(2, 6) , lo que significa valores del 2 al 6 (pero sin incluir el 6):\n"
   ]
  },
  {
   "cell_type": "markdown",
   "id": "52d4ec82",
   "metadata": {},
   "source": [
    "La función range() por defecto incrementa la secuencia en 1, sin embargo, es posible especificar el valor del incremento agregando un tercer parámetro: range(2, 30, 3 ) :"
   ]
  },
  {
   "cell_type": "markdown",
   "id": "b624e0fc",
   "metadata": {},
   "source": [
    "## <span style=\"color:darkred\">Else en el ciclo for</span>\n",
    "\n",
    "La palabra else clave en un ciclo for especifica un bloque de código que se ejecutará cuando finalice el ciclo:\n",
    "\n",
    "#### Ejemplos:"
   ]
  },
  {
   "cell_type": "code",
   "execution_count": 55,
   "id": "943d21fc",
   "metadata": {},
   "outputs": [
    {
     "name": "stdout",
     "output_type": "stream",
     "text": [
      "0\n",
      "1\n",
      "2\n",
      "3\n",
      "4\n",
      "5\n",
      "finalizamos el ciclo for\n"
     ]
    }
   ],
   "source": [
    "for it in range(6):\n",
    "    print(it)\n",
    "else:\n",
    "    print('finalizamos el ciclo for')"
   ]
  },
  {
   "cell_type": "markdown",
   "id": "1a1e16f1",
   "metadata": {},
   "source": [
    "## <span style=\"color:darkred\">Bucles anidados</span>\n",
    "\n",
    "Un bucle anidado es un bucle dentro de un bucle.\n",
    "\n",
    "El \"bucle interno\" se ejecutará una vez por cada iteración del \"bucle externo\":\n",
    "\n",
    "\n",
    "#### Ejemplos:"
   ]
  },
  {
   "cell_type": "code",
   "execution_count": 57,
   "id": "07f512c7",
   "metadata": {},
   "outputs": [
    {
     "name": "stdout",
     "output_type": "stream",
     "text": [
      "survived cruzado con  embarked\n",
      "survived cruzado con  class\n",
      "survived cruzado con  who\n",
      "survived cruzado con  adult_male\n",
      "survived cruzado con  deck\n",
      "survived cruzado con  embark_town\n",
      "survived cruzado con  alive\n",
      "survived cruzado con  alone\n",
      "pclass cruzado con  embarked\n",
      "pclass cruzado con  class\n",
      "pclass cruzado con  who\n",
      "pclass cruzado con  adult_male\n",
      "pclass cruzado con  deck\n",
      "pclass cruzado con  embark_town\n",
      "pclass cruzado con  alive\n",
      "pclass cruzado con  alone\n",
      "sex cruzado con  embarked\n",
      "sex cruzado con  class\n",
      "sex cruzado con  who\n",
      "sex cruzado con  adult_male\n",
      "sex cruzado con  deck\n",
      "sex cruzado con  embark_town\n",
      "sex cruzado con  alive\n",
      "sex cruzado con  alone\n",
      "age cruzado con  embarked\n",
      "age cruzado con  class\n",
      "age cruzado con  who\n",
      "age cruzado con  adult_male\n",
      "age cruzado con  deck\n",
      "age cruzado con  embark_town\n",
      "age cruzado con  alive\n",
      "age cruzado con  alone\n",
      "sibsp cruzado con  embarked\n",
      "sibsp cruzado con  class\n",
      "sibsp cruzado con  who\n",
      "sibsp cruzado con  adult_male\n",
      "sibsp cruzado con  deck\n",
      "sibsp cruzado con  embark_town\n",
      "sibsp cruzado con  alive\n",
      "sibsp cruzado con  alone\n",
      "parch cruzado con  embarked\n",
      "parch cruzado con  class\n",
      "parch cruzado con  who\n",
      "parch cruzado con  adult_male\n",
      "parch cruzado con  deck\n",
      "parch cruzado con  embark_town\n",
      "parch cruzado con  alive\n",
      "parch cruzado con  alone\n",
      "fare cruzado con  embarked\n",
      "fare cruzado con  class\n",
      "fare cruzado con  who\n",
      "fare cruzado con  adult_male\n",
      "fare cruzado con  deck\n",
      "fare cruzado con  embark_town\n",
      "fare cruzado con  alive\n",
      "fare cruzado con  alone\n"
     ]
    }
   ],
   "source": [
    "test1 = ['survived', 'pclass', 'sex', 'age', 'sibsp', 'parch', \n",
    "             'fare']\n",
    "test2 = ['embarked', 'class', 'who', 'adult_male', 'deck', 'embark_town',\n",
    "           'alive', 'alone']\n",
    "\n",
    "for i in test1:\n",
    "    for j in test2:\n",
    "        print(f'{i} cruzado con  {j}')\n"
   ]
  },
  {
   "cell_type": "markdown",
   "id": "9ebe72b2",
   "metadata": {},
   "source": [
    "## <span style=\"color:darkred\">La declaración pass</span>\n",
    "\n",
    "Los bucles for no pueden estar vacíos, pero si por alguna razón tiene un bucle for sin contenido, ingrese la declaración pass para evitar recibir un error.cc\n",
    "\n",
    "#### Ejemplos:"
   ]
  },
  {
   "cell_type": "code",
   "execution_count": 59,
   "id": "0ce7b167",
   "metadata": {},
   "outputs": [],
   "source": [
    "for it in ['hola', 'mundo', 'esto', 'es', 'una', 'prueba']:\n",
    "    #print(it)\n",
    "    pass"
   ]
  },
  {
   "cell_type": "markdown",
   "id": "1ae4c22d",
   "metadata": {},
   "source": [
    "## Ejemplos Generales "
   ]
  },
  {
   "cell_type": "code",
   "execution_count": null,
   "id": "891cc1fc",
   "metadata": {},
   "outputs": [],
   "source": []
  },
  {
   "cell_type": "code",
   "execution_count": null,
   "id": "7d436889",
   "metadata": {},
   "outputs": [],
   "source": []
  },
  {
   "cell_type": "markdown",
   "id": "a4cb55e2",
   "metadata": {},
   "source": [
    "## <span style=\"color:darkorange\">APlicando conocimientos</span>\n",
    "\n",
    "\n",
    "1.\tUtiliza un ciclo while para pedir al usuario que ingrese números enteros hasta que ingrese un número negativo, y luego imprime la suma de los números ingresados. \n",
    "\n",
    "#### Ejemplos:"
   ]
  },
  {
   "cell_type": "markdown",
   "id": "a708a5e7",
   "metadata": {},
   "source": [
    "##### "
   ]
  }
 ],
 "metadata": {
  "kernelspec": {
   "display_name": "Python 3 (ipykernel)",
   "language": "python",
   "name": "python3"
  },
  "language_info": {
   "codemirror_mode": {
    "name": "ipython",
    "version": 3
   },
   "file_extension": ".py",
   "mimetype": "text/x-python",
   "name": "python",
   "nbconvert_exporter": "python",
   "pygments_lexer": "ipython3",
   "version": "3.11.4"
  },
  "nbTranslate": {
   "displayLangs": [
    "*"
   ],
   "hotkey": "alt-t",
   "langInMainMenu": true,
   "sourceLang": "en",
   "targetLang": "fr",
   "useGoogleTranslate": true
  }
 },
 "nbformat": 4,
 "nbformat_minor": 5
}
